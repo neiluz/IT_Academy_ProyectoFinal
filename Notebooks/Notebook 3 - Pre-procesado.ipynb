{
 "cells": [
  {
   "cell_type": "markdown",
   "id": "16c2fb79",
   "metadata": {},
   "source": [
    "<div style=\"background-color: #1DA1F2; padding: 20px;\"><b><h1> Descifrando el lenguaje emocional en Twitter: Un análisis predictivo basado en aprendizaje automático. </h1></b></div>"
   ]
  },
  {
   "cell_type": "markdown",
   "id": "98964068",
   "metadata": {},
   "source": [
    "**Autor**: Neivys Luz González Gómez"
   ]
  },
  {
   "cell_type": "markdown",
   "id": "e688086f",
   "metadata": {},
   "source": [
    "La identificación de emociones es una tarea fundamental en el campo del procesamiento de lenguaje natural, que se enfoca en clasificar textos según su tono emocional. A pesar de que el objetivo es identificar una amplia variedad de emociones humanas, la mayoría de los conjuntos de datos disponibles se limitan a las polaridades positiva, negativa y, en ocasiones, neutral.\n",
    "\n",
    "Detectar emociones a partir de textos es un reto complejo en el procesamiento del lenguaje natural, ya que se trata de un problema de clasificación multiclase y, en muchas ocasiones, no hay suficientes datos etiquetados disponibles. Sin embargo, este conjunto de datos etiquetado proporciona la oportunidad de aplicar diversas técnicas de análisis exploratorio y modelado para entender mejor la dinámica emocional en las redes sociales y mejorar la capacidad de detección en tiempo real.\n",
    "\n",
    "El conjunto de datos de emociones se obtiene a partir de mensajes en inglés de Twitter y contiene seis emociones básicas: neutralidad, preocupación, felicidad, tristeza, amor, sorpresa, diversión, alivio, odio, vacío, entusiasmo y aburrimiento. Este conjunto de datos ofrece una variedad más amplia de emociones humanas, lo que permite el entrenamiento y la evaluación de modelos de análisis de sentimientos con mayor precisión y exhaustividad."
   ]
  },
  {
   "cell_type": "markdown",
   "id": "5338c1f3",
   "metadata": {},
   "source": [
    "<div class=\"alert alert-info alert-info\"><b><h3>Objetivo General</h3></b>\n",
    "    \n",
    "**Desarrollar un modelo que permita detectar emociones en los tweets y analizar patrones en el lenguaje utilizado en Twitter para ayudar en la detección temprana de trastornos emocionales como la depresión, la ansiedad, entre otros.**\n",
    "</div>"
   ]
  },
  {
   "cell_type": "markdown",
   "id": "e3a51b43",
   "metadata": {},
   "source": [
    "---"
   ]
  },
  {
   "cell_type": "markdown",
   "id": "933c744d",
   "metadata": {},
   "source": [
    "# Notebook N° 3: Pre-procesado de la base de dato."
   ]
  },
  {
   "cell_type": "markdown",
   "id": "891bce73",
   "metadata": {},
   "source": [
    "Este notebook es una parte importante del pre-procesamiento de una base de datos de tweets. Aquí se llevan a cabo varias tareas para preparar los datos para su posterior análisis. Las tareas principales que se realizan en este notebook son las siguientes:\n",
    "\n",
    "* Procesamiento de los tweets: En esta sección, se procesan los tweets para eliminar caracteres no deseados, eliminar menciones, hashtags y URLs y convertir el texto a minúsculas. Además, se eliminan los tweets vacíos o muy cortos y se realiza una lematización de las palabras en los tweets.\n",
    "\n",
    "* Creación de variables de polaridad: En esta sección, se utiliza la biblioteca TextBlob para calcular la polaridad de cada tweet en la base de datos. La polaridad se define como una medida de la positividad o negatividad del tweet. Se crea una nueva columna en la base de datos que contiene la polaridad de cada tweet.\n",
    "\n",
    "* Creación de variables de polaridad_vader: En esta sección, se utiliza la biblioteca Vader para calcular la polaridad de cada tweet en la base de datos. Vader utiliza un enfoque más avanzado que TextBlob y tiene en cuenta el contexto y las palabras intensificadoras en el texto para calcular la polaridad. Se crea una nueva columna en la base de datos que contiene la polaridad_vader de cada tweet.\n",
    "\n",
    "* Eliminación de columnas innecesarias: En esta sección, se eliminan las columnas de la base de datos que no se utilizarán en el análisis posterior. Esto puede incluir columnas como la fecha del tweet o la ubicación del usuario que publicó el tweet."
   ]
  },
  {
   "cell_type": "markdown",
   "id": "204a79b8",
   "metadata": {},
   "source": [
    "<div class=\"alert alert-block alert-warning\">\n",
    "<b><h1>Descripción de las Variables</h1></b> \n",
    "</div>"
   ]
  },
  {
   "cell_type": "markdown",
   "id": "42b56a3d",
   "metadata": {},
   "source": [
    "Se dispone de un conjunto de datos proveniente de data.world, una plataforma que proporciona acceso a conjuntos de datos públicos. Este dataset consiste en una colección de tweets etiquetados con la emoción que expresan. Contiene cuatro columnas que incluyen el identificador del tweet, el sentimiento expresado, el autor y el contenido del tweet. En total, se tienen 40,000 registros con anotaciones para 13 emociones distintas. "
   ]
  },
  {
   "cell_type": "markdown",
   "id": "76aa3e77",
   "metadata": {},
   "source": [
    "<img src=\"Notebook.jpg\">"
   ]
  },
  {
   "cell_type": "markdown",
   "id": "b8ad62d6",
   "metadata": {},
   "source": [
    "---"
   ]
  },
  {
   "cell_type": "code",
   "execution_count": 1,
   "id": "eebecf44",
   "metadata": {
    "run_control": {
     "marked": false
    }
   },
   "outputs": [
    {
     "name": "stderr",
     "output_type": "stream",
     "text": [
      "[nltk_data] Downloading package punkt to\n",
      "[nltk_data]     C:\\Users\\Lenovo\\AppData\\Roaming\\nltk_data...\n",
      "[nltk_data]   Package punkt is already up-to-date!\n",
      "[nltk_data] Downloading package stopwords to\n",
      "[nltk_data]     C:\\Users\\Lenovo\\AppData\\Roaming\\nltk_data...\n",
      "[nltk_data]   Package stopwords is already up-to-date!\n",
      "[nltk_data] Downloading package wordnet to\n",
      "[nltk_data]     C:\\Users\\Lenovo\\AppData\\Roaming\\nltk_data...\n",
      "[nltk_data]   Package wordnet is already up-to-date!\n",
      "[nltk_data] Downloading package omw-1.4 to\n",
      "[nltk_data]     C:\\Users\\Lenovo\\AppData\\Roaming\\nltk_data...\n",
      "[nltk_data]   Package omw-1.4 is already up-to-date!\n",
      "[nltk_data] Downloading package averaged_perceptron_tagger to\n",
      "[nltk_data]     C:\\Users\\Lenovo\\AppData\\Roaming\\nltk_data...\n",
      "[nltk_data]   Package averaged_perceptron_tagger is already up-to-\n",
      "[nltk_data]       date!\n"
     ]
    }
   ],
   "source": [
    "#import libraries\n",
    "import pandas as pd\n",
    "import numpy as np\n",
    "import math\n",
    "import spacy\n",
    "nlp = spacy.load(\"en_core_web_sm\")\n",
    "\n",
    "import re\n",
    "import string\n",
    "\n",
    "#import NLTK\n",
    "import nltk\n",
    "nltk.download('punkt') #Punkt es una biblioteca que se utiliza para tokenizar frases en lenguaje natural\n",
    "nltk.download('stopwords') # library \"stopwords\"\n",
    "nltk.download('wordnet') # \n",
    "nltk.download('omw-1.4') #\n",
    "nltk.download('averaged_perceptron_tagger')\n",
    "\n",
    "from nltk.tokenize import word_tokenize\n",
    "from nltk.tokenize import sent_tokenize\n",
    "from nltk.stem.wordnet import WordNetLemmatizer\n",
    "from nltk.sentiment.vader import SentimentIntensityAnalyzer\n",
    "\n",
    "#import librerias de pre-procesamiento y normalizacion\n",
    "from nltk.corpus import stopwords\n",
    "from nltk.stem import PorterStemmer\n",
    "from nltk.corpus import wordnet\n",
    "from nltk.tag import pos_tag\n",
    "\n",
    "from sklearn.preprocessing import LabelEncoder\n",
    "\n",
    "import warnings\n",
    "warnings.filterwarnings('ignore')"
   ]
  },
  {
   "cell_type": "markdown",
   "id": "af241c3e",
   "metadata": {},
   "source": [
    "---"
   ]
  },
  {
   "cell_type": "markdown",
   "id": "023cc194",
   "metadata": {},
   "source": [
    "<div class=\"alert alert-block alert-info\">\n",
    "<b><h2> Cargar Dataset.</h2></b> \n",
    "</div>"
   ]
  },
  {
   "cell_type": "code",
   "execution_count": 2,
   "id": "97f07eab",
   "metadata": {},
   "outputs": [],
   "source": [
    "emotion_data= pd.read_csv('emotion_data_clean.csv')"
   ]
  },
  {
   "cell_type": "code",
   "execution_count": 3,
   "id": "b92b8fdd",
   "metadata": {},
   "outputs": [
    {
     "data": {
      "text/html": [
       "<div>\n",
       "<style scoped>\n",
       "    .dataframe tbody tr th:only-of-type {\n",
       "        vertical-align: middle;\n",
       "    }\n",
       "\n",
       "    .dataframe tbody tr th {\n",
       "        vertical-align: top;\n",
       "    }\n",
       "\n",
       "    .dataframe thead th {\n",
       "        text-align: right;\n",
       "    }\n",
       "</style>\n",
       "<table border=\"1\" class=\"dataframe\">\n",
       "  <thead>\n",
       "    <tr style=\"text-align: right;\">\n",
       "      <th></th>\n",
       "      <th>tweet_id</th>\n",
       "      <th>author</th>\n",
       "      <th>review_length</th>\n",
       "      <th>sentiment_label</th>\n",
       "      <th>content</th>\n",
       "    </tr>\n",
       "  </thead>\n",
       "  <tbody>\n",
       "    <tr>\n",
       "      <th>0</th>\n",
       "      <td>1956967666</td>\n",
       "      <td>wannamama</td>\n",
       "      <td>60</td>\n",
       "      <td>sadness</td>\n",
       "      <td>Layin n bed with a headache  ughhhh...waitin o...</td>\n",
       "    </tr>\n",
       "    <tr>\n",
       "      <th>1</th>\n",
       "      <td>1956967696</td>\n",
       "      <td>coolfunky</td>\n",
       "      <td>35</td>\n",
       "      <td>sadness</td>\n",
       "      <td>Funeral ceremony...gloomy friday...</td>\n",
       "    </tr>\n",
       "    <tr>\n",
       "      <th>2</th>\n",
       "      <td>1956967789</td>\n",
       "      <td>czareaquino</td>\n",
       "      <td>36</td>\n",
       "      <td>enthusiasm</td>\n",
       "      <td>wants to hang out with friends SOON!</td>\n",
       "    </tr>\n",
       "    <tr>\n",
       "      <th>3</th>\n",
       "      <td>1956968416</td>\n",
       "      <td>xkilljoyx</td>\n",
       "      <td>86</td>\n",
       "      <td>neutral</td>\n",
       "      <td>@dannycastillo We want to trade with someone w...</td>\n",
       "    </tr>\n",
       "    <tr>\n",
       "      <th>4</th>\n",
       "      <td>1956968477</td>\n",
       "      <td>xxxPEACHESxxx</td>\n",
       "      <td>84</td>\n",
       "      <td>worry</td>\n",
       "      <td>Re-pinging @ghostridah14: why didn't you go to...</td>\n",
       "    </tr>\n",
       "    <tr>\n",
       "      <th>...</th>\n",
       "      <td>...</td>\n",
       "      <td>...</td>\n",
       "      <td>...</td>\n",
       "      <td>...</td>\n",
       "      <td>...</td>\n",
       "    </tr>\n",
       "    <tr>\n",
       "      <th>39099</th>\n",
       "      <td>1753918900</td>\n",
       "      <td>courtside101</td>\n",
       "      <td>29</td>\n",
       "      <td>happiness</td>\n",
       "      <td>Succesfully following Tayla!!</td>\n",
       "    </tr>\n",
       "    <tr>\n",
       "      <th>39100</th>\n",
       "      <td>1753919001</td>\n",
       "      <td>drapeaux</td>\n",
       "      <td>30</td>\n",
       "      <td>love</td>\n",
       "      <td>Happy Mothers Day  All my love</td>\n",
       "    </tr>\n",
       "    <tr>\n",
       "      <th>39101</th>\n",
       "      <td>1753919005</td>\n",
       "      <td>JenniRox</td>\n",
       "      <td>123</td>\n",
       "      <td>love</td>\n",
       "      <td>Happy Mother's Day to all the mommies out ther...</td>\n",
       "    </tr>\n",
       "    <tr>\n",
       "      <th>39102</th>\n",
       "      <td>1753919043</td>\n",
       "      <td>ipdaman1</td>\n",
       "      <td>122</td>\n",
       "      <td>happiness</td>\n",
       "      <td>@niariley WASSUP BEAUTIFUL!!! FOLLOW ME!!  PEE...</td>\n",
       "    </tr>\n",
       "    <tr>\n",
       "      <th>39103</th>\n",
       "      <td>1753919049</td>\n",
       "      <td>Alpharalpha</td>\n",
       "      <td>132</td>\n",
       "      <td>love</td>\n",
       "      <td>@mopedronin bullet train from tokyo    the gf ...</td>\n",
       "    </tr>\n",
       "  </tbody>\n",
       "</table>\n",
       "<p>39104 rows × 5 columns</p>\n",
       "</div>"
      ],
      "text/plain": [
       "         tweet_id         author  review_length sentiment_label  \\\n",
       "0      1956967666      wannamama             60         sadness   \n",
       "1      1956967696      coolfunky             35         sadness   \n",
       "2      1956967789    czareaquino             36      enthusiasm   \n",
       "3      1956968416      xkilljoyx             86         neutral   \n",
       "4      1956968477  xxxPEACHESxxx             84           worry   \n",
       "...           ...            ...            ...             ...   \n",
       "39099  1753918900   courtside101             29       happiness   \n",
       "39100  1753919001       drapeaux             30            love   \n",
       "39101  1753919005       JenniRox            123            love   \n",
       "39102  1753919043       ipdaman1            122       happiness   \n",
       "39103  1753919049    Alpharalpha            132            love   \n",
       "\n",
       "                                                 content  \n",
       "0      Layin n bed with a headache  ughhhh...waitin o...  \n",
       "1                    Funeral ceremony...gloomy friday...  \n",
       "2                   wants to hang out with friends SOON!  \n",
       "3      @dannycastillo We want to trade with someone w...  \n",
       "4      Re-pinging @ghostridah14: why didn't you go to...  \n",
       "...                                                  ...  \n",
       "39099                      Succesfully following Tayla!!  \n",
       "39100                     Happy Mothers Day  All my love  \n",
       "39101  Happy Mother's Day to all the mommies out ther...  \n",
       "39102  @niariley WASSUP BEAUTIFUL!!! FOLLOW ME!!  PEE...  \n",
       "39103  @mopedronin bullet train from tokyo    the gf ...  \n",
       "\n",
       "[39104 rows x 5 columns]"
      ]
     },
     "execution_count": 3,
     "metadata": {},
     "output_type": "execute_result"
    }
   ],
   "source": [
    "emotion_data"
   ]
  },
  {
   "cell_type": "markdown",
   "id": "d25b6fb8",
   "metadata": {},
   "source": [
    "## 1. Preparación del Dataset"
   ]
  },
  {
   "cell_type": "code",
   "execution_count": 4,
   "id": "537e7eb7",
   "metadata": {},
   "outputs": [
    {
     "name": "stdout",
     "output_type": "stream",
     "text": [
      "<class 'pandas.core.frame.DataFrame'>\n",
      "RangeIndex: 39104 entries, 0 to 39103\n",
      "Data columns (total 5 columns):\n",
      " #   Column           Non-Null Count  Dtype \n",
      "---  ------           --------------  ----- \n",
      " 0   tweet_id         39104 non-null  int64 \n",
      " 1   author           39104 non-null  object\n",
      " 2   review_length    39104 non-null  int64 \n",
      " 3   sentiment_label  39104 non-null  object\n",
      " 4   content          39104 non-null  object\n",
      "dtypes: int64(2), object(3)\n",
      "memory usage: 1.5+ MB\n"
     ]
    }
   ],
   "source": [
    "emotion_data.info()"
   ]
  },
  {
   "cell_type": "markdown",
   "id": "47e6d913",
   "metadata": {},
   "source": [
    "### 1.1 Verificar nulos y NaM"
   ]
  },
  {
   "cell_type": "code",
   "execution_count": 5,
   "id": "0f5b13b2",
   "metadata": {},
   "outputs": [
    {
     "data": {
      "text/plain": [
       "tweet_id           0\n",
       "author             0\n",
       "review_length      0\n",
       "sentiment_label    0\n",
       "content            0\n",
       "dtype: int64"
      ]
     },
     "execution_count": 5,
     "metadata": {},
     "output_type": "execute_result"
    }
   ],
   "source": [
    "emotion_data.isnull().sum()"
   ]
  },
  {
   "cell_type": "code",
   "execution_count": 6,
   "id": "74d92952",
   "metadata": {},
   "outputs": [
    {
     "data": {
      "text/plain": [
       "tweet_id           0\n",
       "author             0\n",
       "review_length      0\n",
       "sentiment_label    0\n",
       "content            0\n",
       "dtype: int64"
      ]
     },
     "execution_count": 6,
     "metadata": {},
     "output_type": "execute_result"
    }
   ],
   "source": [
    "emotion_data.isna().sum()"
   ]
  },
  {
   "cell_type": "markdown",
   "id": "c3a04007",
   "metadata": {},
   "source": [
    "### 1.2 Verificar datos duplicados"
   ]
  },
  {
   "cell_type": "code",
   "execution_count": 7,
   "id": "484ce2a4",
   "metadata": {},
   "outputs": [
    {
     "data": {
      "text/html": [
       "<div>\n",
       "<style scoped>\n",
       "    .dataframe tbody tr th:only-of-type {\n",
       "        vertical-align: middle;\n",
       "    }\n",
       "\n",
       "    .dataframe tbody tr th {\n",
       "        vertical-align: top;\n",
       "    }\n",
       "\n",
       "    .dataframe thead th {\n",
       "        text-align: right;\n",
       "    }\n",
       "</style>\n",
       "<table border=\"1\" class=\"dataframe\">\n",
       "  <thead>\n",
       "    <tr style=\"text-align: right;\">\n",
       "      <th></th>\n",
       "      <th>tweet_id</th>\n",
       "      <th>author</th>\n",
       "      <th>review_length</th>\n",
       "      <th>sentiment_label</th>\n",
       "      <th>content</th>\n",
       "    </tr>\n",
       "  </thead>\n",
       "  <tbody>\n",
       "  </tbody>\n",
       "</table>\n",
       "</div>"
      ],
      "text/plain": [
       "Empty DataFrame\n",
       "Columns: [tweet_id, author, review_length, sentiment_label, content]\n",
       "Index: []"
      ]
     },
     "execution_count": 7,
     "metadata": {},
     "output_type": "execute_result"
    }
   ],
   "source": [
    "emotion_data[emotion_data.duplicated()]"
   ]
  },
  {
   "cell_type": "markdown",
   "id": "563909d2",
   "metadata": {},
   "source": [
    "## 2. Pre-procesamiento de los datos"
   ]
  },
  {
   "cell_type": "markdown",
   "id": "7cb16633",
   "metadata": {},
   "source": [
    "### 2.1 Limpieza del texto."
   ]
  },
  {
   "cell_type": "code",
   "execution_count": 8,
   "id": "5c110bbc",
   "metadata": {
    "run_control": {
     "marked": false
    }
   },
   "outputs": [],
   "source": [
    "def preproces_tweet(tweet):\n",
    "    # Eliminar menciones (@nombredeusuario) y URLs\n",
    "    tweet = re.sub(r'@[A-Za-z0-9]+|https?://[A-Za-z0-9./]+', '', tweet)\n",
    "    \n",
    "    # Convertir el texto a minúsculas\n",
    "    tweet = tweet.lower()\n",
    "    \n",
    "    # Eliminar signos de puntuación\n",
    "    tweet = re.sub('[%s]' % re.escape(string.punctuation), '', tweet)\n",
    "    \n",
    "    # Eliminar números\n",
    "    tweet = re.sub(r'\\d+', '', tweet)\n",
    "    \n",
    "    # Eliminar palabras comunes (stopwords)\n",
    "    stop_words = stopwords.words('english') + ['u', 'im', 'c', 'n']\n",
    "    words = tweet.split()\n",
    "    words = [word for word in words if word not in stop_words]\n",
    "    \n",
    "    # Lematización (reducir las palabras a su raíz)\n",
    "    lemmatizer = WordNetLemmatizer()\n",
    "    words = [lemmatizer.lemmatize(word) for word in words]\n",
    "    tweet = ' '.join(words)\n",
    "    \n",
    "    return tweet"
   ]
  },
  {
   "cell_type": "code",
   "execution_count": 9,
   "id": "833de0f8",
   "metadata": {},
   "outputs": [],
   "source": [
    "# Apply the preprocess_tweet function to each element in the 'content' column\n",
    "emotion_data['content'] = emotion_data['content'].apply(preproces_tweet)    "
   ]
  },
  {
   "cell_type": "code",
   "execution_count": 10,
   "id": "4963ccdc",
   "metadata": {},
   "outputs": [
    {
     "name": "stdout",
     "output_type": "stream",
     "text": [
      "116\n"
     ]
    }
   ],
   "source": [
    "if '' in emotion_data['content'].values:\n",
    "    print(emotion_data['content'].value_counts()[''])\n",
    "else:\n",
    "    print(\"No hay valores vacíos en 'content'.\")"
   ]
  },
  {
   "cell_type": "markdown",
   "id": "b55659b9",
   "metadata": {},
   "source": [
    "Se han identificado 116 tweets procesados que contienen únicamente '' como resultado del procesamiento del tweet. Como se mencionó anteriormente, estos tweets solo contenían menciones y enlaces, lo que podría dificultar el análisis de sentimientos al no proporcionar suficiente información sobre el contenido emocional del tweet. Se sugiere, por lo tanto, considerar la eliminación de estos tweets del conjunto de datos para mejorar la calidad del análisis de sentimientos."
   ]
  },
  {
   "cell_type": "code",
   "execution_count": 11,
   "id": "58abca8f",
   "metadata": {},
   "outputs": [],
   "source": [
    "emotion_data.drop(emotion_data[emotion_data['content'] == ''].index, inplace=True)"
   ]
  },
  {
   "cell_type": "code",
   "execution_count": 12,
   "id": "d40697bf",
   "metadata": {},
   "outputs": [],
   "source": [
    "# Resetear los índices\n",
    "emotion_data.reset_index(drop=True, inplace=True)"
   ]
  },
  {
   "cell_type": "code",
   "execution_count": 13,
   "id": "e4b58940",
   "metadata": {},
   "outputs": [
    {
     "name": "stdout",
     "output_type": "stream",
     "text": [
      "<class 'pandas.core.frame.DataFrame'>\n",
      "RangeIndex: 38988 entries, 0 to 38987\n",
      "Data columns (total 5 columns):\n",
      " #   Column           Non-Null Count  Dtype \n",
      "---  ------           --------------  ----- \n",
      " 0   tweet_id         38988 non-null  int64 \n",
      " 1   author           38988 non-null  object\n",
      " 2   review_length    38988 non-null  int64 \n",
      " 3   sentiment_label  38988 non-null  object\n",
      " 4   content          38988 non-null  object\n",
      "dtypes: int64(2), object(3)\n",
      "memory usage: 1.5+ MB\n"
     ]
    }
   ],
   "source": [
    "emotion_data.info()"
   ]
  },
  {
   "cell_type": "markdown",
   "id": "2e91653f",
   "metadata": {},
   "source": [
    "### 2.2  Transformar variable a string"
   ]
  },
  {
   "cell_type": "code",
   "execution_count": 14,
   "id": "48662f44",
   "metadata": {
    "run_control": {
     "marked": false
    }
   },
   "outputs": [],
   "source": [
    "# String\n",
    "emotion_data['content'] = emotion_data['content'].apply(str)   "
   ]
  },
  {
   "cell_type": "markdown",
   "id": "00801ee7",
   "metadata": {},
   "source": [
    "## 3. Feature"
   ]
  },
  {
   "cell_type": "markdown",
   "id": "07d17554",
   "metadata": {},
   "source": [
    "### 3.1 Polaridad: Convertir las emociones en sentimientos"
   ]
  },
  {
   "cell_type": "code",
   "execution_count": 15,
   "id": "3c8ea446",
   "metadata": {},
   "outputs": [],
   "source": [
    "# Create a sentiment dictionary to map EMOTIONS to POLARITY.\n",
    "sentiment_dict = {'boredom': 'negative',\n",
    "                  'hate': 'negative',\n",
    "                  'sadness': 'negative',\n",
    "                  'anger': 'negative',\n",
    "                  'worry': 'negative',\n",
    "                  'relief': 'positive',\n",
    "                  'happiness': 'positive',\n",
    "                  'love': 'positive',\n",
    "                  'enthusiasm': 'positive',\n",
    "                  'neutral': 'neutral',\n",
    "                  'surprise':'positive',\n",
    "                  'fun': 'positive'\n",
    "                 }\n",
    "emotion_data['polarity_sent'] = emotion_data.sentiment_label.map(sentiment_dict)"
   ]
  },
  {
   "cell_type": "markdown",
   "id": "121f86bc",
   "metadata": {},
   "source": [
    "### 3.2 Polaridad con VADER (Valence Aware Dictionary and sEntiment Reasoner)"
   ]
  },
  {
   "cell_type": "code",
   "execution_count": 16,
   "id": "bb7ee708",
   "metadata": {},
   "outputs": [],
   "source": [
    "def calculate_vader_sentiment(tweet):\n",
    "    analyzer = SentimentIntensityAnalyzer()\n",
    "    vs = analyzer.polarity_scores(tweet)\n",
    "    return {\n",
    "        \"positive\": vs[\"pos\"],\n",
    "        \"neutral\": vs[\"neu\"],\n",
    "        \"negative\": vs[\"neg\"],\n",
    "        \"compound\": vs[\"compound\"],\n",
    "        \"polarity_vader\": \"positive\" if vs[\"compound\"] > 0.3 else \"negative\" if vs[\"compound\"] < -0.3 else \"neutral\"\n",
    "    }"
   ]
  },
  {
   "cell_type": "code",
   "execution_count": 17,
   "id": "63daa94c",
   "metadata": {},
   "outputs": [],
   "source": [
    "# Aplica la función calculate_vader_sentiment a la columna processed_tweet de emotion_data\n",
    "sentiment_data_vader = emotion_data['content'].apply(calculate_vader_sentiment)"
   ]
  },
  {
   "cell_type": "code",
   "execution_count": 18,
   "id": "15655335",
   "metadata": {},
   "outputs": [],
   "source": [
    "# Convierte el resultado en columnas usando json_normalize\n",
    "sentiment_data_vader= pd.json_normalize(sentiment_data_vader)"
   ]
  },
  {
   "cell_type": "code",
   "execution_count": 19,
   "id": "1980de61",
   "metadata": {},
   "outputs": [
    {
     "data": {
      "text/html": [
       "<div>\n",
       "<style scoped>\n",
       "    .dataframe tbody tr th:only-of-type {\n",
       "        vertical-align: middle;\n",
       "    }\n",
       "\n",
       "    .dataframe tbody tr th {\n",
       "        vertical-align: top;\n",
       "    }\n",
       "\n",
       "    .dataframe thead th {\n",
       "        text-align: right;\n",
       "    }\n",
       "</style>\n",
       "<table border=\"1\" class=\"dataframe\">\n",
       "  <thead>\n",
       "    <tr style=\"text-align: right;\">\n",
       "      <th></th>\n",
       "      <th>tweet_id</th>\n",
       "      <th>author</th>\n",
       "      <th>review_length</th>\n",
       "      <th>sentiment_label</th>\n",
       "      <th>content</th>\n",
       "      <th>polarity_sent</th>\n",
       "      <th>positive</th>\n",
       "      <th>neutral</th>\n",
       "      <th>negative</th>\n",
       "      <th>compound</th>\n",
       "      <th>polarity_vader</th>\n",
       "    </tr>\n",
       "  </thead>\n",
       "  <tbody>\n",
       "    <tr>\n",
       "      <th>0</th>\n",
       "      <td>1956967666</td>\n",
       "      <td>wannamama</td>\n",
       "      <td>60</td>\n",
       "      <td>sadness</td>\n",
       "      <td>layin bed headache ughhhhwaitin call</td>\n",
       "      <td>negative</td>\n",
       "      <td>0.000</td>\n",
       "      <td>1.000</td>\n",
       "      <td>0.000</td>\n",
       "      <td>0.0000</td>\n",
       "      <td>neutral</td>\n",
       "    </tr>\n",
       "    <tr>\n",
       "      <th>1</th>\n",
       "      <td>1956967696</td>\n",
       "      <td>coolfunky</td>\n",
       "      <td>35</td>\n",
       "      <td>sadness</td>\n",
       "      <td>funeral ceremonygloomy friday</td>\n",
       "      <td>negative</td>\n",
       "      <td>0.000</td>\n",
       "      <td>0.444</td>\n",
       "      <td>0.556</td>\n",
       "      <td>-0.3612</td>\n",
       "      <td>negative</td>\n",
       "    </tr>\n",
       "    <tr>\n",
       "      <th>2</th>\n",
       "      <td>1956967789</td>\n",
       "      <td>czareaquino</td>\n",
       "      <td>36</td>\n",
       "      <td>enthusiasm</td>\n",
       "      <td>want hang friend soon</td>\n",
       "      <td>positive</td>\n",
       "      <td>0.692</td>\n",
       "      <td>0.308</td>\n",
       "      <td>0.000</td>\n",
       "      <td>0.5423</td>\n",
       "      <td>positive</td>\n",
       "    </tr>\n",
       "    <tr>\n",
       "      <th>3</th>\n",
       "      <td>1956968416</td>\n",
       "      <td>xkilljoyx</td>\n",
       "      <td>86</td>\n",
       "      <td>neutral</td>\n",
       "      <td>want trade someone houston ticket one</td>\n",
       "      <td>neutral</td>\n",
       "      <td>0.206</td>\n",
       "      <td>0.794</td>\n",
       "      <td>0.000</td>\n",
       "      <td>0.0772</td>\n",
       "      <td>neutral</td>\n",
       "    </tr>\n",
       "    <tr>\n",
       "      <th>4</th>\n",
       "      <td>1956968477</td>\n",
       "      <td>xxxPEACHESxxx</td>\n",
       "      <td>84</td>\n",
       "      <td>worry</td>\n",
       "      <td>repinging didnt go prom bc bf didnt like friend</td>\n",
       "      <td>negative</td>\n",
       "      <td>0.000</td>\n",
       "      <td>0.596</td>\n",
       "      <td>0.404</td>\n",
       "      <td>-0.5773</td>\n",
       "      <td>negative</td>\n",
       "    </tr>\n",
       "    <tr>\n",
       "      <th>5</th>\n",
       "      <td>1956968487</td>\n",
       "      <td>ShansBee</td>\n",
       "      <td>132</td>\n",
       "      <td>sadness</td>\n",
       "      <td>sleep thinking old friend want he married damn...</td>\n",
       "      <td>negative</td>\n",
       "      <td>0.324</td>\n",
       "      <td>0.335</td>\n",
       "      <td>0.341</td>\n",
       "      <td>-0.3182</td>\n",
       "      <td>negative</td>\n",
       "    </tr>\n",
       "    <tr>\n",
       "      <th>6</th>\n",
       "      <td>1956968636</td>\n",
       "      <td>mcsleazy</td>\n",
       "      <td>36</td>\n",
       "      <td>worry</td>\n",
       "      <td>hmmm</td>\n",
       "      <td>negative</td>\n",
       "      <td>0.000</td>\n",
       "      <td>1.000</td>\n",
       "      <td>0.000</td>\n",
       "      <td>0.0000</td>\n",
       "      <td>neutral</td>\n",
       "    </tr>\n",
       "    <tr>\n",
       "      <th>7</th>\n",
       "      <td>1956969035</td>\n",
       "      <td>nic0lepaula</td>\n",
       "      <td>39</td>\n",
       "      <td>sadness</td>\n",
       "      <td>charlene love miss</td>\n",
       "      <td>negative</td>\n",
       "      <td>0.618</td>\n",
       "      <td>0.147</td>\n",
       "      <td>0.235</td>\n",
       "      <td>0.5574</td>\n",
       "      <td>positive</td>\n",
       "    </tr>\n",
       "    <tr>\n",
       "      <th>8</th>\n",
       "      <td>1956969172</td>\n",
       "      <td>Ingenue_Em</td>\n",
       "      <td>42</td>\n",
       "      <td>sadness</td>\n",
       "      <td>sorry least friday</td>\n",
       "      <td>negative</td>\n",
       "      <td>0.000</td>\n",
       "      <td>0.606</td>\n",
       "      <td>0.394</td>\n",
       "      <td>-0.0772</td>\n",
       "      <td>neutral</td>\n",
       "    </tr>\n",
       "    <tr>\n",
       "      <th>9</th>\n",
       "      <td>1956969456</td>\n",
       "      <td>feinyheiny</td>\n",
       "      <td>16</td>\n",
       "      <td>neutral</td>\n",
       "      <td>cant fall asleep</td>\n",
       "      <td>neutral</td>\n",
       "      <td>0.000</td>\n",
       "      <td>1.000</td>\n",
       "      <td>0.000</td>\n",
       "      <td>0.0000</td>\n",
       "      <td>neutral</td>\n",
       "    </tr>\n",
       "  </tbody>\n",
       "</table>\n",
       "</div>"
      ],
      "text/plain": [
       "     tweet_id         author  review_length sentiment_label  \\\n",
       "0  1956967666      wannamama             60         sadness   \n",
       "1  1956967696      coolfunky             35         sadness   \n",
       "2  1956967789    czareaquino             36      enthusiasm   \n",
       "3  1956968416      xkilljoyx             86         neutral   \n",
       "4  1956968477  xxxPEACHESxxx             84           worry   \n",
       "5  1956968487       ShansBee            132         sadness   \n",
       "6  1956968636       mcsleazy             36           worry   \n",
       "7  1956969035    nic0lepaula             39         sadness   \n",
       "8  1956969172     Ingenue_Em             42         sadness   \n",
       "9  1956969456     feinyheiny             16         neutral   \n",
       "\n",
       "                                             content polarity_sent  positive  \\\n",
       "0               layin bed headache ughhhhwaitin call      negative     0.000   \n",
       "1                      funeral ceremonygloomy friday      negative     0.000   \n",
       "2                              want hang friend soon      positive     0.692   \n",
       "3              want trade someone houston ticket one       neutral     0.206   \n",
       "4    repinging didnt go prom bc bf didnt like friend      negative     0.000   \n",
       "5  sleep thinking old friend want he married damn...      negative     0.324   \n",
       "6                                               hmmm      negative     0.000   \n",
       "7                                 charlene love miss      negative     0.618   \n",
       "8                                 sorry least friday      negative     0.000   \n",
       "9                                   cant fall asleep       neutral     0.000   \n",
       "\n",
       "   neutral  negative  compound polarity_vader  \n",
       "0    1.000     0.000    0.0000        neutral  \n",
       "1    0.444     0.556   -0.3612       negative  \n",
       "2    0.308     0.000    0.5423       positive  \n",
       "3    0.794     0.000    0.0772        neutral  \n",
       "4    0.596     0.404   -0.5773       negative  \n",
       "5    0.335     0.341   -0.3182       negative  \n",
       "6    1.000     0.000    0.0000        neutral  \n",
       "7    0.147     0.235    0.5574       positive  \n",
       "8    0.606     0.394   -0.0772        neutral  \n",
       "9    1.000     0.000    0.0000        neutral  "
      ]
     },
     "execution_count": 19,
     "metadata": {},
     "output_type": "execute_result"
    }
   ],
   "source": [
    "# Une sentiment_data a emotion_data\n",
    "emotion_data = pd.concat([emotion_data, sentiment_data_vader], axis=1)\n",
    "emotion_data.head(10) "
   ]
  },
  {
   "cell_type": "markdown",
   "id": "06a0a749",
   "metadata": {},
   "source": [
    "## 4 Label encoder "
   ]
  },
  {
   "cell_type": "code",
   "execution_count": 20,
   "id": "b4ae2259",
   "metadata": {
    "run_control": {
     "marked": false
    }
   },
   "outputs": [],
   "source": [
    "# encoder Sentiment label\n",
    "le_e = LabelEncoder()\n",
    "emotion_data['sentiment_label'] = le_e.fit_transform(emotion_data['sentiment_label'])"
   ]
  },
  {
   "cell_type": "code",
   "execution_count": 21,
   "id": "7131ea79",
   "metadata": {},
   "outputs": [
    {
     "name": "stdout",
     "output_type": "stream",
     "text": [
      "['anger' 'boredom' 'enthusiasm' 'fun' 'happiness' 'hate' 'love' 'neutral'\n",
      " 'relief' 'sadness' 'surprise' 'worry']\n"
     ]
    }
   ],
   "source": [
    "print (le_e.classes_)"
   ]
  },
  {
   "cell_type": "code",
   "execution_count": 22,
   "id": "92bde12f",
   "metadata": {},
   "outputs": [],
   "source": [
    "# encoder polarity de sentiments\n",
    "le_s = LabelEncoder()\n",
    "emotion_data['polarity_sent'] = le_s.fit_transform(emotion_data['polarity_sent'])   "
   ]
  },
  {
   "cell_type": "code",
   "execution_count": 23,
   "id": "07bd0ae5",
   "metadata": {},
   "outputs": [
    {
     "name": "stdout",
     "output_type": "stream",
     "text": [
      "['negative' 'neutral' 'positive']\n"
     ]
    }
   ],
   "source": [
    "print (le_s.classes_)"
   ]
  },
  {
   "cell_type": "code",
   "execution_count": 24,
   "id": "c49b508d",
   "metadata": {},
   "outputs": [],
   "source": [
    "# encoder polarity vader\n",
    "le_v = LabelEncoder()\n",
    "emotion_data['polarity_vader'] = le_v.fit_transform(emotion_data['polarity_vader'])   "
   ]
  },
  {
   "cell_type": "code",
   "execution_count": 25,
   "id": "bd2ec605",
   "metadata": {},
   "outputs": [
    {
     "name": "stdout",
     "output_type": "stream",
     "text": [
      "['negative' 'neutral' 'positive']\n"
     ]
    }
   ],
   "source": [
    "print (le_v.classes_)"
   ]
  },
  {
   "cell_type": "code",
   "execution_count": 26,
   "id": "20e7ca7f",
   "metadata": {},
   "outputs": [
    {
     "name": "stdout",
     "output_type": "stream",
     "text": [
      "<class 'pandas.core.frame.DataFrame'>\n",
      "RangeIndex: 38988 entries, 0 to 38987\n",
      "Data columns (total 11 columns):\n",
      " #   Column           Non-Null Count  Dtype  \n",
      "---  ------           --------------  -----  \n",
      " 0   tweet_id         38988 non-null  int64  \n",
      " 1   author           38988 non-null  object \n",
      " 2   review_length    38988 non-null  int64  \n",
      " 3   sentiment_label  38988 non-null  int32  \n",
      " 4   content          38988 non-null  object \n",
      " 5   polarity_sent    38988 non-null  int32  \n",
      " 6   positive         38988 non-null  float64\n",
      " 7   neutral          38988 non-null  float64\n",
      " 8   negative         38988 non-null  float64\n",
      " 9   compound         38988 non-null  float64\n",
      " 10  polarity_vader   38988 non-null  int32  \n",
      "dtypes: float64(4), int32(3), int64(2), object(2)\n",
      "memory usage: 2.8+ MB\n"
     ]
    }
   ],
   "source": [
    "emotion_data.info()"
   ]
  },
  {
   "cell_type": "code",
   "execution_count": 27,
   "id": "f77d7ef7",
   "metadata": {},
   "outputs": [
    {
     "data": {
      "text/html": [
       "<div>\n",
       "<style scoped>\n",
       "    .dataframe tbody tr th:only-of-type {\n",
       "        vertical-align: middle;\n",
       "    }\n",
       "\n",
       "    .dataframe tbody tr th {\n",
       "        vertical-align: top;\n",
       "    }\n",
       "\n",
       "    .dataframe thead th {\n",
       "        text-align: right;\n",
       "    }\n",
       "</style>\n",
       "<table border=\"1\" class=\"dataframe\">\n",
       "  <thead>\n",
       "    <tr style=\"text-align: right;\">\n",
       "      <th></th>\n",
       "      <th>tweet_id</th>\n",
       "      <th>author</th>\n",
       "      <th>review_length</th>\n",
       "      <th>sentiment_label</th>\n",
       "      <th>content</th>\n",
       "      <th>polarity_sent</th>\n",
       "      <th>positive</th>\n",
       "      <th>neutral</th>\n",
       "      <th>negative</th>\n",
       "      <th>compound</th>\n",
       "      <th>polarity_vader</th>\n",
       "    </tr>\n",
       "  </thead>\n",
       "  <tbody>\n",
       "    <tr>\n",
       "      <th>0</th>\n",
       "      <td>1956967666</td>\n",
       "      <td>wannamama</td>\n",
       "      <td>60</td>\n",
       "      <td>9</td>\n",
       "      <td>layin bed headache ughhhhwaitin call</td>\n",
       "      <td>0</td>\n",
       "      <td>0.000</td>\n",
       "      <td>1.000</td>\n",
       "      <td>0.000</td>\n",
       "      <td>0.0000</td>\n",
       "      <td>1</td>\n",
       "    </tr>\n",
       "    <tr>\n",
       "      <th>1</th>\n",
       "      <td>1956967696</td>\n",
       "      <td>coolfunky</td>\n",
       "      <td>35</td>\n",
       "      <td>9</td>\n",
       "      <td>funeral ceremonygloomy friday</td>\n",
       "      <td>0</td>\n",
       "      <td>0.000</td>\n",
       "      <td>0.444</td>\n",
       "      <td>0.556</td>\n",
       "      <td>-0.3612</td>\n",
       "      <td>0</td>\n",
       "    </tr>\n",
       "    <tr>\n",
       "      <th>2</th>\n",
       "      <td>1956967789</td>\n",
       "      <td>czareaquino</td>\n",
       "      <td>36</td>\n",
       "      <td>2</td>\n",
       "      <td>want hang friend soon</td>\n",
       "      <td>2</td>\n",
       "      <td>0.692</td>\n",
       "      <td>0.308</td>\n",
       "      <td>0.000</td>\n",
       "      <td>0.5423</td>\n",
       "      <td>2</td>\n",
       "    </tr>\n",
       "    <tr>\n",
       "      <th>3</th>\n",
       "      <td>1956968416</td>\n",
       "      <td>xkilljoyx</td>\n",
       "      <td>86</td>\n",
       "      <td>7</td>\n",
       "      <td>want trade someone houston ticket one</td>\n",
       "      <td>1</td>\n",
       "      <td>0.206</td>\n",
       "      <td>0.794</td>\n",
       "      <td>0.000</td>\n",
       "      <td>0.0772</td>\n",
       "      <td>1</td>\n",
       "    </tr>\n",
       "    <tr>\n",
       "      <th>4</th>\n",
       "      <td>1956968477</td>\n",
       "      <td>xxxPEACHESxxx</td>\n",
       "      <td>84</td>\n",
       "      <td>11</td>\n",
       "      <td>repinging didnt go prom bc bf didnt like friend</td>\n",
       "      <td>0</td>\n",
       "      <td>0.000</td>\n",
       "      <td>0.596</td>\n",
       "      <td>0.404</td>\n",
       "      <td>-0.5773</td>\n",
       "      <td>0</td>\n",
       "    </tr>\n",
       "  </tbody>\n",
       "</table>\n",
       "</div>"
      ],
      "text/plain": [
       "     tweet_id         author  review_length  sentiment_label  \\\n",
       "0  1956967666      wannamama             60                9   \n",
       "1  1956967696      coolfunky             35                9   \n",
       "2  1956967789    czareaquino             36                2   \n",
       "3  1956968416      xkilljoyx             86                7   \n",
       "4  1956968477  xxxPEACHESxxx             84               11   \n",
       "\n",
       "                                           content  polarity_sent  positive  \\\n",
       "0             layin bed headache ughhhhwaitin call              0     0.000   \n",
       "1                    funeral ceremonygloomy friday              0     0.000   \n",
       "2                            want hang friend soon              2     0.692   \n",
       "3            want trade someone houston ticket one              1     0.206   \n",
       "4  repinging didnt go prom bc bf didnt like friend              0     0.000   \n",
       "\n",
       "   neutral  negative  compound  polarity_vader  \n",
       "0    1.000     0.000    0.0000               1  \n",
       "1    0.444     0.556   -0.3612               0  \n",
       "2    0.308     0.000    0.5423               2  \n",
       "3    0.794     0.000    0.0772               1  \n",
       "4    0.596     0.404   -0.5773               0  "
      ]
     },
     "execution_count": 27,
     "metadata": {},
     "output_type": "execute_result"
    }
   ],
   "source": [
    "emotion_data.head()"
   ]
  },
  {
   "cell_type": "markdown",
   "id": "f4baa0e2",
   "metadata": {},
   "source": [
    "## 4 Selección de columnas (Feature)"
   ]
  },
  {
   "cell_type": "markdown",
   "id": "632963a9",
   "metadata": {},
   "source": [
    "Se eliminaran columnas innecesarias para el estudio."
   ]
  },
  {
   "cell_type": "code",
   "execution_count": 28,
   "id": "51ad5d4a",
   "metadata": {},
   "outputs": [],
   "source": [
    "# Eliminar columnas que no se utilizarán en el estudio\n",
    "emotion_data.drop(['tweet_id', 'author', 'review_length', 'positive', 'neutral', 'negative', 'compound'], axis=1, inplace=True)"
   ]
  },
  {
   "cell_type": "code",
   "execution_count": 29,
   "id": "36c0a3f7",
   "metadata": {},
   "outputs": [],
   "source": [
    "# Resetear los índices\n",
    "emotion_data.reset_index(drop=True, inplace=True)"
   ]
  },
  {
   "cell_type": "code",
   "execution_count": 30,
   "id": "d18a9439",
   "metadata": {},
   "outputs": [
    {
     "data": {
      "text/html": [
       "<div>\n",
       "<style scoped>\n",
       "    .dataframe tbody tr th:only-of-type {\n",
       "        vertical-align: middle;\n",
       "    }\n",
       "\n",
       "    .dataframe tbody tr th {\n",
       "        vertical-align: top;\n",
       "    }\n",
       "\n",
       "    .dataframe thead th {\n",
       "        text-align: right;\n",
       "    }\n",
       "</style>\n",
       "<table border=\"1\" class=\"dataframe\">\n",
       "  <thead>\n",
       "    <tr style=\"text-align: right;\">\n",
       "      <th></th>\n",
       "      <th>sentiment_label</th>\n",
       "      <th>content</th>\n",
       "      <th>polarity_sent</th>\n",
       "      <th>polarity_vader</th>\n",
       "    </tr>\n",
       "  </thead>\n",
       "  <tbody>\n",
       "    <tr>\n",
       "      <th>0</th>\n",
       "      <td>9</td>\n",
       "      <td>layin bed headache ughhhhwaitin call</td>\n",
       "      <td>0</td>\n",
       "      <td>1</td>\n",
       "    </tr>\n",
       "    <tr>\n",
       "      <th>1</th>\n",
       "      <td>9</td>\n",
       "      <td>funeral ceremonygloomy friday</td>\n",
       "      <td>0</td>\n",
       "      <td>0</td>\n",
       "    </tr>\n",
       "    <tr>\n",
       "      <th>2</th>\n",
       "      <td>2</td>\n",
       "      <td>want hang friend soon</td>\n",
       "      <td>2</td>\n",
       "      <td>2</td>\n",
       "    </tr>\n",
       "    <tr>\n",
       "      <th>3</th>\n",
       "      <td>7</td>\n",
       "      <td>want trade someone houston ticket one</td>\n",
       "      <td>1</td>\n",
       "      <td>1</td>\n",
       "    </tr>\n",
       "    <tr>\n",
       "      <th>4</th>\n",
       "      <td>11</td>\n",
       "      <td>repinging didnt go prom bc bf didnt like friend</td>\n",
       "      <td>0</td>\n",
       "      <td>0</td>\n",
       "    </tr>\n",
       "  </tbody>\n",
       "</table>\n",
       "</div>"
      ],
      "text/plain": [
       "   sentiment_label                                          content  \\\n",
       "0                9             layin bed headache ughhhhwaitin call   \n",
       "1                9                    funeral ceremonygloomy friday   \n",
       "2                2                            want hang friend soon   \n",
       "3                7            want trade someone houston ticket one   \n",
       "4               11  repinging didnt go prom bc bf didnt like friend   \n",
       "\n",
       "   polarity_sent  polarity_vader  \n",
       "0              0               1  \n",
       "1              0               0  \n",
       "2              2               2  \n",
       "3              1               1  \n",
       "4              0               0  "
      ]
     },
     "execution_count": 30,
     "metadata": {},
     "output_type": "execute_result"
    }
   ],
   "source": [
    "emotion_data.head()"
   ]
  },
  {
   "cell_type": "code",
   "execution_count": 31,
   "id": "cd35dc07",
   "metadata": {},
   "outputs": [
    {
     "data": {
      "text/html": [
       "<div>\n",
       "<style scoped>\n",
       "    .dataframe tbody tr th:only-of-type {\n",
       "        vertical-align: middle;\n",
       "    }\n",
       "\n",
       "    .dataframe tbody tr th {\n",
       "        vertical-align: top;\n",
       "    }\n",
       "\n",
       "    .dataframe thead th {\n",
       "        text-align: right;\n",
       "    }\n",
       "</style>\n",
       "<table border=\"1\" class=\"dataframe\">\n",
       "  <thead>\n",
       "    <tr style=\"text-align: right;\">\n",
       "      <th></th>\n",
       "      <th>content</th>\n",
       "      <th>sentiment_label</th>\n",
       "      <th>polarity_sent</th>\n",
       "      <th>polarity_vader</th>\n",
       "    </tr>\n",
       "  </thead>\n",
       "  <tbody>\n",
       "    <tr>\n",
       "      <th>0</th>\n",
       "      <td>layin bed headache ughhhhwaitin call</td>\n",
       "      <td>9</td>\n",
       "      <td>0</td>\n",
       "      <td>1</td>\n",
       "    </tr>\n",
       "    <tr>\n",
       "      <th>1</th>\n",
       "      <td>funeral ceremonygloomy friday</td>\n",
       "      <td>9</td>\n",
       "      <td>0</td>\n",
       "      <td>0</td>\n",
       "    </tr>\n",
       "    <tr>\n",
       "      <th>2</th>\n",
       "      <td>want hang friend soon</td>\n",
       "      <td>2</td>\n",
       "      <td>2</td>\n",
       "      <td>2</td>\n",
       "    </tr>\n",
       "    <tr>\n",
       "      <th>3</th>\n",
       "      <td>want trade someone houston ticket one</td>\n",
       "      <td>7</td>\n",
       "      <td>1</td>\n",
       "      <td>1</td>\n",
       "    </tr>\n",
       "    <tr>\n",
       "      <th>4</th>\n",
       "      <td>repinging didnt go prom bc bf didnt like friend</td>\n",
       "      <td>11</td>\n",
       "      <td>0</td>\n",
       "      <td>0</td>\n",
       "    </tr>\n",
       "    <tr>\n",
       "      <th>...</th>\n",
       "      <td>...</td>\n",
       "      <td>...</td>\n",
       "      <td>...</td>\n",
       "      <td>...</td>\n",
       "    </tr>\n",
       "    <tr>\n",
       "      <th>38983</th>\n",
       "      <td>succesfully following tayla</td>\n",
       "      <td>4</td>\n",
       "      <td>2</td>\n",
       "      <td>1</td>\n",
       "    </tr>\n",
       "    <tr>\n",
       "      <th>38984</th>\n",
       "      <td>happy mother day love</td>\n",
       "      <td>6</td>\n",
       "      <td>2</td>\n",
       "      <td>2</td>\n",
       "    </tr>\n",
       "    <tr>\n",
       "      <th>38985</th>\n",
       "      <td>happy mother day mommy woman man long youre mo...</td>\n",
       "      <td>6</td>\n",
       "      <td>2</td>\n",
       "      <td>2</td>\n",
       "    </tr>\n",
       "    <tr>\n",
       "      <th>38986</th>\n",
       "      <td>wassup beautiful follow peep new hit single ww...</td>\n",
       "      <td>4</td>\n",
       "      <td>2</td>\n",
       "      <td>2</td>\n",
       "    </tr>\n",
       "    <tr>\n",
       "      <th>38987</th>\n",
       "      <td>bullet train tokyo gf visiting japan since thu...</td>\n",
       "      <td>6</td>\n",
       "      <td>2</td>\n",
       "      <td>1</td>\n",
       "    </tr>\n",
       "  </tbody>\n",
       "</table>\n",
       "<p>38988 rows × 4 columns</p>\n",
       "</div>"
      ],
      "text/plain": [
       "                                                 content  sentiment_label  \\\n",
       "0                   layin bed headache ughhhhwaitin call                9   \n",
       "1                          funeral ceremonygloomy friday                9   \n",
       "2                                  want hang friend soon                2   \n",
       "3                  want trade someone houston ticket one                7   \n",
       "4        repinging didnt go prom bc bf didnt like friend               11   \n",
       "...                                                  ...              ...   \n",
       "38983                        succesfully following tayla                4   \n",
       "38984                              happy mother day love                6   \n",
       "38985  happy mother day mommy woman man long youre mo...                6   \n",
       "38986  wassup beautiful follow peep new hit single ww...                4   \n",
       "38987  bullet train tokyo gf visiting japan since thu...                6   \n",
       "\n",
       "       polarity_sent  polarity_vader  \n",
       "0                  0               1  \n",
       "1                  0               0  \n",
       "2                  2               2  \n",
       "3                  1               1  \n",
       "4                  0               0  \n",
       "...              ...             ...  \n",
       "38983              2               1  \n",
       "38984              2               2  \n",
       "38985              2               2  \n",
       "38986              2               2  \n",
       "38987              2               1  \n",
       "\n",
       "[38988 rows x 4 columns]"
      ]
     },
     "execution_count": 31,
     "metadata": {},
     "output_type": "execute_result"
    }
   ],
   "source": [
    "# ordenar columnas\n",
    "emotion_data = emotion_data.reindex(columns=['content', 'sentiment_label', 'polarity_sent', 'polarity_vader'])\n",
    "emotion_data"
   ]
  },
  {
   "cell_type": "code",
   "execution_count": 32,
   "id": "e4cc3fa1",
   "metadata": {},
   "outputs": [
    {
     "name": "stdout",
     "output_type": "stream",
     "text": [
      "<class 'pandas.core.frame.DataFrame'>\n",
      "RangeIndex: 38988 entries, 0 to 38987\n",
      "Data columns (total 4 columns):\n",
      " #   Column           Non-Null Count  Dtype \n",
      "---  ------           --------------  ----- \n",
      " 0   content          38988 non-null  object\n",
      " 1   sentiment_label  38988 non-null  int32 \n",
      " 2   polarity_sent    38988 non-null  int32 \n",
      " 3   polarity_vader   38988 non-null  int32 \n",
      "dtypes: int32(3), object(1)\n",
      "memory usage: 761.6+ KB\n"
     ]
    }
   ],
   "source": [
    "emotion_data.info()"
   ]
  },
  {
   "cell_type": "markdown",
   "id": "fb61d788",
   "metadata": {},
   "source": [
    "## 5. Guardar la data"
   ]
  },
  {
   "cell_type": "markdown",
   "id": "b4b4cf37",
   "metadata": {},
   "source": [
    "Se crearán tres datasets diferentes en función de la clasificación de las emociones del dataset original. Estos datasets se diferenciarán por el tipo de polaridad que se les haya asignado a cada emoción."
   ]
  },
  {
   "cell_type": "markdown",
   "id": "b926fa3c",
   "metadata": {},
   "source": [
    "* **Clasificacion por emociones**"
   ]
  },
  {
   "cell_type": "code",
   "execution_count": 39,
   "id": "6b758ba3",
   "metadata": {},
   "outputs": [],
   "source": [
    "dataset1 = emotion_data.loc[:, ['content', 'sentiment_label']]"
   ]
  },
  {
   "cell_type": "code",
   "execution_count": 40,
   "id": "0ce65ea5",
   "metadata": {},
   "outputs": [
    {
     "name": "stdout",
     "output_type": "stream",
     "text": [
      "<class 'pandas.core.frame.DataFrame'>\n",
      "RangeIndex: 38988 entries, 0 to 38987\n",
      "Data columns (total 2 columns):\n",
      " #   Column           Non-Null Count  Dtype \n",
      "---  ------           --------------  ----- \n",
      " 0   content          38988 non-null  object\n",
      " 1   sentiment_label  38988 non-null  int32 \n",
      "dtypes: int32(1), object(1)\n",
      "memory usage: 457.0+ KB\n"
     ]
    }
   ],
   "source": [
    "dataset1.info()"
   ]
  },
  {
   "cell_type": "code",
   "execution_count": 42,
   "id": "ac232511",
   "metadata": {},
   "outputs": [],
   "source": [
    "import pickle"
   ]
  },
  {
   "cell_type": "code",
   "execution_count": 43,
   "id": "37eff3da",
   "metadata": {},
   "outputs": [],
   "source": [
    "with open('dataset1.pickle', 'wb') as f:\n",
    "    pickle.dump(dataset1, f)"
   ]
  },
  {
   "cell_type": "markdown",
   "id": "9e52538e",
   "metadata": {},
   "source": [
    "* **Clasificacion por sentimiento**"
   ]
  },
  {
   "cell_type": "code",
   "execution_count": 44,
   "id": "5c14c2d1",
   "metadata": {},
   "outputs": [],
   "source": [
    "dataset2 = emotion_data.loc[:, ['content', 'polarity_sent']]"
   ]
  },
  {
   "cell_type": "code",
   "execution_count": 45,
   "id": "16017991",
   "metadata": {},
   "outputs": [
    {
     "name": "stdout",
     "output_type": "stream",
     "text": [
      "<class 'pandas.core.frame.DataFrame'>\n",
      "RangeIndex: 38988 entries, 0 to 38987\n",
      "Data columns (total 2 columns):\n",
      " #   Column         Non-Null Count  Dtype \n",
      "---  ------         --------------  ----- \n",
      " 0   content        38988 non-null  object\n",
      " 1   polarity_sent  38988 non-null  int32 \n",
      "dtypes: int32(1), object(1)\n",
      "memory usage: 457.0+ KB\n"
     ]
    }
   ],
   "source": [
    "dataset2.info()"
   ]
  },
  {
   "cell_type": "code",
   "execution_count": 46,
   "id": "6205ebfd",
   "metadata": {},
   "outputs": [],
   "source": [
    "with open('dataset2.pickle', 'wb') as f:\n",
    "    pickle.dump(dataset1, f)"
   ]
  },
  {
   "cell_type": "markdown",
   "id": "0ef4f71a",
   "metadata": {},
   "source": [
    "* **Clasificacion por polaridad Vader**"
   ]
  },
  {
   "cell_type": "code",
   "execution_count": 47,
   "id": "9732f579",
   "metadata": {},
   "outputs": [],
   "source": [
    "dataset3 =emotion_data.loc[:, ['content', 'polarity_vader']]"
   ]
  },
  {
   "cell_type": "code",
   "execution_count": 48,
   "id": "3f9d7916",
   "metadata": {},
   "outputs": [
    {
     "name": "stdout",
     "output_type": "stream",
     "text": [
      "<class 'pandas.core.frame.DataFrame'>\n",
      "RangeIndex: 38988 entries, 0 to 38987\n",
      "Data columns (total 2 columns):\n",
      " #   Column          Non-Null Count  Dtype \n",
      "---  ------          --------------  ----- \n",
      " 0   content         38988 non-null  object\n",
      " 1   polarity_vader  38988 non-null  int32 \n",
      "dtypes: int32(1), object(1)\n",
      "memory usage: 457.0+ KB\n"
     ]
    }
   ],
   "source": [
    "dataset3.info()"
   ]
  },
  {
   "cell_type": "code",
   "execution_count": 49,
   "id": "fa5a8d90",
   "metadata": {},
   "outputs": [],
   "source": [
    "with open('dataset3.pickle', 'wb') as f:\n",
    "    pickle.dump(dataset1, f)"
   ]
  }
 ],
 "metadata": {
  "kernelspec": {
   "display_name": "Python 3 (ipykernel)",
   "language": "python",
   "name": "python3"
  },
  "language_info": {
   "codemirror_mode": {
    "name": "ipython",
    "version": 3
   },
   "file_extension": ".py",
   "mimetype": "text/x-python",
   "name": "python",
   "nbconvert_exporter": "python",
   "pygments_lexer": "ipython3",
   "version": "3.9.12"
  },
  "latex_envs": {
   "LaTeX_envs_menu_present": true,
   "autoclose": false,
   "autocomplete": true,
   "bibliofile": "biblio.bib",
   "cite_by": "apalike",
   "current_citInitial": 1,
   "eqLabelWithNumbers": true,
   "eqNumInitial": 1,
   "hotkeys": {
    "equation": "Ctrl-E",
    "itemize": "Ctrl-I"
   },
   "labels_anchors": false,
   "latex_user_defs": false,
   "report_style_numbering": false,
   "user_envs_cfg": false
  },
  "nbTranslate": {
   "displayLangs": [
    "*"
   ],
   "hotkey": "alt-t",
   "langInMainMenu": true,
   "sourceLang": "en",
   "targetLang": "fr",
   "useGoogleTranslate": true
  },
  "toc": {
   "base_numbering": 1,
   "nav_menu": {},
   "number_sections": false,
   "sideBar": true,
   "skip_h1_title": false,
   "title_cell": "Table of Contents",
   "title_sidebar": "Contents",
   "toc_cell": false,
   "toc_position": {
    "height": "calc(100% - 180px)",
    "left": "10px",
    "top": "150px",
    "width": "165px"
   },
   "toc_section_display": true,
   "toc_window_display": true
  },
  "varInspector": {
   "cols": {
    "lenName": 16,
    "lenType": 16,
    "lenVar": 40
   },
   "kernels_config": {
    "python": {
     "delete_cmd_postfix": "",
     "delete_cmd_prefix": "del ",
     "library": "var_list.py",
     "varRefreshCmd": "print(var_dic_list())"
    },
    "r": {
     "delete_cmd_postfix": ") ",
     "delete_cmd_prefix": "rm(",
     "library": "var_list.r",
     "varRefreshCmd": "cat(var_dic_list()) "
    }
   },
   "types_to_exclude": [
    "module",
    "function",
    "builtin_function_or_method",
    "instance",
    "_Feature"
   ],
   "window_display": false
  }
 },
 "nbformat": 4,
 "nbformat_minor": 5
}
