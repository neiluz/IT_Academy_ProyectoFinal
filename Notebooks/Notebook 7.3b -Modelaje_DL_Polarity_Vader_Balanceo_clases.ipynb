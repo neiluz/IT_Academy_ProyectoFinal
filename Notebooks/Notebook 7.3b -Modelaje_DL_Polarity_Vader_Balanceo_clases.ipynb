{
  "cells": [
    {
      "cell_type": "markdown",
      "metadata": {
        "id": "16c2fb79"
      },
      "source": [
        "<div style=\"background-color: #1DA1F2; padding: 20px;\"><b><h1> Descifrando el lenguaje emocional en Twitter: Un análisis predictivo basado en aprendizaje automático. </h1></b></div>"
      ],
      "id": "16c2fb79"
    },
    {
      "cell_type": "markdown",
      "metadata": {
        "id": "98964068"
      },
      "source": [
        "**Autor**: Neivys Luz González Gómez"
      ],
      "id": "98964068"
    },
    {
      "cell_type": "markdown",
      "metadata": {
        "id": "e688086f"
      },
      "source": [
        "La identificación de emociones es una tarea fundamental en el campo del procesamiento de lenguaje natural, que se enfoca en clasificar textos según su tono emocional. A pesar de que el objetivo es identificar una amplia variedad de emociones humanas, la mayoría de los conjuntos de datos disponibles se limitan a las polaridades positiva, negativa y, en ocasiones, neutral.\n",
        "\n",
        "Detectar emociones a partir de textos es un reto complejo en el procesamiento del lenguaje natural, ya que se trata de un problema de clasificación multiclase y, en muchas ocasiones, no hay suficientes datos etiquetados disponibles. Sin embargo, este conjunto de datos etiquetado proporciona la oportunidad de aplicar diversas técnicas de análisis exploratorio y modelado para entender mejor la dinámica emocional en las redes sociales y mejorar la capacidad de detección en tiempo real.\n",
        "\n",
        "El conjunto de datos de emociones se obtiene a partir de mensajes en inglés de Twitter y contiene seis emociones básicas: neutralidad, preocupación, felicidad, tristeza, amor, sorpresa, diversión, alivio, odio, vacío, entusiasmo y aburrimiento. Este conjunto de datos ofrece una variedad más amplia de emociones humanas, lo que permite el entrenamiento y la evaluación de modelos de análisis de sentimientos con mayor precisión y exhaustividad."
      ],
      "id": "e688086f"
    },
    {
      "cell_type": "markdown",
      "metadata": {
        "id": "5338c1f3"
      },
      "source": [
        "<div class=\"alert alert-info alert-info\"><b><h3>Objetivo General</h3></b>\n",
        "    \n",
        "**Desarrollar un modelo que permita detectar emociones en los tweets y analizar patrones en el lenguaje utilizado en Twitter para ayudar en la detección temprana de trastornos emocionales como la depresión, la ansiedad, entre otros.**\n",
        "</div>"
      ],
      "id": "5338c1f3"
    },
    {
      "cell_type": "markdown",
      "metadata": {
        "id": "e3a51b43"
      },
      "source": [
        "---"
      ],
      "id": "e3a51b43"
    },
    {
      "cell_type": "markdown",
      "metadata": {
        "id": "933c744d"
      },
      "source": [
        "# Notebook N° 7: Modelo Deep Learning con el modelo pre entrenado Bert - Polarity Vader "
      ],
      "id": "933c744d"
    },
    {
      "cell_type": "markdown",
      "metadata": {
        "id": "204a79b8"
      },
      "source": [
        "<div class=\"alert alert-block alert-warning\">\n",
        "<b><h1>Descripción de las Variables</h1></b> \n",
        "</div>"
      ],
      "id": "204a79b8"
    },
    {
      "cell_type": "markdown",
      "metadata": {
        "id": "42b56a3d"
      },
      "source": [
        "Se dispone de un conjunto de datos proveniente de data.world, una plataforma que proporciona acceso a conjuntos de datos públicos. Este dataset consiste en una colección de tweets etiquetados con la emoción que expresan. Contiene cuatro columnas que incluyen el identificador del tweet, el sentimiento expresado, el autor y el contenido del tweet. En total, se tienen 40,000 registros con anotaciones para 13 emociones distintas. "
      ],
      "id": "42b56a3d"
    },
    {
      "cell_type": "markdown",
      "metadata": {
        "id": "6febfa72"
      },
      "source": [
        "![Notebook.jpg](data:image/jpeg;base64,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)\n",
        "\n"
      ],
      "id": "6febfa72"
    },
    {
      "cell_type": "markdown",
      "metadata": {
        "id": "607dfa75"
      },
      "source": [
        "En este notebook se presenta la evaluación del modelo pre-entrenado Bert en la tarea de clasificación de sentimientos en tweets. Para ello, se utilizó un dataset preprocesado en el que las emociones originales fueron transformadas mediante el análisis de sentimiento de Polaridad de Varder.\n",
        "\n",
        "El modelo implementado es un clasificador de texto basado en técnicas de aprendizaje profundo (deep learning) que utiliza el modelo pre-entrenado BERT para clasificar los tweets en tres categorías: positivo, negativo y neutral. BERT, acrónimo de Bidirectional Encoder Representations from Transformers, es un modelo de lenguaje basado en Transformers que fue pre-entrenado en enormes cantidades de datos textuales, lo que le permite capturar patrones complejos en el lenguaje. Al utilizar un modelo pre-entrenado como BERT, se pueden obtener mejores resultados con menos datos de entrenamiento y menos tiempo de entrenamiento. "
      ],
      "id": "607dfa75"
    },
    {
      "cell_type": "code",
      "source": [
        "from google.colab import drive\n",
        "drive.mount('/content/drive')"
      ],
      "metadata": {
        "colab": {
          "base_uri": "https://localhost:8080/"
        },
        "id": "hfNTUNrmCjYx",
        "outputId": "92f1b75d-7f74-49f6-f557-fa260e6d8b60"
      },
      "id": "hfNTUNrmCjYx",
      "execution_count": 2,
      "outputs": [
        {
          "output_type": "stream",
          "name": "stdout",
          "text": [
            "Mounted at /content/drive\n"
          ]
        }
      ]
    },
    {
      "cell_type": "code",
      "execution_count": 3,
      "metadata": {
        "colab": {
          "base_uri": "https://localhost:8080/"
        },
        "id": "oTIKAvLWBRpH",
        "outputId": "bee18db8-0fbc-422e-ac98-46046c7561a8"
      },
      "outputs": [
        {
          "output_type": "stream",
          "name": "stdout",
          "text": [
            "Looking in indexes: https://pypi.org/simple, https://us-python.pkg.dev/colab-wheels/public/simple/\n",
            "Collecting transformers\n",
            "  Downloading transformers-4.27.4-py3-none-any.whl (6.8 MB)\n",
            "\u001b[2K     \u001b[90m━━━━━━━━━━━━━━━━━━━━━━━━━━━━━━━━━━━━━━━━\u001b[0m \u001b[32m6.8/6.8 MB\u001b[0m \u001b[31m82.4 MB/s\u001b[0m eta \u001b[36m0:00:00\u001b[0m\n",
            "\u001b[?25hRequirement already satisfied: filelock in /usr/local/lib/python3.9/dist-packages (from transformers) (3.10.7)\n",
            "Requirement already satisfied: regex!=2019.12.17 in /usr/local/lib/python3.9/dist-packages (from transformers) (2022.10.31)\n",
            "Requirement already satisfied: pyyaml>=5.1 in /usr/local/lib/python3.9/dist-packages (from transformers) (6.0)\n",
            "Requirement already satisfied: packaging>=20.0 in /usr/local/lib/python3.9/dist-packages (from transformers) (23.0)\n",
            "Collecting huggingface-hub<1.0,>=0.11.0\n",
            "  Downloading huggingface_hub-0.13.4-py3-none-any.whl (200 kB)\n",
            "\u001b[2K     \u001b[90m━━━━━━━━━━━━━━━━━━━━━━━━━━━━━━━━━━━━━━\u001b[0m \u001b[32m200.1/200.1 KB\u001b[0m \u001b[31m24.0 MB/s\u001b[0m eta \u001b[36m0:00:00\u001b[0m\n",
            "\u001b[?25hRequirement already satisfied: tqdm>=4.27 in /usr/local/lib/python3.9/dist-packages (from transformers) (4.65.0)\n",
            "Requirement already satisfied: numpy>=1.17 in /usr/local/lib/python3.9/dist-packages (from transformers) (1.22.4)\n",
            "Requirement already satisfied: requests in /usr/local/lib/python3.9/dist-packages (from transformers) (2.27.1)\n",
            "Collecting tokenizers!=0.11.3,<0.14,>=0.11.1\n",
            "  Downloading tokenizers-0.13.3-cp39-cp39-manylinux_2_17_x86_64.manylinux2014_x86_64.whl (7.8 MB)\n",
            "\u001b[2K     \u001b[90m━━━━━━━━━━━━━━━━━━━━━━━━━━━━━━━━━━━━━━━━\u001b[0m \u001b[32m7.8/7.8 MB\u001b[0m \u001b[31m101.7 MB/s\u001b[0m eta \u001b[36m0:00:00\u001b[0m\n",
            "\u001b[?25hRequirement already satisfied: typing-extensions>=3.7.4.3 in /usr/local/lib/python3.9/dist-packages (from huggingface-hub<1.0,>=0.11.0->transformers) (4.5.0)\n",
            "Requirement already satisfied: charset-normalizer~=2.0.0 in /usr/local/lib/python3.9/dist-packages (from requests->transformers) (2.0.12)\n",
            "Requirement already satisfied: idna<4,>=2.5 in /usr/local/lib/python3.9/dist-packages (from requests->transformers) (3.4)\n",
            "Requirement already satisfied: certifi>=2017.4.17 in /usr/local/lib/python3.9/dist-packages (from requests->transformers) (2022.12.7)\n",
            "Requirement already satisfied: urllib3<1.27,>=1.21.1 in /usr/local/lib/python3.9/dist-packages (from requests->transformers) (1.26.15)\n",
            "Installing collected packages: tokenizers, huggingface-hub, transformers\n",
            "Successfully installed huggingface-hub-0.13.4 tokenizers-0.13.3 transformers-4.27.4\n"
          ]
        }
      ],
      "source": [
        "pip install transformers"
      ],
      "id": "oTIKAvLWBRpH"
    },
    {
      "cell_type": "markdown",
      "metadata": {
        "id": "b8ad62d6"
      },
      "source": [
        "---"
      ],
      "id": "b8ad62d6"
    },
    {
      "cell_type": "code",
      "execution_count": 4,
      "metadata": {
        "id": "eebecf44"
      },
      "outputs": [],
      "source": [
        "# general purpose packages\n",
        "import numpy as np\n",
        "import pandas as pd\n",
        "import tensorflow as tf\n",
        "import matplotlib.pyplot as plt\n",
        "import seaborn as sns\n",
        "\n",
        "#data processing\n",
        "import re, string\n",
        "import nltk\n",
        "\n",
        "from sklearn import preprocessing\n",
        "from imblearn.over_sampling import RandomOverSampler\n",
        "from sklearn.model_selection import train_test_split\n",
        "\n",
        "\n",
        "#transformers\n",
        "from transformers import BertTokenizerFast\n",
        "from transformers import TFBertModel\n",
        "from transformers import RobertaTokenizerFast\n",
        "from transformers import TFRobertaModel\n",
        "\n",
        "#keras\n",
        "import tensorflow as tf\n",
        "from tensorflow import keras\n",
        "\n",
        "#metrics\n",
        "from sklearn.metrics import accuracy_score, f1_score\n",
        "from sklearn.metrics import classification_report, confusion_matrix\n",
        "\n",
        "#set seed for reproducibility\n",
        "seed=42\n",
        "\n",
        "import warnings\n",
        "warnings.filterwarnings('ignore')"
      ],
      "id": "eebecf44"
    },
    {
      "cell_type": "code",
      "source": [
        "device_name = tf.test.gpu_device_name()\n",
        "if device_name != '/device:GPU:0':\n",
        "  raise SystemError('GPU device not found')\n",
        "print('Found GPU at: {}'.format(device_name))"
      ],
      "metadata": {
        "colab": {
          "base_uri": "https://localhost:8080/"
        },
        "id": "bUsN6uL6hsna",
        "outputId": "e54c0398-ddb0-4039-d67c-f8ea0a64663a"
      },
      "id": "bUsN6uL6hsna",
      "execution_count": 5,
      "outputs": [
        {
          "output_type": "stream",
          "name": "stdout",
          "text": [
            "Found GPU at: /device:GPU:0\n"
          ]
        }
      ]
    },
    {
      "cell_type": "markdown",
      "metadata": {
        "id": "af241c3e"
      },
      "source": [
        "---"
      ],
      "id": "af241c3e"
    },
    {
      "cell_type": "markdown",
      "metadata": {
        "id": "023cc194"
      },
      "source": [
        "<div class=\"alert alert-block alert-info\">\n",
        "<b><h2> Cargar Dataset.</h2></b> \n",
        "</div>"
      ],
      "id": "023cc194"
    },
    {
      "cell_type": "code",
      "execution_count": 7,
      "metadata": {
        "id": "97f07eab"
      },
      "outputs": [],
      "source": [
        "df3 = pd.read_pickle('/content/dataset3.pickle')"
      ],
      "id": "97f07eab"
    },
    {
      "cell_type": "code",
      "execution_count": 8,
      "metadata": {
        "colab": {
          "base_uri": "https://localhost:8080/",
          "height": 423
        },
        "id": "b92b8fdd",
        "outputId": "d86f959b-861d-4d39-aade-282b7ff651f0"
      },
      "outputs": [
        {
          "output_type": "execute_result",
          "data": {
            "text/plain": [
              "                                                 content  polarity_vader\n",
              "0                   layin bed headache ughhhhwaitin call               1\n",
              "1                          funeral ceremonygloomy friday               0\n",
              "2                                  want hang friend soon               2\n",
              "3                  want trade someone houston ticket one               1\n",
              "4        repinging didnt go prom bc bf didnt like friend               0\n",
              "...                                                  ...             ...\n",
              "38983                        succesfully following tayla               1\n",
              "38984                              happy mother day love               2\n",
              "38985  happy mother day mommy woman man long youre mo...               2\n",
              "38986  wassup beautiful follow peep new hit single ww...               2\n",
              "38987  bullet train tokyo gf visiting japan since thu...               1\n",
              "\n",
              "[38988 rows x 2 columns]"
            ],
            "text/html": [
              "\n",
              "  <div id=\"df-10b4b476-0626-4687-98a8-222359aaea37\">\n",
              "    <div class=\"colab-df-container\">\n",
              "      <div>\n",
              "<style scoped>\n",
              "    .dataframe tbody tr th:only-of-type {\n",
              "        vertical-align: middle;\n",
              "    }\n",
              "\n",
              "    .dataframe tbody tr th {\n",
              "        vertical-align: top;\n",
              "    }\n",
              "\n",
              "    .dataframe thead th {\n",
              "        text-align: right;\n",
              "    }\n",
              "</style>\n",
              "<table border=\"1\" class=\"dataframe\">\n",
              "  <thead>\n",
              "    <tr style=\"text-align: right;\">\n",
              "      <th></th>\n",
              "      <th>content</th>\n",
              "      <th>polarity_vader</th>\n",
              "    </tr>\n",
              "  </thead>\n",
              "  <tbody>\n",
              "    <tr>\n",
              "      <th>0</th>\n",
              "      <td>layin bed headache ughhhhwaitin call</td>\n",
              "      <td>1</td>\n",
              "    </tr>\n",
              "    <tr>\n",
              "      <th>1</th>\n",
              "      <td>funeral ceremonygloomy friday</td>\n",
              "      <td>0</td>\n",
              "    </tr>\n",
              "    <tr>\n",
              "      <th>2</th>\n",
              "      <td>want hang friend soon</td>\n",
              "      <td>2</td>\n",
              "    </tr>\n",
              "    <tr>\n",
              "      <th>3</th>\n",
              "      <td>want trade someone houston ticket one</td>\n",
              "      <td>1</td>\n",
              "    </tr>\n",
              "    <tr>\n",
              "      <th>4</th>\n",
              "      <td>repinging didnt go prom bc bf didnt like friend</td>\n",
              "      <td>0</td>\n",
              "    </tr>\n",
              "    <tr>\n",
              "      <th>...</th>\n",
              "      <td>...</td>\n",
              "      <td>...</td>\n",
              "    </tr>\n",
              "    <tr>\n",
              "      <th>38983</th>\n",
              "      <td>succesfully following tayla</td>\n",
              "      <td>1</td>\n",
              "    </tr>\n",
              "    <tr>\n",
              "      <th>38984</th>\n",
              "      <td>happy mother day love</td>\n",
              "      <td>2</td>\n",
              "    </tr>\n",
              "    <tr>\n",
              "      <th>38985</th>\n",
              "      <td>happy mother day mommy woman man long youre mo...</td>\n",
              "      <td>2</td>\n",
              "    </tr>\n",
              "    <tr>\n",
              "      <th>38986</th>\n",
              "      <td>wassup beautiful follow peep new hit single ww...</td>\n",
              "      <td>2</td>\n",
              "    </tr>\n",
              "    <tr>\n",
              "      <th>38987</th>\n",
              "      <td>bullet train tokyo gf visiting japan since thu...</td>\n",
              "      <td>1</td>\n",
              "    </tr>\n",
              "  </tbody>\n",
              "</table>\n",
              "<p>38988 rows × 2 columns</p>\n",
              "</div>\n",
              "      <button class=\"colab-df-convert\" onclick=\"convertToInteractive('df-10b4b476-0626-4687-98a8-222359aaea37')\"\n",
              "              title=\"Convert this dataframe to an interactive table.\"\n",
              "              style=\"display:none;\">\n",
              "        \n",
              "  <svg xmlns=\"http://www.w3.org/2000/svg\" height=\"24px\"viewBox=\"0 0 24 24\"\n",
              "       width=\"24px\">\n",
              "    <path d=\"M0 0h24v24H0V0z\" fill=\"none\"/>\n",
              "    <path d=\"M18.56 5.44l.94 2.06.94-2.06 2.06-.94-2.06-.94-.94-2.06-.94 2.06-2.06.94zm-11 1L8.5 8.5l.94-2.06 2.06-.94-2.06-.94L8.5 2.5l-.94 2.06-2.06.94zm10 10l.94 2.06.94-2.06 2.06-.94-2.06-.94-.94-2.06-.94 2.06-2.06.94z\"/><path d=\"M17.41 7.96l-1.37-1.37c-.4-.4-.92-.59-1.43-.59-.52 0-1.04.2-1.43.59L10.3 9.45l-7.72 7.72c-.78.78-.78 2.05 0 2.83L4 21.41c.39.39.9.59 1.41.59.51 0 1.02-.2 1.41-.59l7.78-7.78 2.81-2.81c.8-.78.8-2.07 0-2.86zM5.41 20L4 18.59l7.72-7.72 1.47 1.35L5.41 20z\"/>\n",
              "  </svg>\n",
              "      </button>\n",
              "      \n",
              "  <style>\n",
              "    .colab-df-container {\n",
              "      display:flex;\n",
              "      flex-wrap:wrap;\n",
              "      gap: 12px;\n",
              "    }\n",
              "\n",
              "    .colab-df-convert {\n",
              "      background-color: #E8F0FE;\n",
              "      border: none;\n",
              "      border-radius: 50%;\n",
              "      cursor: pointer;\n",
              "      display: none;\n",
              "      fill: #1967D2;\n",
              "      height: 32px;\n",
              "      padding: 0 0 0 0;\n",
              "      width: 32px;\n",
              "    }\n",
              "\n",
              "    .colab-df-convert:hover {\n",
              "      background-color: #E2EBFA;\n",
              "      box-shadow: 0px 1px 2px rgba(60, 64, 67, 0.3), 0px 1px 3px 1px rgba(60, 64, 67, 0.15);\n",
              "      fill: #174EA6;\n",
              "    }\n",
              "\n",
              "    [theme=dark] .colab-df-convert {\n",
              "      background-color: #3B4455;\n",
              "      fill: #D2E3FC;\n",
              "    }\n",
              "\n",
              "    [theme=dark] .colab-df-convert:hover {\n",
              "      background-color: #434B5C;\n",
              "      box-shadow: 0px 1px 3px 1px rgba(0, 0, 0, 0.15);\n",
              "      filter: drop-shadow(0px 1px 2px rgba(0, 0, 0, 0.3));\n",
              "      fill: #FFFFFF;\n",
              "    }\n",
              "  </style>\n",
              "\n",
              "      <script>\n",
              "        const buttonEl =\n",
              "          document.querySelector('#df-10b4b476-0626-4687-98a8-222359aaea37 button.colab-df-convert');\n",
              "        buttonEl.style.display =\n",
              "          google.colab.kernel.accessAllowed ? 'block' : 'none';\n",
              "\n",
              "        async function convertToInteractive(key) {\n",
              "          const element = document.querySelector('#df-10b4b476-0626-4687-98a8-222359aaea37');\n",
              "          const dataTable =\n",
              "            await google.colab.kernel.invokeFunction('convertToInteractive',\n",
              "                                                     [key], {});\n",
              "          if (!dataTable) return;\n",
              "\n",
              "          const docLinkHtml = 'Like what you see? Visit the ' +\n",
              "            '<a target=\"_blank\" href=https://colab.research.google.com/notebooks/data_table.ipynb>data table notebook</a>'\n",
              "            + ' to learn more about interactive tables.';\n",
              "          element.innerHTML = '';\n",
              "          dataTable['output_type'] = 'display_data';\n",
              "          await google.colab.output.renderOutput(dataTable, element);\n",
              "          const docLink = document.createElement('div');\n",
              "          docLink.innerHTML = docLinkHtml;\n",
              "          element.appendChild(docLink);\n",
              "        }\n",
              "      </script>\n",
              "    </div>\n",
              "  </div>\n",
              "  "
            ]
          },
          "metadata": {},
          "execution_count": 8
        }
      ],
      "source": [
        "df3"
      ],
      "id": "b92b8fdd"
    },
    {
      "cell_type": "markdown",
      "metadata": {
        "id": "d25b6fb8"
      },
      "source": [
        "## 1. Preparación del Dataset"
      ],
      "id": "d25b6fb8"
    },
    {
      "cell_type": "code",
      "execution_count": 9,
      "metadata": {
        "colab": {
          "base_uri": "https://localhost:8080/"
        },
        "id": "537e7eb7",
        "outputId": "5f26fbb0-994b-4c46-8a98-cb462f3501c6"
      },
      "outputs": [
        {
          "output_type": "stream",
          "name": "stdout",
          "text": [
            "<class 'pandas.core.frame.DataFrame'>\n",
            "RangeIndex: 38988 entries, 0 to 38987\n",
            "Data columns (total 2 columns):\n",
            " #   Column          Non-Null Count  Dtype \n",
            "---  ------          --------------  ----- \n",
            " 0   content         38988 non-null  object\n",
            " 1   polarity_vader  38988 non-null  int32 \n",
            "dtypes: int32(1), object(1)\n",
            "memory usage: 457.0+ KB\n"
          ]
        }
      ],
      "source": [
        "df3.info()"
      ],
      "id": "537e7eb7"
    },
    {
      "cell_type": "markdown",
      "metadata": {
        "id": "47e6d913"
      },
      "source": [
        "### 1.1 Verificar nulos y NaM"
      ],
      "id": "47e6d913"
    },
    {
      "cell_type": "code",
      "execution_count": 10,
      "metadata": {
        "colab": {
          "base_uri": "https://localhost:8080/"
        },
        "id": "0f5b13b2",
        "outputId": "d2a17bb9-46f2-4f93-8acd-11070f378327"
      },
      "outputs": [
        {
          "output_type": "execute_result",
          "data": {
            "text/plain": [
              "content           0\n",
              "polarity_vader    0\n",
              "dtype: int64"
            ]
          },
          "metadata": {},
          "execution_count": 10
        }
      ],
      "source": [
        "df3.isnull().sum()"
      ],
      "id": "0f5b13b2"
    },
    {
      "cell_type": "code",
      "execution_count": 11,
      "metadata": {
        "colab": {
          "base_uri": "https://localhost:8080/"
        },
        "id": "74d92952",
        "outputId": "0891096d-27b1-4587-f538-c4e0fd74b742"
      },
      "outputs": [
        {
          "output_type": "execute_result",
          "data": {
            "text/plain": [
              "content           0\n",
              "polarity_vader    0\n",
              "dtype: int64"
            ]
          },
          "metadata": {},
          "execution_count": 11
        }
      ],
      "source": [
        "df3.isna().sum()"
      ],
      "id": "74d92952"
    },
    {
      "cell_type": "markdown",
      "metadata": {
        "id": "0REXnHH4DELV"
      },
      "source": [
        "* **Longitud del texto**"
      ],
      "id": "0REXnHH4DELV"
    },
    {
      "cell_type": "markdown",
      "metadata": {
        "id": "aZNdqMhuC2Jj"
      },
      "source": [
        "Se crea una columna para alojar la longitud del texto limpio"
      ],
      "id": "aZNdqMhuC2Jj"
    },
    {
      "cell_type": "code",
      "execution_count": 12,
      "metadata": {
        "id": "8FDg5atYC0cl"
      },
      "outputs": [],
      "source": [
        "text_len = []\n",
        "for text in df3.content :\n",
        "    tweet_len = len(text.split())\n",
        "    text_len.append(tweet_len)"
      ],
      "id": "8FDg5atYC0cl"
    },
    {
      "cell_type": "code",
      "execution_count": 13,
      "metadata": {
        "id": "HpQFure2C0SC"
      },
      "outputs": [],
      "source": [
        "df3['text_len'] = text_len"
      ],
      "id": "HpQFure2C0SC"
    },
    {
      "cell_type": "code",
      "execution_count": 14,
      "metadata": {
        "colab": {
          "base_uri": "https://localhost:8080/",
          "height": 206
        },
        "id": "3dlkUBvwDwvZ",
        "outputId": "6640ed8b-6880-4306-a688-0116252d205d"
      },
      "outputs": [
        {
          "output_type": "execute_result",
          "data": {
            "text/plain": [
              "                                           content  polarity_vader  text_len\n",
              "0             layin bed headache ughhhhwaitin call               1         5\n",
              "1                    funeral ceremonygloomy friday               0         3\n",
              "2                            want hang friend soon               2         4\n",
              "3            want trade someone houston ticket one               1         6\n",
              "4  repinging didnt go prom bc bf didnt like friend               0         9"
            ],
            "text/html": [
              "\n",
              "  <div id=\"df-85913e37-a6a6-4ebe-b1a0-1cbb5bb91156\">\n",
              "    <div class=\"colab-df-container\">\n",
              "      <div>\n",
              "<style scoped>\n",
              "    .dataframe tbody tr th:only-of-type {\n",
              "        vertical-align: middle;\n",
              "    }\n",
              "\n",
              "    .dataframe tbody tr th {\n",
              "        vertical-align: top;\n",
              "    }\n",
              "\n",
              "    .dataframe thead th {\n",
              "        text-align: right;\n",
              "    }\n",
              "</style>\n",
              "<table border=\"1\" class=\"dataframe\">\n",
              "  <thead>\n",
              "    <tr style=\"text-align: right;\">\n",
              "      <th></th>\n",
              "      <th>content</th>\n",
              "      <th>polarity_vader</th>\n",
              "      <th>text_len</th>\n",
              "    </tr>\n",
              "  </thead>\n",
              "  <tbody>\n",
              "    <tr>\n",
              "      <th>0</th>\n",
              "      <td>layin bed headache ughhhhwaitin call</td>\n",
              "      <td>1</td>\n",
              "      <td>5</td>\n",
              "    </tr>\n",
              "    <tr>\n",
              "      <th>1</th>\n",
              "      <td>funeral ceremonygloomy friday</td>\n",
              "      <td>0</td>\n",
              "      <td>3</td>\n",
              "    </tr>\n",
              "    <tr>\n",
              "      <th>2</th>\n",
              "      <td>want hang friend soon</td>\n",
              "      <td>2</td>\n",
              "      <td>4</td>\n",
              "    </tr>\n",
              "    <tr>\n",
              "      <th>3</th>\n",
              "      <td>want trade someone houston ticket one</td>\n",
              "      <td>1</td>\n",
              "      <td>6</td>\n",
              "    </tr>\n",
              "    <tr>\n",
              "      <th>4</th>\n",
              "      <td>repinging didnt go prom bc bf didnt like friend</td>\n",
              "      <td>0</td>\n",
              "      <td>9</td>\n",
              "    </tr>\n",
              "  </tbody>\n",
              "</table>\n",
              "</div>\n",
              "      <button class=\"colab-df-convert\" onclick=\"convertToInteractive('df-85913e37-a6a6-4ebe-b1a0-1cbb5bb91156')\"\n",
              "              title=\"Convert this dataframe to an interactive table.\"\n",
              "              style=\"display:none;\">\n",
              "        \n",
              "  <svg xmlns=\"http://www.w3.org/2000/svg\" height=\"24px\"viewBox=\"0 0 24 24\"\n",
              "       width=\"24px\">\n",
              "    <path d=\"M0 0h24v24H0V0z\" fill=\"none\"/>\n",
              "    <path d=\"M18.56 5.44l.94 2.06.94-2.06 2.06-.94-2.06-.94-.94-2.06-.94 2.06-2.06.94zm-11 1L8.5 8.5l.94-2.06 2.06-.94-2.06-.94L8.5 2.5l-.94 2.06-2.06.94zm10 10l.94 2.06.94-2.06 2.06-.94-2.06-.94-.94-2.06-.94 2.06-2.06.94z\"/><path d=\"M17.41 7.96l-1.37-1.37c-.4-.4-.92-.59-1.43-.59-.52 0-1.04.2-1.43.59L10.3 9.45l-7.72 7.72c-.78.78-.78 2.05 0 2.83L4 21.41c.39.39.9.59 1.41.59.51 0 1.02-.2 1.41-.59l7.78-7.78 2.81-2.81c.8-.78.8-2.07 0-2.86zM5.41 20L4 18.59l7.72-7.72 1.47 1.35L5.41 20z\"/>\n",
              "  </svg>\n",
              "      </button>\n",
              "      \n",
              "  <style>\n",
              "    .colab-df-container {\n",
              "      display:flex;\n",
              "      flex-wrap:wrap;\n",
              "      gap: 12px;\n",
              "    }\n",
              "\n",
              "    .colab-df-convert {\n",
              "      background-color: #E8F0FE;\n",
              "      border: none;\n",
              "      border-radius: 50%;\n",
              "      cursor: pointer;\n",
              "      display: none;\n",
              "      fill: #1967D2;\n",
              "      height: 32px;\n",
              "      padding: 0 0 0 0;\n",
              "      width: 32px;\n",
              "    }\n",
              "\n",
              "    .colab-df-convert:hover {\n",
              "      background-color: #E2EBFA;\n",
              "      box-shadow: 0px 1px 2px rgba(60, 64, 67, 0.3), 0px 1px 3px 1px rgba(60, 64, 67, 0.15);\n",
              "      fill: #174EA6;\n",
              "    }\n",
              "\n",
              "    [theme=dark] .colab-df-convert {\n",
              "      background-color: #3B4455;\n",
              "      fill: #D2E3FC;\n",
              "    }\n",
              "\n",
              "    [theme=dark] .colab-df-convert:hover {\n",
              "      background-color: #434B5C;\n",
              "      box-shadow: 0px 1px 3px 1px rgba(0, 0, 0, 0.15);\n",
              "      filter: drop-shadow(0px 1px 2px rgba(0, 0, 0, 0.3));\n",
              "      fill: #FFFFFF;\n",
              "    }\n",
              "  </style>\n",
              "\n",
              "      <script>\n",
              "        const buttonEl =\n",
              "          document.querySelector('#df-85913e37-a6a6-4ebe-b1a0-1cbb5bb91156 button.colab-df-convert');\n",
              "        buttonEl.style.display =\n",
              "          google.colab.kernel.accessAllowed ? 'block' : 'none';\n",
              "\n",
              "        async function convertToInteractive(key) {\n",
              "          const element = document.querySelector('#df-85913e37-a6a6-4ebe-b1a0-1cbb5bb91156');\n",
              "          const dataTable =\n",
              "            await google.colab.kernel.invokeFunction('convertToInteractive',\n",
              "                                                     [key], {});\n",
              "          if (!dataTable) return;\n",
              "\n",
              "          const docLinkHtml = 'Like what you see? Visit the ' +\n",
              "            '<a target=\"_blank\" href=https://colab.research.google.com/notebooks/data_table.ipynb>data table notebook</a>'\n",
              "            + ' to learn more about interactive tables.';\n",
              "          element.innerHTML = '';\n",
              "          dataTable['output_type'] = 'display_data';\n",
              "          await google.colab.output.renderOutput(dataTable, element);\n",
              "          const docLink = document.createElement('div');\n",
              "          docLink.innerHTML = docLinkHtml;\n",
              "          element.appendChild(docLink);\n",
              "        }\n",
              "      </script>\n",
              "    </div>\n",
              "  </div>\n",
              "  "
            ]
          },
          "metadata": {},
          "execution_count": 14
        }
      ],
      "source": [
        "df3.head()"
      ],
      "id": "3dlkUBvwDwvZ"
    },
    {
      "cell_type": "markdown",
      "metadata": {
        "id": "v47b322UFcl4"
      },
      "source": [
        "### 1.3 Limpieza más profunda"
      ],
      "id": "v47b322UFcl4"
    },
    {
      "cell_type": "markdown",
      "metadata": {
        "id": "k7VLuv8LI7cK"
      },
      "source": [
        "Se realizará si se puede reañizar una limpieza adicional verificando la versión tokenizadora de las oraciones."
      ],
      "id": "k7VLuv8LI7cK"
    },
    {
      "cell_type": "markdown",
      "metadata": {
        "id": "v70y9tVdJJSB"
      },
      "source": [
        "* **Primero, importar el tokenizador BERT.**"
      ],
      "id": "v70y9tVdJJSB"
    },
    {
      "cell_type": "code",
      "execution_count": 15,
      "metadata": {
        "id": "d1JbgapfI6lK",
        "colab": {
          "base_uri": "https://localhost:8080/",
          "height": 145,
          "referenced_widgets": [
            "02661a46277a48998fda16607d4c9cac",
            "b06c21baa9c84da0a31a91099ffd9780",
            "baf9f49c8d664bd187270c29ca8881b3",
            "6e1db000b566493c8867a29933ce6c4a",
            "7e6dec0ba0214e87871d26050b26cd26",
            "57c802f8fd2141f1b83fa7caf4da5c9b",
            "f73afddf43e840cda3385ab603018255",
            "a360a5be0ca74368ae3d06c7eafeee8e",
            "890dbd5094ea4fc8a928d8bf5ac50eb0",
            "c44b27391dd9481394361500566a4c63",
            "2191541aeb6d4c5e87fba57e5cd65cc3",
            "983d39f6d4d543abb9c1bb394465a891",
            "56d923b737134e95871fbaa2ac393ade",
            "0567ff6d59414f24993c23071a016ab1",
            "ee1755f7662d449e8a3238268a53675b",
            "00563b8ef9d5426cb3d2ea0b8f9ffca5",
            "7f249aac64a54397822837faf9a298c2",
            "818b9196c8b3495e9108db084c5ee13f",
            "4f80e1c0e1c642c4a2ebd055242b99d4",
            "b66b3128549844efa1724ef1faf4aa81",
            "240fe6ed43854506805d538f0a028cbb",
            "8d02000f918e4a27b67cad4202f50894",
            "d249f2e16c0e405085dae865ceed360e",
            "e34b723e5e2c4c898e325a2519be54d8",
            "f5e9e25fb11a4e0ea777d4579a1ddb55",
            "9fa10c83c98440dba64c8b09d44d7a4d",
            "6fc1132065424b379a43feac82c4b365",
            "e5e4a000b285470bb82949c901b8e22d",
            "41b35714af414568949acb530cabecfa",
            "99a916ebd9ba4df3aaef8b6f6806d34e",
            "eb562568fd8a42d58dcc70b0d0619572",
            "656b3099cfbd47eda6cbeca9309fc0f9",
            "acc3842b4e2640ccb36ccafde88d2994",
            "c64998a81e7541ea9ec3ed16c0b09214",
            "6205c98b260e47aaa1291fa454c7c39d",
            "a387a0b50ec4490786b2550d20b76335",
            "cd70bcad91c54896b4f32f3686473516",
            "7d4e84d54e7643aabd275b4935419a4b",
            "929712b9ab724b3baca58103025b4368",
            "774746108e824e6b9a49aac2ca5ee868",
            "3c5e949acab44a17bc13460a2588bc92",
            "508733bf64b545358e38b35e7ea8d801",
            "13a9f8f865d746c3af5c1abd5f94fb32",
            "fc00d7427d224b4cb524d7a8ed31293f"
          ]
        },
        "outputId": "a2232108-ad63-4d81-bc57-63bca3849418"
      },
      "outputs": [
        {
          "output_type": "display_data",
          "data": {
            "text/plain": [
              "Downloading (…)okenizer_config.json:   0%|          | 0.00/28.0 [00:00<?, ?B/s]"
            ],
            "application/vnd.jupyter.widget-view+json": {
              "version_major": 2,
              "version_minor": 0,
              "model_id": "02661a46277a48998fda16607d4c9cac"
            }
          },
          "metadata": {}
        },
        {
          "output_type": "display_data",
          "data": {
            "text/plain": [
              "Downloading (…)solve/main/vocab.txt:   0%|          | 0.00/232k [00:00<?, ?B/s]"
            ],
            "application/vnd.jupyter.widget-view+json": {
              "version_major": 2,
              "version_minor": 0,
              "model_id": "983d39f6d4d543abb9c1bb394465a891"
            }
          },
          "metadata": {}
        },
        {
          "output_type": "display_data",
          "data": {
            "text/plain": [
              "Downloading (…)/main/tokenizer.json:   0%|          | 0.00/466k [00:00<?, ?B/s]"
            ],
            "application/vnd.jupyter.widget-view+json": {
              "version_major": 2,
              "version_minor": 0,
              "model_id": "d249f2e16c0e405085dae865ceed360e"
            }
          },
          "metadata": {}
        },
        {
          "output_type": "display_data",
          "data": {
            "text/plain": [
              "Downloading (…)lve/main/config.json:   0%|          | 0.00/570 [00:00<?, ?B/s]"
            ],
            "application/vnd.jupyter.widget-view+json": {
              "version_major": 2,
              "version_minor": 0,
              "model_id": "c64998a81e7541ea9ec3ed16c0b09214"
            }
          },
          "metadata": {}
        }
      ],
      "source": [
        "tokenizer = BertTokenizerFast.from_pretrained('bert-base-uncased')"
      ],
      "id": "d1JbgapfI6lK"
    },
    {
      "cell_type": "code",
      "execution_count": 16,
      "metadata": {
        "id": "C8RBwBd6Faew"
      },
      "outputs": [],
      "source": [
        "token_lens = []\n",
        "\n",
        "for txt in df3['content'].values:\n",
        "    tokens = tokenizer.encode(txt, max_length=512, truncation=True)\n",
        "    token_lens.append(len(tokens))\n",
        "    \n",
        "max_len=np.max(token_lens)"
      ],
      "id": "C8RBwBd6Faew"
    },
    {
      "cell_type": "code",
      "execution_count": 17,
      "metadata": {
        "colab": {
          "base_uri": "https://localhost:8080/"
        },
        "id": "MWCITJwlJgS9",
        "outputId": "11020198-6bf7-4f8a-d2e2-fd151d2a13fc"
      },
      "outputs": [
        {
          "output_type": "stream",
          "name": "stdout",
          "text": [
            "Maxima logitud de las oraciones TOKENIZED: 61\n"
          ]
        }
      ],
      "source": [
        "print(f\"Maxima logitud de las oraciones TOKENIZED: {max_len}\")"
      ],
      "id": "MWCITJwlJgS9"
    },
    {
      "cell_type": "code",
      "execution_count": 18,
      "metadata": {
        "id": "Riabc1daKobD"
      },
      "outputs": [],
      "source": [
        "df3['token_lens'] = token_lens"
      ],
      "id": "Riabc1daKobD"
    },
    {
      "cell_type": "code",
      "execution_count": 19,
      "metadata": {
        "colab": {
          "base_uri": "https://localhost:8080/",
          "height": 206
        },
        "id": "Kcafjl5TKdWI",
        "outputId": "b42e9fe3-374e-4670-93fc-739268ce14ca"
      },
      "outputs": [
        {
          "output_type": "execute_result",
          "data": {
            "text/plain": [
              "                                           content  polarity_vader  text_len  \\\n",
              "0             layin bed headache ughhhhwaitin call               1         5   \n",
              "1                    funeral ceremonygloomy friday               0         3   \n",
              "2                            want hang friend soon               2         4   \n",
              "3            want trade someone houston ticket one               1         6   \n",
              "4  repinging didnt go prom bc bf didnt like friend               0         9   \n",
              "\n",
              "   token_lens  \n",
              "0          13  \n",
              "1           8  \n",
              "2           6  \n",
              "3           8  \n",
              "4          14  "
            ],
            "text/html": [
              "\n",
              "  <div id=\"df-b4ebc2b3-34ff-4234-a3ab-24a37c930ed7\">\n",
              "    <div class=\"colab-df-container\">\n",
              "      <div>\n",
              "<style scoped>\n",
              "    .dataframe tbody tr th:only-of-type {\n",
              "        vertical-align: middle;\n",
              "    }\n",
              "\n",
              "    .dataframe tbody tr th {\n",
              "        vertical-align: top;\n",
              "    }\n",
              "\n",
              "    .dataframe thead th {\n",
              "        text-align: right;\n",
              "    }\n",
              "</style>\n",
              "<table border=\"1\" class=\"dataframe\">\n",
              "  <thead>\n",
              "    <tr style=\"text-align: right;\">\n",
              "      <th></th>\n",
              "      <th>content</th>\n",
              "      <th>polarity_vader</th>\n",
              "      <th>text_len</th>\n",
              "      <th>token_lens</th>\n",
              "    </tr>\n",
              "  </thead>\n",
              "  <tbody>\n",
              "    <tr>\n",
              "      <th>0</th>\n",
              "      <td>layin bed headache ughhhhwaitin call</td>\n",
              "      <td>1</td>\n",
              "      <td>5</td>\n",
              "      <td>13</td>\n",
              "    </tr>\n",
              "    <tr>\n",
              "      <th>1</th>\n",
              "      <td>funeral ceremonygloomy friday</td>\n",
              "      <td>0</td>\n",
              "      <td>3</td>\n",
              "      <td>8</td>\n",
              "    </tr>\n",
              "    <tr>\n",
              "      <th>2</th>\n",
              "      <td>want hang friend soon</td>\n",
              "      <td>2</td>\n",
              "      <td>4</td>\n",
              "      <td>6</td>\n",
              "    </tr>\n",
              "    <tr>\n",
              "      <th>3</th>\n",
              "      <td>want trade someone houston ticket one</td>\n",
              "      <td>1</td>\n",
              "      <td>6</td>\n",
              "      <td>8</td>\n",
              "    </tr>\n",
              "    <tr>\n",
              "      <th>4</th>\n",
              "      <td>repinging didnt go prom bc bf didnt like friend</td>\n",
              "      <td>0</td>\n",
              "      <td>9</td>\n",
              "      <td>14</td>\n",
              "    </tr>\n",
              "  </tbody>\n",
              "</table>\n",
              "</div>\n",
              "      <button class=\"colab-df-convert\" onclick=\"convertToInteractive('df-b4ebc2b3-34ff-4234-a3ab-24a37c930ed7')\"\n",
              "              title=\"Convert this dataframe to an interactive table.\"\n",
              "              style=\"display:none;\">\n",
              "        \n",
              "  <svg xmlns=\"http://www.w3.org/2000/svg\" height=\"24px\"viewBox=\"0 0 24 24\"\n",
              "       width=\"24px\">\n",
              "    <path d=\"M0 0h24v24H0V0z\" fill=\"none\"/>\n",
              "    <path d=\"M18.56 5.44l.94 2.06.94-2.06 2.06-.94-2.06-.94-.94-2.06-.94 2.06-2.06.94zm-11 1L8.5 8.5l.94-2.06 2.06-.94-2.06-.94L8.5 2.5l-.94 2.06-2.06.94zm10 10l.94 2.06.94-2.06 2.06-.94-2.06-.94-.94-2.06-.94 2.06-2.06.94z\"/><path d=\"M17.41 7.96l-1.37-1.37c-.4-.4-.92-.59-1.43-.59-.52 0-1.04.2-1.43.59L10.3 9.45l-7.72 7.72c-.78.78-.78 2.05 0 2.83L4 21.41c.39.39.9.59 1.41.59.51 0 1.02-.2 1.41-.59l7.78-7.78 2.81-2.81c.8-.78.8-2.07 0-2.86zM5.41 20L4 18.59l7.72-7.72 1.47 1.35L5.41 20z\"/>\n",
              "  </svg>\n",
              "      </button>\n",
              "      \n",
              "  <style>\n",
              "    .colab-df-container {\n",
              "      display:flex;\n",
              "      flex-wrap:wrap;\n",
              "      gap: 12px;\n",
              "    }\n",
              "\n",
              "    .colab-df-convert {\n",
              "      background-color: #E8F0FE;\n",
              "      border: none;\n",
              "      border-radius: 50%;\n",
              "      cursor: pointer;\n",
              "      display: none;\n",
              "      fill: #1967D2;\n",
              "      height: 32px;\n",
              "      padding: 0 0 0 0;\n",
              "      width: 32px;\n",
              "    }\n",
              "\n",
              "    .colab-df-convert:hover {\n",
              "      background-color: #E2EBFA;\n",
              "      box-shadow: 0px 1px 2px rgba(60, 64, 67, 0.3), 0px 1px 3px 1px rgba(60, 64, 67, 0.15);\n",
              "      fill: #174EA6;\n",
              "    }\n",
              "\n",
              "    [theme=dark] .colab-df-convert {\n",
              "      background-color: #3B4455;\n",
              "      fill: #D2E3FC;\n",
              "    }\n",
              "\n",
              "    [theme=dark] .colab-df-convert:hover {\n",
              "      background-color: #434B5C;\n",
              "      box-shadow: 0px 1px 3px 1px rgba(0, 0, 0, 0.15);\n",
              "      filter: drop-shadow(0px 1px 2px rgba(0, 0, 0, 0.3));\n",
              "      fill: #FFFFFF;\n",
              "    }\n",
              "  </style>\n",
              "\n",
              "      <script>\n",
              "        const buttonEl =\n",
              "          document.querySelector('#df-b4ebc2b3-34ff-4234-a3ab-24a37c930ed7 button.colab-df-convert');\n",
              "        buttonEl.style.display =\n",
              "          google.colab.kernel.accessAllowed ? 'block' : 'none';\n",
              "\n",
              "        async function convertToInteractive(key) {\n",
              "          const element = document.querySelector('#df-b4ebc2b3-34ff-4234-a3ab-24a37c930ed7');\n",
              "          const dataTable =\n",
              "            await google.colab.kernel.invokeFunction('convertToInteractive',\n",
              "                                                     [key], {});\n",
              "          if (!dataTable) return;\n",
              "\n",
              "          const docLinkHtml = 'Like what you see? Visit the ' +\n",
              "            '<a target=\"_blank\" href=https://colab.research.google.com/notebooks/data_table.ipynb>data table notebook</a>'\n",
              "            + ' to learn more about interactive tables.';\n",
              "          element.innerHTML = '';\n",
              "          dataTable['output_type'] = 'display_data';\n",
              "          await google.colab.output.renderOutput(dataTable, element);\n",
              "          const docLink = document.createElement('div');\n",
              "          docLink.innerHTML = docLinkHtml;\n",
              "          element.appendChild(docLink);\n",
              "        }\n",
              "      </script>\n",
              "    </div>\n",
              "  </div>\n",
              "  "
            ]
          },
          "metadata": {},
          "execution_count": 19
        }
      ],
      "source": [
        "df3.head()"
      ],
      "id": "Kcafjl5TKdWI"
    },
    {
      "cell_type": "markdown",
      "metadata": {
        "id": "ed23fdb1"
      },
      "source": [
        "<h3>Observaciones:</h3>\n",
        "\n",
        "   *  Se puede observar que el data set no tiene valores nulos o NaN. \n",
        "   *  Se puede observar que el data set no tiene valores duplicados.  \n",
        "   *  Al tokenizar el texto, se observa que aumentan la cantidad de palabras en la oracion o tweet."
      ],
      "id": "ed23fdb1"
    },
    {
      "cell_type": "markdown",
      "metadata": {
        "id": "3c459450"
      },
      "source": [
        "## 2. Modelo"
      ],
      "id": "3c459450"
    },
    {
      "cell_type": "markdown",
      "metadata": {
        "id": "C0jMnhH1LQ-1"
      },
      "source": [
        "### 2.1 Balanceo de clases by Undersampling"
      ],
      "id": "C0jMnhH1LQ-1"
    },
    {
      "cell_type": "code",
      "execution_count": 20,
      "metadata": {
        "colab": {
          "base_uri": "https://localhost:8080/"
        },
        "id": "UROhH0ubLG0Y",
        "outputId": "38592c41-b3c3-414b-8bc5-851bac0670cd"
      },
      "outputs": [
        {
          "output_type": "execute_result",
          "data": {
            "text/plain": [
              "1    16367\n",
              "2    16239\n",
              "0     6382\n",
              "Name: polarity_vader, dtype: int64"
            ]
          },
          "metadata": {},
          "execution_count": 20
        }
      ],
      "source": [
        "df3['polarity_vader'].value_counts()"
      ],
      "id": "UROhH0ubLG0Y"
    },
    {
      "cell_type": "markdown",
      "metadata": {
        "id": "2BhuTdkILdwC"
      },
      "source": [
        "Se puede observar que existe un desblanceo marcado entre la clase negativa y las clases neutras y positivas, por lo que se procederá a realizar un balanceo de las clases."
      ],
      "id": "2BhuTdkILdwC"
    },
    {
      "cell_type": "code",
      "execution_count": 21,
      "metadata": {
        "id": "lfgDHTahLc1o"
      },
      "outputs": [],
      "source": [
        "from imblearn.under_sampling import RandomUnderSampler\n",
        "rus = RandomUnderSampler(random_state=42)\n",
        "train_x, train_y = rus.fit_resample(np.array(df3['content']).reshape(-1, 1), np.array(df3['polarity_vader']).reshape(-1, 1));\n",
        "train_os = pd.DataFrame(list(zip([x[0] for x in train_x], train_y)), columns = ['content', 'polarity_vader']);"
      ],
      "id": "lfgDHTahLc1o"
    },
    {
      "cell_type": "code",
      "execution_count": 22,
      "metadata": {
        "colab": {
          "base_uri": "https://localhost:8080/"
        },
        "id": "Ltm7AY8ALEsh",
        "outputId": "0b5c45c6-684e-4fe7-dd90-4834eed4848b"
      },
      "outputs": [
        {
          "output_type": "execute_result",
          "data": {
            "text/plain": [
              "0    6382\n",
              "1    6382\n",
              "2    6382\n",
              "Name: polarity_vader, dtype: int64"
            ]
          },
          "metadata": {},
          "execution_count": 22
        }
      ],
      "source": [
        "# Obtener conteo de clases después del undersampling\n",
        "train_os['polarity_vader'].value_counts()"
      ],
      "id": "Ltm7AY8ALEsh"
    },
    {
      "cell_type": "markdown",
      "metadata": {
        "id": "b9cc7adc"
      },
      "source": [
        "### 2.2 Se define el target y la feature"
      ],
      "id": "b9cc7adc"
    },
    {
      "cell_type": "code",
      "execution_count": 23,
      "metadata": {
        "id": "e3630c14"
      },
      "outputs": [],
      "source": [
        "# Se define el target y la feature\n",
        "X_rus = train_os['content'].values\n",
        "y_rus = train_os['polarity_vader'].values"
      ],
      "id": "e3630c14"
    },
    {
      "cell_type": "code",
      "execution_count": 24,
      "metadata": {
        "id": "342edd0a"
      },
      "outputs": [],
      "source": [
        "# Separamos los datos en conjuntos de entrenamiento y prueba\n",
        "X_train, X_test, y_train, y_test = train_test_split(X_rus, y_rus, test_size=0.15, random_state=42)"
      ],
      "id": "342edd0a"
    },
    {
      "cell_type": "code",
      "execution_count": 25,
      "metadata": {
        "id": "VXcU7yVMNhx3"
      },
      "outputs": [],
      "source": [
        "# Dividir los datos de entrenamiento en entrenamiento y validación (70% - 15%)\n",
        "X_train, X_val, y_train, y_val = train_test_split(X_train, y_train, test_size=0.15, random_state=42)"
      ],
      "id": "VXcU7yVMNhx3"
    },
    {
      "cell_type": "code",
      "execution_count": 26,
      "metadata": {
        "colab": {
          "base_uri": "https://localhost:8080/"
        },
        "id": "4c0d7e9d",
        "outputId": "9f2609c9-3f41-44b2-87cd-45ecdca8ccc8"
      },
      "outputs": [
        {
          "output_type": "stream",
          "name": "stdout",
          "text": [
            "X_train shape: (13832,)\n",
            "X_test shape: (2872,)\n",
            "y_train shape: (13832,)\n",
            "y_test shape: (2872,)\n"
          ]
        }
      ],
      "source": [
        "print(\"X_train shape:\", X_train.shape)\n",
        "print(\"X_test shape:\", X_test.shape)\n",
        "print(\"y_train shape:\", y_train.shape)\n",
        "print(\"y_test shape:\", y_test.shape)"
      ],
      "id": "4c0d7e9d"
    },
    {
      "cell_type": "markdown",
      "metadata": {
        "id": "qD0tXesnT6F_"
      },
      "source": [
        "### 2.2 One hot encoding"
      ],
      "id": "qD0tXesnT6F_"
    },
    {
      "cell_type": "markdown",
      "metadata": {
        "id": "Bw1qqPSVURrz"
      },
      "source": [],
      "id": "Bw1qqPSVURrz"
    },
    {
      "cell_type": "code",
      "execution_count": 27,
      "metadata": {
        "id": "Ne6g5hjnWYqj"
      },
      "outputs": [],
      "source": [
        "y_train_le = y_train.copy()\n",
        "y_valid_le = y_val.copy()\n",
        "y_test_le = y_test.copy()"
      ],
      "id": "Ne6g5hjnWYqj"
    },
    {
      "cell_type": "code",
      "execution_count": 28,
      "metadata": {
        "id": "vByVM1aPUGgF"
      },
      "outputs": [],
      "source": [
        "ohe = preprocessing.OneHotEncoder()\n",
        "y_train = ohe.fit_transform(np.array(y_train).reshape(-1, 1)).toarray()\n",
        "y_val = ohe.fit_transform(np.array(y_val).reshape(-1, 1)).toarray()\n",
        "y_test = ohe.fit_transform(np.array(y_test).reshape(-1, 1)).toarray()"
      ],
      "id": "vByVM1aPUGgF"
    },
    {
      "cell_type": "markdown",
      "metadata": {
        "id": "47bb8d4c"
      },
      "source": [
        "## 3.Modelo BERT"
      ],
      "id": "47bb8d4c"
    },
    {
      "cell_type": "markdown",
      "metadata": {
        "id": "3b2b6273"
      },
      "source": [
        "BERT (Bidirectional Encoder Representations from Transformers) es un modelo de lenguaje basado en la arquitectura Transformer, que utiliza un enfoque bidireccional para el procesamiento de texto, lo que significa que considera el contexto completo de la oración en ambas direcciones para generar representaciones de palabras más precisas y contextualizadas.\n",
        "\n",
        "El modelo BERT es pre-entrenado en grandes corpus de datos y luego se puede ajustar o fine-tunear para tareas específicas, como la clasificación de texto, la extracción de información o la generación de lenguaje natural. BERT ha establecido nuevos estándares de rendimiento en varias tareas de procesamiento de lenguaje natural y es ampliamente utilizado en la investigación y la industria."
      ],
      "id": "3b2b6273"
    },
    {
      "cell_type": "markdown",
      "source": [
        "### 3.1 Tokenizar el conjunto de datos"
      ],
      "metadata": {
        "id": "l0nn17pVebv8"
      },
      "id": "l0nn17pVebv8"
    },
    {
      "cell_type": "code",
      "execution_count": 29,
      "metadata": {
        "id": "bOGFbrIlQkVk"
      },
      "outputs": [],
      "source": [
        "max_len = 128"
      ],
      "id": "bOGFbrIlQkVk"
    },
    {
      "cell_type": "code",
      "execution_count": 30,
      "metadata": {
        "id": "3a83f3b9"
      },
      "outputs": [],
      "source": [
        "def tokenize(data,max_lenmax_len) :\n",
        "    input_ids = []\n",
        "    attention_masks = []\n",
        "    for i in range(len(data)):\n",
        "        encoded = tokenizer.encode_plus(\n",
        "            data[i],\n",
        "            add_special_tokens=True,\n",
        "            max_length=max_len,\n",
        "            padding='max_length',\n",
        "            return_attention_mask=True\n",
        "        )\n",
        "        input_ids.append(encoded['input_ids'])\n",
        "        attention_masks.append(encoded['attention_mask'])\n",
        "    return np.array(input_ids),np.array(attention_masks)"
      ],
      "id": "3a83f3b9"
    },
    {
      "cell_type": "markdown",
      "metadata": {
        "id": "mVUU0QmrQ8fG"
      },
      "source": [
        "* Luego, aplica la función tokenizadora a los conjuntos de tren, validación y prueba."
      ],
      "id": "mVUU0QmrQ8fG"
    },
    {
      "cell_type": "code",
      "execution_count": 31,
      "metadata": {
        "id": "FNwzMWjCQ4sj"
      },
      "outputs": [],
      "source": [
        "train_input_ids, train_attention_masks = tokenize(X_train, max_len)\n",
        "val_input_ids, val_attention_masks = tokenize(X_val, max_len)\n",
        "test_input_ids, test_attention_masks = tokenize(X_test, max_len)"
      ],
      "id": "FNwzMWjCQ4sj"
    },
    {
      "cell_type": "markdown",
      "metadata": {
        "id": "a3128e02"
      },
      "source": [
        "### 3.2 Creación  del modelo"
      ],
      "id": "a3128e02"
    },
    {
      "cell_type": "code",
      "execution_count": 32,
      "metadata": {
        "colab": {
          "base_uri": "https://localhost:8080/",
          "height": 161,
          "referenced_widgets": [
            "32348636ecbf492b97460eaa0fb0a6a4",
            "bacfbdc692ac42828e7c20911d3b7faa",
            "2247efcff4144f77973bfcb9dbb761a1",
            "2654e3ba845847dcafb1e77a1d408d8f",
            "176aeda77bf0467eb69c3ed68dd4e07f",
            "3cfd16c8cb5140b4b74733592abebe5b",
            "dd592bd92f1f4be38793014fdf7a83a0",
            "bb0b06449b0d400db138ee8ca4163e6b",
            "8e5e77311e404ef2ba5d4e589baa072c",
            "7acfb7d474bf410e903dc258ac3dd2f0",
            "5543938c03344f64bed35402ddd046df"
          ]
        },
        "id": "f2c54182",
        "outputId": "660f02f9-a263-4122-8d24-e7dfd8e328e7"
      },
      "outputs": [
        {
          "data": {
            "application/vnd.jupyter.widget-view+json": {
              "model_id": "32348636ecbf492b97460eaa0fb0a6a4",
              "version_major": 2,
              "version_minor": 0
            },
            "text/plain": [
              "Downloading tf_model.h5:   0%|          | 0.00/536M [00:00<?, ?B/s]"
            ]
          },
          "metadata": {},
          "output_type": "display_data"
        },
        {
          "metadata": {
            "tags": null
          },
          "name": "stderr",
          "output_type": "stream",
          "text": [
            "Some layers from the model checkpoint at bert-base-uncased were not used when initializing TFBertModel: ['nsp___cls', 'mlm___cls']\n",
            "- This IS expected if you are initializing TFBertModel from the checkpoint of a model trained on another task or with another architecture (e.g. initializing a BertForSequenceClassification model from a BertForPreTraining model).\n",
            "- This IS NOT expected if you are initializing TFBertModel from the checkpoint of a model that you expect to be exactly identical (initializing a BertForSequenceClassification model from a BertForSequenceClassification model).\n",
            "All the layers of TFBertModel were initialized from the model checkpoint at bert-base-uncased.\n",
            "If your task is similar to the task the model of the checkpoint was trained on, you can already use TFBertModel for predictions without further training.\n"
          ]
        }
      ],
      "source": [
        "# importar el modelo BERT de la biblioteca preentrenada de Hugging face\n",
        "bert_model = TFBertModel.from_pretrained('bert-base-uncased', num_labels=3)"
      ],
      "id": "f2c54182"
    },
    {
      "cell_type": "code",
      "source": [
        "from tensorflow.keras.utils import plot_model"
      ],
      "metadata": {
        "id": "PkuH13ALGODK"
      },
      "id": "PkuH13ALGODK",
      "execution_count": 36,
      "outputs": []
    },
    {
      "cell_type": "code",
      "execution_count": 35,
      "metadata": {
        "id": "08293ba2"
      },
      "outputs": [],
      "source": [
        "def create_model(bert_model, max_len=max_len):\n",
        "    # Parámetros del optimizador\n",
        "    opt = tf.keras.optimizers.Adam(learning_rate=1e-5, beta_1=0.9, beta_2=0.999)\n",
        "\n",
        "    # Función de pérdida y métrica de precisión\n",
        "    loss = tf.keras.losses.CategoricalCrossentropy()\n",
        "    accuracy = tf.keras.metrics.CategoricalAccuracy()\n",
        "\n",
        "    # Capa de entrada para los ids de las palabras y las máscaras de atención\n",
        "    input_ids = tf.keras.Input(shape=(max_len,), dtype='int32')\n",
        "    attention_masks = tf.keras.Input(shape=(max_len,), dtype='int32')\n",
        "\n",
        "    # Capa de embeddings usando el modelo BERT pre-entrenado\n",
        "    embeddings = bert_model([input_ids, attention_masks])[1]\n",
        "\n",
        "    # Capa oculta completamente conectada con 256 unidades y función de activación relu\n",
        "    hidden_layer = tf.keras.layers.Dense(256, activation='relu')(embeddings)\n",
        "\n",
        "    # Agregar una capa de abandono con una tasa de abandono del 0.5\n",
        "    dropout = tf.keras.layers.Dropout(0.5)(hidden_layer)\n",
        "\n",
        "    # Capa de salida con activación softmax\n",
        "    output = tf.keras.layers.Dense(3, activation='softmax')(dropout)\n",
        "\n",
        "    # Creación del modelo con las capas de entrada, embeddings, capa oculta, salida y la capa de abandono\n",
        "    model = tf.keras.models.Model(inputs=[input_ids, attention_masks], outputs=output)\n",
        "\n",
        "    # Compilación del modelo con optimizador, función de pérdida y métrica de precisión\n",
        "    model.compile(optimizer=opt, loss=loss, metrics=[accuracy])\n",
        "\n",
        "    # Visualización del modelo\n",
        "    plot_model(model, to_file='modelo_clasificacion_tweets.png', show_shapes=True)\n",
        "\n",
        "    return model"
      ],
      "id": "08293ba2"
    },
    {
      "cell_type": "code",
      "execution_count": 37,
      "metadata": {
        "colab": {
          "base_uri": "https://localhost:8080/"
        },
        "id": "893a94e8",
        "outputId": "726934a9-722e-4ec8-ed4c-a184426ab427"
      },
      "outputs": [
        {
          "output_type": "stream",
          "name": "stdout",
          "text": [
            "Model: \"model_1\"\n",
            "__________________________________________________________________________________________________\n",
            " Layer (type)                   Output Shape         Param #     Connected to                     \n",
            "==================================================================================================\n",
            " input_3 (InputLayer)           [(None, 128)]        0           []                               \n",
            "                                                                                                  \n",
            " input_4 (InputLayer)           [(None, 128)]        0           []                               \n",
            "                                                                                                  \n",
            " tf_bert_model (TFBertModel)    TFBaseModelOutputWi  109482240   ['input_3[0][0]',                \n",
            "                                thPoolingAndCrossAt               'input_4[0][0]']                \n",
            "                                tentions(last_hidde                                               \n",
            "                                n_state=(None, 128,                                               \n",
            "                                 768),                                                            \n",
            "                                 pooler_output=(Non                                               \n",
            "                                e, 768),                                                          \n",
            "                                 past_key_values=No                                               \n",
            "                                ne, hidden_states=N                                               \n",
            "                                one, attentions=Non                                               \n",
            "                                e, cross_attentions                                               \n",
            "                                =None)                                                            \n",
            "                                                                                                  \n",
            " dense_2 (Dense)                (None, 256)          196864      ['tf_bert_model[1][1]']          \n",
            "                                                                                                  \n",
            " dropout_38 (Dropout)           (None, 256)          0           ['dense_2[0][0]']                \n",
            "                                                                                                  \n",
            " dense_3 (Dense)                (None, 3)            771         ['dropout_38[0][0]']             \n",
            "                                                                                                  \n",
            "==================================================================================================\n",
            "Total params: 109,679,875\n",
            "Trainable params: 109,679,875\n",
            "Non-trainable params: 0\n",
            "__________________________________________________________________________________________________\n"
          ]
        }
      ],
      "source": [
        "model = create_model(bert_model, max_len)\n",
        "model.summary()"
      ],
      "id": "893a94e8"
    },
    {
      "cell_type": "code",
      "source": [
        "from PIL import Image\n",
        "\n",
        "# Visualiza la arquitectura del modelo y guarda la imagen\n",
        "plot_model(model, to_file='model.png', show_shapes=True, show_layer_names=True)\n",
        "\n",
        "# Muestra la imagen en la pantalla\n",
        "img = Image.open('model.png')\n",
        "img.show()"
      ],
      "metadata": {
        "colab": {
          "base_uri": "https://localhost:8080/",
          "height": 553
        },
        "id": "s613yakRGxwy",
        "outputId": "83fe06b3-0b18-4f06-8029-86052972ffc2"
      },
      "id": "s613yakRGxwy",
      "execution_count": 38,
      "outputs": [
        {
          "output_type": "display_data",
          "data": {
            "text/plain": [
              "<PIL.PngImagePlugin.PngImageFile image mode=RGBA size=1751x516 at 0x7F22B1782730>"
            ],
            "image/png": "[encoded data removed]"
          },
          "metadata": {}
        }
      ]
    },
    {
      "cell_type": "markdown",
      "source": [
        "### 3.2 Entrenar modelo"
      ],
      "metadata": {
        "id": "2V-7bhD_ewoF"
      },
      "id": "2V-7bhD_ewoF"
    },
    {
      "cell_type": "code",
      "execution_count": 39,
      "metadata": {
        "colab": {
          "base_uri": "https://localhost:8080/"
        },
        "id": "8fb7501a",
        "outputId": "fce17aae-99ee-4656-c9de-aaa55088f2e2"
      },
      "outputs": [
        {
          "output_type": "stream",
          "name": "stdout",
          "text": [
            "Epoch 1/4\n",
            "433/433 [==============================] - 188s 325ms/step - loss: 0.7419 - categorical_accuracy: 0.6668 - val_loss: 0.4350 - val_categorical_accuracy: 0.8296\n",
            "Epoch 2/4\n",
            "433/433 [==============================] - 125s 288ms/step - loss: 0.3714 - categorical_accuracy: 0.8611 - val_loss: 0.3220 - val_categorical_accuracy: 0.8747\n",
            "Epoch 3/4\n",
            "433/433 [==============================] - 125s 288ms/step - loss: 0.2521 - categorical_accuracy: 0.9104 - val_loss: 0.3274 - val_categorical_accuracy: 0.8890\n",
            "Epoch 4/4\n",
            "433/433 [==============================] - 124s 287ms/step - loss: 0.1738 - categorical_accuracy: 0.9401 - val_loss: 0.3032 - val_categorical_accuracy: 0.8960\n"
          ]
        }
      ],
      "source": [
        "# ajustar el transformador BERT\n",
        "history_bert = model.fit([train_input_ids, train_attention_masks], y_train, validation_data=([val_input_ids, val_attention_masks], y_val), epochs=4, batch_size=32)"
      ],
      "id": "8fb7501a"
    },
    {
      "cell_type": "markdown",
      "source": [],
      "metadata": {
        "id": "jeHjo-KtIdOp"
      },
      "id": "jeHjo-KtIdOp"
    },
    {
      "cell_type": "markdown",
      "source": [
        "* **Precisión y la pérdida a lo largo del tiempo**"
      ],
      "metadata": {
        "id": "6yDhbFszXZVZ"
      },
      "id": "6yDhbFszXZVZ"
    },
    {
      "cell_type": "code",
      "source": [
        "history_dict = history_bert.history\n",
        "print(history_dict.keys())\n",
        "\n",
        "acc = history_dict['categorical_accuracy']\n",
        "val_acc = history_dict['val_categorical_accuracy']\n",
        "loss = history_dict['loss']\n",
        "val_loss = history_dict['val_loss']\n",
        "\n",
        "epochs = range(1, len(acc) + 1)\n",
        "fig = plt.figure(figsize=(10, 6))\n",
        "fig.tight_layout()\n",
        "\n",
        "plt.subplot(2, 1, 1)\n",
        "# r is for \"solid red line\"\n",
        "plt.plot(epochs, loss, 'r', label='Training loss')\n",
        "# b is for \"solid blue line\"\n",
        "plt.plot(epochs, val_loss, 'b', label='Validation loss')\n",
        "plt.title('Training and validation loss')\n",
        "# plt.xlabel('Epochs')\n",
        "plt.ylabel('Loss')\n",
        "plt.legend()\n",
        "\n",
        "plt.subplot(2, 1, 2)\n",
        "plt.plot(epochs, acc, 'r', label='Training acc')\n",
        "plt.plot(epochs, val_acc, 'b', label='Validation acc')\n",
        "plt.title('Training and validation accuracy')\n",
        "plt.xlabel('Epochs')\n",
        "plt.ylabel('Accuracy')\n",
        "plt.legend(loc='lower right')"
      ],
      "metadata": {
        "id": "SXVeR0hDWhk9",
        "colab": {
          "base_uri": "https://localhost:8080/",
          "height": 601
        },
        "outputId": "8fa4802e-c5df-4a9e-ea40-d500f03bdcb7"
      },
      "id": "SXVeR0hDWhk9",
      "execution_count": 41,
      "outputs": [
        {
          "output_type": "stream",
          "name": "stdout",
          "text": [
            "dict_keys(['loss', 'categorical_accuracy', 'val_loss', 'val_categorical_accuracy'])\n"
          ]
        },
        {
          "output_type": "execute_result",
          "data": {
            "text/plain": [
              "<matplotlib.legend.Legend at 0x7f21db6e2370>"
            ]
          },
          "metadata": {},
          "execution_count": 41
        },
        {
          "output_type": "display_data",
          "data": {
            "text/plain": [
              "<Figure size 1000x600 with 2 Axes>"
            ],
            "image/png": "[encoded data removed]"
          },
          "metadata": {}
        }
      ]
    },
    {
      "cell_type": "markdown",
      "metadata": {
        "id": "-0TYGDDAW99j"
      },
      "source": [
        "### 3.4. Predecir y evaluar el modelo "
      ],
      "id": "-0TYGDDAW99j"
    },
    {
      "cell_type": "code",
      "execution_count": 42,
      "metadata": {
        "id": "Ltz6jK1AW5sz",
        "colab": {
          "base_uri": "https://localhost:8080/"
        },
        "outputId": "64b075e4-9537-4f7f-8935-6f86c6300e9a"
      },
      "outputs": [
        {
          "output_type": "stream",
          "name": "stdout",
          "text": [
            "90/90 [==============================] - 12s 97ms/step\n"
          ]
        }
      ],
      "source": [
        "result_bert = model.predict([test_input_ids,test_attention_masks])"
      ],
      "id": "Ltz6jK1AW5sz"
    },
    {
      "cell_type": "code",
      "execution_count": 43,
      "metadata": {
        "id": "suP-MYeJaoQw"
      },
      "outputs": [],
      "source": [
        "def conf_matrix(y, y_pred, title):\n",
        "    fig, ax =plt.subplots(figsize=(5,5))\n",
        "    labels=['Negative', 'Neutral', 'Positive']\n",
        "    ax=sns.heatmap(confusion_matrix(y, y_pred), annot=True, cmap=\"Blues\", fmt='g', cbar=False, annot_kws={\"size\":25})\n",
        "    plt.title(title, fontsize=20)\n",
        "    ax.xaxis.set_ticklabels(labels, fontsize=17) \n",
        "    ax.yaxis.set_ticklabels(labels, fontsize=17)\n",
        "    ax.set_ylabel('Test', fontsize=20)\n",
        "    ax.set_xlabel('Predicted', fontsize=20)\n",
        "    plt.show()"
      ],
      "id": "suP-MYeJaoQw"
    },
    {
      "cell_type": "code",
      "execution_count": 44,
      "metadata": {
        "id": "PhdC8ZPdW5mc"
      },
      "outputs": [],
      "source": [
        "y_pred_bert =  np.zeros_like(result_bert)\n",
        "y_pred_bert[np.arange(len(y_pred_bert)), result_bert.argmax(1)] = 1"
      ],
      "id": "PhdC8ZPdW5mc"
    },
    {
      "cell_type": "markdown",
      "source": [
        "* **Evaluación del modelo**"
      ],
      "metadata": {
        "id": "ho8iAdbQfGBi"
      },
      "id": "ho8iAdbQfGBi"
    },
    {
      "cell_type": "code",
      "execution_count": 45,
      "metadata": {
        "id": "tHVqdRn1W5js",
        "colab": {
          "base_uri": "https://localhost:8080/",
          "height": 552
        },
        "outputId": "3d0a439b-ade8-4a05-e6ad-c912b664a946"
      },
      "outputs": [
        {
          "output_type": "display_data",
          "data": {
            "text/plain": [
              "<Figure size 500x500 with 1 Axes>"
            ],
            "image/png": "[encoded data removed]"
          },
          "metadata": {}
        }
      ],
      "source": [
        "conf_matrix(y_test.argmax(1), y_pred_bert.argmax(1),'BERT Sentiment Analysis\\nConfusion Matrix')"
      ],
      "id": "tHVqdRn1W5js"
    },
    {
      "cell_type": "code",
      "execution_count": 46,
      "metadata": {
        "id": "GmiW7vnUW5g1",
        "colab": {
          "base_uri": "https://localhost:8080/"
        },
        "outputId": "2b46f7cb-41c5-4688-9eae-22d4c54df13e"
      },
      "outputs": [
        {
          "output_type": "stream",
          "name": "stdout",
          "text": [
            "\tClassification Report for BERT:\n",
            "\n",
            "               precision    recall  f1-score   support\n",
            "\n",
            "    Negative       0.89      0.93      0.91       941\n",
            "     Neutral       0.85      0.85      0.85       956\n",
            "    Positive       0.95      0.91      0.93       975\n",
            "\n",
            "   micro avg       0.90      0.90      0.90      2872\n",
            "   macro avg       0.90      0.90      0.90      2872\n",
            "weighted avg       0.90      0.90      0.90      2872\n",
            " samples avg       0.90      0.90      0.90      2872\n",
            "\n"
          ]
        }
      ],
      "source": [
        "print('\\tClassification Report for BERT:\\n\\n',classification_report(y_test,y_pred_bert, target_names=['Negative', 'Neutral', 'Positive']))"
      ],
      "id": "GmiW7vnUW5g1"
    },
    {
      "cell_type": "markdown",
      "source": [],
      "metadata": {
        "id": "hkpxaN-WsOcd"
      },
      "id": "hkpxaN-WsOcd"
    },
    {
      "cell_type": "markdown",
      "metadata": {
        "id": "a14dd53c"
      },
      "source": [
        "## 5. Observaciones generales"
      ],
      "id": "a14dd53c"
    },
    {
      "cell_type": "markdown",
      "metadata": {
        "id": "71293b07"
      },
      "source": [
        "Algunas observaciones que pueden extraerse de los resultados del modelo BERT son:\n",
        "\n",
        "* El modelo presenta un desempeño general bueno, con un promedio de precisión, recall y F1-score de 0.90.\n",
        "\n",
        "* El modelo tiene un desempeño similar en las categorías de sentimiento \"negativo\" y \"positivo\", con una precisión de 0.89 y 0.95 respectivamente. En cambio, el desempeño en la categoría \"neutral\" es ligeramente menor, con una precisión de 0.85.\n",
        "\n",
        "* El modelo tiene una buena capacidad para identificar la mayoría de los casos de cada categoría, como lo muestra el recall promedio de 0.90.\n",
        "\n",
        "* Aunque el modelo tiene un buen desempeño general, todavía hay margen para mejorar su capacidad para identificar casos en la categoría \"neutral\", ya que tanto la precisión como el recall para esta categoría son ligeramente más bajos que para las otras dos categorías.\n",
        "\n",
        "En general, el modelo parece ser adecuado para la tarea de clasificación de sentimientos en tweets, aunque como siempre, es importante tener en cuenta las limitaciones del conjunto de datos y considerar la posibilidad de ajustar los hiperparámetros del modelo para obtener un mejor desempeño en el conjunto de prueba."
      ],
      "id": "71293b07"
    }
  ],
  "metadata": {
    "colab": {
      "provenance": [],
      "machine_shape": "hm",
      "gpuType": "V100"
    },
    "kernelspec": {
      "display_name": "Python 3 (ipykernel)",
      "language": "python",
      "name": "python3"
    },
    "language_info": {
      "codemirror_mode": {
        "name": "ipython",
        "version": 3
      },
      "file_extension": ".py",
      "mimetype": "text/x-python",
      "name": "python",
      "nbconvert_exporter": "python",
      "pygments_lexer": "ipython3",
      "version": "3.9.12"
    },
    "latex_envs": {
      "LaTeX_envs_menu_present": true,
      "autoclose": false,
      "autocomplete": true,
      "bibliofile": "biblio.bib",
      "cite_by": "apalike",
      "current_citInitial": 1,
      "eqLabelWithNumbers": true,
      "eqNumInitial": 1,
      "hotkeys": {
        "equation": "Ctrl-E",
        "itemize": "Ctrl-I"
      },
      "labels_anchors": false,
      "latex_user_defs": false,
      "report_style_numbering": false,
      "user_envs_cfg": false
    },
    "nbTranslate": {
      "displayLangs": [
        "*"
      ],
      "hotkey": "alt-t",
      "langInMainMenu": true,
      "sourceLang": "en",
      "targetLang": "fr",
      "useGoogleTranslate": true
    },
    "toc": {
      "base_numbering": 1,
      "nav_menu": {},
      "number_sections": false,
      "sideBar": true,
      "skip_h1_title": false,
      "title_cell": "Table of Contents",
      "title_sidebar": "Contents",
      "toc_cell": false,
      "toc_position": {
        "height": "calc(100% - 180px)",
        "left": "10px",
        "top": "150px",
        "width": "165px"
      },
      "toc_section_display": true,
      "toc_window_display": true
    },
    "varInspector": {
      "cols": {
        "lenName": 16,
        "lenType": 16,
        "lenVar": 40
      },
      "kernels_config": {
        "python": {
          "delete_cmd_postfix": "",
          "delete_cmd_prefix": "del ",
          "library": "var_list.py",
          "varRefreshCmd": "print(var_dic_list())"
        },
        "r": {
          "delete_cmd_postfix": ") ",
          "delete_cmd_prefix": "rm(",
          "library": "var_list.r",
          "varRefreshCmd": "cat(var_dic_list()) "
        }
      },
      "types_to_exclude": [
        "module",
        "function",
        "builtin_function_or_method",
        "instance",
        "_Feature"
      ],
      "window_display": false
    },
    "accelerator": "GPU",
    "gpuClass": "standard",
    "widgets": {
      "application/vnd.jupyter.widget-state+json": {
        "02661a46277a48998fda16607d4c9cac": {
          "model_module": "@jupyter-widgets/controls",
          "model_name": "HBoxModel",
          "model_module_version": "1.5.0",
          "state": {
            "_dom_classes": [],
            "_model_module": "@jupyter-widgets/controls",
            "_model_module_version": "1.5.0",
            "_model_name": "HBoxModel",
            "_view_count": null,
            "_view_module": "@jupyter-widgets/controls",
            "_view_module_version": "1.5.0",
            "_view_name": "HBoxView",
            "box_style": "",
            "children": [
              "IPY_MODEL_b06c21baa9c84da0a31a91099ffd9780",
              "IPY_MODEL_baf9f49c8d664bd187270c29ca8881b3",
              "IPY_MODEL_6e1db000b566493c8867a29933ce6c4a"
            ],
            "layout": "IPY_MODEL_7e6dec0ba0214e87871d26050b26cd26"
          }
        },
        "b06c21baa9c84da0a31a91099ffd9780": {
          "model_module": "@jupyter-widgets/controls",
          "model_name": "HTMLModel",
          "model_module_version": "1.5.0",
          "state": {
            "_dom_classes": [],
            "_model_module": "@jupyter-widgets/controls",
            "_model_module_version": "1.5.0",
            "_model_name": "HTMLModel",
            "_view_count": null,
            "_view_module": "@jupyter-widgets/controls",
            "_view_module_version": "1.5.0",
            "_view_name": "HTMLView",
            "description": "",
            "description_tooltip": null,
            "layout": "IPY_MODEL_57c802f8fd2141f1b83fa7caf4da5c9b",
            "placeholder": "​",
            "style": "IPY_MODEL_f73afddf43e840cda3385ab603018255",
            "value": "Downloading (…)okenizer_config.json: 100%"
          }
        },
        "baf9f49c8d664bd187270c29ca8881b3": {
          "model_module": "@jupyter-widgets/controls",
          "model_name": "FloatProgressModel",
          "model_module_version": "1.5.0",
          "state": {
            "_dom_classes": [],
            "_model_module": "@jupyter-widgets/controls",
            "_model_module_version": "1.5.0",
            "_model_name": "FloatProgressModel",
            "_view_count": null,
            "_view_module": "@jupyter-widgets/controls",
            "_view_module_version": "1.5.0",
            "_view_name": "ProgressView",
            "bar_style": "success",
            "description": "",
            "description_tooltip": null,
            "layout": "IPY_MODEL_a360a5be0ca74368ae3d06c7eafeee8e",
            "max": 28,
            "min": 0,
            "orientation": "horizontal",
            "style": "IPY_MODEL_890dbd5094ea4fc8a928d8bf5ac50eb0",
            "value": 28
          }
        },
        "6e1db000b566493c8867a29933ce6c4a": {
          "model_module": "@jupyter-widgets/controls",
          "model_name": "HTMLModel",
          "model_module_version": "1.5.0",
          "state": {
            "_dom_classes": [],
            "_model_module": "@jupyter-widgets/controls",
            "_model_module_version": "1.5.0",
            "_model_name": "HTMLModel",
            "_view_count": null,
            "_view_module": "@jupyter-widgets/controls",
            "_view_module_version": "1.5.0",
            "_view_name": "HTMLView",
            "description": "",
            "description_tooltip": null,
            "layout": "IPY_MODEL_c44b27391dd9481394361500566a4c63",
            "placeholder": "​",
            "style": "IPY_MODEL_2191541aeb6d4c5e87fba57e5cd65cc3",
            "value": " 28.0/28.0 [00:00&lt;00:00, 1.30kB/s]"
          }
        },
        "7e6dec0ba0214e87871d26050b26cd26": {
          "model_module": "@jupyter-widgets/base",
          "model_name": "LayoutModel",
          "model_module_version": "1.2.0",
          "state": {
            "_model_module": "@jupyter-widgets/base",
            "_model_module_version": "1.2.0",
            "_model_name": "LayoutModel",
            "_view_count": null,
            "_view_module": "@jupyter-widgets/base",
            "_view_module_version": "1.2.0",
            "_view_name": "LayoutView",
            "align_content": null,
            "align_items": null,
            "align_self": null,
            "border": null,
            "bottom": null,
            "display": null,
            "flex": null,
            "flex_flow": null,
            "grid_area": null,
            "grid_auto_columns": null,
            "grid_auto_flow": null,
            "grid_auto_rows": null,
            "grid_column": null,
            "grid_gap": null,
            "grid_row": null,
            "grid_template_areas": null,
            "grid_template_columns": null,
            "grid_template_rows": null,
            "height": null,
            "justify_content": null,
            "justify_items": null,
            "left": null,
            "margin": null,
            "max_height": null,
            "max_width": null,
            "min_height": null,
            "min_width": null,
            "object_fit": null,
            "object_position": null,
            "order": null,
            "overflow": null,
            "overflow_x": null,
            "overflow_y": null,
            "padding": null,
            "right": null,
            "top": null,
            "visibility": null,
            "width": null
          }
        },
        "57c802f8fd2141f1b83fa7caf4da5c9b": {
          "model_module": "@jupyter-widgets/base",
          "model_name": "LayoutModel",
          "model_module_version": "1.2.0",
          "state": {
            "_model_module": "@jupyter-widgets/base",
            "_model_module_version": "1.2.0",
            "_model_name": "LayoutModel",
            "_view_count": null,
            "_view_module": "@jupyter-widgets/base",
            "_view_module_version": "1.2.0",
            "_view_name": "LayoutView",
            "align_content": null,
            "align_items": null,
            "align_self": null,
            "border": null,
            "bottom": null,
            "display": null,
            "flex": null,
            "flex_flow": null,
            "grid_area": null,
            "grid_auto_columns": null,
            "grid_auto_flow": null,
            "grid_auto_rows": null,
            "grid_column": null,
            "grid_gap": null,
            "grid_row": null,
            "grid_template_areas": null,
            "grid_template_columns": null,
            "grid_template_rows": null,
            "height": null,
            "justify_content": null,
            "justify_items": null,
            "left": null,
            "margin": null,
            "max_height": null,
            "max_width": null,
            "min_height": null,
            "min_width": null,
            "object_fit": null,
            "object_position": null,
            "order": null,
            "overflow": null,
            "overflow_x": null,
            "overflow_y": null,
            "padding": null,
            "right": null,
            "top": null,
            "visibility": null,
            "width": null
          }
        },
        "f73afddf43e840cda3385ab603018255": {
          "model_module": "@jupyter-widgets/controls",
          "model_name": "DescriptionStyleModel",
          "model_module_version": "1.5.0",
          "state": {
            "_model_module": "@jupyter-widgets/controls",
            "_model_module_version": "1.5.0",
            "_model_name": "DescriptionStyleModel",
            "_view_count": null,
            "_view_module": "@jupyter-widgets/base",
            "_view_module_version": "1.2.0",
            "_view_name": "StyleView",
            "description_width": ""
          }
        },
        "a360a5be0ca74368ae3d06c7eafeee8e": {
          "model_module": "@jupyter-widgets/base",
          "model_name": "LayoutModel",
          "model_module_version": "1.2.0",
          "state": {
            "_model_module": "@jupyter-widgets/base",
            "_model_module_version": "1.2.0",
            "_model_name": "LayoutModel",
            "_view_count": null,
            "_view_module": "@jupyter-widgets/base",
            "_view_module_version": "1.2.0",
            "_view_name": "LayoutView",
            "align_content": null,
            "align_items": null,
            "align_self": null,
            "border": null,
            "bottom": null,
            "display": null,
            "flex": null,
            "flex_flow": null,
            "grid_area": null,
            "grid_auto_columns": null,
            "grid_auto_flow": null,
            "grid_auto_rows": null,
            "grid_column": null,
            "grid_gap": null,
            "grid_row": null,
            "grid_template_areas": null,
            "grid_template_columns": null,
            "grid_template_rows": null,
            "height": null,
            "justify_content": null,
            "justify_items": null,
            "left": null,
            "margin": null,
            "max_height": null,
            "max_width": null,
            "min_height": null,
            "min_width": null,
            "object_fit": null,
            "object_position": null,
            "order": null,
            "overflow": null,
            "overflow_x": null,
            "overflow_y": null,
            "padding": null,
            "right": null,
            "top": null,
            "visibility": null,
            "width": null
          }
        },
        "890dbd5094ea4fc8a928d8bf5ac50eb0": {
          "model_module": "@jupyter-widgets/controls",
          "model_name": "ProgressStyleModel",
          "model_module_version": "1.5.0",
          "state": {
            "_model_module": "@jupyter-widgets/controls",
            "_model_module_version": "1.5.0",
            "_model_name": "ProgressStyleModel",
            "_view_count": null,
            "_view_module": "@jupyter-widgets/base",
            "_view_module_version": "1.2.0",
            "_view_name": "StyleView",
            "bar_color": null,
            "description_width": ""
          }
        },
        "c44b27391dd9481394361500566a4c63": {
          "model_module": "@jupyter-widgets/base",
          "model_name": "LayoutModel",
          "model_module_version": "1.2.0",
          "state": {
            "_model_module": "@jupyter-widgets/base",
            "_model_module_version": "1.2.0",
            "_model_name": "LayoutModel",
            "_view_count": null,
            "_view_module": "@jupyter-widgets/base",
            "_view_module_version": "1.2.0",
            "_view_name": "LayoutView",
            "align_content": null,
            "align_items": null,
            "align_self": null,
            "border": null,
            "bottom": null,
            "display": null,
            "flex": null,
            "flex_flow": null,
            "grid_area": null,
            "grid_auto_columns": null,
            "grid_auto_flow": null,
            "grid_auto_rows": null,
            "grid_column": null,
            "grid_gap": null,
            "grid_row": null,
            "grid_template_areas": null,
            "grid_template_columns": null,
            "grid_template_rows": null,
            "height": null,
            "justify_content": null,
            "justify_items": null,
            "left": null,
            "margin": null,
            "max_height": null,
            "max_width": null,
            "min_height": null,
            "min_width": null,
            "object_fit": null,
            "object_position": null,
            "order": null,
            "overflow": null,
            "overflow_x": null,
            "overflow_y": null,
            "padding": null,
            "right": null,
            "top": null,
            "visibility": null,
            "width": null
          }
        },
        "2191541aeb6d4c5e87fba57e5cd65cc3": {
          "model_module": "@jupyter-widgets/controls",
          "model_name": "DescriptionStyleModel",
          "model_module_version": "1.5.0",
          "state": {
            "_model_module": "@jupyter-widgets/controls",
            "_model_module_version": "1.5.0",
            "_model_name": "DescriptionStyleModel",
            "_view_count": null,
            "_view_module": "@jupyter-widgets/base",
            "_view_module_version": "1.2.0",
            "_view_name": "StyleView",
            "description_width": ""
          }
        },
        "983d39f6d4d543abb9c1bb394465a891": {
          "model_module": "@jupyter-widgets/controls",
          "model_name": "HBoxModel",
          "model_module_version": "1.5.0",
          "state": {
            "_dom_classes": [],
            "_model_module": "@jupyter-widgets/controls",
            "_model_module_version": "1.5.0",
            "_model_name": "HBoxModel",
            "_view_count": null,
            "_view_module": "@jupyter-widgets/controls",
            "_view_module_version": "1.5.0",
            "_view_name": "HBoxView",
            "box_style": "",
            "children": [
              "IPY_MODEL_56d923b737134e95871fbaa2ac393ade",
              "IPY_MODEL_0567ff6d59414f24993c23071a016ab1",
              "IPY_MODEL_ee1755f7662d449e8a3238268a53675b"
            ],
            "layout": "IPY_MODEL_00563b8ef9d5426cb3d2ea0b8f9ffca5"
          }
        },
        "56d923b737134e95871fbaa2ac393ade": {
          "model_module": "@jupyter-widgets/controls",
          "model_name": "HTMLModel",
          "model_module_version": "1.5.0",
          "state": {
            "_dom_classes": [],
            "_model_module": "@jupyter-widgets/controls",
            "_model_module_version": "1.5.0",
            "_model_name": "HTMLModel",
            "_view_count": null,
            "_view_module": "@jupyter-widgets/controls",
            "_view_module_version": "1.5.0",
            "_view_name": "HTMLView",
            "description": "",
            "description_tooltip": null,
            "layout": "IPY_MODEL_7f249aac64a54397822837faf9a298c2",
            "placeholder": "​",
            "style": "IPY_MODEL_818b9196c8b3495e9108db084c5ee13f",
            "value": "Downloading (…)solve/main/vocab.txt: 100%"
          }
        },
        "0567ff6d59414f24993c23071a016ab1": {
          "model_module": "@jupyter-widgets/controls",
          "model_name": "FloatProgressModel",
          "model_module_version": "1.5.0",
          "state": {
            "_dom_classes": [],
            "_model_module": "@jupyter-widgets/controls",
            "_model_module_version": "1.5.0",
            "_model_name": "FloatProgressModel",
            "_view_count": null,
            "_view_module": "@jupyter-widgets/controls",
            "_view_module_version": "1.5.0",
            "_view_name": "ProgressView",
            "bar_style": "success",
            "description": "",
            "description_tooltip": null,
            "layout": "IPY_MODEL_4f80e1c0e1c642c4a2ebd055242b99d4",
            "max": 231508,
            "min": 0,
            "orientation": "horizontal",
            "style": "IPY_MODEL_b66b3128549844efa1724ef1faf4aa81",
            "value": 231508
          }
        },
        "ee1755f7662d449e8a3238268a53675b": {
          "model_module": "@jupyter-widgets/controls",
          "model_name": "HTMLModel",
          "model_module_version": "1.5.0",
          "state": {
            "_dom_classes": [],
            "_model_module": "@jupyter-widgets/controls",
            "_model_module_version": "1.5.0",
            "_model_name": "HTMLModel",
            "_view_count": null,
            "_view_module": "@jupyter-widgets/controls",
            "_view_module_version": "1.5.0",
            "_view_name": "HTMLView",
            "description": "",
            "description_tooltip": null,
            "layout": "IPY_MODEL_240fe6ed43854506805d538f0a028cbb",
            "placeholder": "​",
            "style": "IPY_MODEL_8d02000f918e4a27b67cad4202f50894",
            "value": " 232k/232k [00:00&lt;00:00, 1.42MB/s]"
          }
        },
        "00563b8ef9d5426cb3d2ea0b8f9ffca5": {
          "model_module": "@jupyter-widgets/base",
          "model_name": "LayoutModel",
          "model_module_version": "1.2.0",
          "state": {
            "_model_module": "@jupyter-widgets/base",
            "_model_module_version": "1.2.0",
            "_model_name": "LayoutModel",
            "_view_count": null,
            "_view_module": "@jupyter-widgets/base",
            "_view_module_version": "1.2.0",
            "_view_name": "LayoutView",
            "align_content": null,
            "align_items": null,
            "align_self": null,
            "border": null,
            "bottom": null,
            "display": null,
            "flex": null,
            "flex_flow": null,
            "grid_area": null,
            "grid_auto_columns": null,
            "grid_auto_flow": null,
            "grid_auto_rows": null,
            "grid_column": null,
            "grid_gap": null,
            "grid_row": null,
            "grid_template_areas": null,
            "grid_template_columns": null,
            "grid_template_rows": null,
            "height": null,
            "justify_content": null,
            "justify_items": null,
            "left": null,
            "margin": null,
            "max_height": null,
            "max_width": null,
            "min_height": null,
            "min_width": null,
            "object_fit": null,
            "object_position": null,
            "order": null,
            "overflow": null,
            "overflow_x": null,
            "overflow_y": null,
            "padding": null,
            "right": null,
            "top": null,
            "visibility": null,
            "width": null
          }
        },
        "7f249aac64a54397822837faf9a298c2": {
          "model_module": "@jupyter-widgets/base",
          "model_name": "LayoutModel",
          "model_module_version": "1.2.0",
          "state": {
            "_model_module": "@jupyter-widgets/base",
            "_model_module_version": "1.2.0",
            "_model_name": "LayoutModel",
            "_view_count": null,
            "_view_module": "@jupyter-widgets/base",
            "_view_module_version": "1.2.0",
            "_view_name": "LayoutView",
            "align_content": null,
            "align_items": null,
            "align_self": null,
            "border": null,
            "bottom": null,
            "display": null,
            "flex": null,
            "flex_flow": null,
            "grid_area": null,
            "grid_auto_columns": null,
            "grid_auto_flow": null,
            "grid_auto_rows": null,
            "grid_column": null,
            "grid_gap": null,
            "grid_row": null,
            "grid_template_areas": null,
            "grid_template_columns": null,
            "grid_template_rows": null,
            "height": null,
            "justify_content": null,
            "justify_items": null,
            "left": null,
            "margin": null,
            "max_height": null,
            "max_width": null,
            "min_height": null,
            "min_width": null,
            "object_fit": null,
            "object_position": null,
            "order": null,
            "overflow": null,
            "overflow_x": null,
            "overflow_y": null,
            "padding": null,
            "right": null,
            "top": null,
            "visibility": null,
            "width": null
          }
        },
        "818b9196c8b3495e9108db084c5ee13f": {
          "model_module": "@jupyter-widgets/controls",
          "model_name": "DescriptionStyleModel",
          "model_module_version": "1.5.0",
          "state": {
            "_model_module": "@jupyter-widgets/controls",
            "_model_module_version": "1.5.0",
            "_model_name": "DescriptionStyleModel",
            "_view_count": null,
            "_view_module": "@jupyter-widgets/base",
            "_view_module_version": "1.2.0",
            "_view_name": "StyleView",
            "description_width": ""
          }
        },
        "4f80e1c0e1c642c4a2ebd055242b99d4": {
          "model_module": "@jupyter-widgets/base",
          "model_name": "LayoutModel",
          "model_module_version": "1.2.0",
          "state": {
            "_model_module": "@jupyter-widgets/base",
            "_model_module_version": "1.2.0",
            "_model_name": "LayoutModel",
            "_view_count": null,
            "_view_module": "@jupyter-widgets/base",
            "_view_module_version": "1.2.0",
            "_view_name": "LayoutView",
            "align_content": null,
            "align_items": null,
            "align_self": null,
            "border": null,
            "bottom": null,
            "display": null,
            "flex": null,
            "flex_flow": null,
            "grid_area": null,
            "grid_auto_columns": null,
            "grid_auto_flow": null,
            "grid_auto_rows": null,
            "grid_column": null,
            "grid_gap": null,
            "grid_row": null,
            "grid_template_areas": null,
            "grid_template_columns": null,
            "grid_template_rows": null,
            "height": null,
            "justify_content": null,
            "justify_items": null,
            "left": null,
            "margin": null,
            "max_height": null,
            "max_width": null,
            "min_height": null,
            "min_width": null,
            "object_fit": null,
            "object_position": null,
            "order": null,
            "overflow": null,
            "overflow_x": null,
            "overflow_y": null,
            "padding": null,
            "right": null,
            "top": null,
            "visibility": null,
            "width": null
          }
        },
        "b66b3128549844efa1724ef1faf4aa81": {
          "model_module": "@jupyter-widgets/controls",
          "model_name": "ProgressStyleModel",
          "model_module_version": "1.5.0",
          "state": {
            "_model_module": "@jupyter-widgets/controls",
            "_model_module_version": "1.5.0",
            "_model_name": "ProgressStyleModel",
            "_view_count": null,
            "_view_module": "@jupyter-widgets/base",
            "_view_module_version": "1.2.0",
            "_view_name": "StyleView",
            "bar_color": null,
            "description_width": ""
          }
        },
        "240fe6ed43854506805d538f0a028cbb": {
          "model_module": "@jupyter-widgets/base",
          "model_name": "LayoutModel",
          "model_module_version": "1.2.0",
          "state": {
            "_model_module": "@jupyter-widgets/base",
            "_model_module_version": "1.2.0",
            "_model_name": "LayoutModel",
            "_view_count": null,
            "_view_module": "@jupyter-widgets/base",
            "_view_module_version": "1.2.0",
            "_view_name": "LayoutView",
            "align_content": null,
            "align_items": null,
            "align_self": null,
            "border": null,
            "bottom": null,
            "display": null,
            "flex": null,
            "flex_flow": null,
            "grid_area": null,
            "grid_auto_columns": null,
            "grid_auto_flow": null,
            "grid_auto_rows": null,
            "grid_column": null,
            "grid_gap": null,
            "grid_row": null,
            "grid_template_areas": null,
            "grid_template_columns": null,
            "grid_template_rows": null,
            "height": null,
            "justify_content": null,
            "justify_items": null,
            "left": null,
            "margin": null,
            "max_height": null,
            "max_width": null,
            "min_height": null,
            "min_width": null,
            "object_fit": null,
            "object_position": null,
            "order": null,
            "overflow": null,
            "overflow_x": null,
            "overflow_y": null,
            "padding": null,
            "right": null,
            "top": null,
            "visibility": null,
            "width": null
          }
        },
        "8d02000f918e4a27b67cad4202f50894": {
          "model_module": "@jupyter-widgets/controls",
          "model_name": "DescriptionStyleModel",
          "model_module_version": "1.5.0",
          "state": {
            "_model_module": "@jupyter-widgets/controls",
            "_model_module_version": "1.5.0",
            "_model_name": "DescriptionStyleModel",
            "_view_count": null,
            "_view_module": "@jupyter-widgets/base",
            "_view_module_version": "1.2.0",
            "_view_name": "StyleView",
            "description_width": ""
          }
        },
        "d249f2e16c0e405085dae865ceed360e": {
          "model_module": "@jupyter-widgets/controls",
          "model_name": "HBoxModel",
          "model_module_version": "1.5.0",
          "state": {
            "_dom_classes": [],
            "_model_module": "@jupyter-widgets/controls",
            "_model_module_version": "1.5.0",
            "_model_name": "HBoxModel",
            "_view_count": null,
            "_view_module": "@jupyter-widgets/controls",
            "_view_module_version": "1.5.0",
            "_view_name": "HBoxView",
            "box_style": "",
            "children": [
              "IPY_MODEL_e34b723e5e2c4c898e325a2519be54d8",
              "IPY_MODEL_f5e9e25fb11a4e0ea777d4579a1ddb55",
              "IPY_MODEL_9fa10c83c98440dba64c8b09d44d7a4d"
            ],
            "layout": "IPY_MODEL_6fc1132065424b379a43feac82c4b365"
          }
        },
        "e34b723e5e2c4c898e325a2519be54d8": {
          "model_module": "@jupyter-widgets/controls",
          "model_name": "HTMLModel",
          "model_module_version": "1.5.0",
          "state": {
            "_dom_classes": [],
            "_model_module": "@jupyter-widgets/controls",
            "_model_module_version": "1.5.0",
            "_model_name": "HTMLModel",
            "_view_count": null,
            "_view_module": "@jupyter-widgets/controls",
            "_view_module_version": "1.5.0",
            "_view_name": "HTMLView",
            "description": "",
            "description_tooltip": null,
            "layout": "IPY_MODEL_e5e4a000b285470bb82949c901b8e22d",
            "placeholder": "​",
            "style": "IPY_MODEL_41b35714af414568949acb530cabecfa",
            "value": "Downloading (…)/main/tokenizer.json: 100%"
          }
        },
        "f5e9e25fb11a4e0ea777d4579a1ddb55": {
          "model_module": "@jupyter-widgets/controls",
          "model_name": "FloatProgressModel",
          "model_module_version": "1.5.0",
          "state": {
            "_dom_classes": [],
            "_model_module": "@jupyter-widgets/controls",
            "_model_module_version": "1.5.0",
            "_model_name": "FloatProgressModel",
            "_view_count": null,
            "_view_module": "@jupyter-widgets/controls",
            "_view_module_version": "1.5.0",
            "_view_name": "ProgressView",
            "bar_style": "success",
            "description": "",
            "description_tooltip": null,
            "layout": "IPY_MODEL_99a916ebd9ba4df3aaef8b6f6806d34e",
            "max": 466062,
            "min": 0,
            "orientation": "horizontal",
            "style": "IPY_MODEL_eb562568fd8a42d58dcc70b0d0619572",
            "value": 466062
          }
        },
        "9fa10c83c98440dba64c8b09d44d7a4d": {
          "model_module": "@jupyter-widgets/controls",
          "model_name": "HTMLModel",
          "model_module_version": "1.5.0",
          "state": {
            "_dom_classes": [],
            "_model_module": "@jupyter-widgets/controls",
            "_model_module_version": "1.5.0",
            "_model_name": "HTMLModel",
            "_view_count": null,
            "_view_module": "@jupyter-widgets/controls",
            "_view_module_version": "1.5.0",
            "_view_name": "HTMLView",
            "description": "",
            "description_tooltip": null,
            "layout": "IPY_MODEL_656b3099cfbd47eda6cbeca9309fc0f9",
            "placeholder": "​",
            "style": "IPY_MODEL_acc3842b4e2640ccb36ccafde88d2994",
            "value": " 466k/466k [00:00&lt;00:00, 14.7MB/s]"
          }
        },
        "6fc1132065424b379a43feac82c4b365": {
          "model_module": "@jupyter-widgets/base",
          "model_name": "LayoutModel",
          "model_module_version": "1.2.0",
          "state": {
            "_model_module": "@jupyter-widgets/base",
            "_model_module_version": "1.2.0",
            "_model_name": "LayoutModel",
            "_view_count": null,
            "_view_module": "@jupyter-widgets/base",
            "_view_module_version": "1.2.0",
            "_view_name": "LayoutView",
            "align_content": null,
            "align_items": null,
            "align_self": null,
            "border": null,
            "bottom": null,
            "display": null,
            "flex": null,
            "flex_flow": null,
            "grid_area": null,
            "grid_auto_columns": null,
            "grid_auto_flow": null,
            "grid_auto_rows": null,
            "grid_column": null,
            "grid_gap": null,
            "grid_row": null,
            "grid_template_areas": null,
            "grid_template_columns": null,
            "grid_template_rows": null,
            "height": null,
            "justify_content": null,
            "justify_items": null,
            "left": null,
            "margin": null,
            "max_height": null,
            "max_width": null,
            "min_height": null,
            "min_width": null,
            "object_fit": null,
            "object_position": null,
            "order": null,
            "overflow": null,
            "overflow_x": null,
            "overflow_y": null,
            "padding": null,
            "right": null,
            "top": null,
            "visibility": null,
            "width": null
          }
        },
        "e5e4a000b285470bb82949c901b8e22d": {
          "model_module": "@jupyter-widgets/base",
          "model_name": "LayoutModel",
          "model_module_version": "1.2.0",
          "state": {
            "_model_module": "@jupyter-widgets/base",
            "_model_module_version": "1.2.0",
            "_model_name": "LayoutModel",
            "_view_count": null,
            "_view_module": "@jupyter-widgets/base",
            "_view_module_version": "1.2.0",
            "_view_name": "LayoutView",
            "align_content": null,
            "align_items": null,
            "align_self": null,
            "border": null,
            "bottom": null,
            "display": null,
            "flex": null,
            "flex_flow": null,
            "grid_area": null,
            "grid_auto_columns": null,
            "grid_auto_flow": null,
            "grid_auto_rows": null,
            "grid_column": null,
            "grid_gap": null,
            "grid_row": null,
            "grid_template_areas": null,
            "grid_template_columns": null,
            "grid_template_rows": null,
            "height": null,
            "justify_content": null,
            "justify_items": null,
            "left": null,
            "margin": null,
            "max_height": null,
            "max_width": null,
            "min_height": null,
            "min_width": null,
            "object_fit": null,
            "object_position": null,
            "order": null,
            "overflow": null,
            "overflow_x": null,
            "overflow_y": null,
            "padding": null,
            "right": null,
            "top": null,
            "visibility": null,
            "width": null
          }
        },
        "41b35714af414568949acb530cabecfa": {
          "model_module": "@jupyter-widgets/controls",
          "model_name": "DescriptionStyleModel",
          "model_module_version": "1.5.0",
          "state": {
            "_model_module": "@jupyter-widgets/controls",
            "_model_module_version": "1.5.0",
            "_model_name": "DescriptionStyleModel",
            "_view_count": null,
            "_view_module": "@jupyter-widgets/base",
            "_view_module_version": "1.2.0",
            "_view_name": "StyleView",
            "description_width": ""
          }
        },
        "99a916ebd9ba4df3aaef8b6f6806d34e": {
          "model_module": "@jupyter-widgets/base",
          "model_name": "LayoutModel",
          "model_module_version": "1.2.0",
          "state": {
            "_model_module": "@jupyter-widgets/base",
            "_model_module_version": "1.2.0",
            "_model_name": "LayoutModel",
            "_view_count": null,
            "_view_module": "@jupyter-widgets/base",
            "_view_module_version": "1.2.0",
            "_view_name": "LayoutView",
            "align_content": null,
            "align_items": null,
            "align_self": null,
            "border": null,
            "bottom": null,
            "display": null,
            "flex": null,
            "flex_flow": null,
            "grid_area": null,
            "grid_auto_columns": null,
            "grid_auto_flow": null,
            "grid_auto_rows": null,
            "grid_column": null,
            "grid_gap": null,
            "grid_row": null,
            "grid_template_areas": null,
            "grid_template_columns": null,
            "grid_template_rows": null,
            "height": null,
            "justify_content": null,
            "justify_items": null,
            "left": null,
            "margin": null,
            "max_height": null,
            "max_width": null,
            "min_height": null,
            "min_width": null,
            "object_fit": null,
            "object_position": null,
            "order": null,
            "overflow": null,
            "overflow_x": null,
            "overflow_y": null,
            "padding": null,
            "right": null,
            "top": null,
            "visibility": null,
            "width": null
          }
        },
        "eb562568fd8a42d58dcc70b0d0619572": {
          "model_module": "@jupyter-widgets/controls",
          "model_name": "ProgressStyleModel",
          "model_module_version": "1.5.0",
          "state": {
            "_model_module": "@jupyter-widgets/controls",
            "_model_module_version": "1.5.0",
            "_model_name": "ProgressStyleModel",
            "_view_count": null,
            "_view_module": "@jupyter-widgets/base",
            "_view_module_version": "1.2.0",
            "_view_name": "StyleView",
            "bar_color": null,
            "description_width": ""
          }
        },
        "656b3099cfbd47eda6cbeca9309fc0f9": {
          "model_module": "@jupyter-widgets/base",
          "model_name": "LayoutModel",
          "model_module_version": "1.2.0",
          "state": {
            "_model_module": "@jupyter-widgets/base",
            "_model_module_version": "1.2.0",
            "_model_name": "LayoutModel",
            "_view_count": null,
            "_view_module": "@jupyter-widgets/base",
            "_view_module_version": "1.2.0",
            "_view_name": "LayoutView",
            "align_content": null,
            "align_items": null,
            "align_self": null,
            "border": null,
            "bottom": null,
            "display": null,
            "flex": null,
            "flex_flow": null,
            "grid_area": null,
            "grid_auto_columns": null,
            "grid_auto_flow": null,
            "grid_auto_rows": null,
            "grid_column": null,
            "grid_gap": null,
            "grid_row": null,
            "grid_template_areas": null,
            "grid_template_columns": null,
            "grid_template_rows": null,
            "height": null,
            "justify_content": null,
            "justify_items": null,
            "left": null,
            "margin": null,
            "max_height": null,
            "max_width": null,
            "min_height": null,
            "min_width": null,
            "object_fit": null,
            "object_position": null,
            "order": null,
            "overflow": null,
            "overflow_x": null,
            "overflow_y": null,
            "padding": null,
            "right": null,
            "top": null,
            "visibility": null,
            "width": null
          }
        },
        "acc3842b4e2640ccb36ccafde88d2994": {
          "model_module": "@jupyter-widgets/controls",
          "model_name": "DescriptionStyleModel",
          "model_module_version": "1.5.0",
          "state": {
            "_model_module": "@jupyter-widgets/controls",
            "_model_module_version": "1.5.0",
            "_model_name": "DescriptionStyleModel",
            "_view_count": null,
            "_view_module": "@jupyter-widgets/base",
            "_view_module_version": "1.2.0",
            "_view_name": "StyleView",
            "description_width": ""
          }
        },
        "c64998a81e7541ea9ec3ed16c0b09214": {
          "model_module": "@jupyter-widgets/controls",
          "model_name": "HBoxModel",
          "model_module_version": "1.5.0",
          "state": {
            "_dom_classes": [],
            "_model_module": "@jupyter-widgets/controls",
            "_model_module_version": "1.5.0",
            "_model_name": "HBoxModel",
            "_view_count": null,
            "_view_module": "@jupyter-widgets/controls",
            "_view_module_version": "1.5.0",
            "_view_name": "HBoxView",
            "box_style": "",
            "children": [
              "IPY_MODEL_6205c98b260e47aaa1291fa454c7c39d",
              "IPY_MODEL_a387a0b50ec4490786b2550d20b76335",
              "IPY_MODEL_cd70bcad91c54896b4f32f3686473516"
            ],
            "layout": "IPY_MODEL_7d4e84d54e7643aabd275b4935419a4b"
          }
        },
        "6205c98b260e47aaa1291fa454c7c39d": {
          "model_module": "@jupyter-widgets/controls",
          "model_name": "HTMLModel",
          "model_module_version": "1.5.0",
          "state": {
            "_dom_classes": [],
            "_model_module": "@jupyter-widgets/controls",
            "_model_module_version": "1.5.0",
            "_model_name": "HTMLModel",
            "_view_count": null,
            "_view_module": "@jupyter-widgets/controls",
            "_view_module_version": "1.5.0",
            "_view_name": "HTMLView",
            "description": "",
            "description_tooltip": null,
            "layout": "IPY_MODEL_929712b9ab724b3baca58103025b4368",
            "placeholder": "​",
            "style": "IPY_MODEL_774746108e824e6b9a49aac2ca5ee868",
            "value": "Downloading (…)lve/main/config.json: 100%"
          }
        },
        "a387a0b50ec4490786b2550d20b76335": {
          "model_module": "@jupyter-widgets/controls",
          "model_name": "FloatProgressModel",
          "model_module_version": "1.5.0",
          "state": {
            "_dom_classes": [],
            "_model_module": "@jupyter-widgets/controls",
            "_model_module_version": "1.5.0",
            "_model_name": "FloatProgressModel",
            "_view_count": null,
            "_view_module": "@jupyter-widgets/controls",
            "_view_module_version": "1.5.0",
            "_view_name": "ProgressView",
            "bar_style": "success",
            "description": "",
            "description_tooltip": null,
            "layout": "IPY_MODEL_3c5e949acab44a17bc13460a2588bc92",
            "max": 570,
            "min": 0,
            "orientation": "horizontal",
            "style": "IPY_MODEL_508733bf64b545358e38b35e7ea8d801",
            "value": 570
          }
        },
        "cd70bcad91c54896b4f32f3686473516": {
          "model_module": "@jupyter-widgets/controls",
          "model_name": "HTMLModel",
          "model_module_version": "1.5.0",
          "state": {
            "_dom_classes": [],
            "_model_module": "@jupyter-widgets/controls",
            "_model_module_version": "1.5.0",
            "_model_name": "HTMLModel",
            "_view_count": null,
            "_view_module": "@jupyter-widgets/controls",
            "_view_module_version": "1.5.0",
            "_view_name": "HTMLView",
            "description": "",
            "description_tooltip": null,
            "layout": "IPY_MODEL_13a9f8f865d746c3af5c1abd5f94fb32",
            "placeholder": "​",
            "style": "IPY_MODEL_fc00d7427d224b4cb524d7a8ed31293f",
            "value": " 570/570 [00:00&lt;00:00, 34.1kB/s]"
          }
        },
        "7d4e84d54e7643aabd275b4935419a4b": {
          "model_module": "@jupyter-widgets/base",
          "model_name": "LayoutModel",
          "model_module_version": "1.2.0",
          "state": {
            "_model_module": "@jupyter-widgets/base",
            "_model_module_version": "1.2.0",
            "_model_name": "LayoutModel",
            "_view_count": null,
            "_view_module": "@jupyter-widgets/base",
            "_view_module_version": "1.2.0",
            "_view_name": "LayoutView",
            "align_content": null,
            "align_items": null,
            "align_self": null,
            "border": null,
            "bottom": null,
            "display": null,
            "flex": null,
            "flex_flow": null,
            "grid_area": null,
            "grid_auto_columns": null,
            "grid_auto_flow": null,
            "grid_auto_rows": null,
            "grid_column": null,
            "grid_gap": null,
            "grid_row": null,
            "grid_template_areas": null,
            "grid_template_columns": null,
            "grid_template_rows": null,
            "height": null,
            "justify_content": null,
            "justify_items": null,
            "left": null,
            "margin": null,
            "max_height": null,
            "max_width": null,
            "min_height": null,
            "min_width": null,
            "object_fit": null,
            "object_position": null,
            "order": null,
            "overflow": null,
            "overflow_x": null,
            "overflow_y": null,
            "padding": null,
            "right": null,
            "top": null,
            "visibility": null,
            "width": null
          }
        },
        "929712b9ab724b3baca58103025b4368": {
          "model_module": "@jupyter-widgets/base",
          "model_name": "LayoutModel",
          "model_module_version": "1.2.0",
          "state": {
            "_model_module": "@jupyter-widgets/base",
            "_model_module_version": "1.2.0",
            "_model_name": "LayoutModel",
            "_view_count": null,
            "_view_module": "@jupyter-widgets/base",
            "_view_module_version": "1.2.0",
            "_view_name": "LayoutView",
            "align_content": null,
            "align_items": null,
            "align_self": null,
            "border": null,
            "bottom": null,
            "display": null,
            "flex": null,
            "flex_flow": null,
            "grid_area": null,
            "grid_auto_columns": null,
            "grid_auto_flow": null,
            "grid_auto_rows": null,
            "grid_column": null,
            "grid_gap": null,
            "grid_row": null,
            "grid_template_areas": null,
            "grid_template_columns": null,
            "grid_template_rows": null,
            "height": null,
            "justify_content": null,
            "justify_items": null,
            "left": null,
            "margin": null,
            "max_height": null,
            "max_width": null,
            "min_height": null,
            "min_width": null,
            "object_fit": null,
            "object_position": null,
            "order": null,
            "overflow": null,
            "overflow_x": null,
            "overflow_y": null,
            "padding": null,
            "right": null,
            "top": null,
            "visibility": null,
            "width": null
          }
        },
        "774746108e824e6b9a49aac2ca5ee868": {
          "model_module": "@jupyter-widgets/controls",
          "model_name": "DescriptionStyleModel",
          "model_module_version": "1.5.0",
          "state": {
            "_model_module": "@jupyter-widgets/controls",
            "_model_module_version": "1.5.0",
            "_model_name": "DescriptionStyleModel",
            "_view_count": null,
            "_view_module": "@jupyter-widgets/base",
            "_view_module_version": "1.2.0",
            "_view_name": "StyleView",
            "description_width": ""
          }
        },
        "3c5e949acab44a17bc13460a2588bc92": {
          "model_module": "@jupyter-widgets/base",
          "model_name": "LayoutModel",
          "model_module_version": "1.2.0",
          "state": {
            "_model_module": "@jupyter-widgets/base",
            "_model_module_version": "1.2.0",
            "_model_name": "LayoutModel",
            "_view_count": null,
            "_view_module": "@jupyter-widgets/base",
            "_view_module_version": "1.2.0",
            "_view_name": "LayoutView",
            "align_content": null,
            "align_items": null,
            "align_self": null,
            "border": null,
            "bottom": null,
            "display": null,
            "flex": null,
            "flex_flow": null,
            "grid_area": null,
            "grid_auto_columns": null,
            "grid_auto_flow": null,
            "grid_auto_rows": null,
            "grid_column": null,
            "grid_gap": null,
            "grid_row": null,
            "grid_template_areas": null,
            "grid_template_columns": null,
            "grid_template_rows": null,
            "height": null,
            "justify_content": null,
            "justify_items": null,
            "left": null,
            "margin": null,
            "max_height": null,
            "max_width": null,
            "min_height": null,
            "min_width": null,
            "object_fit": null,
            "object_position": null,
            "order": null,
            "overflow": null,
            "overflow_x": null,
            "overflow_y": null,
            "padding": null,
            "right": null,
            "top": null,
            "visibility": null,
            "width": null
          }
        },
        "508733bf64b545358e38b35e7ea8d801": {
          "model_module": "@jupyter-widgets/controls",
          "model_name": "ProgressStyleModel",
          "model_module_version": "1.5.0",
          "state": {
            "_model_module": "@jupyter-widgets/controls",
            "_model_module_version": "1.5.0",
            "_model_name": "ProgressStyleModel",
            "_view_count": null,
            "_view_module": "@jupyter-widgets/base",
            "_view_module_version": "1.2.0",
            "_view_name": "StyleView",
            "bar_color": null,
            "description_width": ""
          }
        },
        "13a9f8f865d746c3af5c1abd5f94fb32": {
          "model_module": "@jupyter-widgets/base",
          "model_name": "LayoutModel",
          "model_module_version": "1.2.0",
          "state": {
            "_model_module": "@jupyter-widgets/base",
            "_model_module_version": "1.2.0",
            "_model_name": "LayoutModel",
            "_view_count": null,
            "_view_module": "@jupyter-widgets/base",
            "_view_module_version": "1.2.0",
            "_view_name": "LayoutView",
            "align_content": null,
            "align_items": null,
            "align_self": null,
            "border": null,
            "bottom": null,
            "display": null,
            "flex": null,
            "flex_flow": null,
            "grid_area": null,
            "grid_auto_columns": null,
            "grid_auto_flow": null,
            "grid_auto_rows": null,
            "grid_column": null,
            "grid_gap": null,
            "grid_row": null,
            "grid_template_areas": null,
            "grid_template_columns": null,
            "grid_template_rows": null,
            "height": null,
            "justify_content": null,
            "justify_items": null,
            "left": null,
            "margin": null,
            "max_height": null,
            "max_width": null,
            "min_height": null,
            "min_width": null,
            "object_fit": null,
            "object_position": null,
            "order": null,
            "overflow": null,
            "overflow_x": null,
            "overflow_y": null,
            "padding": null,
            "right": null,
            "top": null,
            "visibility": null,
            "width": null
          }
        },
        "fc00d7427d224b4cb524d7a8ed31293f": {
          "model_module": "@jupyter-widgets/controls",
          "model_name": "DescriptionStyleModel",
          "model_module_version": "1.5.0",
          "state": {
            "_model_module": "@jupyter-widgets/controls",
            "_model_module_version": "1.5.0",
            "_model_name": "DescriptionStyleModel",
            "_view_count": null,
            "_view_module": "@jupyter-widgets/base",
            "_view_module_version": "1.2.0",
            "_view_name": "StyleView",
            "description_width": ""
          }
        },
        "32348636ecbf492b97460eaa0fb0a6a4": {
          "model_module": "@jupyter-widgets/controls",
          "model_name": "HBoxModel",
          "model_module_version": "1.5.0",
          "state": {
            "_dom_classes": [],
            "_model_module": "@jupyter-widgets/controls",
            "_model_module_version": "1.5.0",
            "_model_name": "HBoxModel",
            "_view_count": null,
            "_view_module": "@jupyter-widgets/controls",
            "_view_module_version": "1.5.0",
            "_view_name": "HBoxView",
            "box_style": "",
            "children": [
              "IPY_MODEL_bacfbdc692ac42828e7c20911d3b7faa",
              "IPY_MODEL_2247efcff4144f77973bfcb9dbb761a1",
              "IPY_MODEL_2654e3ba845847dcafb1e77a1d408d8f"
            ],
            "layout": "IPY_MODEL_176aeda77bf0467eb69c3ed68dd4e07f"
          }
        },
        "bacfbdc692ac42828e7c20911d3b7faa": {
          "model_module": "@jupyter-widgets/controls",
          "model_name": "HTMLModel",
          "model_module_version": "1.5.0",
          "state": {
            "_dom_classes": [],
            "_model_module": "@jupyter-widgets/controls",
            "_model_module_version": "1.5.0",
            "_model_name": "HTMLModel",
            "_view_count": null,
            "_view_module": "@jupyter-widgets/controls",
            "_view_module_version": "1.5.0",
            "_view_name": "HTMLView",
            "description": "",
            "description_tooltip": null,
            "layout": "IPY_MODEL_3cfd16c8cb5140b4b74733592abebe5b",
            "placeholder": "​",
            "style": "IPY_MODEL_dd592bd92f1f4be38793014fdf7a83a0",
            "value": "Downloading tf_model.h5: 100%"
          }
        },
        "2247efcff4144f77973bfcb9dbb761a1": {
          "model_module": "@jupyter-widgets/controls",
          "model_name": "FloatProgressModel",
          "model_module_version": "1.5.0",
          "state": {
            "_dom_classes": [],
            "_model_module": "@jupyter-widgets/controls",
            "_model_module_version": "1.5.0",
            "_model_name": "FloatProgressModel",
            "_view_count": null,
            "_view_module": "@jupyter-widgets/controls",
            "_view_module_version": "1.5.0",
            "_view_name": "ProgressView",
            "bar_style": "success",
            "description": "",
            "description_tooltip": null,
            "layout": "IPY_MODEL_bb0b06449b0d400db138ee8ca4163e6b",
            "max": 536063208,
            "min": 0,
            "orientation": "horizontal",
            "style": "IPY_MODEL_8e5e77311e404ef2ba5d4e589baa072c",
            "value": 536063208
          }
        },
        "2654e3ba845847dcafb1e77a1d408d8f": {
          "model_module": "@jupyter-widgets/controls",
          "model_name": "HTMLModel",
          "model_module_version": "1.5.0",
          "state": {
            "_dom_classes": [],
            "_model_module": "@jupyter-widgets/controls",
            "_model_module_version": "1.5.0",
            "_model_name": "HTMLModel",
            "_view_count": null,
            "_view_module": "@jupyter-widgets/controls",
            "_view_module_version": "1.5.0",
            "_view_name": "HTMLView",
            "description": "",
            "description_tooltip": null,
            "layout": "IPY_MODEL_7acfb7d474bf410e903dc258ac3dd2f0",
            "placeholder": "​",
            "style": "IPY_MODEL_5543938c03344f64bed35402ddd046df",
            "value": " 536M/536M [00:01&lt;00:00, 323MB/s]"
          }
        },
        "176aeda77bf0467eb69c3ed68dd4e07f": {
          "model_module": "@jupyter-widgets/base",
          "model_name": "LayoutModel",
          "model_module_version": "1.2.0",
          "state": {
            "_model_module": "@jupyter-widgets/base",
            "_model_module_version": "1.2.0",
            "_model_name": "LayoutModel",
            "_view_count": null,
            "_view_module": "@jupyter-widgets/base",
            "_view_module_version": "1.2.0",
            "_view_name": "LayoutView",
            "align_content": null,
            "align_items": null,
            "align_self": null,
            "border": null,
            "bottom": null,
            "display": null,
            "flex": null,
            "flex_flow": null,
            "grid_area": null,
            "grid_auto_columns": null,
            "grid_auto_flow": null,
            "grid_auto_rows": null,
            "grid_column": null,
            "grid_gap": null,
            "grid_row": null,
            "grid_template_areas": null,
            "grid_template_columns": null,
            "grid_template_rows": null,
            "height": null,
            "justify_content": null,
            "justify_items": null,
            "left": null,
            "margin": null,
            "max_height": null,
            "max_width": null,
            "min_height": null,
            "min_width": null,
            "object_fit": null,
            "object_position": null,
            "order": null,
            "overflow": null,
            "overflow_x": null,
            "overflow_y": null,
            "padding": null,
            "right": null,
            "top": null,
            "visibility": null,
            "width": null
          }
        },
        "3cfd16c8cb5140b4b74733592abebe5b": {
          "model_module": "@jupyter-widgets/base",
          "model_name": "LayoutModel",
          "model_module_version": "1.2.0",
          "state": {
            "_model_module": "@jupyter-widgets/base",
            "_model_module_version": "1.2.0",
            "_model_name": "LayoutModel",
            "_view_count": null,
            "_view_module": "@jupyter-widgets/base",
            "_view_module_version": "1.2.0",
            "_view_name": "LayoutView",
            "align_content": null,
            "align_items": null,
            "align_self": null,
            "border": null,
            "bottom": null,
            "display": null,
            "flex": null,
            "flex_flow": null,
            "grid_area": null,
            "grid_auto_columns": null,
            "grid_auto_flow": null,
            "grid_auto_rows": null,
            "grid_column": null,
            "grid_gap": null,
            "grid_row": null,
            "grid_template_areas": null,
            "grid_template_columns": null,
            "grid_template_rows": null,
            "height": null,
            "justify_content": null,
            "justify_items": null,
            "left": null,
            "margin": null,
            "max_height": null,
            "max_width": null,
            "min_height": null,
            "min_width": null,
            "object_fit": null,
            "object_position": null,
            "order": null,
            "overflow": null,
            "overflow_x": null,
            "overflow_y": null,
            "padding": null,
            "right": null,
            "top": null,
            "visibility": null,
            "width": null
          }
        },
        "dd592bd92f1f4be38793014fdf7a83a0": {
          "model_module": "@jupyter-widgets/controls",
          "model_name": "DescriptionStyleModel",
          "model_module_version": "1.5.0",
          "state": {
            "_model_module": "@jupyter-widgets/controls",
            "_model_module_version": "1.5.0",
            "_model_name": "DescriptionStyleModel",
            "_view_count": null,
            "_view_module": "@jupyter-widgets/base",
            "_view_module_version": "1.2.0",
            "_view_name": "StyleView",
            "description_width": ""
          }
        },
        "bb0b06449b0d400db138ee8ca4163e6b": {
          "model_module": "@jupyter-widgets/base",
          "model_name": "LayoutModel",
          "model_module_version": "1.2.0",
          "state": {
            "_model_module": "@jupyter-widgets/base",
            "_model_module_version": "1.2.0",
            "_model_name": "LayoutModel",
            "_view_count": null,
            "_view_module": "@jupyter-widgets/base",
            "_view_module_version": "1.2.0",
            "_view_name": "LayoutView",
            "align_content": null,
            "align_items": null,
            "align_self": null,
            "border": null,
            "bottom": null,
            "display": null,
            "flex": null,
            "flex_flow": null,
            "grid_area": null,
            "grid_auto_columns": null,
            "grid_auto_flow": null,
            "grid_auto_rows": null,
            "grid_column": null,
            "grid_gap": null,
            "grid_row": null,
            "grid_template_areas": null,
            "grid_template_columns": null,
            "grid_template_rows": null,
            "height": null,
            "justify_content": null,
            "justify_items": null,
            "left": null,
            "margin": null,
            "max_height": null,
            "max_width": null,
            "min_height": null,
            "min_width": null,
            "object_fit": null,
            "object_position": null,
            "order": null,
            "overflow": null,
            "overflow_x": null,
            "overflow_y": null,
            "padding": null,
            "right": null,
            "top": null,
            "visibility": null,
            "width": null
          }
        },
        "8e5e77311e404ef2ba5d4e589baa072c": {
          "model_module": "@jupyter-widgets/controls",
          "model_name": "ProgressStyleModel",
          "model_module_version": "1.5.0",
          "state": {
            "_model_module": "@jupyter-widgets/controls",
            "_model_module_version": "1.5.0",
            "_model_name": "ProgressStyleModel",
            "_view_count": null,
            "_view_module": "@jupyter-widgets/base",
            "_view_module_version": "1.2.0",
            "_view_name": "StyleView",
            "bar_color": null,
            "description_width": ""
          }
        },
        "7acfb7d474bf410e903dc258ac3dd2f0": {
          "model_module": "@jupyter-widgets/base",
          "model_name": "LayoutModel",
          "model_module_version": "1.2.0",
          "state": {
            "_model_module": "@jupyter-widgets/base",
            "_model_module_version": "1.2.0",
            "_model_name": "LayoutModel",
            "_view_count": null,
            "_view_module": "@jupyter-widgets/base",
            "_view_module_version": "1.2.0",
            "_view_name": "LayoutView",
            "align_content": null,
            "align_items": null,
            "align_self": null,
            "border": null,
            "bottom": null,
            "display": null,
            "flex": null,
            "flex_flow": null,
            "grid_area": null,
            "grid_auto_columns": null,
            "grid_auto_flow": null,
            "grid_auto_rows": null,
            "grid_column": null,
            "grid_gap": null,
            "grid_row": null,
            "grid_template_areas": null,
            "grid_template_columns": null,
            "grid_template_rows": null,
            "height": null,
            "justify_content": null,
            "justify_items": null,
            "left": null,
            "margin": null,
            "max_height": null,
            "max_width": null,
            "min_height": null,
            "min_width": null,
            "object_fit": null,
            "object_position": null,
            "order": null,
            "overflow": null,
            "overflow_x": null,
            "overflow_y": null,
            "padding": null,
            "right": null,
            "top": null,
            "visibility": null,
            "width": null
          }
        },
        "5543938c03344f64bed35402ddd046df": {
          "model_module": "@jupyter-widgets/controls",
          "model_name": "DescriptionStyleModel",
          "model_module_version": "1.5.0",
          "state": {
            "_model_module": "@jupyter-widgets/controls",
            "_model_module_version": "1.5.0",
            "_model_name": "DescriptionStyleModel",
            "_view_count": null,
            "_view_module": "@jupyter-widgets/base",
            "_view_module_version": "1.2.0",
            "_view_name": "StyleView",
            "description_width": ""
          }
        }
      }
    }
  },
  "nbformat": 4,
  "nbformat_minor": 5
}