{
 "cells": [
  {
   "cell_type": "markdown",
   "id": "16c2fb79",
   "metadata": {},
   "source": [
    "<div style=\"background-color: #1DA1F2; padding: 20px;\"><b><h1> Descifrando el lenguaje emocional en Twitter: Un análisis predictivo basado en aprendizaje automático. </h1></b></div>"
   ]
  },
  {
   "cell_type": "markdown",
   "id": "98964068",
   "metadata": {},
   "source": [
    "**Autor**: Neivys Luz González Gómez"
   ]
  },
  {
   "cell_type": "markdown",
   "id": "e688086f",
   "metadata": {},
   "source": [
    "La identificación de emociones es una tarea fundamental en el campo del procesamiento de lenguaje natural, que se enfoca en clasificar textos según su tono emocional. A pesar de que el objetivo es identificar una amplia variedad de emociones humanas, la mayoría de los conjuntos de datos disponibles se limitan a las polaridades positiva, negativa y, en ocasiones, neutral.\n",
    "\n",
    "Detectar emociones a partir de textos es un reto complejo en el procesamiento del lenguaje natural, ya que se trata de un problema de clasificación multiclase y, en muchas ocasiones, no hay suficientes datos etiquetados disponibles. Sin embargo, este conjunto de datos etiquetado proporciona la oportunidad de aplicar diversas técnicas de análisis exploratorio y modelado para entender mejor la dinámica emocional en las redes sociales y mejorar la capacidad de detección en tiempo real.\n",
    "\n",
    "El conjunto de datos de emociones se obtiene a partir de mensajes en inglés de Twitter y contiene seis emociones básicas: neutralidad, preocupación, felicidad, tristeza, amor, sorpresa, diversión, alivio, odio, vacío, entusiasmo y aburrimiento. Este conjunto de datos ofrece una variedad más amplia de emociones humanas, lo que permite el entrenamiento y la evaluación de modelos de análisis de sentimientos con mayor precisión y exhaustividad."
   ]
  },
  {
   "cell_type": "markdown",
   "id": "5338c1f3",
   "metadata": {},
   "source": [
    "<div class=\"alert alert-info alert-info\"><b><h3>Objetivo General</h3></b>\n",
    "    \n",
    "**Desarrollar un modelo que permita detectar emociones en los tweets y analizar patrones en el lenguaje utilizado en Twitter para ayudar en la detección temprana de trastornos emocionales como la depresión, la ansiedad, entre otros.**\n",
    "</div>"
   ]
  },
  {
   "cell_type": "markdown",
   "id": "e3a51b43",
   "metadata": {},
   "source": [
    "---"
   ]
  },
  {
   "cell_type": "markdown",
   "id": "933c744d",
   "metadata": {},
   "source": [
    "# Notebook N° 4: Modelo ML Clasificación - Emociones catalogadas "
   ]
  },
  {
   "cell_type": "markdown",
   "id": "204a79b8",
   "metadata": {},
   "source": [
    "<div class=\"alert alert-block alert-warning\">\n",
    "<b><h1>Descripción de las Variables</h1></b> \n",
    "</div>"
   ]
  },
  {
   "cell_type": "markdown",
   "id": "42b56a3d",
   "metadata": {},
   "source": [
    "Se dispone de un conjunto de datos proveniente de data.world, una plataforma que proporciona acceso a conjuntos de datos públicos. Este dataset consiste en una colección de tweets etiquetados con la emoción que expresan. Contiene cuatro columnas que incluyen el identificador del tweet, el sentimiento expresado, el autor y el contenido del tweet. En total, se tienen 40,000 registros con anotaciones para 13 emociones distintas. "
   ]
  },
  {
   "cell_type": "markdown",
   "id": "6febfa72",
   "metadata": {},
   "source": [
    "<img src=\"Notebook.jpg\">"
   ]
  },
  {
   "cell_type": "markdown",
   "id": "b8ad62d6",
   "metadata": {},
   "source": [
    "---"
   ]
  },
  {
   "cell_type": "code",
   "execution_count": 1,
   "id": "eebecf44",
   "metadata": {
    "run_control": {
     "marked": false
    }
   },
   "outputs": [
    {
     "name": "stderr",
     "output_type": "stream",
     "text": [
      "[nltk_data] Downloading package punkt to\n",
      "[nltk_data]     C:\\Users\\Lenovo\\AppData\\Roaming\\nltk_data...\n",
      "[nltk_data]   Package punkt is already up-to-date!\n",
      "[nltk_data] Downloading package stopwords to\n",
      "[nltk_data]     C:\\Users\\Lenovo\\AppData\\Roaming\\nltk_data...\n",
      "[nltk_data]   Package stopwords is already up-to-date!\n",
      "[nltk_data] Downloading package wordnet to\n",
      "[nltk_data]     C:\\Users\\Lenovo\\AppData\\Roaming\\nltk_data...\n",
      "[nltk_data]   Package wordnet is already up-to-date!\n",
      "[nltk_data] Downloading package omw-1.4 to\n",
      "[nltk_data]     C:\\Users\\Lenovo\\AppData\\Roaming\\nltk_data...\n",
      "[nltk_data]   Package omw-1.4 is already up-to-date!\n",
      "[nltk_data] Downloading package averaged_perceptron_tagger to\n",
      "[nltk_data]     C:\\Users\\Lenovo\\AppData\\Roaming\\nltk_data...\n",
      "[nltk_data]   Package averaged_perceptron_tagger is already up-to-\n",
      "[nltk_data]       date!\n"
     ]
    }
   ],
   "source": [
    "#import libraries\n",
    "import pandas as pd\n",
    "import numpy as np\n",
    "import math\n",
    "import matplotlib.pyplot as plt\n",
    "import seaborn as sns\n",
    "\n",
    "import re\n",
    "import string\n",
    "\n",
    "#import NLTK\n",
    "import nltk\n",
    "nltk.download('punkt') #Punkt es una biblioteca que se utiliza para tokenizar frases en lenguaje natural\n",
    "nltk.download('stopwords') # library \"stopwords\"\n",
    "nltk.download('wordnet') # \n",
    "nltk.download('omw-1.4') #\n",
    "nltk.download('averaged_perceptron_tagger')\n",
    "\n",
    "from nltk.tokenize import word_tokenize\n",
    "from nltk.tokenize import sent_tokenize\n",
    "from nltk.stem.wordnet import WordNetLemmatizer\n",
    "from nltk.tokenize import RegexpTokenizer\n",
    "\n",
    "#import librerias de pre-procesamiento y normalizacion\n",
    "from nltk.corpus import stopwords\n",
    "from nltk.stem import PorterStemmer\n",
    "from nltk.corpus import wordnet\n",
    "from nltk.tag import pos_tag\n",
    "\n",
    "import warnings\n",
    "warnings.filterwarnings('ignore')"
   ]
  },
  {
   "cell_type": "code",
   "execution_count": 2,
   "id": "96a20d8a",
   "metadata": {
    "run_control": {
     "marked": false
    }
   },
   "outputs": [],
   "source": [
    "#Librerias de sklearn\n",
    "from sklearn.pipeline import Pipeline, FeatureUnion\n",
    "from sklearn.model_selection import train_test_split\n",
    "from sklearn.feature_extraction.text import CountVectorizer\n",
    "from sklearn.preprocessing import FunctionTransformer, LabelEncoder, StandardScaler\n",
    "from sklearn.impute import SimpleImputer\n",
    "from sklearn.metrics import accuracy_score\n",
    "from sklearn.metrics import classification_report\n",
    "from sklearn.model_selection import GridSearchCV, RepeatedStratifiedKFold\n",
    "from sklearn.pipeline import Pipeline\n",
    "from sklearn.preprocessing import Binarizer\n",
    "import sklearn.preprocessing as preprocessing\n",
    "from sklearn.discriminant_analysis import LinearDiscriminantAnalysis\n",
    "from sklearn.naive_bayes import GaussianNB\n",
    "from sklearn.svm import SVC\n",
    "from sklearn.linear_model import SGDClassifier, Perceptron, PassiveAggressiveClassifier\n",
    "from sklearn.naive_bayes import MultinomialNB, BernoulliNB\n",
    "from xgboost import XGBClassifier\n",
    "from sklearn.model_selection import cross_val_score\n",
    "from sklearn.feature_extraction.text import TfidfTransformer\n",
    "from sklearn.pipeline import Pipeline\n",
    "from sklearn import metrics\n",
    "from sklearn.metrics import confusion_matrix\n",
    "from sklearn.metrics import f1_score\n",
    "from sklearn.model_selection import GridSearchCV\n",
    "import imblearn\n",
    "from imblearn.over_sampling import SMOTE"
   ]
  },
  {
   "cell_type": "markdown",
   "id": "af241c3e",
   "metadata": {},
   "source": [
    "---"
   ]
  },
  {
   "cell_type": "markdown",
   "id": "023cc194",
   "metadata": {},
   "source": [
    "<div class=\"alert alert-block alert-info\">\n",
    "<b><h2> Cargar Dataset.</h2></b> \n",
    "</div>"
   ]
  },
  {
   "cell_type": "code",
   "execution_count": 3,
   "id": "97f07eab",
   "metadata": {},
   "outputs": [],
   "source": [
    "df = pd.read_pickle('C:/Users/Lenovo/Documents/Barcelona/IT/Data/Proyecto/dataset1.pickle')"
   ]
  },
  {
   "cell_type": "code",
   "execution_count": 4,
   "id": "b92b8fdd",
   "metadata": {},
   "outputs": [
    {
     "data": {
      "text/html": [
       "<div>\n",
       "<style scoped>\n",
       "    .dataframe tbody tr th:only-of-type {\n",
       "        vertical-align: middle;\n",
       "    }\n",
       "\n",
       "    .dataframe tbody tr th {\n",
       "        vertical-align: top;\n",
       "    }\n",
       "\n",
       "    .dataframe thead th {\n",
       "        text-align: right;\n",
       "    }\n",
       "</style>\n",
       "<table border=\"1\" class=\"dataframe\">\n",
       "  <thead>\n",
       "    <tr style=\"text-align: right;\">\n",
       "      <th></th>\n",
       "      <th>content</th>\n",
       "      <th>sentiment_label</th>\n",
       "    </tr>\n",
       "  </thead>\n",
       "  <tbody>\n",
       "    <tr>\n",
       "      <th>0</th>\n",
       "      <td>layin bed headache ughhhhwaitin call</td>\n",
       "      <td>9</td>\n",
       "    </tr>\n",
       "    <tr>\n",
       "      <th>1</th>\n",
       "      <td>funeral ceremonygloomy friday</td>\n",
       "      <td>9</td>\n",
       "    </tr>\n",
       "    <tr>\n",
       "      <th>2</th>\n",
       "      <td>want hang friend soon</td>\n",
       "      <td>2</td>\n",
       "    </tr>\n",
       "    <tr>\n",
       "      <th>3</th>\n",
       "      <td>want trade someone houston ticket one</td>\n",
       "      <td>7</td>\n",
       "    </tr>\n",
       "    <tr>\n",
       "      <th>4</th>\n",
       "      <td>repinging didnt go prom bc bf didnt like friend</td>\n",
       "      <td>11</td>\n",
       "    </tr>\n",
       "    <tr>\n",
       "      <th>...</th>\n",
       "      <td>...</td>\n",
       "      <td>...</td>\n",
       "    </tr>\n",
       "    <tr>\n",
       "      <th>38983</th>\n",
       "      <td>succesfully following tayla</td>\n",
       "      <td>4</td>\n",
       "    </tr>\n",
       "    <tr>\n",
       "      <th>38984</th>\n",
       "      <td>happy mother day love</td>\n",
       "      <td>6</td>\n",
       "    </tr>\n",
       "    <tr>\n",
       "      <th>38985</th>\n",
       "      <td>happy mother day mommy woman man long youre mo...</td>\n",
       "      <td>6</td>\n",
       "    </tr>\n",
       "    <tr>\n",
       "      <th>38986</th>\n",
       "      <td>wassup beautiful follow peep new hit single ww...</td>\n",
       "      <td>4</td>\n",
       "    </tr>\n",
       "    <tr>\n",
       "      <th>38987</th>\n",
       "      <td>bullet train tokyo gf visiting japan since thu...</td>\n",
       "      <td>6</td>\n",
       "    </tr>\n",
       "  </tbody>\n",
       "</table>\n",
       "<p>38988 rows × 2 columns</p>\n",
       "</div>"
      ],
      "text/plain": [
       "                                                 content  sentiment_label\n",
       "0                   layin bed headache ughhhhwaitin call                9\n",
       "1                          funeral ceremonygloomy friday                9\n",
       "2                                  want hang friend soon                2\n",
       "3                  want trade someone houston ticket one                7\n",
       "4        repinging didnt go prom bc bf didnt like friend               11\n",
       "...                                                  ...              ...\n",
       "38983                        succesfully following tayla                4\n",
       "38984                              happy mother day love                6\n",
       "38985  happy mother day mommy woman man long youre mo...                6\n",
       "38986  wassup beautiful follow peep new hit single ww...                4\n",
       "38987  bullet train tokyo gf visiting japan since thu...                6\n",
       "\n",
       "[38988 rows x 2 columns]"
      ]
     },
     "execution_count": 4,
     "metadata": {},
     "output_type": "execute_result"
    }
   ],
   "source": [
    "df"
   ]
  },
  {
   "cell_type": "markdown",
   "id": "d25b6fb8",
   "metadata": {},
   "source": [
    "## 1. Preparación del Dataset"
   ]
  },
  {
   "cell_type": "code",
   "execution_count": 5,
   "id": "537e7eb7",
   "metadata": {},
   "outputs": [
    {
     "name": "stdout",
     "output_type": "stream",
     "text": [
      "<class 'pandas.core.frame.DataFrame'>\n",
      "RangeIndex: 38988 entries, 0 to 38987\n",
      "Data columns (total 2 columns):\n",
      " #   Column           Non-Null Count  Dtype \n",
      "---  ------           --------------  ----- \n",
      " 0   content          38988 non-null  object\n",
      " 1   sentiment_label  38988 non-null  int32 \n",
      "dtypes: int32(1), object(1)\n",
      "memory usage: 457.0+ KB\n"
     ]
    }
   ],
   "source": [
    "df.info()"
   ]
  },
  {
   "cell_type": "markdown",
   "id": "47e6d913",
   "metadata": {},
   "source": [
    "### 1.1 Verificar nulos y NaM"
   ]
  },
  {
   "cell_type": "code",
   "execution_count": 6,
   "id": "0f5b13b2",
   "metadata": {},
   "outputs": [
    {
     "data": {
      "text/plain": [
       "content            0\n",
       "sentiment_label    0\n",
       "dtype: int64"
      ]
     },
     "execution_count": 6,
     "metadata": {},
     "output_type": "execute_result"
    }
   ],
   "source": [
    "df.isnull().sum()"
   ]
  },
  {
   "cell_type": "code",
   "execution_count": 7,
   "id": "74d92952",
   "metadata": {},
   "outputs": [
    {
     "data": {
      "text/plain": [
       "content            0\n",
       "sentiment_label    0\n",
       "dtype: int64"
      ]
     },
     "execution_count": 7,
     "metadata": {},
     "output_type": "execute_result"
    }
   ],
   "source": [
    "df.isna().sum()"
   ]
  },
  {
   "cell_type": "markdown",
   "id": "ed23fdb1",
   "metadata": {},
   "source": [
    "<h3>Observaciones:</h3>\n",
    "\n",
    "   *  Se puede observar que el data set no tiene valores nulos o NaN. \n",
    "   *  Se puede observar que el data set no tiene valores duplicados.  \n",
    "   *  Las variables de importancia para el estudio son del tipo objeto. \n",
    "   *  El dataset posee 40000 filas y 4 columnas."
   ]
  },
  {
   "cell_type": "markdown",
   "id": "3c459450",
   "metadata": {},
   "source": [
    "## 2. Modelo"
   ]
  },
  {
   "cell_type": "markdown",
   "id": "b9cc7adc",
   "metadata": {},
   "source": [
    "### 2.1 Se define el target y la feature"
   ]
  },
  {
   "cell_type": "code",
   "execution_count": 8,
   "id": "e3630c14",
   "metadata": {},
   "outputs": [],
   "source": [
    "# Se define el target y la feature\n",
    "X = df['content']\n",
    "y = df['sentiment_label']"
   ]
  },
  {
   "cell_type": "code",
   "execution_count": 9,
   "id": "ac70c8a3",
   "metadata": {},
   "outputs": [
    {
     "data": {
      "text/plain": [
       "7     8503\n",
       "11    8439\n",
       "4     5204\n",
       "9     5157\n",
       "6     3837\n",
       "10    2180\n",
       "3     1775\n",
       "8     1524\n",
       "5     1321\n",
       "2      759\n",
       "1      179\n",
       "0      110\n",
       "Name: sentiment_label, dtype: int64"
      ]
     },
     "execution_count": 9,
     "metadata": {},
     "output_type": "execute_result"
    }
   ],
   "source": [
    "y.value_counts()"
   ]
  },
  {
   "cell_type": "code",
   "execution_count": 10,
   "id": "be4c571d",
   "metadata": {},
   "outputs": [
    {
     "data": {
      "text/plain": [
       "0               layin bed headache ughhhhwaitin call\n",
       "1                      funeral ceremonygloomy friday\n",
       "2                              want hang friend soon\n",
       "3              want trade someone houston ticket one\n",
       "4    repinging didnt go prom bc bf didnt like friend\n",
       "Name: content, dtype: object"
      ]
     },
     "execution_count": 10,
     "metadata": {},
     "output_type": "execute_result"
    }
   ],
   "source": [
    "X.head()"
   ]
  },
  {
   "cell_type": "code",
   "execution_count": 11,
   "id": "342edd0a",
   "metadata": {},
   "outputs": [],
   "source": [
    "# Separamos los datos en conjuntos de entrenamiento y prueba\n",
    "X_train, X_test, y_train, y_test = train_test_split(X, y, test_size=0.30, random_state=42)"
   ]
  },
  {
   "cell_type": "code",
   "execution_count": 12,
   "id": "4c0d7e9d",
   "metadata": {},
   "outputs": [
    {
     "name": "stdout",
     "output_type": "stream",
     "text": [
      "X_train shape: (27291,)\n",
      "X_test shape: (11697,)\n",
      "y_train shape: (27291,)\n",
      "y_test shape: (11697,)\n"
     ]
    }
   ],
   "source": [
    "print(\"X_train shape:\", X_train.shape)\n",
    "print(\"X_test shape:\", X_test.shape)\n",
    "print(\"y_train shape:\", y_train.shape)\n",
    "print(\"y_test shape:\", y_test.shape)"
   ]
  },
  {
   "cell_type": "markdown",
   "id": "47bb8d4c",
   "metadata": {},
   "source": [
    "### 2.2 Vectorización"
   ]
  },
  {
   "cell_type": "markdown",
   "id": "3b2b6273",
   "metadata": {},
   "source": [
    "En la actualidad, contamos con cada texto registrado en formato de cadena, lo cual no es útil para nuestros modelos. Para poder trabajar con ellos, debemos transformar cada registro en un vector. Para mejorar la precisión del modelo de clasificación multitarget, se utilizaran dos técnicas de vectorización de texto: **CountVectorizer** y **TF-IDF**. \n",
    "\n",
    "La técnica bag-of-words cuenta la frecuencia de cada palabra en un documento, mientras que TF-IDF pondera las palabras según su importancia en un documento. Al utilizar ambas técnicas, se espera capturar tanto la frecuencia como la importancia de las palabras en el texto, lo que debería mejorar la capacidad del modelo para identificar patrones y realizar predicciones precisas en los datos de prueba.\""
   ]
  },
  {
   "cell_type": "markdown",
   "id": "a966ac68",
   "metadata": {},
   "source": [
    "* **CountVectorizer**"
   ]
  },
  {
   "cell_type": "code",
   "execution_count": 13,
   "id": "3a83f3b9",
   "metadata": {},
   "outputs": [],
   "source": [
    "# Tokenizer to remove unwanted elements from our data like symbols and numbers\n",
    "token = RegexpTokenizer(r'[a-zA-Z0-9]+')\n",
    "\n",
    "# Fit the CountVectorizer to the training data\n",
    "cv = CountVectorizer(lowercase=False, stop_words='english', ngram_range=(1,1), tokenizer=token.tokenize)\n",
    "X_train_vec = cv.fit_transform(X_train)\n",
    "\n",
    "# Transform the test data using the same CountVectorizer object\n",
    "X_test_vec = cv.transform(X_test)\n",
    "X_vec = cv.fit_transform(X)"
   ]
  },
  {
   "cell_type": "markdown",
   "id": "c244b613",
   "metadata": {},
   "source": [
    "* **TF-IDF**"
   ]
  },
  {
   "cell_type": "code",
   "execution_count": 14,
   "id": "727a9c17",
   "metadata": {},
   "outputs": [],
   "source": [
    "from sklearn.feature_extraction.text import TfidfTransformer\n",
    "# We are using transformer here\n",
    "tfidf = TfidfTransformer()\n",
    "\n",
    "tfidf.fit(X_train_vec)\n",
    "X_train_tfidf = tfidf.transform(X_train_vec)\n",
    "X_test_tfidf = tfidf.transform(X_test_vec)"
   ]
  },
  {
   "cell_type": "markdown",
   "id": "92514f43",
   "metadata": {},
   "source": [
    "### 2.3 Evaluación de modelos."
   ]
  },
  {
   "cell_type": "code",
   "execution_count": 15,
   "id": "961af7cc",
   "metadata": {},
   "outputs": [],
   "source": [
    "# Seleccionar los mejores modelos a evaluar\n",
    "classifiers = [\n",
    "    SVC(),\n",
    "    SGDClassifier(),\n",
    "    MultinomialNB(),\n",
    "    BernoulliNB(),\n",
    "    XGBClassifier(),\n",
    "]"
   ]
  },
  {
   "cell_type": "code",
   "execution_count": 16,
   "id": "75370e83",
   "metadata": {},
   "outputs": [
    {
     "name": "stdout",
     "output_type": "stream",
     "text": [
      "SVC: 0.345798821157663\n",
      "  fit time: 249.53003s\n",
      "  score time: 26.83634s\n",
      "SGDClassifier: 0.31263482712769586\n",
      "  fit time: 0.88791s\n",
      "  score time: 0.00000s\n",
      "MultinomialNB: 0.3138150411524441\n",
      "  fit time: 0.02367s\n",
      "  score time: 0.00937s\n",
      "BernoulliNB: 0.29839972384667457\n",
      "  fit time: 0.02786s\n",
      "  score time: 0.01707s\n",
      "XGBClassifier: 0.3420285019626156\n",
      "  fit time: 32.04096s\n",
      "  score time: 0.38441s\n"
     ]
    }
   ],
   "source": [
    "import time\n",
    "from sklearn.model_selection import cross_validate\n",
    "\n",
    "score_mean = []\n",
    "score_std = []\n",
    "fit_time = []\n",
    "score_time = []\n",
    "\n",
    "for classifier in classifiers:\n",
    "    start_time = time.time()\n",
    "    scores = cross_validate(classifier, X_vec, y, cv=5, scoring='accuracy', return_train_score=False)\n",
    "    fit_time.append(scores['fit_time'].mean())\n",
    "    score_time.append(scores['score_time'].mean())\n",
    "    score_mean.append(scores['test_score'].mean())\n",
    "    score_std.append(scores['test_score'].std())\n",
    "    print(f'{type(classifier).__name__}: {scores[\"test_score\"].mean()}')\n",
    "    print(f'  fit time: {scores[\"fit_time\"].mean():.5f}s')\n",
    "    print(f'  score time: {scores[\"score_time\"].mean():.5f}s')"
   ]
  },
  {
   "cell_type": "code",
   "execution_count": 17,
   "id": "6dca865d",
   "metadata": {},
   "outputs": [],
   "source": [
    "tabla = pd.DataFrame({\n",
    "    'model': ['SVC', 'SGDClassifier', 'MultinomialNB', 'BernoulliNB', 'XGBClassifier'],\n",
    "    'acc_cv': score_mean,\n",
    "    'acc_std_cv': score_std,\n",
    "    'fit_time': fit_time,\n",
    "    'score_time': score_time\n",
    "})"
   ]
  },
  {
   "cell_type": "code",
   "execution_count": 18,
   "id": "45d55d6d",
   "metadata": {},
   "outputs": [
    {
     "data": {
      "text/html": [
       "<div>\n",
       "<style scoped>\n",
       "    .dataframe tbody tr th:only-of-type {\n",
       "        vertical-align: middle;\n",
       "    }\n",
       "\n",
       "    .dataframe tbody tr th {\n",
       "        vertical-align: top;\n",
       "    }\n",
       "\n",
       "    .dataframe thead th {\n",
       "        text-align: right;\n",
       "    }\n",
       "</style>\n",
       "<table border=\"1\" class=\"dataframe\">\n",
       "  <thead>\n",
       "    <tr style=\"text-align: right;\">\n",
       "      <th></th>\n",
       "      <th>model</th>\n",
       "      <th>acc_cv</th>\n",
       "      <th>acc_std_cv</th>\n",
       "      <th>fit_time</th>\n",
       "      <th>score_time</th>\n",
       "    </tr>\n",
       "  </thead>\n",
       "  <tbody>\n",
       "    <tr>\n",
       "      <th>0</th>\n",
       "      <td>SVC</td>\n",
       "      <td>0.345799</td>\n",
       "      <td>0.023585</td>\n",
       "      <td>249.530033</td>\n",
       "      <td>26.836338</td>\n",
       "    </tr>\n",
       "    <tr>\n",
       "      <th>1</th>\n",
       "      <td>SGDClassifier</td>\n",
       "      <td>0.312635</td>\n",
       "      <td>0.017902</td>\n",
       "      <td>0.887907</td>\n",
       "      <td>0.000000</td>\n",
       "    </tr>\n",
       "    <tr>\n",
       "      <th>2</th>\n",
       "      <td>MultinomialNB</td>\n",
       "      <td>0.313815</td>\n",
       "      <td>0.027019</td>\n",
       "      <td>0.023668</td>\n",
       "      <td>0.009372</td>\n",
       "    </tr>\n",
       "    <tr>\n",
       "      <th>3</th>\n",
       "      <td>BernoulliNB</td>\n",
       "      <td>0.298400</td>\n",
       "      <td>0.017389</td>\n",
       "      <td>0.027857</td>\n",
       "      <td>0.017074</td>\n",
       "    </tr>\n",
       "    <tr>\n",
       "      <th>4</th>\n",
       "      <td>XGBClassifier</td>\n",
       "      <td>0.342029</td>\n",
       "      <td>0.023186</td>\n",
       "      <td>32.040961</td>\n",
       "      <td>0.384412</td>\n",
       "    </tr>\n",
       "  </tbody>\n",
       "</table>\n",
       "</div>"
      ],
      "text/plain": [
       "           model    acc_cv  acc_std_cv    fit_time  score_time\n",
       "0            SVC  0.345799    0.023585  249.530033   26.836338\n",
       "1  SGDClassifier  0.312635    0.017902    0.887907    0.000000\n",
       "2  MultinomialNB  0.313815    0.027019    0.023668    0.009372\n",
       "3    BernoulliNB  0.298400    0.017389    0.027857    0.017074\n",
       "4  XGBClassifier  0.342029    0.023186   32.040961    0.384412"
      ]
     },
     "execution_count": 18,
     "metadata": {},
     "output_type": "execute_result"
    }
   ],
   "source": [
    "tabla"
   ]
  },
  {
   "cell_type": "markdown",
   "id": "0922505c",
   "metadata": {},
   "source": [
    "Los resultados de los cinco modelos de aprendizaje automático evaluados en la tarea de clasificación de emociones de tweets indican que la precisión media de la validación cruzada varía desde el 29.8% hasta el 34.5%, con una desviación estándar que oscila desde el 1.7% hasta el 2.7%. El modelo que presenta la mayor precisión media es el SVC con 0.345799, seguido por el XGBClassifier con 0.342029 y el MultinomialNB con 0.313815. El modelo que presenta la menor precisión media es el BernoulliNB con 0.298400.\n",
    "\n",
    "El modelo SGDClassifier presenta una precisión media de la validación cruzada de 0.312635, con una desviación estándar de 0.017902, lo que lo coloca en el cuarto lugar en términos de precisión media de los cinco modelos evaluados. Además, su tiempo de entrenamiento es bajo en comparación con los otros modelos evaluados, con un valor de 0.887907.\n",
    "\n",
    "En general, los resultados sugieren que los modelos de clasificación evaluados no logran una precisión elevada en la tarea de clasificación de emociones de tweets, lo que sugiere que podrían ser necesarios ajustes en los parámetros de los modelos o en la selección de variables utilizadas en el modelo para mejorar el rendimiento. Además, es importante tener en cuenta que otros factores, como el equilibrio de clases y el costo de los errores, también pueden ser importantes para considerar en la selección del modelo adecuado.\n",
    "\n",
    "En resumen, aunque algunos modelos presentan una precisión media ligeramente más alta que otros, es posible que se requieran ajustes adicionales para mejorar el rendimiento general de los modelos en la clasificación de emociones de tweets. El modelo SGDClassifier podría ser una opción atractiva en situaciones donde se requiere un modelo con un tiempo de entrenamiento rápido, pero si se prioriza la precisión, se podría optar por otro modelo con una precisión media más alta el XGBClassifier."
   ]
  },
  {
   "cell_type": "markdown",
   "id": "a3128e02",
   "metadata": {},
   "source": [
    "## 3. Creación y predicción del modelo base"
   ]
  },
  {
   "cell_type": "code",
   "execution_count": 24,
   "id": "f2c54182",
   "metadata": {},
   "outputs": [],
   "source": [
    "pipe_model = Pipeline([('vector', CountVectorizer()), \n",
    "                 ('tfidf', TfidfTransformer()),  \n",
    "                 ('model', SGDClassifier(random_state=42))])"
   ]
  },
  {
   "cell_type": "code",
   "execution_count": 25,
   "id": "08293ba2",
   "metadata": {},
   "outputs": [
    {
     "name": "stdout",
     "output_type": "stream",
     "text": [
      "0.3146960759169018\n"
     ]
    }
   ],
   "source": [
    "pipe_model.fit(X_train, y_train)\n",
    "y_pred = pipe_model.predict(X_test)\n",
    "print(metrics.accuracy_score(y_test, y_pred))"
   ]
  },
  {
   "cell_type": "code",
   "execution_count": 26,
   "id": "1dddc60e",
   "metadata": {},
   "outputs": [
    {
     "data": {
      "text/plain": [
       "<AxesSubplot:>"
      ]
     },
     "execution_count": 26,
     "metadata": {},
     "output_type": "execute_result"
    },
    {
     "data": {
      "image/png": "[encoded data removed]",
      "text/plain": [
       "<Figure size 640x480 with 2 Axes>"
      ]
     },
     "metadata": {},
     "output_type": "display_data"
    }
   ],
   "source": [
    "labels = np.unique(y_test)\n",
    "cm = confusion_matrix(y_test, y_pred, labels=labels)\n",
    "\n",
    "sns.heatmap(cm, annot=True, fmt='d', cmap='Blues')"
   ]
  },
  {
   "cell_type": "code",
   "execution_count": 27,
   "id": "8fb7501a",
   "metadata": {},
   "outputs": [
    {
     "name": "stdout",
     "output_type": "stream",
     "text": [
      "              precision    recall  f1-score   support\n",
      "\n",
      "           0       0.00      0.00      0.00        32\n",
      "           1       0.00      0.00      0.00        58\n",
      "           2       0.03      0.01      0.01       220\n",
      "           3       0.11      0.05      0.07       547\n",
      "           4       0.29      0.28      0.29      1549\n",
      "           5       0.26      0.22      0.24       375\n",
      "           6       0.37      0.48      0.42      1166\n",
      "           7       0.35      0.40      0.37      2572\n",
      "           8       0.11      0.06      0.08       464\n",
      "           9       0.31      0.29      0.30      1603\n",
      "          10       0.10      0.04      0.06       611\n",
      "          11       0.34      0.41      0.37      2500\n",
      "\n",
      "    accuracy                           0.31     11697\n",
      "   macro avg       0.19      0.19      0.18     11697\n",
      "weighted avg       0.29      0.31      0.30     11697\n",
      "\n"
     ]
    }
   ],
   "source": [
    "# classification_report\n",
    "print(classification_report(y_test, y_pred))"
   ]
  },
  {
   "cell_type": "code",
   "execution_count": 28,
   "id": "edbe355a",
   "metadata": {},
   "outputs": [
    {
     "data": {
      "text/plain": [
       "0.0"
      ]
     },
     "execution_count": 28,
     "metadata": {},
     "output_type": "execute_result"
    }
   ],
   "source": [
    "# Calcula el F1-score\n",
    "f1 = f1_score(y_test, y_pred, average='weighted', labels=[1])\n",
    "f1"
   ]
  },
  {
   "cell_type": "code",
   "execution_count": 29,
   "id": "1ded6be1",
   "metadata": {},
   "outputs": [
    {
     "data": {
      "image/png": "[encoded data removed]",
      "text/plain": [
       "<Figure size 640x480 with 1 Axes>"
      ]
     },
     "metadata": {},
     "output_type": "display_data"
    }
   ],
   "source": [
    "from sklearn.metrics import roc_curve\n",
    "from sklearn.metrics import auc\n",
    "\n",
    "# Obtener las probabilidades de la predicción\n",
    "y_score = pipe_model.decision_function(X_test)\n",
    "\n",
    "# Crear un diccionario con los valores necesarios para graficar la curva AUC-ROC\n",
    "fpr = {}\n",
    "tpr = {}\n",
    "roc_auc = {}\n",
    "for i in range(3):\n",
    "    fpr[i], tpr[i], _ = roc_curve(y_test, y_score[:, i], pos_label=i)\n",
    "    roc_auc[i] = auc(fpr[i], tpr[i])\n",
    "\n",
    "# Graficar la curva AUC-ROC\n",
    "plt.figure()\n",
    "plt.plot(fpr[0], tpr[0], color='darkorange', lw=2, label='ROC curve (area = %0.2f)' % roc_auc[0])\n",
    "plt.plot([0, 1], [0, 1], color='navy', lw=2, linestyle='--')\n",
    "plt.xlim([-0.05, 1.0])\n",
    "plt.ylim([0.0, 1.05])\n",
    "plt.xlabel('False Positive Rate')\n",
    "plt.ylabel('True Positive Rate')\n",
    "plt.title('Receiver operating characteristic SVC')\n",
    "plt.legend(loc=\"lower right\")\n",
    "plt.show()"
   ]
  },
  {
   "cell_type": "markdown",
   "id": "c3a4ac35",
   "metadata": {},
   "source": [
    "Los resultados del modelo muestran una precisión promedio de 0.31, lo que indica que el modelo es capaz de clasificar correctamente el 31% de las muestras. El recall promedio es bajo, con valores inferiores al 50% para todas las clases, lo que indica que el modelo no es capaz de identificar correctamente la mayoría de las muestras de cada clase.\n",
    "\n",
    "El valor F1-score, que es una medida ponderada de precisión y recall, también es bajo para cada clase, con valores que oscilan entre 0.01 y 0.42. La macro media del valor F1-score es de 0.18, lo que indica que el modelo no es capaz de clasificar correctamente la mayoría de las muestras.\n",
    "\n",
    "La curva ROC del modelo tiene un valor de 0.48, lo que sugiere que el modelo tiene una capacidad limitada para distinguir entre las diferentes clases. En general, estos resultados sugieren que el modelo no es muy efectivo para clasificar las emociones de los textos de los tweets, y se necesita mejorar el modelo o recopilar más datos para mejorar la precisión y recall."
   ]
  },
  {
   "cell_type": "markdown",
   "id": "e858f2d3",
   "metadata": {},
   "source": [
    "## 4.  Hiperparametos (Mejores parametros)"
   ]
  },
  {
   "cell_type": "code",
   "execution_count": 30,
   "id": "37d9bf0f",
   "metadata": {
    "scrolled": false
   },
   "outputs": [
    {
     "name": "stdout",
     "output_type": "stream",
     "text": [
      "Fitting 3 folds for each of 144 candidates, totalling 432 fits\n",
      "score 0.3134136958194409\n",
      "-----\n",
      "GridSearchCV:\n",
      "Best score: 0.317\n",
      "Best parameters set:\n",
      "\tmodel__alpha: 0.001\n",
      "\tmodel__class_weight: None\n",
      "\tmodel__max_iter: 1000\n",
      "\tmodel__penalty: 'l2'\n"
     ]
    },
    {
     "data": {
      "text/html": [
       "<div>\n",
       "<style scoped>\n",
       "    .dataframe tbody tr th:only-of-type {\n",
       "        vertical-align: middle;\n",
       "    }\n",
       "\n",
       "    .dataframe tbody tr th {\n",
       "        vertical-align: top;\n",
       "    }\n",
       "\n",
       "    .dataframe thead th {\n",
       "        text-align: right;\n",
       "    }\n",
       "</style>\n",
       "<table border=\"1\" class=\"dataframe\">\n",
       "  <thead>\n",
       "    <tr style=\"text-align: right;\">\n",
       "      <th></th>\n",
       "      <th>0</th>\n",
       "      <th>1</th>\n",
       "      <th>2</th>\n",
       "      <th>3</th>\n",
       "      <th>4</th>\n",
       "      <th>5</th>\n",
       "      <th>6</th>\n",
       "      <th>7</th>\n",
       "      <th>8</th>\n",
       "      <th>9</th>\n",
       "      <th>10</th>\n",
       "      <th>11</th>\n",
       "    </tr>\n",
       "  </thead>\n",
       "  <tbody>\n",
       "    <tr>\n",
       "      <th>0</th>\n",
       "      <td>0</td>\n",
       "      <td>0</td>\n",
       "      <td>0</td>\n",
       "      <td>1</td>\n",
       "      <td>2</td>\n",
       "      <td>2</td>\n",
       "      <td>2</td>\n",
       "      <td>6</td>\n",
       "      <td>1</td>\n",
       "      <td>4</td>\n",
       "      <td>0</td>\n",
       "      <td>14</td>\n",
       "    </tr>\n",
       "    <tr>\n",
       "      <th>1</th>\n",
       "      <td>0</td>\n",
       "      <td>0</td>\n",
       "      <td>0</td>\n",
       "      <td>1</td>\n",
       "      <td>3</td>\n",
       "      <td>4</td>\n",
       "      <td>7</td>\n",
       "      <td>11</td>\n",
       "      <td>0</td>\n",
       "      <td>10</td>\n",
       "      <td>1</td>\n",
       "      <td>21</td>\n",
       "    </tr>\n",
       "    <tr>\n",
       "      <th>2</th>\n",
       "      <td>0</td>\n",
       "      <td>0</td>\n",
       "      <td>2</td>\n",
       "      <td>6</td>\n",
       "      <td>36</td>\n",
       "      <td>3</td>\n",
       "      <td>17</td>\n",
       "      <td>74</td>\n",
       "      <td>4</td>\n",
       "      <td>21</td>\n",
       "      <td>6</td>\n",
       "      <td>51</td>\n",
       "    </tr>\n",
       "    <tr>\n",
       "      <th>3</th>\n",
       "      <td>1</td>\n",
       "      <td>0</td>\n",
       "      <td>7</td>\n",
       "      <td>30</td>\n",
       "      <td>115</td>\n",
       "      <td>6</td>\n",
       "      <td>66</td>\n",
       "      <td>148</td>\n",
       "      <td>17</td>\n",
       "      <td>37</td>\n",
       "      <td>18</td>\n",
       "      <td>102</td>\n",
       "    </tr>\n",
       "    <tr>\n",
       "      <th>4</th>\n",
       "      <td>1</td>\n",
       "      <td>3</td>\n",
       "      <td>7</td>\n",
       "      <td>61</td>\n",
       "      <td>436</td>\n",
       "      <td>14</td>\n",
       "      <td>281</td>\n",
       "      <td>364</td>\n",
       "      <td>52</td>\n",
       "      <td>99</td>\n",
       "      <td>31</td>\n",
       "      <td>200</td>\n",
       "    </tr>\n",
       "    <tr>\n",
       "      <th>5</th>\n",
       "      <td>0</td>\n",
       "      <td>2</td>\n",
       "      <td>2</td>\n",
       "      <td>4</td>\n",
       "      <td>20</td>\n",
       "      <td>83</td>\n",
       "      <td>14</td>\n",
       "      <td>46</td>\n",
       "      <td>2</td>\n",
       "      <td>59</td>\n",
       "      <td>5</td>\n",
       "      <td>138</td>\n",
       "    </tr>\n",
       "    <tr>\n",
       "      <th>6</th>\n",
       "      <td>1</td>\n",
       "      <td>0</td>\n",
       "      <td>3</td>\n",
       "      <td>21</td>\n",
       "      <td>173</td>\n",
       "      <td>10</td>\n",
       "      <td>563</td>\n",
       "      <td>169</td>\n",
       "      <td>28</td>\n",
       "      <td>74</td>\n",
       "      <td>24</td>\n",
       "      <td>100</td>\n",
       "    </tr>\n",
       "    <tr>\n",
       "      <th>7</th>\n",
       "      <td>1</td>\n",
       "      <td>5</td>\n",
       "      <td>11</td>\n",
       "      <td>53</td>\n",
       "      <td>265</td>\n",
       "      <td>49</td>\n",
       "      <td>192</td>\n",
       "      <td>1023</td>\n",
       "      <td>66</td>\n",
       "      <td>219</td>\n",
       "      <td>59</td>\n",
       "      <td>629</td>\n",
       "    </tr>\n",
       "    <tr>\n",
       "      <th>8</th>\n",
       "      <td>1</td>\n",
       "      <td>0</td>\n",
       "      <td>3</td>\n",
       "      <td>13</td>\n",
       "      <td>74</td>\n",
       "      <td>12</td>\n",
       "      <td>57</td>\n",
       "      <td>119</td>\n",
       "      <td>29</td>\n",
       "      <td>41</td>\n",
       "      <td>5</td>\n",
       "      <td>110</td>\n",
       "    </tr>\n",
       "    <tr>\n",
       "      <th>9</th>\n",
       "      <td>1</td>\n",
       "      <td>5</td>\n",
       "      <td>12</td>\n",
       "      <td>34</td>\n",
       "      <td>85</td>\n",
       "      <td>47</td>\n",
       "      <td>87</td>\n",
       "      <td>309</td>\n",
       "      <td>23</td>\n",
       "      <td>458</td>\n",
       "      <td>34</td>\n",
       "      <td>508</td>\n",
       "    </tr>\n",
       "    <tr>\n",
       "      <th>10</th>\n",
       "      <td>0</td>\n",
       "      <td>1</td>\n",
       "      <td>3</td>\n",
       "      <td>15</td>\n",
       "      <td>85</td>\n",
       "      <td>9</td>\n",
       "      <td>69</td>\n",
       "      <td>163</td>\n",
       "      <td>8</td>\n",
       "      <td>69</td>\n",
       "      <td>25</td>\n",
       "      <td>164</td>\n",
       "    </tr>\n",
       "    <tr>\n",
       "      <th>11</th>\n",
       "      <td>1</td>\n",
       "      <td>5</td>\n",
       "      <td>22</td>\n",
       "      <td>37</td>\n",
       "      <td>189</td>\n",
       "      <td>75</td>\n",
       "      <td>154</td>\n",
       "      <td>523</td>\n",
       "      <td>40</td>\n",
       "      <td>380</td>\n",
       "      <td>42</td>\n",
       "      <td>1032</td>\n",
       "    </tr>\n",
       "  </tbody>\n",
       "</table>\n",
       "</div>"
      ],
      "text/plain": [
       "    0   1   2   3    4   5    6     7   8    9   10    11\n",
       "0    0   0   0   1    2   2    2     6   1    4   0    14\n",
       "1    0   0   0   1    3   4    7    11   0   10   1    21\n",
       "2    0   0   2   6   36   3   17    74   4   21   6    51\n",
       "3    1   0   7  30  115   6   66   148  17   37  18   102\n",
       "4    1   3   7  61  436  14  281   364  52   99  31   200\n",
       "5    0   2   2   4   20  83   14    46   2   59   5   138\n",
       "6    1   0   3  21  173  10  563   169  28   74  24   100\n",
       "7    1   5  11  53  265  49  192  1023  66  219  59   629\n",
       "8    1   0   3  13   74  12   57   119  29   41   5   110\n",
       "9    1   5  12  34   85  47   87   309  23  458  34   508\n",
       "10   0   1   3  15   85   9   69   163   8   69  25   164\n",
       "11   1   5  22  37  189  75  154   523  40  380  42  1032"
      ]
     },
     "execution_count": 30,
     "metadata": {},
     "output_type": "execute_result"
    }
   ],
   "source": [
    "pipeline = Pipeline(\n",
    "    [\n",
    "        ('vector', CountVectorizer(lowercase=False)), \n",
    "        ('tfidf', TfidfTransformer()),  \n",
    "        ('model', SGDClassifier(random_state=42))\n",
    "    ]\n",
    ")\n",
    "\n",
    "parameters = {\n",
    "    'model__alpha': [1e-4, 1e-3, 1e-2, 1e-1, 1e0, 1e1, 1e2, 1e3],\n",
    "    'model__penalty': ['l2', 'l1', 'elasticnet'],\n",
    "    'model__max_iter': [1000, 2000, 5000],\n",
    "    'model__class_weight': [None, 'balanced']\n",
    "}\n",
    "\n",
    "grid_search = GridSearchCV(pipeline, parameters, cv=3, n_jobs=-1, verbose=1)\n",
    "\n",
    "grid_search.fit(X_train, y_train)\n",
    "\n",
    "print('score', grid_search.score(X_test, y_test))\n",
    "print('-----')\n",
    "\n",
    "print('GridSearchCV:')\n",
    "y_pred_p = grid_search.predict(X_test)\n",
    "\n",
    "print(\"Best score: %0.3f\" % grid_search.best_score_)\n",
    "print(\"Best parameters set:\")\n",
    "best_parameters = grid_search.best_estimator_.get_params()\n",
    "for param_name in sorted(parameters.keys()):\n",
    "    print(\"\\t%s: %r\" % (param_name, best_parameters[param_name]))\n",
    "\n",
    "# Print Confusion Matrix\n",
    "labels = np.unique(y_test)\n",
    "cm =  confusion_matrix(y_test, y_pred, labels=labels)\n",
    "pd.DataFrame(cm, index=labels, columns=labels)"
   ]
  },
  {
   "cell_type": "code",
   "execution_count": 31,
   "id": "d0cd88c5",
   "metadata": {},
   "outputs": [
    {
     "name": "stdout",
     "output_type": "stream",
     "text": [
      "Accuracy score: 0.31470\n"
     ]
    }
   ],
   "source": [
    "# model with best parameters\n",
    "\n",
    "pipeline_bp = Pipeline(\n",
    "    [\n",
    "        ('vector', CountVectorizer(lowercase=False)), \n",
    "        ('tfidf', TfidfTransformer()),  \n",
    "        ('model', SGDClassifier(random_state=42, alpha= 0.0001, class_weight=None, max_iter=1000, \n",
    "                                penalty='l2'))\n",
    "    ]\n",
    ")\n",
    "\n",
    "pipeline.fit(X_train, y_train)\n",
    "print('Accuracy score: {0:.5f}'.format(pipeline.score(X_test, y_test)))\n",
    "\n",
    "y_pred_bp = pipeline.predict(X_test)"
   ]
  },
  {
   "cell_type": "code",
   "execution_count": 32,
   "id": "dcb804d9",
   "metadata": {},
   "outputs": [
    {
     "data": {
      "text/plain": [
       "<AxesSubplot:>"
      ]
     },
     "execution_count": 32,
     "metadata": {},
     "output_type": "execute_result"
    },
    {
     "data": {
      "image/png": "[encoded data removed]",
      "text/plain": [
       "<Figure size 640x480 with 2 Axes>"
      ]
     },
     "metadata": {},
     "output_type": "display_data"
    }
   ],
   "source": [
    "labels = np.unique(y_test)\n",
    "cm = confusion_matrix(y_test, y_pred_bp, labels=labels)\n",
    "\n",
    "sns.heatmap(cm, annot=True, fmt='d', cmap='Blues')"
   ]
  },
  {
   "cell_type": "code",
   "execution_count": 33,
   "id": "732242aa",
   "metadata": {},
   "outputs": [
    {
     "name": "stdout",
     "output_type": "stream",
     "text": [
      "              precision    recall  f1-score   support\n",
      "\n",
      "           0       0.00      0.00      0.00        32\n",
      "           1       0.00      0.00      0.00        58\n",
      "           2       0.03      0.01      0.01       220\n",
      "           3       0.11      0.05      0.07       547\n",
      "           4       0.29      0.28      0.29      1549\n",
      "           5       0.26      0.22      0.24       375\n",
      "           6       0.37      0.48      0.42      1166\n",
      "           7       0.35      0.40      0.37      2572\n",
      "           8       0.11      0.06      0.08       464\n",
      "           9       0.31      0.29      0.30      1603\n",
      "          10       0.10      0.04      0.06       611\n",
      "          11       0.34      0.41      0.37      2500\n",
      "\n",
      "    accuracy                           0.31     11697\n",
      "   macro avg       0.19      0.19      0.18     11697\n",
      "weighted avg       0.29      0.31      0.30     11697\n",
      "\n"
     ]
    }
   ],
   "source": [
    "# classification_report\n",
    "print(classification_report(y_test, y_pred_bp))"
   ]
  },
  {
   "cell_type": "code",
   "execution_count": 34,
   "id": "ad34eb6e",
   "metadata": {},
   "outputs": [
    {
     "name": "stdout",
     "output_type": "stream",
     "text": [
      "Accuracy score: 0.31\n"
     ]
    }
   ],
   "source": [
    "# model with best parameters with CV\n",
    "\n",
    "# Crear el pipeline con los pasos de preprocesamiento y el modelo\n",
    "pipeline_cv = Pipeline([\n",
    "    ('vector', CountVectorizer(lowercase=False)), \n",
    "    ('tfidf', TfidfTransformer()),  \n",
    "    ('model', SGDClassifier(random_state=42, alpha= 0.0001, class_weight=None, max_iter=1000, \n",
    "                                penalty='l2'))\n",
    "])\n",
    "\n",
    "# Calcular la puntuación de precisión usando cross-validation con 5 folds\n",
    "score = cross_val_score(pipeline_cv, X, y, cv=5, scoring='accuracy')\n",
    "\n",
    "# Imprimir la puntuación media de precisión\n",
    "print('Accuracy score: {0:.2f}'.format(score.mean()))"
   ]
  },
  {
   "cell_type": "markdown",
   "id": "57350ec0",
   "metadata": {},
   "source": [
    "## 5.  Balanceo de la data (Smote SKleaern)"
   ]
  },
  {
   "cell_type": "code",
   "execution_count": 35,
   "id": "3b1b449e",
   "metadata": {},
   "outputs": [
    {
     "name": "stdout",
     "output_type": "stream",
     "text": [
      "Accuracy score: 0.1879\n"
     ]
    }
   ],
   "source": [
    "from imblearn.pipeline import Pipeline as ImbPipeline\n",
    "\n",
    "pipeline_sm = ImbPipeline(\n",
    "    [\n",
    "        ('vector', CountVectorizer(lowercase=False)), \n",
    "        ('tfidf', TfidfTransformer()),\n",
    "        ('smote', ImbPipeline([\n",
    "            ('smote', SMOTE(random_state=42)),\n",
    "            ('model', SGDClassifier(random_state=42, alpha= 0.0001, class_weight=None, max_iter=1000, \n",
    "                                penalty='l2'))\n",
    "        ]))\n",
    "    ]\n",
    ")\n",
    "\n",
    "score = cross_val_score(pipeline_sm, X, y, cv=5, scoring='accuracy')\n",
    "print('Accuracy score: {0:.4f}'.format(score.mean()))"
   ]
  },
  {
   "cell_type": "code",
   "execution_count": 36,
   "id": "31d7fded",
   "metadata": {},
   "outputs": [
    {
     "name": "stdout",
     "output_type": "stream",
     "text": [
      "Accuracy score: 0.1915\n"
     ]
    }
   ],
   "source": [
    "pipeline_sm.fit(X_train, y_train)\n",
    "print('Accuracy score: {0:.4f}'.format(pipeline_sm.score(X_test, y_test)))\n",
    "\n",
    "y_pred_sm = pipeline_sm.predict(X_test)"
   ]
  },
  {
   "cell_type": "markdown",
   "id": "a14dd53c",
   "metadata": {},
   "source": [
    "## 6. Observaciones generales"
   ]
  },
  {
   "cell_type": "markdown",
   "id": "71293b07",
   "metadata": {},
   "source": [
    "* Los modelos de clasificación SVC, SGDClassifier, MultinomialNB, BernoulliNB y XGBClassifier fueron evaluados y el modelo que demostró un mejor rendimiento fue el SGDClassifier, con un accuracy score de 0.3146960759169018. Sin embargo, se debe tener en cuenta que la precisión, recall y f1-score por clase fueron bajos, con un valor máximo de 0.42 para la clase 6.\n",
    "\n",
    "\n",
    "*  La curva ROC del modelo SGDClassifier fue de 0.48, lo que indica que el modelo tiene una capacidad limitada para distinguir entre las diferentes clases.\n",
    "\n",
    "\n",
    "* Se realizaron pruebas de hiperparámetros y se encontraron los mejores parámetros para el modelo SGDClassifier, los cuales incluyen un alpha de 0.001, sin peso de clase, un máximo de iteraciones de 1000 y una penalización de l2.\n",
    "\n",
    "\n",
    "* El conjunto de datos muestra una clara desigualdad de distribución de clases, lo que se refleja en el bajo rendimiento del modelo en general. Se debe considerar el uso de técnicas de balanceo de datos como SMOTE para mejorar el rendimiento del modelo.\n",
    "\n",
    "\n",
    "* El accuracy score de la muestra balanceada usando SMOTE fue de 0.1915, lo que indica que el balanceo de datos disminuyó el rendimiento del modelo. \n",
    "\n",
    "\n",
    "* En general, se concluye que el modelo SGDClassifier muestra un rendimiento insuficiente para clasificar las emociones en los tweets debido a la desigualdad de la distribución de clases. Se sugiere el uso de técnicas de balanceo de datos manualmente y el ajuste de hiperparámetros para mejorar el rendimiento del modelo. También se recomienda explorar otros modelos de clasificación y técnicas de preprocesamiento de texto para mejorar la precisión en la clasificación de emociones en los tweets."
   ]
  }
 ],
 "metadata": {
  "kernelspec": {
   "display_name": "Python 3 (ipykernel)",
   "language": "python",
   "name": "python3"
  },
  "language_info": {
   "codemirror_mode": {
    "name": "ipython",
    "version": 3
   },
   "file_extension": ".py",
   "mimetype": "text/x-python",
   "name": "python",
   "nbconvert_exporter": "python",
   "pygments_lexer": "ipython3",
   "version": "3.9.12"
  },
  "latex_envs": {
   "LaTeX_envs_menu_present": true,
   "autoclose": false,
   "autocomplete": true,
   "bibliofile": "biblio.bib",
   "cite_by": "apalike",
   "current_citInitial": 1,
   "eqLabelWithNumbers": true,
   "eqNumInitial": 1,
   "hotkeys": {
    "equation": "Ctrl-E",
    "itemize": "Ctrl-I"
   },
   "labels_anchors": false,
   "latex_user_defs": false,
   "report_style_numbering": false,
   "user_envs_cfg": false
  },
  "nbTranslate": {
   "displayLangs": [
    "*"
   ],
   "hotkey": "alt-t",
   "langInMainMenu": true,
   "sourceLang": "en",
   "targetLang": "fr",
   "useGoogleTranslate": true
  },
  "toc": {
   "base_numbering": 1,
   "nav_menu": {},
   "number_sections": false,
   "sideBar": true,
   "skip_h1_title": false,
   "title_cell": "Table of Contents",
   "title_sidebar": "Contents",
   "toc_cell": false,
   "toc_position": {
    "height": "calc(100% - 180px)",
    "left": "10px",
    "top": "150px",
    "width": "165px"
   },
   "toc_section_display": true,
   "toc_window_display": true
  },
  "varInspector": {
   "cols": {
    "lenName": 16,
    "lenType": 16,
    "lenVar": 40
   },
   "kernels_config": {
    "python": {
     "delete_cmd_postfix": "",
     "delete_cmd_prefix": "del ",
     "library": "var_list.py",
     "varRefreshCmd": "print(var_dic_list())"
    },
    "r": {
     "delete_cmd_postfix": ") ",
     "delete_cmd_prefix": "rm(",
     "library": "var_list.r",
     "varRefreshCmd": "cat(var_dic_list()) "
    }
   },
   "types_to_exclude": [
    "module",
    "function",
    "builtin_function_or_method",
    "instance",
    "_Feature"
   ],
   "window_display": false
  }
 },
 "nbformat": 4,
 "nbformat_minor": 5
}
