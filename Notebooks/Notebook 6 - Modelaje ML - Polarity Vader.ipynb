{
 "cells": [
  {
   "cell_type": "markdown",
   "id": "16c2fb79",
   "metadata": {},
   "source": [
    "<div style=\"background-color: #1DA1F2; padding: 20px;\"><b><h1> Descifrando el lenguaje emocional en Twitter: Un análisis predictivo basado en aprendizaje automático. </h1></b></div>"
   ]
  },
  {
   "cell_type": "markdown",
   "id": "98964068",
   "metadata": {},
   "source": [
    "**Autor**: Neivys Luz González Gómez"
   ]
  },
  {
   "cell_type": "markdown",
   "id": "e688086f",
   "metadata": {},
   "source": [
    "La identificación de emociones es una tarea fundamental en el campo del procesamiento de lenguaje natural, que se enfoca en clasificar textos según su tono emocional. A pesar de que el objetivo es identificar una amplia variedad de emociones humanas, la mayoría de los conjuntos de datos disponibles se limitan a las polaridades positiva, negativa y, en ocasiones, neutral.\n",
    "\n",
    "Detectar emociones a partir de textos es un reto complejo en el procesamiento del lenguaje natural, ya que se trata de un problema de clasificación multiclase y, en muchas ocasiones, no hay suficientes datos etiquetados disponibles. Sin embargo, este conjunto de datos etiquetado proporciona la oportunidad de aplicar diversas técnicas de análisis exploratorio y modelado para entender mejor la dinámica emocional en las redes sociales y mejorar la capacidad de detección en tiempo real.\n",
    "\n",
    "El conjunto de datos de emociones se obtiene a partir de mensajes en inglés de Twitter y contiene seis emociones básicas: neutralidad, preocupación, felicidad, tristeza, amor, sorpresa, diversión, alivio, odio, vacío, entusiasmo y aburrimiento. Este conjunto de datos ofrece una variedad más amplia de emociones humanas, lo que permite el entrenamiento y la evaluación de modelos de análisis de sentimientos con mayor precisión y exhaustividad."
   ]
  },
  {
   "cell_type": "markdown",
   "id": "5338c1f3",
   "metadata": {},
   "source": [
    "<div class=\"alert alert-info alert-info\"><b><h3>Objetivo General</h3></b>\n",
    "    \n",
    "**Desarrollar un modelo que permita detectar emociones en los tweets y analizar patrones en el lenguaje utilizado en Twitter para ayudar en la detección temprana de trastornos emocionales como la depresión, la ansiedad, entre otros.**\n",
    "</div>"
   ]
  },
  {
   "cell_type": "markdown",
   "id": "e3a51b43",
   "metadata": {},
   "source": [
    "---"
   ]
  },
  {
   "cell_type": "markdown",
   "id": "933c744d",
   "metadata": {},
   "source": [
    "# Notebook N° 6: Modelo ML Clasificación - Polarity Vader "
   ]
  },
  {
   "cell_type": "markdown",
   "id": "204a79b8",
   "metadata": {},
   "source": [
    "<div class=\"alert alert-block alert-warning\">\n",
    "<b><h1>Descripción de las Variables</h1></b> \n",
    "</div>"
   ]
  },
  {
   "cell_type": "markdown",
   "id": "42b56a3d",
   "metadata": {},
   "source": [
    "Se dispone de un conjunto de datos proveniente de data.world, una plataforma que proporciona acceso a conjuntos de datos públicos. Este dataset consiste en una colección de tweets etiquetados con la emoción que expresan. Contiene cuatro columnas que incluyen el identificador del tweet, el sentimiento expresado, el autor y el contenido del tweet. En total, se tienen 40,000 registros con anotaciones para 13 emociones distintas. "
   ]
  },
  {
   "cell_type": "markdown",
   "id": "6febfa72",
   "metadata": {},
   "source": [
    "<img src=\"Notebook.jpg\">"
   ]
  },
  {
   "cell_type": "markdown",
   "id": "607dfa75",
   "metadata": {},
   "source": [
    "Este notebook presenta la evaluación de varios modelos de clasificación de emociones en tweets, con el objetivo de seleccionar el mejor modelo para predecir las emociones en nuevos tweets. Para ello, se utilizó un dataset preprocesado en el que las emociones originales fueron transformadas aplicando analisis de sentimiento de Polaridad de Varder. \n",
    "\n",
    "Se compararan diversos modelos, incluyendo SVM, SGDClassifier, MultinomialNB, BernoulliNB y XGBClassifier, evaluando su precisión y rendimiento mediante validación cruzada. Se seleccionará el mejor modelo y se utilizará para crear un pipeline predictivo capaz de clasificar las emociones en nuevos tweets con precisión."
   ]
  },
  {
   "cell_type": "markdown",
   "id": "b8ad62d6",
   "metadata": {},
   "source": [
    "---"
   ]
  },
  {
   "cell_type": "code",
   "execution_count": 1,
   "id": "eebecf44",
   "metadata": {
    "run_control": {
     "marked": false
    }
   },
   "outputs": [
    {
     "name": "stderr",
     "output_type": "stream",
     "text": [
      "[nltk_data] Downloading package punkt to\n",
      "[nltk_data]     C:\\Users\\Lenovo\\AppData\\Roaming\\nltk_data...\n",
      "[nltk_data]   Package punkt is already up-to-date!\n",
      "[nltk_data] Downloading package stopwords to\n",
      "[nltk_data]     C:\\Users\\Lenovo\\AppData\\Roaming\\nltk_data...\n",
      "[nltk_data]   Package stopwords is already up-to-date!\n",
      "[nltk_data] Downloading package wordnet to\n",
      "[nltk_data]     C:\\Users\\Lenovo\\AppData\\Roaming\\nltk_data...\n",
      "[nltk_data]   Package wordnet is already up-to-date!\n",
      "[nltk_data] Downloading package omw-1.4 to\n",
      "[nltk_data]     C:\\Users\\Lenovo\\AppData\\Roaming\\nltk_data...\n",
      "[nltk_data]   Package omw-1.4 is already up-to-date!\n",
      "[nltk_data] Downloading package averaged_perceptron_tagger to\n",
      "[nltk_data]     C:\\Users\\Lenovo\\AppData\\Roaming\\nltk_data...\n",
      "[nltk_data]   Package averaged_perceptron_tagger is already up-to-\n",
      "[nltk_data]       date!\n"
     ]
    }
   ],
   "source": [
    "#import libraries\n",
    "import pandas as pd\n",
    "import numpy as np\n",
    "import math\n",
    "import matplotlib.pyplot as plt\n",
    "import seaborn as sns\n",
    "\n",
    "import re\n",
    "import string\n",
    "\n",
    "#import NLTK\n",
    "import nltk\n",
    "nltk.download('punkt') #Punkt es una biblioteca que se utiliza para tokenizar frases en lenguaje natural\n",
    "nltk.download('stopwords') # library \"stopwords\"\n",
    "nltk.download('wordnet') # \n",
    "nltk.download('omw-1.4') #\n",
    "nltk.download('averaged_perceptron_tagger')\n",
    "\n",
    "from nltk.tokenize import word_tokenize\n",
    "from nltk.tokenize import sent_tokenize\n",
    "from nltk.stem.wordnet import WordNetLemmatizer\n",
    "from nltk.tokenize import RegexpTokenizer\n",
    "\n",
    "#import librerias de pre-procesamiento y normalizacion\n",
    "from nltk.corpus import stopwords\n",
    "from nltk.stem import PorterStemmer\n",
    "from nltk.corpus import wordnet\n",
    "from nltk.tag import pos_tag\n",
    "\n",
    "import warnings\n",
    "warnings.filterwarnings('ignore')"
   ]
  },
  {
   "cell_type": "code",
   "execution_count": 2,
   "id": "96a20d8a",
   "metadata": {
    "run_control": {
     "marked": false
    }
   },
   "outputs": [],
   "source": [
    "#Librerias de sklearn\n",
    "from sklearn.pipeline import Pipeline, FeatureUnion\n",
    "from sklearn.model_selection import train_test_split\n",
    "from sklearn.feature_extraction.text import CountVectorizer\n",
    "from sklearn.preprocessing import FunctionTransformer, LabelEncoder, StandardScaler\n",
    "from sklearn.impute import SimpleImputer\n",
    "from sklearn.metrics import accuracy_score\n",
    "from sklearn.metrics import classification_report\n",
    "from sklearn.model_selection import GridSearchCV, RepeatedStratifiedKFold\n",
    "from sklearn.pipeline import Pipeline\n",
    "from sklearn.preprocessing import Binarizer\n",
    "import sklearn.preprocessing as preprocessing\n",
    "from sklearn.discriminant_analysis import LinearDiscriminantAnalysis\n",
    "from sklearn.naive_bayes import GaussianNB\n",
    "from sklearn.svm import SVC\n",
    "from sklearn.linear_model import SGDClassifier, Perceptron, PassiveAggressiveClassifier\n",
    "from sklearn.naive_bayes import MultinomialNB, BernoulliNB\n",
    "from xgboost import XGBClassifier\n",
    "from sklearn.model_selection import cross_val_score\n",
    "from sklearn.feature_extraction.text import TfidfTransformer\n",
    "from sklearn.pipeline import Pipeline\n",
    "from sklearn import metrics\n",
    "from sklearn.metrics import confusion_matrix\n",
    "from sklearn.metrics import f1_score\n",
    "from sklearn.model_selection import GridSearchCV\n",
    "import imblearn\n",
    "from imblearn.over_sampling import SMOTE"
   ]
  },
  {
   "cell_type": "markdown",
   "id": "af241c3e",
   "metadata": {},
   "source": [
    "---"
   ]
  },
  {
   "cell_type": "markdown",
   "id": "023cc194",
   "metadata": {},
   "source": [
    "<div class=\"alert alert-block alert-info\">\n",
    "<b><h2> Cargar Dataset.</h2></b> \n",
    "</div>"
   ]
  },
  {
   "cell_type": "code",
   "execution_count": 3,
   "id": "97f07eab",
   "metadata": {},
   "outputs": [],
   "source": [
    "df3 = pd.read_pickle('C:/Users/Lenovo/Documents/Barcelona/IT/Data/Proyecto/dataset3.pickle')"
   ]
  },
  {
   "cell_type": "code",
   "execution_count": 4,
   "id": "b92b8fdd",
   "metadata": {},
   "outputs": [
    {
     "data": {
      "text/html": [
       "<div>\n",
       "<style scoped>\n",
       "    .dataframe tbody tr th:only-of-type {\n",
       "        vertical-align: middle;\n",
       "    }\n",
       "\n",
       "    .dataframe tbody tr th {\n",
       "        vertical-align: top;\n",
       "    }\n",
       "\n",
       "    .dataframe thead th {\n",
       "        text-align: right;\n",
       "    }\n",
       "</style>\n",
       "<table border=\"1\" class=\"dataframe\">\n",
       "  <thead>\n",
       "    <tr style=\"text-align: right;\">\n",
       "      <th></th>\n",
       "      <th>content</th>\n",
       "      <th>polarity_vader</th>\n",
       "    </tr>\n",
       "  </thead>\n",
       "  <tbody>\n",
       "    <tr>\n",
       "      <th>0</th>\n",
       "      <td>layin bed headache ughhhhwaitin call</td>\n",
       "      <td>1</td>\n",
       "    </tr>\n",
       "    <tr>\n",
       "      <th>1</th>\n",
       "      <td>funeral ceremonygloomy friday</td>\n",
       "      <td>0</td>\n",
       "    </tr>\n",
       "    <tr>\n",
       "      <th>2</th>\n",
       "      <td>want hang friend soon</td>\n",
       "      <td>2</td>\n",
       "    </tr>\n",
       "    <tr>\n",
       "      <th>3</th>\n",
       "      <td>want trade someone houston ticket one</td>\n",
       "      <td>1</td>\n",
       "    </tr>\n",
       "    <tr>\n",
       "      <th>4</th>\n",
       "      <td>repinging didnt go prom bc bf didnt like friend</td>\n",
       "      <td>0</td>\n",
       "    </tr>\n",
       "    <tr>\n",
       "      <th>...</th>\n",
       "      <td>...</td>\n",
       "      <td>...</td>\n",
       "    </tr>\n",
       "    <tr>\n",
       "      <th>38983</th>\n",
       "      <td>succesfully following tayla</td>\n",
       "      <td>1</td>\n",
       "    </tr>\n",
       "    <tr>\n",
       "      <th>38984</th>\n",
       "      <td>happy mother day love</td>\n",
       "      <td>2</td>\n",
       "    </tr>\n",
       "    <tr>\n",
       "      <th>38985</th>\n",
       "      <td>happy mother day mommy woman man long youre mo...</td>\n",
       "      <td>2</td>\n",
       "    </tr>\n",
       "    <tr>\n",
       "      <th>38986</th>\n",
       "      <td>wassup beautiful follow peep new hit single ww...</td>\n",
       "      <td>2</td>\n",
       "    </tr>\n",
       "    <tr>\n",
       "      <th>38987</th>\n",
       "      <td>bullet train tokyo gf visiting japan since thu...</td>\n",
       "      <td>1</td>\n",
       "    </tr>\n",
       "  </tbody>\n",
       "</table>\n",
       "<p>38988 rows × 2 columns</p>\n",
       "</div>"
      ],
      "text/plain": [
       "                                                 content  polarity_vader\n",
       "0                   layin bed headache ughhhhwaitin call               1\n",
       "1                          funeral ceremonygloomy friday               0\n",
       "2                                  want hang friend soon               2\n",
       "3                  want trade someone houston ticket one               1\n",
       "4        repinging didnt go prom bc bf didnt like friend               0\n",
       "...                                                  ...             ...\n",
       "38983                        succesfully following tayla               1\n",
       "38984                              happy mother day love               2\n",
       "38985  happy mother day mommy woman man long youre mo...               2\n",
       "38986  wassup beautiful follow peep new hit single ww...               2\n",
       "38987  bullet train tokyo gf visiting japan since thu...               1\n",
       "\n",
       "[38988 rows x 2 columns]"
      ]
     },
     "execution_count": 4,
     "metadata": {},
     "output_type": "execute_result"
    }
   ],
   "source": [
    "df3"
   ]
  },
  {
   "cell_type": "markdown",
   "id": "d25b6fb8",
   "metadata": {},
   "source": [
    "## 1. Preparación del Dataset"
   ]
  },
  {
   "cell_type": "code",
   "execution_count": 5,
   "id": "537e7eb7",
   "metadata": {},
   "outputs": [
    {
     "name": "stdout",
     "output_type": "stream",
     "text": [
      "<class 'pandas.core.frame.DataFrame'>\n",
      "RangeIndex: 38988 entries, 0 to 38987\n",
      "Data columns (total 2 columns):\n",
      " #   Column          Non-Null Count  Dtype \n",
      "---  ------          --------------  ----- \n",
      " 0   content         38988 non-null  object\n",
      " 1   polarity_vader  38988 non-null  int32 \n",
      "dtypes: int32(1), object(1)\n",
      "memory usage: 457.0+ KB\n"
     ]
    }
   ],
   "source": [
    "df3.info()"
   ]
  },
  {
   "cell_type": "markdown",
   "id": "47e6d913",
   "metadata": {},
   "source": [
    "### 1.1 Verificar nulos y NaM"
   ]
  },
  {
   "cell_type": "code",
   "execution_count": 6,
   "id": "0f5b13b2",
   "metadata": {},
   "outputs": [
    {
     "data": {
      "text/plain": [
       "content           0\n",
       "polarity_vader    0\n",
       "dtype: int64"
      ]
     },
     "execution_count": 6,
     "metadata": {},
     "output_type": "execute_result"
    }
   ],
   "source": [
    "df3.isnull().sum()"
   ]
  },
  {
   "cell_type": "code",
   "execution_count": 7,
   "id": "74d92952",
   "metadata": {},
   "outputs": [
    {
     "data": {
      "text/plain": [
       "content           0\n",
       "polarity_vader    0\n",
       "dtype: int64"
      ]
     },
     "execution_count": 7,
     "metadata": {},
     "output_type": "execute_result"
    }
   ],
   "source": [
    "df3.isna().sum()"
   ]
  },
  {
   "cell_type": "markdown",
   "id": "ed23fdb1",
   "metadata": {},
   "source": [
    "<h3>Observaciones:</h3>\n",
    "\n",
    "   *  Se puede observar que el data set no tiene valores nulos o NaN. \n",
    "   *  Se puede observar que el data set no tiene valores duplicados.  \n",
    "   *  Las variables de importancia para el estudio son del tipo objeto. \n",
    "   *  El dataset posee 40000 filas y 4 columnas."
   ]
  },
  {
   "cell_type": "markdown",
   "id": "3c459450",
   "metadata": {},
   "source": [
    "## 2. Modelo"
   ]
  },
  {
   "cell_type": "markdown",
   "id": "b9cc7adc",
   "metadata": {},
   "source": [
    "### 2.1 Se define el target y la feature"
   ]
  },
  {
   "cell_type": "code",
   "execution_count": 8,
   "id": "e3630c14",
   "metadata": {},
   "outputs": [],
   "source": [
    "# Se define el target y la feature\n",
    "X = df3['content']\n",
    "y = df3['polarity_vader']"
   ]
  },
  {
   "cell_type": "code",
   "execution_count": 9,
   "id": "ac70c8a3",
   "metadata": {},
   "outputs": [
    {
     "data": {
      "text/plain": [
       "1    16367\n",
       "2    16239\n",
       "0     6382\n",
       "Name: polarity_vader, dtype: int64"
      ]
     },
     "execution_count": 9,
     "metadata": {},
     "output_type": "execute_result"
    }
   ],
   "source": [
    "y.value_counts()"
   ]
  },
  {
   "cell_type": "code",
   "execution_count": 10,
   "id": "be4c571d",
   "metadata": {},
   "outputs": [
    {
     "data": {
      "text/plain": [
       "0               layin bed headache ughhhhwaitin call\n",
       "1                      funeral ceremonygloomy friday\n",
       "2                              want hang friend soon\n",
       "3              want trade someone houston ticket one\n",
       "4    repinging didnt go prom bc bf didnt like friend\n",
       "Name: content, dtype: object"
      ]
     },
     "execution_count": 10,
     "metadata": {},
     "output_type": "execute_result"
    }
   ],
   "source": [
    "X.head()"
   ]
  },
  {
   "cell_type": "code",
   "execution_count": 11,
   "id": "342edd0a",
   "metadata": {},
   "outputs": [],
   "source": [
    "# Separamos los datos en conjuntos de entrenamiento y prueba\n",
    "X_train, X_test, y_train, y_test = train_test_split(X, y, test_size=0.30, random_state=42)"
   ]
  },
  {
   "cell_type": "code",
   "execution_count": 12,
   "id": "4c0d7e9d",
   "metadata": {},
   "outputs": [
    {
     "name": "stdout",
     "output_type": "stream",
     "text": [
      "X_train shape: (27291,)\n",
      "X_test shape: (11697,)\n",
      "y_train shape: (27291,)\n",
      "y_test shape: (11697,)\n"
     ]
    }
   ],
   "source": [
    "print(\"X_train shape:\", X_train.shape)\n",
    "print(\"X_test shape:\", X_test.shape)\n",
    "print(\"y_train shape:\", y_train.shape)\n",
    "print(\"y_test shape:\", y_test.shape)"
   ]
  },
  {
   "cell_type": "markdown",
   "id": "47bb8d4c",
   "metadata": {},
   "source": [
    "### 2.2 Vectorización"
   ]
  },
  {
   "cell_type": "markdown",
   "id": "3b2b6273",
   "metadata": {},
   "source": [
    "En la actualidad, contamos con cada texto registrado en formato de cadena, lo cual no es útil para nuestros modelos. Para poder trabajar con ellos, debemos transformar cada registro en un vector. Para mejorar la precisión del modelo de clasificación multitarget, se utilizaran dos técnicas de vectorización de texto: **CountVectorizer** y **TF-IDF**. \n",
    "\n",
    "La técnica bag-of-words cuenta la frecuencia de cada palabra en un documento, mientras que TF-IDF pondera las palabras según su importancia en un documento. Al utilizar ambas técnicas, se espera capturar tanto la frecuencia como la importancia de las palabras en el texto, lo que debería mejorar la capacidad del modelo para identificar patrones y realizar predicciones precisas en los datos de prueba.\""
   ]
  },
  {
   "cell_type": "markdown",
   "id": "a966ac68",
   "metadata": {},
   "source": [
    "* **CountVectorizer**"
   ]
  },
  {
   "cell_type": "code",
   "execution_count": 13,
   "id": "3a83f3b9",
   "metadata": {},
   "outputs": [],
   "source": [
    "# Tokenizer to remove unwanted elements from our data like symbols and numbers\n",
    "token = RegexpTokenizer(r'[a-zA-Z0-9]+')\n",
    "\n",
    "# Fit the CountVectorizer to the training data\n",
    "cv = CountVectorizer(lowercase=False, stop_words='english', ngram_range=(1,1), tokenizer=token.tokenize)\n",
    "X_train_vec = cv.fit_transform(X_train)\n",
    "\n",
    "# Transform the test data using the same CountVectorizer object\n",
    "X_test_vec = cv.transform(X_test)\n",
    "X_vec = cv.fit_transform(X)"
   ]
  },
  {
   "cell_type": "markdown",
   "id": "c244b613",
   "metadata": {},
   "source": [
    "* **TF-IDF**"
   ]
  },
  {
   "cell_type": "code",
   "execution_count": 14,
   "id": "727a9c17",
   "metadata": {},
   "outputs": [],
   "source": [
    "from sklearn.feature_extraction.text import TfidfTransformer\n",
    "# We are using transformer here\n",
    "tfidf = TfidfTransformer()\n",
    "\n",
    "tfidf.fit(X_train_vec)\n",
    "X_train_tfidf = tfidf.transform(X_train_vec)\n",
    "X_test_tfidf = tfidf.transform(X_test_vec)"
   ]
  },
  {
   "cell_type": "markdown",
   "id": "92514f43",
   "metadata": {},
   "source": [
    "### 2.3 Evaluación de modelos."
   ]
  },
  {
   "cell_type": "code",
   "execution_count": 15,
   "id": "961af7cc",
   "metadata": {},
   "outputs": [],
   "source": [
    "# Seleccionar los mejores modelos a evaluar\n",
    "classifiers = [\n",
    "    SVC(),\n",
    "    SGDClassifier(),\n",
    "    MultinomialNB(),\n",
    "    BernoulliNB(),\n",
    "    XGBClassifier(),\n",
    "]"
   ]
  },
  {
   "cell_type": "code",
   "execution_count": 16,
   "id": "75370e83",
   "metadata": {},
   "outputs": [
    {
     "name": "stdout",
     "output_type": "stream",
     "text": [
      "SVC: 0.8156361064157392\n",
      "  fit time: 430.63760s\n",
      "  score time: 22.65227s\n",
      "SGDClassifier: 0.8340008288678644\n",
      "  fit time: 0.58835s\n",
      "  score time: 0.03890s\n",
      "MultinomialNB: 0.7006251409721741\n",
      "  fit time: 0.13121s\n",
      "  score time: 0.00631s\n",
      "BernoulliNB: 0.7003956612165265\n",
      "  fit time: 0.03307s\n",
      "  score time: 0.00399s\n",
      "XGBClassifier: 0.7884486845497259\n",
      "  fit time: 9.72256s\n",
      "  score time: 0.10366s\n"
     ]
    }
   ],
   "source": [
    "import time\n",
    "from sklearn.model_selection import cross_validate\n",
    "\n",
    "score_mean = []\n",
    "score_std = []\n",
    "fit_time = []\n",
    "score_time = []\n",
    "\n",
    "for classifier in classifiers:\n",
    "    start_time = time.time()\n",
    "    scores = cross_validate(classifier, X_vec, y, cv=5, scoring='accuracy', return_train_score=False)\n",
    "    fit_time.append(scores['fit_time'].mean())\n",
    "    score_time.append(scores['score_time'].mean())\n",
    "    score_mean.append(scores['test_score'].mean())\n",
    "    score_std.append(scores['test_score'].std())\n",
    "    print(f'{type(classifier).__name__}: {scores[\"test_score\"].mean()}')\n",
    "    print(f'  fit time: {scores[\"fit_time\"].mean():.5f}s')\n",
    "    print(f'  score time: {scores[\"score_time\"].mean():.5f}s')"
   ]
  },
  {
   "cell_type": "code",
   "execution_count": 17,
   "id": "6dca865d",
   "metadata": {},
   "outputs": [],
   "source": [
    "tabla = pd.DataFrame({\n",
    "    'model': ['SVC', 'SGDClassifier', 'MultinomialNB', 'BernoulliNB', 'XGBClassifier'],\n",
    "    'acc_cv': score_mean,\n",
    "    'acc_std_cv': score_std,\n",
    "    'fit_time': fit_time,\n",
    "    'score_time': score_time\n",
    "})"
   ]
  },
  {
   "cell_type": "code",
   "execution_count": 18,
   "id": "45d55d6d",
   "metadata": {},
   "outputs": [
    {
     "data": {
      "text/html": [
       "<div>\n",
       "<style scoped>\n",
       "    .dataframe tbody tr th:only-of-type {\n",
       "        vertical-align: middle;\n",
       "    }\n",
       "\n",
       "    .dataframe tbody tr th {\n",
       "        vertical-align: top;\n",
       "    }\n",
       "\n",
       "    .dataframe thead th {\n",
       "        text-align: right;\n",
       "    }\n",
       "</style>\n",
       "<table border=\"1\" class=\"dataframe\">\n",
       "  <thead>\n",
       "    <tr style=\"text-align: right;\">\n",
       "      <th></th>\n",
       "      <th>model</th>\n",
       "      <th>acc_cv</th>\n",
       "      <th>acc_std_cv</th>\n",
       "      <th>fit_time</th>\n",
       "      <th>score_time</th>\n",
       "    </tr>\n",
       "  </thead>\n",
       "  <tbody>\n",
       "    <tr>\n",
       "      <th>0</th>\n",
       "      <td>SVC</td>\n",
       "      <td>0.815636</td>\n",
       "      <td>0.016939</td>\n",
       "      <td>430.637603</td>\n",
       "      <td>22.652274</td>\n",
       "    </tr>\n",
       "    <tr>\n",
       "      <th>1</th>\n",
       "      <td>SGDClassifier</td>\n",
       "      <td>0.834001</td>\n",
       "      <td>0.017636</td>\n",
       "      <td>0.588354</td>\n",
       "      <td>0.038896</td>\n",
       "    </tr>\n",
       "    <tr>\n",
       "      <th>2</th>\n",
       "      <td>MultinomialNB</td>\n",
       "      <td>0.700625</td>\n",
       "      <td>0.020840</td>\n",
       "      <td>0.131207</td>\n",
       "      <td>0.006313</td>\n",
       "    </tr>\n",
       "    <tr>\n",
       "      <th>3</th>\n",
       "      <td>BernoulliNB</td>\n",
       "      <td>0.700396</td>\n",
       "      <td>0.024516</td>\n",
       "      <td>0.033071</td>\n",
       "      <td>0.003989</td>\n",
       "    </tr>\n",
       "    <tr>\n",
       "      <th>4</th>\n",
       "      <td>XGBClassifier</td>\n",
       "      <td>0.788449</td>\n",
       "      <td>0.021508</td>\n",
       "      <td>9.722563</td>\n",
       "      <td>0.103661</td>\n",
       "    </tr>\n",
       "  </tbody>\n",
       "</table>\n",
       "</div>"
      ],
      "text/plain": [
       "           model    acc_cv  acc_std_cv    fit_time  score_time\n",
       "0            SVC  0.815636    0.016939  430.637603   22.652274\n",
       "1  SGDClassifier  0.834001    0.017636    0.588354    0.038896\n",
       "2  MultinomialNB  0.700625    0.020840    0.131207    0.006313\n",
       "3    BernoulliNB  0.700396    0.024516    0.033071    0.003989\n",
       "4  XGBClassifier  0.788449    0.021508    9.722563    0.103661"
      ]
     },
     "execution_count": 18,
     "metadata": {},
     "output_type": "execute_result"
    }
   ],
   "source": [
    "tabla"
   ]
  },
  {
   "cell_type": "markdown",
   "id": "0922505c",
   "metadata": {},
   "source": [
    "Se evaluaron cinco modelos de clasificación y se encontró que el modelo SGDClassifier tuvo la precisión promedio más alta con un valor de 0.834, seguido del modelo SVC con un valor de 0.816. Los modelos MultinomialNB y BernoulliNB tuvieron resultados similares con valores de precisión cercanos al 0.7. El modelo XGBClassifier obtuvo una precisión promedio de 0.788, ubicándose en tercer lugar. \n",
    "\n",
    "Todos los modelos presentaron una variabilidad similar en su desempeño a lo largo de las iteraciones de validación cruzada, como se indica en los valores de desviación estándar (acc_std_cv).\n",
    "\n",
    "En cuanto a los tiempos de ejecución, se puede observar que el modelo SGDClassifier tuvo el tiempo de entrenamiento y predicción más bajo con valores de 0.59 segundos y 0.04 segundos, respectivamente. Por otro lado, el modelo BernoulliNB presentó el menor tiempo de ajuste y predicción con valores de 0.03 segundos y 0.004 segundos, respectivamente. Los modelos MultinomialNB, SVC y XGBClassifier tuvieron tiempos de ejecución más altos en comparación con los otros modelos evaluados. Sin embargo, es importante tener en cuenta que estos tiempos pueden variar dependiendo del tamaño de los datos y la complejidad del modelo."
   ]
  },
  {
   "cell_type": "markdown",
   "id": "a3128e02",
   "metadata": {},
   "source": [
    "## 3. Creación y predicción del modelo base"
   ]
  },
  {
   "cell_type": "code",
   "execution_count": 19,
   "id": "f2c54182",
   "metadata": {},
   "outputs": [],
   "source": [
    "pipe_model = Pipeline([('vector', CountVectorizer()), \n",
    "                 ('tfidf', TfidfTransformer()),  \n",
    "                 ('model', SGDClassifier(random_state=42))])"
   ]
  },
  {
   "cell_type": "code",
   "execution_count": 20,
   "id": "08293ba2",
   "metadata": {},
   "outputs": [
    {
     "name": "stdout",
     "output_type": "stream",
     "text": [
      "0.8062751132769086\n"
     ]
    }
   ],
   "source": [
    "pipe_model.fit(X_train, y_train)\n",
    "y_pred = pipe_model.predict(X_test)\n",
    "print(metrics.accuracy_score(y_test, y_pred))"
   ]
  },
  {
   "cell_type": "code",
   "execution_count": 21,
   "id": "893a94e8",
   "metadata": {},
   "outputs": [
    {
     "data": {
      "image/png": "[encoded data removed]",
      "text/plain": [
       "<Figure size 600x600 with 1 Axes>"
      ]
     },
     "metadata": {},
     "output_type": "display_data"
    }
   ],
   "source": [
    "# confusion_matrix\n",
    "svc_cm = confusion_matrix(y_test, y_pred)\n",
    "\n",
    "labels = ['negative','neutral','positive']\n",
    "plt.figure(figsize= (6,6))\n",
    "sns.heatmap(pd.DataFrame(svc_cm), annot = True, fmt='g', cbar = False, cmap=\"YlGnBu\", xticklabels= labels, \n",
    "            yticklabels= labels)\n",
    "plt.title('SVC Confusion Matrix', fontsize = 14)\n",
    "plt.ylabel('Actual label',fontsize = 12 )\n",
    "plt.xlabel('Predicted label', fontsize = 12);"
   ]
  },
  {
   "cell_type": "code",
   "execution_count": 22,
   "id": "8fb7501a",
   "metadata": {},
   "outputs": [
    {
     "name": "stdout",
     "output_type": "stream",
     "text": [
      "              precision    recall  f1-score   support\n",
      "\n",
      "           0       0.78      0.58      0.66      1989\n",
      "           1       0.76      0.84      0.80      4913\n",
      "           2       0.86      0.86      0.86      4795\n",
      "\n",
      "    accuracy                           0.81     11697\n",
      "   macro avg       0.80      0.76      0.78     11697\n",
      "weighted avg       0.81      0.81      0.80     11697\n",
      "\n"
     ]
    }
   ],
   "source": [
    "# classification_report\n",
    "print(classification_report(y_test, y_pred))"
   ]
  },
  {
   "cell_type": "code",
   "execution_count": 23,
   "id": "edbe355a",
   "metadata": {},
   "outputs": [
    {
     "data": {
      "text/plain": [
       "0.8004258614014712"
      ]
     },
     "execution_count": 23,
     "metadata": {},
     "output_type": "execute_result"
    }
   ],
   "source": [
    "# Calcula el F1-score\n",
    "f1 = f1_score(y_test, y_pred, average='weighted', labels=[1])\n",
    "f1"
   ]
  },
  {
   "cell_type": "code",
   "execution_count": 25,
   "id": "45587313",
   "metadata": {},
   "outputs": [
    {
     "data": {
      "image/png": "[encoded data removed]",
      "text/plain": [
       "<Figure size 640x480 with 1 Axes>"
      ]
     },
     "metadata": {},
     "output_type": "display_data"
    }
   ],
   "source": [
    "from sklearn.metrics import roc_curve\n",
    "from sklearn.metrics import auc\n",
    "\n",
    "# Obtener las probabilidades de la predicción\n",
    "y_score = pipe_model.decision_function(X_test)\n",
    "\n",
    "# Crear un diccionario con los valores necesarios para graficar la curva AUC-ROC\n",
    "fpr = {}\n",
    "tpr = {}\n",
    "roc_auc = {}\n",
    "for i in range(3):\n",
    "    fpr[i], tpr[i], _ = roc_curve(y_test, y_score[:, i], pos_label=i)\n",
    "    roc_auc[i] = auc(fpr[i], tpr[i])\n",
    "\n",
    "# Graficar la curva AUC-ROC\n",
    "plt.figure()\n",
    "plt.plot(fpr[0], tpr[0], color='darkorange', lw=2, label='ROC curve (area = %0.2f)' % roc_auc[0])\n",
    "plt.plot([0, 1], [0, 1], color='navy', lw=2, linestyle='--')\n",
    "plt.xlim([-0.05, 1.0])\n",
    "plt.ylim([0.0, 1.05])\n",
    "plt.xlabel('False Positive Rate')\n",
    "plt.ylabel('True Positive Rate')\n",
    "plt.title('Receiver operating characteristic SVC')\n",
    "plt.legend(loc=\"lower right\")\n",
    "plt.show()"
   ]
  },
  {
   "cell_type": "markdown",
   "id": "c3a4ac35",
   "metadata": {},
   "source": [
    "Los resultados del modelo muestran una precisión promedio de 0.81, lo que indica que el modelo es capaz de clasificar correctamente el 81% de las muestras. El recall promedio también es alto, con valores de 0.58, 0.84 y 0.86 para las tres clases respectivamente, lo que indica que el modelo es capaz de identificar correctamente la mayoría de las muestras de cada clase.\n",
    "\n",
    "El valor F1-score, que es una medida ponderada de precisión y recall, también es alto para cada clase, con valores de 0.66, 0.80 y 0.86 respectivamente. La macro media del valor F1-score es de 0.78, lo que indica que el modelo es capaz de clasificar correctamente la mayoría de las muestras.\n",
    "\n",
    "La curva ROC del modelo tiene un valor de 0.92, lo que sugiere que el modelo tiene una capacidad muy alta para distinguir entre las diferentes clases. En general, estos resultados sugieren que el modelo es capaz de clasificar correctamente las muestras en las tres clases con una precisión y un recall muy altos."
   ]
  },
  {
   "cell_type": "markdown",
   "id": "e858f2d3",
   "metadata": {},
   "source": [
    "## 4.  Hiperparametos (Mejores parametros)"
   ]
  },
  {
   "cell_type": "code",
   "execution_count": 26,
   "id": "37d9bf0f",
   "metadata": {
    "scrolled": false
   },
   "outputs": [
    {
     "name": "stdout",
     "output_type": "stream",
     "text": [
      "Fitting 5 folds for each of 144 candidates, totalling 720 fits\n",
      "score 0.8282465589467385\n",
      "-----\n",
      "GridSearchCV:\n",
      "Best score: 0.8302\n",
      "Best parameters set:\n",
      "\tmodel__alpha: 0.0001\n",
      "\tmodel__class_weight: 'balanced'\n",
      "\tmodel__max_iter: 1000\n",
      "\tmodel__penalty: 'l1'\n"
     ]
    },
    {
     "data": {
      "text/html": [
       "<div>\n",
       "<style scoped>\n",
       "    .dataframe tbody tr th:only-of-type {\n",
       "        vertical-align: middle;\n",
       "    }\n",
       "\n",
       "    .dataframe tbody tr th {\n",
       "        vertical-align: top;\n",
       "    }\n",
       "\n",
       "    .dataframe thead th {\n",
       "        text-align: right;\n",
       "    }\n",
       "</style>\n",
       "<table border=\"1\" class=\"dataframe\">\n",
       "  <thead>\n",
       "    <tr style=\"text-align: right;\">\n",
       "      <th></th>\n",
       "      <th>0</th>\n",
       "      <th>1</th>\n",
       "      <th>2</th>\n",
       "    </tr>\n",
       "  </thead>\n",
       "  <tbody>\n",
       "    <tr>\n",
       "      <th>0</th>\n",
       "      <td>1149</td>\n",
       "      <td>696</td>\n",
       "      <td>144</td>\n",
       "    </tr>\n",
       "    <tr>\n",
       "      <th>1</th>\n",
       "      <td>261</td>\n",
       "      <td>4135</td>\n",
       "      <td>517</td>\n",
       "    </tr>\n",
       "    <tr>\n",
       "      <th>2</th>\n",
       "      <td>60</td>\n",
       "      <td>588</td>\n",
       "      <td>4147</td>\n",
       "    </tr>\n",
       "  </tbody>\n",
       "</table>\n",
       "</div>"
      ],
      "text/plain": [
       "      0     1     2\n",
       "0  1149   696   144\n",
       "1   261  4135   517\n",
       "2    60   588  4147"
      ]
     },
     "execution_count": 26,
     "metadata": {},
     "output_type": "execute_result"
    }
   ],
   "source": [
    "pipeline_bp = Pipeline(\n",
    "    [\n",
    "        ('vector', CountVectorizer(lowercase=False)), \n",
    "        ('tfidf', TfidfTransformer()),  \n",
    "        ('model', SGDClassifier(random_state=42))\n",
    "    ]\n",
    ")\n",
    "\n",
    "parameters = {\n",
    "    'model__alpha': [1e-4, 1e-3, 1e-2, 1e-1, 1e0, 1e1, 1e2, 1e3],\n",
    "    'model__penalty': ['l2', 'l1', 'elasticnet'],\n",
    "    'model__max_iter': [1000, 2000, 5000],\n",
    "    'model__class_weight': [None, 'balanced']\n",
    "}\n",
    "\n",
    "\n",
    "grid_search = GridSearchCV(pipeline_bp, parameters, cv=5, n_jobs=-1, verbose=1)\n",
    "\n",
    "grid_search.fit(X_train, y_train)\n",
    "\n",
    "print('score', grid_search.score(X_test, y_test))\n",
    "print('-----')\n",
    "\n",
    "print('GridSearchCV:')\n",
    "y_pred_bp = grid_search.predict(X_test)\n",
    "\n",
    "print(\"Best score: %0.4f\" % grid_search.best_score_)\n",
    "print(\"Best parameters set:\")\n",
    "best_parameters = grid_search.best_estimator_.get_params()\n",
    "for param_name in sorted(parameters.keys()):\n",
    "    print(\"\\t%s: %r\" % (param_name, best_parameters[param_name]))\n",
    "\n",
    "# Print Confusion Matrix\n",
    "labels = np.unique(y_test)\n",
    "cm =  confusion_matrix(y_test, y_pred, labels=labels)\n",
    "pd.DataFrame(cm, index=labels, columns=labels)"
   ]
  },
  {
   "cell_type": "code",
   "execution_count": 27,
   "id": "d0cd88c5",
   "metadata": {},
   "outputs": [
    {
     "name": "stdout",
     "output_type": "stream",
     "text": [
      "Accuracy score: 0.82825\n"
     ]
    }
   ],
   "source": [
    "# model with best parameters\n",
    "\n",
    "pipeline = Pipeline(\n",
    "    [\n",
    "        ('vector', CountVectorizer(lowercase=False)), \n",
    "        ('tfidf', TfidfTransformer()),  \n",
    "        ('model', SGDClassifier(random_state=42, alpha= 0.0001, class_weight='balanced', max_iter=1000, \n",
    "                                penalty='l1'))\n",
    "    ]\n",
    ")\n",
    "\n",
    "pipeline.fit(X_train, y_train)\n",
    "print('Accuracy score: {0:.5f}'.format(pipeline.score(X_test, y_test)))\n",
    "\n",
    "y_pred_p = pipeline.predict(X_test)"
   ]
  },
  {
   "cell_type": "code",
   "execution_count": 32,
   "id": "dcb804d9",
   "metadata": {},
   "outputs": [
    {
     "data": {
      "image/png": "[encoded data removed]",
      "text/plain": [
       "<Figure size 600x600 with 1 Axes>"
      ]
     },
     "metadata": {},
     "output_type": "display_data"
    }
   ],
   "source": [
    "# confusion_matrix\n",
    "svc_cm_bp = confusion_matrix(y_test, y_pred_p)\n",
    "\n",
    "labels = ['negative','neutral','positive']\n",
    "plt.figure(figsize= (6,6))\n",
    "sns.heatmap(pd.DataFrame(svc_cm_bp), annot = True, fmt='g', cbar = False, cmap=\"YlGnBu\", xticklabels= labels, \n",
    "            yticklabels= labels)\n",
    "plt.title('SVC Confusion Matrix', fontsize = 14)\n",
    "plt.ylabel('Actual label',fontsize = 12 )\n",
    "plt.xlabel('Predicted label', fontsize = 12);"
   ]
  },
  {
   "cell_type": "code",
   "execution_count": 33,
   "id": "5ce8ad37",
   "metadata": {},
   "outputs": [
    {
     "name": "stdout",
     "output_type": "stream",
     "text": [
      "              precision    recall  f1-score   support\n",
      "\n",
      "           0       0.72      0.74      0.73      1989\n",
      "           1       0.83      0.82      0.82      4913\n",
      "           2       0.87      0.88      0.88      4795\n",
      "\n",
      "    accuracy                           0.83     11697\n",
      "   macro avg       0.81      0.81      0.81     11697\n",
      "weighted avg       0.83      0.83      0.83     11697\n",
      "\n"
     ]
    }
   ],
   "source": [
    "# classification_report\n",
    "print(classification_report(y_test, y_pred_p))"
   ]
  },
  {
   "cell_type": "code",
   "execution_count": 34,
   "id": "cd632d49",
   "metadata": {},
   "outputs": [
    {
     "data": {
      "image/png": "[encoded data removed]",
      "text/plain": [
       "<Figure size 640x480 with 1 Axes>"
      ]
     },
     "metadata": {},
     "output_type": "display_data"
    }
   ],
   "source": [
    "# Obtener las probabilidades de la predicción\n",
    "y_score = pipeline.decision_function(X_test)\n",
    "\n",
    "# Crear un diccionario con los valores necesarios para graficar la curva AUC-ROC\n",
    "fpr = {}\n",
    "tpr = {}\n",
    "roc_auc = {}\n",
    "for i in range(3):\n",
    "    fpr[i], tpr[i], _ = roc_curve(y_test, y_score[:, i], pos_label=i)\n",
    "    roc_auc[i] = auc(fpr[i], tpr[i])\n",
    "\n",
    "# Graficar la curva AUC-ROC\n",
    "plt.figure()\n",
    "plt.plot(fpr[0], tpr[0], color='darkorange', lw=2, label='ROC curve (area = %0.2f)' % roc_auc[0])\n",
    "plt.plot([0, 1], [0, 1], color='navy', lw=2, linestyle='--')\n",
    "plt.xlim([-0.05, 1.0])\n",
    "plt.ylim([0.0, 1.05])\n",
    "plt.xlabel('False Positive Rate')\n",
    "plt.ylabel('True Positive Rate')\n",
    "plt.title('Receiver operating characteristic SVC - Best parameters')\n",
    "plt.legend(loc=\"lower right\")\n",
    "plt.show()"
   ]
  },
  {
   "cell_type": "code",
   "execution_count": 30,
   "id": "ad34eb6e",
   "metadata": {},
   "outputs": [
    {
     "name": "stdout",
     "output_type": "stream",
     "text": [
      "Accuracy score: 0.82\n"
     ]
    }
   ],
   "source": [
    "# model with best parameters with CV\n",
    "\n",
    "# Crear el pipeline con los pasos de preprocesamiento y el modelo\n",
    "pipeline_cv = Pipeline([\n",
    "    ('vector', CountVectorizer(lowercase=False)), \n",
    "    ('tfidf', TfidfTransformer()),  \n",
    "        ('model', SGDClassifier(random_state=42, alpha= 0.0001, class_weight='balanced', max_iter=1000, \n",
    "                                penalty='l1'))\n",
    "])\n",
    "\n",
    "# Calcular la puntuación de precisión usando cross-validation con 5 folds\n",
    "score = cross_val_score(pipeline_cv, X, y, cv=5, scoring='accuracy')\n",
    "\n",
    "# Imprimir la puntuación media de precisión\n",
    "print('Accuracy score: {0:.2f}'.format(score.mean()))"
   ]
  },
  {
   "cell_type": "markdown",
   "id": "57350ec0",
   "metadata": {},
   "source": [
    "## 5.  Balanceo de la data (Smote SKleaern)"
   ]
  },
  {
   "cell_type": "code",
   "execution_count": 31,
   "id": "3b1b449e",
   "metadata": {},
   "outputs": [
    {
     "name": "stdout",
     "output_type": "stream",
     "text": [
      "Accuracy score: 0.8239\n"
     ]
    }
   ],
   "source": [
    "from imblearn.pipeline import Pipeline as ImbPipeline\n",
    "\n",
    "pipeline_sm = ImbPipeline(\n",
    "    [\n",
    "        ('vector', CountVectorizer(lowercase=False)), \n",
    "        ('tfidf', TfidfTransformer()),\n",
    "        ('smote', ImbPipeline([\n",
    "            ('smote', SMOTE(random_state=42)),\n",
    "        ('model', SGDClassifier(random_state=42, alpha= 0.0001, class_weight='balanced', max_iter=1000, \n",
    "                                penalty='l1'))\n",
    "        ]))\n",
    "    ]\n",
    ")\n",
    "\n",
    "score = cross_val_score(pipeline_sm, X, y, cv=5, scoring='accuracy')\n",
    "print('Accuracy score: {0:.4f}'.format(score.mean()))"
   ]
  },
  {
   "cell_type": "code",
   "execution_count": 35,
   "id": "8f36dfd0",
   "metadata": {},
   "outputs": [
    {
     "name": "stdout",
     "output_type": "stream",
     "text": [
      "Accuracy score: 0.8310\n"
     ]
    }
   ],
   "source": [
    "pipeline_sm.fit(X_train, y_train)\n",
    "print('Accuracy score: {0:.4f}'.format(pipeline_sm.score(X_test, y_test)))\n",
    "\n",
    "y_pred_sm = pipeline_sm.predict(X_test)"
   ]
  },
  {
   "cell_type": "code",
   "execution_count": 36,
   "id": "f0934206",
   "metadata": {},
   "outputs": [
    {
     "data": {
      "image/png": "[encoded data removed]",
      "text/plain": [
       "<Figure size 600x600 with 1 Axes>"
      ]
     },
     "metadata": {},
     "output_type": "display_data"
    }
   ],
   "source": [
    "# confusion_matrix\n",
    "svc_cm_sm = confusion_matrix(y_test, y_pred_sm)\n",
    "\n",
    "labels = ['negative','neutral','positive']\n",
    "plt.figure(figsize= (6,6))\n",
    "sns.heatmap(pd.DataFrame(svc_cm_bp), annot = True, fmt='g', cbar = False, cmap=\"YlGnBu\", xticklabels= labels, \n",
    "            yticklabels= labels)\n",
    "plt.title('SVC Confusion Matrix', fontsize = 14)\n",
    "plt.ylabel('Actual label',fontsize = 12 )\n",
    "plt.xlabel('Predicted label', fontsize = 12);"
   ]
  },
  {
   "cell_type": "markdown",
   "id": "a14dd53c",
   "metadata": {},
   "source": [
    "## 6. Observaciones generales"
   ]
  },
  {
   "cell_type": "markdown",
   "id": "71293b07",
   "metadata": {},
   "source": [
    "* Se evaluaron cinco modelos diferentes para el análisis de sentimiento de tweets y se encontró que el modelo SGDClassifier fue la mejor opción, ya que logró una precisión promedio de 0.806275 con tiempos de entrenamiento y predicción más bajos que los otros modelos evaluados.\n",
    "\n",
    "\n",
    "* Se utilizó GridSearchCV para encontrar los mejores hiperparámetros para el modelo, y se encontró que los mejores parámetros fueron un valor de alfa de 0.0001, un peso de clase balanceado, un máximo de iteraciones de 1000 y una penalización de elasticnet.\n",
    "\n",
    "\n",
    "* Se creó una pipeline con los mejores parámetros y se utilizó la validación cruzada para evaluar la precisión media del modelo, que fue de 0.8302. Además, se aplicó la técnica de balanceo de datos SMOTE de SKLearn, lo que permitió mejorar la precisión del modelo a 0.8310.\n",
    "\n",
    "\n",
    "* En conclusión, se podría decir que el modelo SGDClassifier con los hiperparámetros optimizados y el balanceo de datos SMOTE logró una precisión promedio aceptable para la clasificación de emociones en tweets. "
   ]
  }
 ],
 "metadata": {
  "kernelspec": {
   "display_name": "Python 3 (ipykernel)",
   "language": "python",
   "name": "python3"
  },
  "language_info": {
   "codemirror_mode": {
    "name": "ipython",
    "version": 3
   },
   "file_extension": ".py",
   "mimetype": "text/x-python",
   "name": "python",
   "nbconvert_exporter": "python",
   "pygments_lexer": "ipython3",
   "version": "3.9.12"
  },
  "latex_envs": {
   "LaTeX_envs_menu_present": true,
   "autoclose": false,
   "autocomplete": true,
   "bibliofile": "biblio.bib",
   "cite_by": "apalike",
   "current_citInitial": 1,
   "eqLabelWithNumbers": true,
   "eqNumInitial": 1,
   "hotkeys": {
    "equation": "Ctrl-E",
    "itemize": "Ctrl-I"
   },
   "labels_anchors": false,
   "latex_user_defs": false,
   "report_style_numbering": false,
   "user_envs_cfg": false
  },
  "nbTranslate": {
   "displayLangs": [
    "*"
   ],
   "hotkey": "alt-t",
   "langInMainMenu": true,
   "sourceLang": "en",
   "targetLang": "fr",
   "useGoogleTranslate": true
  },
  "toc": {
   "base_numbering": 1,
   "nav_menu": {},
   "number_sections": false,
   "sideBar": true,
   "skip_h1_title": false,
   "title_cell": "Table of Contents",
   "title_sidebar": "Contents",
   "toc_cell": false,
   "toc_position": {
    "height": "calc(100% - 180px)",
    "left": "10px",
    "top": "150px",
    "width": "165px"
   },
   "toc_section_display": true,
   "toc_window_display": true
  },
  "varInspector": {
   "cols": {
    "lenName": 16,
    "lenType": 16,
    "lenVar": 40
   },
   "kernels_config": {
    "python": {
     "delete_cmd_postfix": "",
     "delete_cmd_prefix": "del ",
     "library": "var_list.py",
     "varRefreshCmd": "print(var_dic_list())"
    },
    "r": {
     "delete_cmd_postfix": ") ",
     "delete_cmd_prefix": "rm(",
     "library": "var_list.r",
     "varRefreshCmd": "cat(var_dic_list()) "
    }
   },
   "types_to_exclude": [
    "module",
    "function",
    "builtin_function_or_method",
    "instance",
    "_Feature"
   ],
   "window_display": false
  }
 },
 "nbformat": 4,
 "nbformat_minor": 5
}
