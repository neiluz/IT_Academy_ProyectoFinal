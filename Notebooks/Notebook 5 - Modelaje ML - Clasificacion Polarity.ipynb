{
 "cells": [
  {
   "cell_type": "markdown",
   "id": "16c2fb79",
   "metadata": {},
   "source": [
    "<div style=\"background-color: #1DA1F2; padding: 20px;\"><b><h1> Descifrando el lenguaje emocional en Twitter: Un análisis predictivo basado en aprendizaje automático. </h1></b></div>"
   ]
  },
  {
   "cell_type": "markdown",
   "id": "98964068",
   "metadata": {},
   "source": [
    "**Autor**: Neivys Luz González Gómez"
   ]
  },
  {
   "cell_type": "markdown",
   "id": "e688086f",
   "metadata": {},
   "source": [
    "La identificación de emociones es una tarea fundamental en el campo del procesamiento de lenguaje natural, que se enfoca en clasificar textos según su tono emocional. A pesar de que el objetivo es identificar una amplia variedad de emociones humanas, la mayoría de los conjuntos de datos disponibles se limitan a las polaridades positiva, negativa y, en ocasiones, neutral.\n",
    "\n",
    "Detectar emociones a partir de textos es un reto complejo en el procesamiento del lenguaje natural, ya que se trata de un problema de clasificación multiclase y, en muchas ocasiones, no hay suficientes datos etiquetados disponibles. Sin embargo, este conjunto de datos etiquetado proporciona la oportunidad de aplicar diversas técnicas de análisis exploratorio y modelado para entender mejor la dinámica emocional en las redes sociales y mejorar la capacidad de detección en tiempo real.\n",
    "\n",
    "El conjunto de datos de emociones se obtiene a partir de mensajes en inglés de Twitter y contiene seis emociones básicas: neutralidad, preocupación, felicidad, tristeza, amor, sorpresa, diversión, alivio, odio, vacío, entusiasmo y aburrimiento. Este conjunto de datos ofrece una variedad más amplia de emociones humanas, lo que permite el entrenamiento y la evaluación de modelos de análisis de sentimientos con mayor precisión y exhaustividad."
   ]
  },
  {
   "cell_type": "markdown",
   "id": "5338c1f3",
   "metadata": {},
   "source": [
    "<div class=\"alert alert-info alert-info\"><b><h3>Objetivo General</h3></b>\n",
    "    \n",
    "**Desarrollar un modelo que permita detectar emociones en los tweets y analizar patrones en el lenguaje utilizado en Twitter para ayudar en la detección temprana de trastornos emocionales como la depresión, la ansiedad, entre otros.**\n",
    "</div>"
   ]
  },
  {
   "cell_type": "markdown",
   "id": "e3a51b43",
   "metadata": {},
   "source": [
    "---"
   ]
  },
  {
   "cell_type": "markdown",
   "id": "933c744d",
   "metadata": {},
   "source": [
    "# Notebook N° 5: Modelo ML Clasificación - Polaridad "
   ]
  },
  {
   "cell_type": "markdown",
   "id": "204a79b8",
   "metadata": {},
   "source": [
    "<div class=\"alert alert-block alert-warning\">\n",
    "<b><h1>Descripción de las Variables</h1></b> \n",
    "</div>"
   ]
  },
  {
   "cell_type": "markdown",
   "id": "42b56a3d",
   "metadata": {},
   "source": [
    "Se dispone de un conjunto de datos proveniente de data.world, una plataforma que proporciona acceso a conjuntos de datos públicos. Este dataset consiste en una colección de tweets etiquetados con la emoción que expresan. Contiene cuatro columnas que incluyen el identificador del tweet, el sentimiento expresado, el autor y el contenido del tweet. En total, se tienen 40,000 registros con anotaciones para 13 emociones distintas. "
   ]
  },
  {
   "cell_type": "markdown",
   "id": "6febfa72",
   "metadata": {},
   "source": [
    "<img src=\"Notebook.jpg\">"
   ]
  },
  {
   "cell_type": "markdown",
   "id": "b4fa145d",
   "metadata": {},
   "source": [
    "Este notebook presenta la evaluación de varios modelos de clasificación de emociones en tweets, con el objetivo de seleccionar el mejor modelo para predecir las emociones en nuevos tweets. Para ello, se utilizó un dataset preprocesado en el que las emociones originales fueron transformadas en sentimientos. \n",
    "\n",
    "Se compararan diversos modelos, incluyendo SVM, SGDClassifier, MultinomialNB, BernoulliNB y XGBClassifier, evaluando su precisión y rendimiento mediante validación cruzada. Se seleccionará el mejor modelo y se utilizará para crear un pipeline predictivo capaz de clasificar las emociones en nuevos tweets con precisión."
   ]
  },
  {
   "cell_type": "markdown",
   "id": "b8ad62d6",
   "metadata": {},
   "source": [
    "---"
   ]
  },
  {
   "cell_type": "code",
   "execution_count": 1,
   "id": "eebecf44",
   "metadata": {
    "run_control": {
     "marked": false
    }
   },
   "outputs": [
    {
     "name": "stderr",
     "output_type": "stream",
     "text": [
      "[nltk_data] Downloading package punkt to\n",
      "[nltk_data]     C:\\Users\\Lenovo\\AppData\\Roaming\\nltk_data...\n",
      "[nltk_data]   Package punkt is already up-to-date!\n",
      "[nltk_data] Downloading package stopwords to\n",
      "[nltk_data]     C:\\Users\\Lenovo\\AppData\\Roaming\\nltk_data...\n",
      "[nltk_data]   Package stopwords is already up-to-date!\n",
      "[nltk_data] Downloading package wordnet to\n",
      "[nltk_data]     C:\\Users\\Lenovo\\AppData\\Roaming\\nltk_data...\n",
      "[nltk_data]   Package wordnet is already up-to-date!\n",
      "[nltk_data] Downloading package omw-1.4 to\n",
      "[nltk_data]     C:\\Users\\Lenovo\\AppData\\Roaming\\nltk_data...\n",
      "[nltk_data]   Package omw-1.4 is already up-to-date!\n",
      "[nltk_data] Downloading package averaged_perceptron_tagger to\n",
      "[nltk_data]     C:\\Users\\Lenovo\\AppData\\Roaming\\nltk_data...\n",
      "[nltk_data]   Package averaged_perceptron_tagger is already up-to-\n",
      "[nltk_data]       date!\n"
     ]
    }
   ],
   "source": [
    "#import libraries\n",
    "import pandas as pd\n",
    "import numpy as np\n",
    "import math\n",
    "import matplotlib.pyplot as plt\n",
    "import seaborn as sns\n",
    "\n",
    "import re\n",
    "import string\n",
    "\n",
    "#import NLTK\n",
    "import nltk\n",
    "nltk.download('punkt') #Punkt es una biblioteca que se utiliza para tokenizar frases en lenguaje natural\n",
    "nltk.download('stopwords') # library \"stopwords\"\n",
    "nltk.download('wordnet') # \n",
    "nltk.download('omw-1.4') #\n",
    "nltk.download('averaged_perceptron_tagger')\n",
    "\n",
    "from nltk.tokenize import word_tokenize\n",
    "from nltk.tokenize import sent_tokenize\n",
    "from nltk.stem.wordnet import WordNetLemmatizer\n",
    "from nltk.tokenize import RegexpTokenizer\n",
    "\n",
    "#import librerias de pre-procesamiento y normalizacion\n",
    "from nltk.corpus import stopwords\n",
    "from nltk.stem import PorterStemmer\n",
    "from nltk.corpus import wordnet\n",
    "from nltk.tag import pos_tag\n",
    "\n",
    "import warnings\n",
    "warnings.filterwarnings('ignore')"
   ]
  },
  {
   "cell_type": "code",
   "execution_count": 2,
   "id": "96a20d8a",
   "metadata": {
    "run_control": {
     "marked": false
    }
   },
   "outputs": [],
   "source": [
    "#Librerias de sklearn\n",
    "from sklearn.pipeline import Pipeline, FeatureUnion\n",
    "from sklearn.model_selection import train_test_split\n",
    "from sklearn.feature_extraction.text import CountVectorizer\n",
    "from sklearn.preprocessing import FunctionTransformer, LabelEncoder, StandardScaler\n",
    "from sklearn.impute import SimpleImputer\n",
    "from sklearn.metrics import accuracy_score\n",
    "from sklearn.metrics import classification_report\n",
    "from sklearn.model_selection import GridSearchCV, RepeatedStratifiedKFold\n",
    "from sklearn.pipeline import Pipeline\n",
    "from sklearn.preprocessing import Binarizer\n",
    "import sklearn.preprocessing as preprocessing\n",
    "from sklearn.discriminant_analysis import LinearDiscriminantAnalysis\n",
    "from sklearn.naive_bayes import GaussianNB\n",
    "from sklearn.svm import SVC\n",
    "from sklearn.linear_model import SGDClassifier, Perceptron, PassiveAggressiveClassifier\n",
    "from sklearn.naive_bayes import MultinomialNB, BernoulliNB\n",
    "from xgboost import XGBClassifier\n",
    "from sklearn.model_selection import cross_val_score\n",
    "from sklearn.feature_extraction.text import TfidfTransformer\n",
    "from sklearn.pipeline import Pipeline\n",
    "from sklearn import metrics\n",
    "from sklearn.metrics import confusion_matrix\n",
    "from sklearn.metrics import f1_score\n",
    "from sklearn.model_selection import GridSearchCV\n",
    "import imblearn\n",
    "from imblearn.over_sampling import SMOTE\n",
    "from imblearn.pipeline import Pipeline as ImbPipeline"
   ]
  },
  {
   "cell_type": "markdown",
   "id": "af241c3e",
   "metadata": {},
   "source": [
    "---"
   ]
  },
  {
   "cell_type": "markdown",
   "id": "023cc194",
   "metadata": {},
   "source": [
    "<div class=\"alert alert-block alert-info\">\n",
    "<b><h2> Cargar Dataset.</h2></b> \n",
    "</div>"
   ]
  },
  {
   "cell_type": "code",
   "execution_count": 3,
   "id": "97f07eab",
   "metadata": {},
   "outputs": [],
   "source": [
    "df2 = pd.read_pickle('C:/Users/Lenovo/Documents/Barcelona/IT/Data/Proyecto/dataset2.pickle')"
   ]
  },
  {
   "cell_type": "code",
   "execution_count": 4,
   "id": "b92b8fdd",
   "metadata": {},
   "outputs": [
    {
     "data": {
      "text/html": [
       "<div>\n",
       "<style scoped>\n",
       "    .dataframe tbody tr th:only-of-type {\n",
       "        vertical-align: middle;\n",
       "    }\n",
       "\n",
       "    .dataframe tbody tr th {\n",
       "        vertical-align: top;\n",
       "    }\n",
       "\n",
       "    .dataframe thead th {\n",
       "        text-align: right;\n",
       "    }\n",
       "</style>\n",
       "<table border=\"1\" class=\"dataframe\">\n",
       "  <thead>\n",
       "    <tr style=\"text-align: right;\">\n",
       "      <th></th>\n",
       "      <th>content</th>\n",
       "      <th>polarity_sent</th>\n",
       "    </tr>\n",
       "  </thead>\n",
       "  <tbody>\n",
       "    <tr>\n",
       "      <th>0</th>\n",
       "      <td>layin bed headache ughhhhwaitin call</td>\n",
       "      <td>0</td>\n",
       "    </tr>\n",
       "    <tr>\n",
       "      <th>1</th>\n",
       "      <td>funeral ceremonygloomy friday</td>\n",
       "      <td>0</td>\n",
       "    </tr>\n",
       "    <tr>\n",
       "      <th>2</th>\n",
       "      <td>want hang friend soon</td>\n",
       "      <td>2</td>\n",
       "    </tr>\n",
       "    <tr>\n",
       "      <th>3</th>\n",
       "      <td>want trade someone houston ticket one</td>\n",
       "      <td>1</td>\n",
       "    </tr>\n",
       "    <tr>\n",
       "      <th>4</th>\n",
       "      <td>repinging didnt go prom bc bf didnt like friend</td>\n",
       "      <td>0</td>\n",
       "    </tr>\n",
       "    <tr>\n",
       "      <th>...</th>\n",
       "      <td>...</td>\n",
       "      <td>...</td>\n",
       "    </tr>\n",
       "    <tr>\n",
       "      <th>38983</th>\n",
       "      <td>succesfully following tayla</td>\n",
       "      <td>2</td>\n",
       "    </tr>\n",
       "    <tr>\n",
       "      <th>38984</th>\n",
       "      <td>happy mother day love</td>\n",
       "      <td>2</td>\n",
       "    </tr>\n",
       "    <tr>\n",
       "      <th>38985</th>\n",
       "      <td>happy mother day mommy woman man long youre mo...</td>\n",
       "      <td>2</td>\n",
       "    </tr>\n",
       "    <tr>\n",
       "      <th>38986</th>\n",
       "      <td>wassup beautiful follow peep new hit single ww...</td>\n",
       "      <td>2</td>\n",
       "    </tr>\n",
       "    <tr>\n",
       "      <th>38987</th>\n",
       "      <td>bullet train tokyo gf visiting japan since thu...</td>\n",
       "      <td>2</td>\n",
       "    </tr>\n",
       "  </tbody>\n",
       "</table>\n",
       "<p>38988 rows × 2 columns</p>\n",
       "</div>"
      ],
      "text/plain": [
       "                                                 content  polarity_sent\n",
       "0                   layin bed headache ughhhhwaitin call              0\n",
       "1                          funeral ceremonygloomy friday              0\n",
       "2                                  want hang friend soon              2\n",
       "3                  want trade someone houston ticket one              1\n",
       "4        repinging didnt go prom bc bf didnt like friend              0\n",
       "...                                                  ...            ...\n",
       "38983                        succesfully following tayla              2\n",
       "38984                              happy mother day love              2\n",
       "38985  happy mother day mommy woman man long youre mo...              2\n",
       "38986  wassup beautiful follow peep new hit single ww...              2\n",
       "38987  bullet train tokyo gf visiting japan since thu...              2\n",
       "\n",
       "[38988 rows x 2 columns]"
      ]
     },
     "execution_count": 4,
     "metadata": {},
     "output_type": "execute_result"
    }
   ],
   "source": [
    "df2"
   ]
  },
  {
   "cell_type": "markdown",
   "id": "d25b6fb8",
   "metadata": {},
   "source": [
    "## 1. Preparación del Dataset"
   ]
  },
  {
   "cell_type": "code",
   "execution_count": 5,
   "id": "537e7eb7",
   "metadata": {},
   "outputs": [
    {
     "name": "stdout",
     "output_type": "stream",
     "text": [
      "<class 'pandas.core.frame.DataFrame'>\n",
      "RangeIndex: 38988 entries, 0 to 38987\n",
      "Data columns (total 2 columns):\n",
      " #   Column         Non-Null Count  Dtype \n",
      "---  ------         --------------  ----- \n",
      " 0   content        38988 non-null  object\n",
      " 1   polarity_sent  38988 non-null  int32 \n",
      "dtypes: int32(1), object(1)\n",
      "memory usage: 457.0+ KB\n"
     ]
    }
   ],
   "source": [
    "df2.info()"
   ]
  },
  {
   "cell_type": "markdown",
   "id": "47e6d913",
   "metadata": {},
   "source": [
    "### 1.1 Verificar nulos y NaM"
   ]
  },
  {
   "cell_type": "code",
   "execution_count": 6,
   "id": "0f5b13b2",
   "metadata": {},
   "outputs": [
    {
     "data": {
      "text/plain": [
       "content          0\n",
       "polarity_sent    0\n",
       "dtype: int64"
      ]
     },
     "execution_count": 6,
     "metadata": {},
     "output_type": "execute_result"
    }
   ],
   "source": [
    "df2.isnull().sum()"
   ]
  },
  {
   "cell_type": "code",
   "execution_count": 7,
   "id": "74d92952",
   "metadata": {},
   "outputs": [
    {
     "data": {
      "text/plain": [
       "content          0\n",
       "polarity_sent    0\n",
       "dtype: int64"
      ]
     },
     "execution_count": 7,
     "metadata": {},
     "output_type": "execute_result"
    }
   ],
   "source": [
    "df2.isna().sum()"
   ]
  },
  {
   "cell_type": "markdown",
   "id": "ed23fdb1",
   "metadata": {},
   "source": [
    "<h3>Observaciones:</h3>\n",
    "\n",
    "   *  Se puede observar que el data set no tiene valores nulos o NaN. \n",
    "   *  Se puede observar que el data set no tiene valores duplicados.  \n",
    "   *  Las variables de importancia para el estudio son del tipo objeto. \n",
    "   *  El dataset posee 40000 filas y 4 columnas."
   ]
  },
  {
   "cell_type": "markdown",
   "id": "3c459450",
   "metadata": {},
   "source": [
    "## 2. Modelo"
   ]
  },
  {
   "cell_type": "markdown",
   "id": "b9cc7adc",
   "metadata": {},
   "source": [
    "### 2.1 Se define el target y la feature"
   ]
  },
  {
   "cell_type": "code",
   "execution_count": 8,
   "id": "e3630c14",
   "metadata": {},
   "outputs": [],
   "source": [
    "# Se define el target y la feature\n",
    "X = df2['content']\n",
    "y = df2['polarity_sent']"
   ]
  },
  {
   "cell_type": "code",
   "execution_count": 9,
   "id": "ac70c8a3",
   "metadata": {},
   "outputs": [
    {
     "data": {
      "text/plain": [
       "2    15279\n",
       "0    15206\n",
       "1     8503\n",
       "Name: polarity_sent, dtype: int64"
      ]
     },
     "execution_count": 9,
     "metadata": {},
     "output_type": "execute_result"
    }
   ],
   "source": [
    "y.value_counts()"
   ]
  },
  {
   "cell_type": "code",
   "execution_count": 10,
   "id": "be4c571d",
   "metadata": {},
   "outputs": [
    {
     "data": {
      "text/plain": [
       "0               layin bed headache ughhhhwaitin call\n",
       "1                      funeral ceremonygloomy friday\n",
       "2                              want hang friend soon\n",
       "3              want trade someone houston ticket one\n",
       "4    repinging didnt go prom bc bf didnt like friend\n",
       "Name: content, dtype: object"
      ]
     },
     "execution_count": 10,
     "metadata": {},
     "output_type": "execute_result"
    }
   ],
   "source": [
    "X.head()"
   ]
  },
  {
   "cell_type": "code",
   "execution_count": 11,
   "id": "342edd0a",
   "metadata": {},
   "outputs": [],
   "source": [
    "# Separamos los datos en conjuntos de entrenamiento y prueba\n",
    "X_train, X_test, y_train, y_test = train_test_split(X, y, test_size=0.30, random_state=42)"
   ]
  },
  {
   "cell_type": "code",
   "execution_count": 12,
   "id": "4c0d7e9d",
   "metadata": {},
   "outputs": [
    {
     "name": "stdout",
     "output_type": "stream",
     "text": [
      "X_train shape: (27291,)\n",
      "X_test shape: (11697,)\n",
      "y_train shape: (27291,)\n",
      "y_test shape: (11697,)\n"
     ]
    }
   ],
   "source": [
    "print(\"X_train shape:\", X_train.shape)\n",
    "print(\"X_test shape:\", X_test.shape)\n",
    "print(\"y_train shape:\", y_train.shape)\n",
    "print(\"y_test shape:\", y_test.shape)"
   ]
  },
  {
   "cell_type": "markdown",
   "id": "47bb8d4c",
   "metadata": {},
   "source": [
    "### 2.2 Vectorización"
   ]
  },
  {
   "cell_type": "markdown",
   "id": "3b2b6273",
   "metadata": {},
   "source": [
    "En la actualidad, contamos con cada texto registrado en formato de cadena, lo cual no es útil para nuestros modelos. Para poder trabajar con ellos, debemos transformar cada registro en un vector. Para mejorar la precisión del modelo de clasificación multitarget, se utilizaran dos técnicas de vectorización de texto: **CountVectorizer** y **TF-IDF**. \n",
    "\n",
    "La técnica bag-of-words cuenta la frecuencia de cada palabra en un documento, mientras que TF-IDF pondera las palabras según su importancia en un documento. Al utilizar ambas técnicas, se espera capturar tanto la frecuencia como la importancia de las palabras en el texto, lo que debería mejorar la capacidad del modelo para identificar patrones y realizar predicciones precisas en los datos de prueba.\""
   ]
  },
  {
   "cell_type": "markdown",
   "id": "a966ac68",
   "metadata": {},
   "source": [
    "* **CountVectorizer**"
   ]
  },
  {
   "cell_type": "code",
   "execution_count": 13,
   "id": "3a83f3b9",
   "metadata": {},
   "outputs": [],
   "source": [
    "# Tokenizer to remove unwanted elements from our data like symbols and numbers\n",
    "token = RegexpTokenizer(r'[a-zA-Z0-9]+')\n",
    "\n",
    "# Fit the CountVectorizer to the training data\n",
    "cv = CountVectorizer(lowercase=False, stop_words='english', ngram_range=(1,1), tokenizer=token.tokenize)\n",
    "X_train_vec = cv.fit_transform(X_train)\n",
    "\n",
    "# Transform the test data using the same CountVectorizer object\n",
    "X_test_vec = cv.transform(X_test)\n",
    "X_vec = cv.fit_transform(X)"
   ]
  },
  {
   "cell_type": "markdown",
   "id": "c244b613",
   "metadata": {},
   "source": [
    "* **TF-IDF**"
   ]
  },
  {
   "cell_type": "code",
   "execution_count": 14,
   "id": "727a9c17",
   "metadata": {},
   "outputs": [],
   "source": [
    "from sklearn.feature_extraction.text import TfidfTransformer\n",
    "# We are using transformer here\n",
    "tfidf = TfidfTransformer()\n",
    "\n",
    "tfidf.fit(X_train_vec)\n",
    "X_train_tfidf = tfidf.transform(X_train_vec)\n",
    "X_test_tfidf = tfidf.transform(X_test_vec)"
   ]
  },
  {
   "cell_type": "markdown",
   "id": "92514f43",
   "metadata": {},
   "source": [
    "### 2.3 Evaluación de modelos."
   ]
  },
  {
   "cell_type": "code",
   "execution_count": 15,
   "id": "961af7cc",
   "metadata": {},
   "outputs": [],
   "source": [
    "# Seleccionar los mejores modelos a evaluar\n",
    "classifiers = [\n",
    "    SVC(),\n",
    "    SGDClassifier(),\n",
    "    MultinomialNB(),\n",
    "    BernoulliNB(),\n",
    "    XGBClassifier(),\n",
    "]"
   ]
  },
  {
   "cell_type": "code",
   "execution_count": 21,
   "id": "b0899640",
   "metadata": {},
   "outputs": [
    {
     "name": "stdout",
     "output_type": "stream",
     "text": [
      "SVC: 0.5760749682332559\n",
      "  fit time: 313.86224s\n",
      "  score time: 21.60774s\n",
      "SGDClassifier: 0.5618910252899434\n",
      "  fit time: 0.43823s\n",
      "  score time: 0.02154s\n",
      "MultinomialNB: 0.5522215898861936\n",
      "  fit time: 0.02414s\n",
      "  score time: 0.00180s\n",
      "BernoulliNB: 0.551375110471034\n",
      "  fit time: 0.01636s\n",
      "  score time: 0.00499s\n",
      "XGBClassifier: 0.5549919190481816\n",
      "  fit time: 8.21604s\n",
      "  score time: 0.09016s\n"
     ]
    }
   ],
   "source": [
    "import time\n",
    "from sklearn.model_selection import cross_validate\n",
    "\n",
    "score_mean = []\n",
    "score_std = []\n",
    "fit_time = []\n",
    "score_time = []\n",
    "\n",
    "for classifier in classifiers:\n",
    "    start_time = time.time()\n",
    "    scores = cross_validate(classifier, X_vec, y, cv=5, scoring='accuracy', return_train_score=False)\n",
    "    fit_time.append(scores['fit_time'].mean())\n",
    "    score_time.append(scores['score_time'].mean())\n",
    "    score_mean.append(scores['test_score'].mean())\n",
    "    score_std.append(scores['test_score'].std())\n",
    "    print(f'{type(classifier).__name__}: {scores[\"test_score\"].mean()}')\n",
    "    print(f'  fit time: {scores[\"fit_time\"].mean():.5f}s')\n",
    "    print(f'  score time: {scores[\"score_time\"].mean():.5f}s')"
   ]
  },
  {
   "cell_type": "code",
   "execution_count": 22,
   "id": "6dca865d",
   "metadata": {},
   "outputs": [],
   "source": [
    "tabla = pd.DataFrame({\n",
    "    'model': ['SVC', 'SGDClassifier', 'MultinomialNB', 'BernoulliNB', 'XGBClassifier'],\n",
    "    'acc_cv': score_mean,\n",
    "    'acc_std_cv': score_std,\n",
    "    'fit_time': fit_time,\n",
    "    'score_time': score_time\n",
    "})"
   ]
  },
  {
   "cell_type": "code",
   "execution_count": 23,
   "id": "45d55d6d",
   "metadata": {},
   "outputs": [
    {
     "data": {
      "text/html": [
       "<div>\n",
       "<style scoped>\n",
       "    .dataframe tbody tr th:only-of-type {\n",
       "        vertical-align: middle;\n",
       "    }\n",
       "\n",
       "    .dataframe tbody tr th {\n",
       "        vertical-align: top;\n",
       "    }\n",
       "\n",
       "    .dataframe thead th {\n",
       "        text-align: right;\n",
       "    }\n",
       "</style>\n",
       "<table border=\"1\" class=\"dataframe\">\n",
       "  <thead>\n",
       "    <tr style=\"text-align: right;\">\n",
       "      <th></th>\n",
       "      <th>model</th>\n",
       "      <th>acc_cv</th>\n",
       "      <th>acc_std_cv</th>\n",
       "      <th>fit_time</th>\n",
       "      <th>score_time</th>\n",
       "    </tr>\n",
       "  </thead>\n",
       "  <tbody>\n",
       "    <tr>\n",
       "      <th>0</th>\n",
       "      <td>SVC</td>\n",
       "      <td>0.576075</td>\n",
       "      <td>0.056174</td>\n",
       "      <td>313.862240</td>\n",
       "      <td>21.607743</td>\n",
       "    </tr>\n",
       "    <tr>\n",
       "      <th>1</th>\n",
       "      <td>SGDClassifier</td>\n",
       "      <td>0.561891</td>\n",
       "      <td>0.055183</td>\n",
       "      <td>0.438228</td>\n",
       "      <td>0.021543</td>\n",
       "    </tr>\n",
       "    <tr>\n",
       "      <th>2</th>\n",
       "      <td>MultinomialNB</td>\n",
       "      <td>0.552222</td>\n",
       "      <td>0.059115</td>\n",
       "      <td>0.024135</td>\n",
       "      <td>0.001796</td>\n",
       "    </tr>\n",
       "    <tr>\n",
       "      <th>3</th>\n",
       "      <td>BernoulliNB</td>\n",
       "      <td>0.551375</td>\n",
       "      <td>0.058656</td>\n",
       "      <td>0.016356</td>\n",
       "      <td>0.004987</td>\n",
       "    </tr>\n",
       "    <tr>\n",
       "      <th>4</th>\n",
       "      <td>XGBClassifier</td>\n",
       "      <td>0.554992</td>\n",
       "      <td>0.052912</td>\n",
       "      <td>8.216038</td>\n",
       "      <td>0.090159</td>\n",
       "    </tr>\n",
       "  </tbody>\n",
       "</table>\n",
       "</div>"
      ],
      "text/plain": [
       "           model    acc_cv  acc_std_cv    fit_time  score_time\n",
       "0            SVC  0.576075    0.056174  313.862240   21.607743\n",
       "1  SGDClassifier  0.561891    0.055183    0.438228    0.021543\n",
       "2  MultinomialNB  0.552222    0.059115    0.024135    0.001796\n",
       "3    BernoulliNB  0.551375    0.058656    0.016356    0.004987\n",
       "4  XGBClassifier  0.554992    0.052912    8.216038    0.090159"
      ]
     },
     "execution_count": 23,
     "metadata": {},
     "output_type": "execute_result"
    }
   ],
   "source": [
    "tabla"
   ]
  },
  {
   "cell_type": "markdown",
   "id": "0922505c",
   "metadata": {},
   "source": [
    "Los modelos evaluados son: SVM con kernel lineal (SVC), SGDClassifier, Multinomial Naive Bayes, Bernoulli Naive Bayes y XGBoost.\n",
    "\n",
    "Se realizaron validaciones cruzadas de 5 iteraciones y se midieron la precisión media (acc_cv) y la desviación estándar (acc_std_cv) de cada modelo. Además, se registró el tiempo de entrenamiento (fit_time) y el tiempo de predicción (score_time) de cada modelo.\n",
    "\n",
    "Los resultados muestran que el modelo SVC obtuvo la precisión media más alta de 0.576, seguido del modelo SGDClassifier con 0.561. El modelo MultinomialNB obtuvo la tercera mejor precisión media de 0.552, seguido de BernoulliNB con 0.551 y XGBoost con 0.554.\n",
    "\n",
    "En términos de tiempo, se observa que SVC tuvo el tiempo de entrenamiento más largo con 313.862 segundos, mientras que el modelo SGDClassifier fue el más rápido con 0.438 segundos. En cuanto al tiempo de predicción, SVC también tuvo el tiempo más largo con 21.607 segundos, mientras que el modelo BernoulliNB tuvo el tiempo más largo con 0.004 segundos.\n",
    "\n",
    "Teniendo en cuenta la precisión media y los tiempos de entrenamiento y predicción, se podría recomendar el modelo **SGDClassifier** como la mejor opción para el análisis de sentimiento de tweets, ya que logró una precisión media competitiva con un tiempo de entrenamiento y predicción muy bajo en comparación con los otros modelos evaluados."
   ]
  },
  {
   "cell_type": "markdown",
   "id": "a3128e02",
   "metadata": {},
   "source": [
    "## 3. Creación y predicción del modelo base"
   ]
  },
  {
   "cell_type": "code",
   "execution_count": 24,
   "id": "f2c54182",
   "metadata": {},
   "outputs": [],
   "source": [
    "pipe_model = Pipeline([('vector', CountVectorizer()), \n",
    "                 ('tfidf', TfidfTransformer()),  \n",
    "                 ('model', SGDClassifier(random_state=42))])"
   ]
  },
  {
   "cell_type": "code",
   "execution_count": 25,
   "id": "08293ba2",
   "metadata": {},
   "outputs": [
    {
     "name": "stdout",
     "output_type": "stream",
     "text": [
      "0.5804907241172951\n"
     ]
    }
   ],
   "source": [
    "pipe_model.fit(X_train, y_train)\n",
    "y_pred = pipe_model.predict(X_test)\n",
    "print(metrics.accuracy_score(y_test, y_pred))"
   ]
  },
  {
   "cell_type": "code",
   "execution_count": 26,
   "id": "6bf2c5f6",
   "metadata": {},
   "outputs": [
    {
     "data": {
      "image/png": "[encoded data removed]",
      "text/plain": [
       "<Figure size 600x600 with 1 Axes>"
      ]
     },
     "metadata": {},
     "output_type": "display_data"
    }
   ],
   "source": [
    "# confusion_matrix\n",
    "svc_cm = confusion_matrix(y_test, y_pred)\n",
    "\n",
    "labels = ['negative','neutral','positive']\n",
    "plt.figure(figsize= (6,6))\n",
    "sns.heatmap(pd.DataFrame(svc_cm), annot = True, fmt='g', cbar = False, cmap=\"YlGnBu\", xticklabels= labels, \n",
    "            yticklabels= labels)\n",
    "plt.title('SVC Confusion Matrix', fontsize = 14)\n",
    "plt.ylabel('Actual label',fontsize = 12 )\n",
    "plt.xlabel('Predicted label', fontsize = 12);"
   ]
  },
  {
   "cell_type": "code",
   "execution_count": 27,
   "id": "8fb7501a",
   "metadata": {},
   "outputs": [
    {
     "name": "stdout",
     "output_type": "stream",
     "text": [
      "              precision    recall  f1-score   support\n",
      "\n",
      "           0       0.59      0.74      0.65      4568\n",
      "           1       0.47      0.08      0.14      2572\n",
      "           2       0.58      0.71      0.64      4557\n",
      "\n",
      "    accuracy                           0.58     11697\n",
      "   macro avg       0.55      0.51      0.48     11697\n",
      "weighted avg       0.56      0.58      0.53     11697\n",
      "\n"
     ]
    }
   ],
   "source": [
    "# classification_report\n",
    "print(classification_report(y_test, y_pred))"
   ]
  },
  {
   "cell_type": "code",
   "execution_count": 28,
   "id": "edbe355a",
   "metadata": {},
   "outputs": [
    {
     "data": {
      "text/plain": [
       "0.13982770046388338"
      ]
     },
     "execution_count": 28,
     "metadata": {},
     "output_type": "execute_result"
    }
   ],
   "source": [
    "# Calcula el F1-score\n",
    "f1 = f1_score(y_test, y_pred, average='weighted', labels=[1])\n",
    "f1"
   ]
  },
  {
   "cell_type": "code",
   "execution_count": 31,
   "id": "188d2fe2",
   "metadata": {},
   "outputs": [
    {
     "data": {
      "image/png": "[encoded data removed]",
      "text/plain": [
       "<Figure size 640x480 with 1 Axes>"
      ]
     },
     "metadata": {},
     "output_type": "display_data"
    }
   ],
   "source": [
    "from sklearn.metrics import roc_curve\n",
    "from sklearn.metrics import auc\n",
    "\n",
    "# Obtener las probabilidades de la predicción\n",
    "y_score = pipe_model.decision_function(X_test)\n",
    "\n",
    "# Crear un diccionario con los valores necesarios para graficar la curva AUC-ROC\n",
    "fpr = {}\n",
    "tpr = {}\n",
    "roc_auc = {}\n",
    "for i in range(3):\n",
    "    fpr[i], tpr[i], _ = roc_curve(y_test, y_score[:, i], pos_label=i)\n",
    "    roc_auc[i] = auc(fpr[i], tpr[i])\n",
    "\n",
    "# Graficar la curva AUC-ROC\n",
    "plt.figure()\n",
    "plt.plot(fpr[0], tpr[0], color='darkorange', lw=2, label='ROC curve (area = %0.2f)' % roc_auc[0])\n",
    "plt.plot([0, 1], [0, 1], color='navy', lw=2, linestyle='--')\n",
    "plt.xlim([-0.05, 1.0])\n",
    "plt.ylim([0.0, 1.05])\n",
    "plt.xlabel('False Positive Rate')\n",
    "plt.ylabel('True Positive Rate')\n",
    "plt.title('Receiver operating characteristic SVC')\n",
    "plt.legend(loc=\"lower right\")\n",
    "plt.show()"
   ]
  },
  {
   "cell_type": "markdown",
   "id": "c3a4ac35",
   "metadata": {},
   "source": [
    "En este caso, la clase 0 tuvo una precisión del 59% y una recall del 74%, lo que significa que el modelo fue capaz de identificar correctamente el 59% de los elementos clasificados como positivos y el 74% de los elementos reales que eran positivos. La clase 1 tuvo una precisión del 47% y una recall del 8%, lo que sugiere que el modelo tuvo dificultades para identificar esta clase en particular. La clase 2 tuvo una precisión del 58% y una recall del 71%.\n",
    "\n",
    "La exactitud general del modelo fue del 58%, lo que indica que fue capaz de clasificar correctamente el 58% de los elementos del conjunto de datos. La media ponderada de la precisión, la recall y la f1-score fue del 56%, lo que indica un desempeño promedio del modelo.\n",
    "\n",
    "El valor de la curva ROC (0.77) sugiere que el modelo tiene una capacidad razonablemente buena para distinguir entre las diferentes clases."
   ]
  },
  {
   "cell_type": "markdown",
   "id": "e858f2d3",
   "metadata": {},
   "source": [
    "## 4.  Hiperparametos (Mejores parametros)"
   ]
  },
  {
   "cell_type": "code",
   "execution_count": 37,
   "id": "37d9bf0f",
   "metadata": {
    "scrolled": false
   },
   "outputs": [
    {
     "name": "stdout",
     "output_type": "stream",
     "text": [
      "Fitting 5 folds for each of 144 candidates, totalling 720 fits\n",
      "score 0.5835684363512011\n",
      "-----\n",
      "GridSearchCV:\n",
      "Best score: 0.5914\n",
      "Best parameters set:\n",
      "\tmodel__alpha: 0.0001\n",
      "\tmodel__class_weight: 'balanced'\n",
      "\tmodel__max_iter: 1000\n",
      "\tmodel__penalty: 'elasticnet'\n"
     ]
    },
    {
     "data": {
      "text/html": [
       "<div>\n",
       "<style scoped>\n",
       "    .dataframe tbody tr th:only-of-type {\n",
       "        vertical-align: middle;\n",
       "    }\n",
       "\n",
       "    .dataframe tbody tr th {\n",
       "        vertical-align: top;\n",
       "    }\n",
       "\n",
       "    .dataframe thead th {\n",
       "        text-align: right;\n",
       "    }\n",
       "</style>\n",
       "<table border=\"1\" class=\"dataframe\">\n",
       "  <thead>\n",
       "    <tr style=\"text-align: right;\">\n",
       "      <th></th>\n",
       "      <th>0</th>\n",
       "      <th>1</th>\n",
       "      <th>2</th>\n",
       "    </tr>\n",
       "  </thead>\n",
       "  <tbody>\n",
       "    <tr>\n",
       "      <th>0</th>\n",
       "      <td>3160</td>\n",
       "      <td>445</td>\n",
       "      <td>963</td>\n",
       "    </tr>\n",
       "    <tr>\n",
       "      <th>1</th>\n",
       "      <td>956</td>\n",
       "      <td>663</td>\n",
       "      <td>953</td>\n",
       "    </tr>\n",
       "    <tr>\n",
       "      <th>2</th>\n",
       "      <td>1060</td>\n",
       "      <td>494</td>\n",
       "      <td>3003</td>\n",
       "    </tr>\n",
       "  </tbody>\n",
       "</table>\n",
       "</div>"
      ],
      "text/plain": [
       "      0    1     2\n",
       "0  3160  445   963\n",
       "1   956  663   953\n",
       "2  1060  494  3003"
      ]
     },
     "execution_count": 37,
     "metadata": {},
     "output_type": "execute_result"
    }
   ],
   "source": [
    "pipeline = Pipeline(\n",
    "    [\n",
    "        ('vector', CountVectorizer(lowercase=False)), \n",
    "        ('tfidf', TfidfTransformer()),  \n",
    "        ('model', SGDClassifier(random_state=42))\n",
    "    ]\n",
    ")\n",
    "\n",
    "parameters = {\n",
    "    'model__alpha': [1e-4, 1e-3, 1e-2, 1e-1, 1e0, 1e1, 1e2, 1e3],\n",
    "    'model__penalty': ['l2', 'l1', 'elasticnet'],\n",
    "    'model__max_iter': [1000, 2000, 5000],\n",
    "    'model__class_weight': [None, 'balanced']\n",
    "}\n",
    "\n",
    "grid_search = GridSearchCV(pipeline, parameters, cv=5, n_jobs=-1, verbose=1)\n",
    "\n",
    "grid_search.fit(X_train, y_train)\n",
    "\n",
    "print('score', grid_search.score(X_test, y_test))\n",
    "print('-----')\n",
    "\n",
    "print('GridSearchCV:')\n",
    "y_pred_p = grid_search.predict(X_test)\n",
    "\n",
    "print(\"Best score: %0.4f\" % grid_search.best_score_)\n",
    "print(\"Best parameters set:\")\n",
    "best_parameters = grid_search.best_estimator_.get_params()\n",
    "for param_name in sorted(parameters.keys()):\n",
    "    print(\"\\t%s: %r\" % (param_name, best_parameters[param_name]))\n",
    "\n",
    "# Print Confusion Matrix\n",
    "labels = np.unique(y_test)\n",
    "cm =  confusion_matrix(y_test, y_pred_p, labels=labels)\n",
    "pd.DataFrame(cm, index=labels, columns=labels)"
   ]
  },
  {
   "cell_type": "code",
   "execution_count": 38,
   "id": "d0cd88c5",
   "metadata": {},
   "outputs": [
    {
     "name": "stdout",
     "output_type": "stream",
     "text": [
      "Accuracy score: 0.5836\n"
     ]
    }
   ],
   "source": [
    "# model with best parameters\n",
    "\n",
    "pipeline_bp = Pipeline(\n",
    "    [\n",
    "        ('vector', CountVectorizer(lowercase=False)), \n",
    "        ('tfidf', TfidfTransformer()),  \n",
    "        ('model', SGDClassifier(random_state=42, alpha= 0.0001, class_weight='balanced', max_iter=1000, \n",
    "                                penalty='elasticnet'))\n",
    "    ]\n",
    ")\n",
    "\n",
    "pipeline_bp.fit(X_train, y_train)\n",
    "print('Accuracy score: {0:.4f}'.format(pipeline_bp.score(X_test, y_test)))\n",
    "\n",
    "y_pred_bp = pipeline_bp.predict(X_test)"
   ]
  },
  {
   "cell_type": "code",
   "execution_count": 39,
   "id": "dcb804d9",
   "metadata": {},
   "outputs": [
    {
     "data": {
      "image/png": "[encoded data removed]",
      "text/plain": [
       "<Figure size 600x600 with 1 Axes>"
      ]
     },
     "metadata": {},
     "output_type": "display_data"
    }
   ],
   "source": [
    "# confusion_matrix\n",
    "svc_cm_bp = confusion_matrix(y_test, y_pred_bp)\n",
    "\n",
    "labels = ['negative','neutral','positive']\n",
    "plt.figure(figsize= (6,6))\n",
    "sns.heatmap(pd.DataFrame(svc_cm_bp), annot = True, fmt='g', cbar = False, cmap=\"YlGnBu\", xticklabels= labels, \n",
    "            yticklabels= labels)\n",
    "plt.title('SVC Confusion Matrix', fontsize = 14)\n",
    "plt.ylabel('Actual label',fontsize = 12 )\n",
    "plt.xlabel('Predicted label', fontsize = 12);"
   ]
  },
  {
   "cell_type": "code",
   "execution_count": 40,
   "id": "2bab36f6",
   "metadata": {},
   "outputs": [
    {
     "name": "stdout",
     "output_type": "stream",
     "text": [
      "              precision    recall  f1-score   support\n",
      "\n",
      "           0       0.61      0.69      0.65      4568\n",
      "           1       0.41      0.26      0.32      2572\n",
      "           2       0.61      0.66      0.63      4557\n",
      "\n",
      "    accuracy                           0.58     11697\n",
      "   macro avg       0.54      0.54      0.53     11697\n",
      "weighted avg       0.57      0.58      0.57     11697\n",
      "\n"
     ]
    }
   ],
   "source": [
    "# classification_report\n",
    "print(classification_report(y_test, y_pred_bp))"
   ]
  },
  {
   "cell_type": "code",
   "execution_count": 41,
   "id": "3854dd77",
   "metadata": {},
   "outputs": [
    {
     "data": {
      "image/png": "[encoded data removed]",
      "text/plain": [
       "<Figure size 640x480 with 1 Axes>"
      ]
     },
     "metadata": {},
     "output_type": "display_data"
    }
   ],
   "source": [
    "# Obtener las probabilidades de la predicción\n",
    "y_score = pipeline_bp.decision_function(X_test)\n",
    "\n",
    "# Crear un diccionario con los valores necesarios para graficar la curva AUC-ROC\n",
    "fpr = {}\n",
    "tpr = {}\n",
    "roc_auc = {}\n",
    "for i in range(3):\n",
    "    fpr[i], tpr[i], _ = roc_curve(y_test, y_score[:, i], pos_label=i)\n",
    "    roc_auc[i] = auc(fpr[i], tpr[i])\n",
    "\n",
    "# Graficar la curva AUC-ROC\n",
    "plt.figure()\n",
    "plt.plot(fpr[0], tpr[0], color='darkorange', lw=2, label='ROC curve (area = %0.2f)' % roc_auc[0])\n",
    "plt.plot([0, 1], [0, 1], color='navy', lw=2, linestyle='--')\n",
    "plt.xlim([-0.05, 1.0])\n",
    "plt.ylim([0.0, 1.05])\n",
    "plt.xlabel('False Positive Rate')\n",
    "plt.ylabel('True Positive Rate')\n",
    "plt.title('Receiver operating characteristic SVC - Best parameters')\n",
    "plt.legend(loc=\"lower right\")\n",
    "plt.show()"
   ]
  },
  {
   "cell_type": "code",
   "execution_count": 43,
   "id": "ad34eb6e",
   "metadata": {},
   "outputs": [
    {
     "name": "stdout",
     "output_type": "stream",
     "text": [
      "Accuracy score: 0.5796\n"
     ]
    }
   ],
   "source": [
    "# model with best parameters with CV\n",
    "\n",
    "# Crear el pipeline con los pasos de preprocesamiento y el modelo\n",
    "pipeline_cv = Pipeline([\n",
    "    ('vector', CountVectorizer(lowercase=False)), \n",
    "    ('tfidf', TfidfTransformer()),  \n",
    "    ('model', SGDClassifier(random_state=42, alpha= 0.0001, class_weight='balanced', max_iter=1000, \n",
    "                                penalty='elasticnet'))\n",
    "])\n",
    "\n",
    "# Calcular la puntuación de precisión usando cross-validation con 5 folds\n",
    "score = cross_val_score(pipeline_cv, X, y, cv=5, scoring='accuracy')\n",
    "\n",
    "# Imprimir la puntuación media de precisión\n",
    "print('Accuracy score: {0:.4f}'.format(score.mean()))"
   ]
  },
  {
   "cell_type": "markdown",
   "id": "57350ec0",
   "metadata": {},
   "source": [
    "## 5.  Balanceo de la data (Smote SKleaern)"
   ]
  },
  {
   "cell_type": "code",
   "execution_count": 44,
   "id": "3b1b449e",
   "metadata": {},
   "outputs": [
    {
     "name": "stdout",
     "output_type": "stream",
     "text": [
      "Accuracy score: 0.5589\n"
     ]
    }
   ],
   "source": [
    "pipeline_sm = ImbPipeline(\n",
    "    [\n",
    "        ('vector', CountVectorizer(lowercase=False)), \n",
    "        ('tfidf', TfidfTransformer()),\n",
    "        ('smote', ImbPipeline([\n",
    "            ('smote', SMOTE(random_state=42)),\n",
    "            ('model', SGDClassifier(random_state=42, alpha= 0.0001, class_weight='balanced', max_iter=1000, \n",
    "                                   penalty='elasticnet'))\n",
    "        ]))\n",
    "    ]\n",
    ")\n",
    "\n",
    "score = cross_val_score(pipeline_sm, X, y, cv=5, scoring='accuracy')\n",
    "print('Accuracy score: {0:.4f}'.format(score.mean()))"
   ]
  },
  {
   "cell_type": "code",
   "execution_count": 47,
   "id": "44866b8c",
   "metadata": {},
   "outputs": [
    {
     "name": "stdout",
     "output_type": "stream",
     "text": [
      "Accuracy score: 0.5665\n"
     ]
    }
   ],
   "source": [
    "pipeline_sm.fit(X_train, y_train)\n",
    "print('Accuracy score: {0:.4f}'.format(pipeline_sm.score(X_test, y_test)))\n",
    "\n",
    "y_pred_sm = pipeline_sm.predict(X_test)"
   ]
  },
  {
   "cell_type": "code",
   "execution_count": 48,
   "id": "5592a620",
   "metadata": {},
   "outputs": [
    {
     "data": {
      "image/png": "[encoded data removed]",
      "text/plain": [
       "<Figure size 600x600 with 1 Axes>"
      ]
     },
     "metadata": {},
     "output_type": "display_data"
    }
   ],
   "source": [
    "# confusion_matrix\n",
    "svc_cm_sm = confusion_matrix(y_test, y_pred_sm)\n",
    "\n",
    "labels = ['negative','neutral','positive']\n",
    "plt.figure(figsize= (6,6))\n",
    "sns.heatmap(pd.DataFrame(svc_cm_bp), annot = True, fmt='g', cbar = False, cmap=\"YlGnBu\", xticklabels= labels, \n",
    "            yticklabels= labels)\n",
    "plt.title('SVC Confusion Matrix', fontsize = 14)\n",
    "plt.ylabel('Actual label',fontsize = 12 )\n",
    "plt.xlabel('Predicted label', fontsize = 12);"
   ]
  },
  {
   "cell_type": "markdown",
   "id": "a14dd53c",
   "metadata": {},
   "source": [
    "## 6. Observaciones generales"
   ]
  },
  {
   "cell_type": "markdown",
   "id": "71293b07",
   "metadata": {},
   "source": [
    "* Se evaluaron cinco modelos diferentes para el análisis de sentimiento de tweets y se encontró que el modelo SGDClassifier fue la mejor opción, ya que logró una precisión media competitiva con tiempos de entrenamiento y predicción más bajos que los otros modelos evaluados.\n",
    "\n",
    "\n",
    "* Se utilizó GridSearchCV para encontrar los mejores hiperparámetros para el modelo, y se encontró que los mejores parámetros fueron un valor de alfa de 0.0001, un peso de clase balanceado, un máximo de iteraciones de 1000 y una penalización de elasticnet.\n",
    "\n",
    "\n",
    "* Se creó una pipeline con los mejores parámetros y se utilizó la validación cruzada para evaluar la precisión media del modelo, que fue de 0.5914. Sin embargo, se intentó mejorar la precisión utilizando SMOTE de SKLearn para balancear los datos, pero se encontró que la precisión disminuyó a 0.5665.\n",
    "\n",
    "\n",
    "* En conclusión, se podría decir que aunque se encontró un modelo con una precisión media razonable, aún se necesitan mejoras significativas en el modelo para aumentar su precisión y rendimiento en la clasificación de emociones en tweets. "
   ]
  }
 ],
 "metadata": {
  "kernelspec": {
   "display_name": "Python 3 (ipykernel)",
   "language": "python",
   "name": "python3"
  },
  "language_info": {
   "codemirror_mode": {
    "name": "ipython",
    "version": 3
   },
   "file_extension": ".py",
   "mimetype": "text/x-python",
   "name": "python",
   "nbconvert_exporter": "python",
   "pygments_lexer": "ipython3",
   "version": "3.9.12"
  },
  "latex_envs": {
   "LaTeX_envs_menu_present": true,
   "autoclose": false,
   "autocomplete": true,
   "bibliofile": "biblio.bib",
   "cite_by": "apalike",
   "current_citInitial": 1,
   "eqLabelWithNumbers": true,
   "eqNumInitial": 1,
   "hotkeys": {
    "equation": "Ctrl-E",
    "itemize": "Ctrl-I"
   },
   "labels_anchors": false,
   "latex_user_defs": false,
   "report_style_numbering": false,
   "user_envs_cfg": false
  },
  "nbTranslate": {
   "displayLangs": [
    "*"
   ],
   "hotkey": "alt-t",
   "langInMainMenu": true,
   "sourceLang": "en",
   "targetLang": "fr",
   "useGoogleTranslate": true
  },
  "toc": {
   "base_numbering": 1,
   "nav_menu": {},
   "number_sections": false,
   "sideBar": true,
   "skip_h1_title": false,
   "title_cell": "Table of Contents",
   "title_sidebar": "Contents",
   "toc_cell": false,
   "toc_position": {
    "height": "calc(100% - 180px)",
    "left": "10px",
    "top": "150px",
    "width": "165px"
   },
   "toc_section_display": true,
   "toc_window_display": true
  },
  "varInspector": {
   "cols": {
    "lenName": 16,
    "lenType": 16,
    "lenVar": 40
   },
   "kernels_config": {
    "python": {
     "delete_cmd_postfix": "",
     "delete_cmd_prefix": "del ",
     "library": "var_list.py",
     "varRefreshCmd": "print(var_dic_list())"
    },
    "r": {
     "delete_cmd_postfix": ") ",
     "delete_cmd_prefix": "rm(",
     "library": "var_list.r",
     "varRefreshCmd": "cat(var_dic_list()) "
    }
   },
   "types_to_exclude": [
    "module",
    "function",
    "builtin_function_or_method",
    "instance",
    "_Feature"
   ],
   "window_display": false
  }
 },
 "nbformat": 4,
 "nbformat_minor": 5
}
