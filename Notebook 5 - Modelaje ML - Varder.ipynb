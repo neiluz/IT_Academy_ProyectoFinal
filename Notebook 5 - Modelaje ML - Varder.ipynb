{
 "cells": [
  {
   "cell_type": "markdown",
   "id": "16c2fb79",
   "metadata": {},
   "source": [
    "<div style=\"background-color: #1DA1F2; padding: 20px;\"><b><h1> Descifrando el lenguaje emocional en Twitter: Un análisis predictivo basado en aprendizaje automático. </h1></b></div>"
   ]
  },
  {
   "cell_type": "markdown",
   "id": "98964068",
   "metadata": {},
   "source": [
    "**Autor**: Neivys Luz González Gómez"
   ]
  },
  {
   "cell_type": "markdown",
   "id": "e688086f",
   "metadata": {},
   "source": [
    "La identificación de emociones es una tarea fundamental en el campo del procesamiento de lenguaje natural, que se enfoca en clasificar textos según su tono emocional. A pesar de que el objetivo es identificar una amplia variedad de emociones humanas, la mayoría de los conjuntos de datos disponibles se limitan a las polaridades positiva, negativa y, en ocasiones, neutral.\n",
    "\n",
    "Detectar emociones a partir de textos es un reto complejo en el procesamiento del lenguaje natural, ya que se trata de un problema de clasificación multiclase y, en muchas ocasiones, no hay suficientes datos etiquetados disponibles. Sin embargo, este conjunto de datos etiquetado proporciona la oportunidad de aplicar diversas técnicas de análisis exploratorio y modelado para entender mejor la dinámica emocional en las redes sociales y mejorar la capacidad de detección en tiempo real.\n",
    "\n",
    "El conjunto de datos de emociones se obtiene a partir de mensajes en inglés de Twitter y contiene seis emociones básicas: neutralidad, preocupación, felicidad, tristeza, amor, sorpresa, diversión, alivio, odio, vacío, entusiasmo y aburrimiento. Este conjunto de datos ofrece una variedad más amplia de emociones humanas, lo que permite el entrenamiento y la evaluación de modelos de análisis de sentimientos con mayor precisión y exhaustividad."
   ]
  },
  {
   "cell_type": "markdown",
   "id": "5338c1f3",
   "metadata": {},
   "source": [
    "<div class=\"alert alert-info alert-info\"><b><h3>Objetivo General</h3></b>\n",
    "    \n",
    "**Desarrollar un modelo que permita detectar emociones en los tweets y analizar patrones en el lenguaje utilizado en Twitter para ayudar en la detección temprana de trastornos emocionales como la depresión, la ansiedad, entre otros.**\n",
    "</div>"
   ]
  },
  {
   "cell_type": "markdown",
   "id": "e3a51b43",
   "metadata": {},
   "source": [
    "---"
   ]
  },
  {
   "cell_type": "markdown",
   "id": "933c744d",
   "metadata": {},
   "source": [
    "# Notebook N° 5: Modelaje con Machine Learning - Clasificacion Varder"
   ]
  },
  {
   "cell_type": "markdown",
   "id": "891bce73",
   "metadata": {},
   "source": [
    "El Notebook N° 3: Modelaje con Machine Learning tiene como objetivo brindar una comprensión clara y práctica de cómo aplicar técnicas de Machine Learning para construir modelos predictivos precisos. El proyecto se enfoca en la construcción, entrenamiento y evaluación de diferentes modelos para seleccionar el mejor modelo para los datos en cuestión."
   ]
  },
  {
   "cell_type": "markdown",
   "id": "204a79b8",
   "metadata": {},
   "source": [
    "<div class=\"alert alert-block alert-warning\">\n",
    "<b><h1>Descripción de las Variables</h1></b> \n",
    "</div>"
   ]
  },
  {
   "cell_type": "markdown",
   "id": "42b56a3d",
   "metadata": {},
   "source": [
    "Se dispone de un conjunto de datos proveniente de data.world, una plataforma que proporciona acceso a conjuntos de datos públicos. Este dataset consiste en una colección de tweets etiquetados con la emoción que expresan. Contiene cuatro columnas que incluyen el identificador del tweet, el sentimiento expresado, el autor y el contenido del tweet. En total, se tienen 40,000 registros con anotaciones para 13 emociones distintas. "
   ]
  },
  {
   "cell_type": "markdown",
   "id": "6f0ade4d",
   "metadata": {},
   "source": [
    "| Variables \t|                           Descripción                           \t|\n",
    "|:---------:\t|:---------------------------------------------------------------:\t|\n",
    "|  tweet_id \t| Identificador numérico único asignado a cada registro de tweet  \t|\n",
    "| sentiment \t|   Clasifica cada tweet en una de las 13 diferentes emociones.   \t|\n",
    "|   author  \t|       Nombre del usuario de Twitter que publicó el tweet.       \t|\n",
    "|  content  \t|                   El texto completo del tweet                   \t|"
   ]
  },
  {
   "cell_type": "markdown",
   "id": "b8ad62d6",
   "metadata": {},
   "source": [
    "---"
   ]
  },
  {
   "cell_type": "code",
   "execution_count": 1,
   "id": "eebecf44",
   "metadata": {
    "run_control": {
     "marked": false
    }
   },
   "outputs": [
    {
     "name": "stderr",
     "output_type": "stream",
     "text": [
      "[nltk_data] Downloading package punkt to\n",
      "[nltk_data]     C:\\Users\\Lenovo\\AppData\\Roaming\\nltk_data...\n",
      "[nltk_data]   Package punkt is already up-to-date!\n",
      "[nltk_data] Downloading package stopwords to\n",
      "[nltk_data]     C:\\Users\\Lenovo\\AppData\\Roaming\\nltk_data...\n",
      "[nltk_data]   Package stopwords is already up-to-date!\n",
      "[nltk_data] Downloading package wordnet to\n",
      "[nltk_data]     C:\\Users\\Lenovo\\AppData\\Roaming\\nltk_data...\n",
      "[nltk_data]   Package wordnet is already up-to-date!\n",
      "[nltk_data] Downloading package omw-1.4 to\n",
      "[nltk_data]     C:\\Users\\Lenovo\\AppData\\Roaming\\nltk_data...\n",
      "[nltk_data]   Package omw-1.4 is already up-to-date!\n",
      "[nltk_data] Downloading package averaged_perceptron_tagger to\n",
      "[nltk_data]     C:\\Users\\Lenovo\\AppData\\Roaming\\nltk_data...\n",
      "[nltk_data]   Package averaged_perceptron_tagger is already up-to-\n",
      "[nltk_data]       date!\n"
     ]
    }
   ],
   "source": [
    "#import libraries\n",
    "import pandas as pd\n",
    "import numpy as np\n",
    "import math\n",
    "import matplotlib.pyplot as plt\n",
    "%matplotlib inline\n",
    "import seaborn as sns\n",
    "from bs4 import BeautifulSoup\n",
    "from wordcloud import WordCloud, STOPWORDS, ImageColorGenerator\n",
    "\n",
    "import re\n",
    "import string\n",
    "\n",
    "#import NLTK\n",
    "import nltk\n",
    "nltk.download('punkt') #Punkt es una biblioteca que se utiliza para tokenizar frases en lenguaje natural\n",
    "nltk.download('stopwords') # library \"stopwords\"\n",
    "nltk.download('wordnet') # \n",
    "nltk.download('omw-1.4') #\n",
    "nltk.download('averaged_perceptron_tagger')\n",
    "\n",
    "\n",
    "from nltk.tokenize import word_tokenize\n",
    "from nltk.tokenize import sent_tokenize\n",
    "from nltk.stem.wordnet import WordNetLemmatizer\n",
    "\n",
    "#import librerias de frecuencias\n",
    "from nltk.probability import FreqDist\n",
    "\n",
    "#import librerias de pre-procesamiento y normalizacion\n",
    "from nltk.corpus import stopwords\n",
    "from nltk.stem import PorterStemmer\n",
    "from nltk.corpus import wordnet\n",
    "from nltk.tag import pos_tag\n",
    "\n",
    "#Librerias de pipeline\n",
    "from sklearn.pipeline import Pipeline, FeatureUnion\n",
    "from sklearn.model_selection import train_test_split\n",
    "from sklearn.feature_extraction.text import CountVectorizer\n",
    "from sklearn.preprocessing import FunctionTransformer, LabelEncoder, StandardScaler\n",
    "from sklearn.impute import SimpleImputer\n",
    "\n",
    "\n",
    "from sklearn.ensemble import RandomForestClassifier\n",
    "from sklearn.metrics import accuracy_score\n",
    "\n",
    "import warnings\n",
    "warnings.filterwarnings('ignore')"
   ]
  },
  {
   "cell_type": "code",
   "execution_count": 2,
   "id": "96a20d8a",
   "metadata": {},
   "outputs": [],
   "source": [
    "from sklearn.linear_model import LogisticRegression\n",
    "from sklearn.metrics import classification_report\n",
    "from sklearn.model_selection import GridSearchCV, RepeatedStratifiedKFold\n",
    "from sklearn.pipeline import Pipeline\n",
    "from sklearn.preprocessing import OneHotEncoder, StandardScaler, RobustScaler, MinMaxScaler, LabelBinarizer, OrdinalEncoder\n",
    "from sklearn.preprocessing import Binarizer\n",
    "import sklearn.preprocessing as preprocessing\n",
    "from sklearn.model_selection import train_test_split\n",
    "\n",
    "from sklearn.discriminant_analysis import LinearDiscriminantAnalysis\n",
    "from sklearn.neighbors import KNeighborsClassifier\n",
    "from sklearn.naive_bayes import GaussianNB\n",
    "from sklearn.tree import DecisionTreeClassifier\n",
    "from sklearn.svm import SVC\n",
    "from sklearn.ensemble import RandomForestClassifier"
   ]
  },
  {
   "cell_type": "markdown",
   "id": "af241c3e",
   "metadata": {},
   "source": [
    "---"
   ]
  },
  {
   "cell_type": "markdown",
   "id": "023cc194",
   "metadata": {},
   "source": [
    "<div class=\"alert alert-block alert-info\">\n",
    "<b><h2> Cargar Dataset.</h2></b> \n",
    "</div>"
   ]
  },
  {
   "cell_type": "code",
   "execution_count": 3,
   "id": "97f07eab",
   "metadata": {},
   "outputs": [],
   "source": [
    "emotion_data= pd.read_csv('text_emotion.csv')"
   ]
  },
  {
   "cell_type": "code",
   "execution_count": 4,
   "id": "b92b8fdd",
   "metadata": {},
   "outputs": [
    {
     "data": {
      "text/html": [
       "<div>\n",
       "<style scoped>\n",
       "    .dataframe tbody tr th:only-of-type {\n",
       "        vertical-align: middle;\n",
       "    }\n",
       "\n",
       "    .dataframe tbody tr th {\n",
       "        vertical-align: top;\n",
       "    }\n",
       "\n",
       "    .dataframe thead th {\n",
       "        text-align: right;\n",
       "    }\n",
       "</style>\n",
       "<table border=\"1\" class=\"dataframe\">\n",
       "  <thead>\n",
       "    <tr style=\"text-align: right;\">\n",
       "      <th></th>\n",
       "      <th>tweet_id</th>\n",
       "      <th>sentiment</th>\n",
       "      <th>author</th>\n",
       "      <th>content</th>\n",
       "    </tr>\n",
       "  </thead>\n",
       "  <tbody>\n",
       "    <tr>\n",
       "      <th>0</th>\n",
       "      <td>1956967341</td>\n",
       "      <td>empty</td>\n",
       "      <td>xoshayzers</td>\n",
       "      <td>@tiffanylue i know  i was listenin to bad habi...</td>\n",
       "    </tr>\n",
       "    <tr>\n",
       "      <th>1</th>\n",
       "      <td>1956967666</td>\n",
       "      <td>sadness</td>\n",
       "      <td>wannamama</td>\n",
       "      <td>Layin n bed with a headache  ughhhh...waitin o...</td>\n",
       "    </tr>\n",
       "    <tr>\n",
       "      <th>2</th>\n",
       "      <td>1956967696</td>\n",
       "      <td>sadness</td>\n",
       "      <td>coolfunky</td>\n",
       "      <td>Funeral ceremony...gloomy friday...</td>\n",
       "    </tr>\n",
       "    <tr>\n",
       "      <th>3</th>\n",
       "      <td>1956967789</td>\n",
       "      <td>enthusiasm</td>\n",
       "      <td>czareaquino</td>\n",
       "      <td>wants to hang out with friends SOON!</td>\n",
       "    </tr>\n",
       "    <tr>\n",
       "      <th>4</th>\n",
       "      <td>1956968416</td>\n",
       "      <td>neutral</td>\n",
       "      <td>xkilljoyx</td>\n",
       "      <td>@dannycastillo We want to trade with someone w...</td>\n",
       "    </tr>\n",
       "    <tr>\n",
       "      <th>...</th>\n",
       "      <td>...</td>\n",
       "      <td>...</td>\n",
       "      <td>...</td>\n",
       "      <td>...</td>\n",
       "    </tr>\n",
       "    <tr>\n",
       "      <th>39995</th>\n",
       "      <td>1753918954</td>\n",
       "      <td>neutral</td>\n",
       "      <td>showMe_Heaven</td>\n",
       "      <td>@JohnLloydTaylor</td>\n",
       "    </tr>\n",
       "    <tr>\n",
       "      <th>39996</th>\n",
       "      <td>1753919001</td>\n",
       "      <td>love</td>\n",
       "      <td>drapeaux</td>\n",
       "      <td>Happy Mothers Day  All my love</td>\n",
       "    </tr>\n",
       "    <tr>\n",
       "      <th>39997</th>\n",
       "      <td>1753919005</td>\n",
       "      <td>love</td>\n",
       "      <td>JenniRox</td>\n",
       "      <td>Happy Mother's Day to all the mommies out ther...</td>\n",
       "    </tr>\n",
       "    <tr>\n",
       "      <th>39998</th>\n",
       "      <td>1753919043</td>\n",
       "      <td>happiness</td>\n",
       "      <td>ipdaman1</td>\n",
       "      <td>@niariley WASSUP BEAUTIFUL!!! FOLLOW ME!!  PEE...</td>\n",
       "    </tr>\n",
       "    <tr>\n",
       "      <th>39999</th>\n",
       "      <td>1753919049</td>\n",
       "      <td>love</td>\n",
       "      <td>Alpharalpha</td>\n",
       "      <td>@mopedronin bullet train from tokyo    the gf ...</td>\n",
       "    </tr>\n",
       "  </tbody>\n",
       "</table>\n",
       "<p>40000 rows × 4 columns</p>\n",
       "</div>"
      ],
      "text/plain": [
       "         tweet_id   sentiment         author  \\\n",
       "0      1956967341       empty     xoshayzers   \n",
       "1      1956967666     sadness      wannamama   \n",
       "2      1956967696     sadness      coolfunky   \n",
       "3      1956967789  enthusiasm    czareaquino   \n",
       "4      1956968416     neutral      xkilljoyx   \n",
       "...           ...         ...            ...   \n",
       "39995  1753918954     neutral  showMe_Heaven   \n",
       "39996  1753919001        love       drapeaux   \n",
       "39997  1753919005        love       JenniRox   \n",
       "39998  1753919043   happiness       ipdaman1   \n",
       "39999  1753919049        love    Alpharalpha   \n",
       "\n",
       "                                                 content  \n",
       "0      @tiffanylue i know  i was listenin to bad habi...  \n",
       "1      Layin n bed with a headache  ughhhh...waitin o...  \n",
       "2                    Funeral ceremony...gloomy friday...  \n",
       "3                   wants to hang out with friends SOON!  \n",
       "4      @dannycastillo We want to trade with someone w...  \n",
       "...                                                  ...  \n",
       "39995                                   @JohnLloydTaylor  \n",
       "39996                     Happy Mothers Day  All my love  \n",
       "39997  Happy Mother's Day to all the mommies out ther...  \n",
       "39998  @niariley WASSUP BEAUTIFUL!!! FOLLOW ME!!  PEE...  \n",
       "39999  @mopedronin bullet train from tokyo    the gf ...  \n",
       "\n",
       "[40000 rows x 4 columns]"
      ]
     },
     "execution_count": 4,
     "metadata": {},
     "output_type": "execute_result"
    }
   ],
   "source": [
    "emotion_data"
   ]
  },
  {
   "cell_type": "markdown",
   "id": "d25b6fb8",
   "metadata": {},
   "source": [
    "## 1. Preparación del Dataset"
   ]
  },
  {
   "cell_type": "code",
   "execution_count": 5,
   "id": "537e7eb7",
   "metadata": {},
   "outputs": [
    {
     "name": "stdout",
     "output_type": "stream",
     "text": [
      "<class 'pandas.core.frame.DataFrame'>\n",
      "RangeIndex: 40000 entries, 0 to 39999\n",
      "Data columns (total 4 columns):\n",
      " #   Column     Non-Null Count  Dtype \n",
      "---  ------     --------------  ----- \n",
      " 0   tweet_id   40000 non-null  int64 \n",
      " 1   sentiment  40000 non-null  object\n",
      " 2   author     40000 non-null  object\n",
      " 3   content    40000 non-null  object\n",
      "dtypes: int64(1), object(3)\n",
      "memory usage: 1.2+ MB\n"
     ]
    }
   ],
   "source": [
    "emotion_data.info()"
   ]
  },
  {
   "cell_type": "markdown",
   "id": "47e6d913",
   "metadata": {},
   "source": [
    "### 1.1 Verificar nulos y NaM"
   ]
  },
  {
   "cell_type": "code",
   "execution_count": 6,
   "id": "0f5b13b2",
   "metadata": {},
   "outputs": [
    {
     "data": {
      "text/plain": [
       "tweet_id     0\n",
       "sentiment    0\n",
       "author       0\n",
       "content      0\n",
       "dtype: int64"
      ]
     },
     "execution_count": 6,
     "metadata": {},
     "output_type": "execute_result"
    }
   ],
   "source": [
    "emotion_data.isnull().sum()"
   ]
  },
  {
   "cell_type": "code",
   "execution_count": 7,
   "id": "74d92952",
   "metadata": {},
   "outputs": [
    {
     "data": {
      "text/plain": [
       "tweet_id     0\n",
       "sentiment    0\n",
       "author       0\n",
       "content      0\n",
       "dtype: int64"
      ]
     },
     "execution_count": 7,
     "metadata": {},
     "output_type": "execute_result"
    }
   ],
   "source": [
    "emotion_data.isna().sum()"
   ]
  },
  {
   "cell_type": "markdown",
   "id": "72a47396",
   "metadata": {},
   "source": [
    "* Como se pueden observar no hay valores faltantes ni NAN en el dataset. Se realiza una gráfica msno, la cual es una manera visual de verificar la distribucción de los valores faltantes en un dataset. "
   ]
  },
  {
   "cell_type": "markdown",
   "id": "c3a04007",
   "metadata": {},
   "source": [
    "### 1.2 Verificar datos duplicados"
   ]
  },
  {
   "cell_type": "code",
   "execution_count": 8,
   "id": "484ce2a4",
   "metadata": {},
   "outputs": [
    {
     "data": {
      "text/html": [
       "<div>\n",
       "<style scoped>\n",
       "    .dataframe tbody tr th:only-of-type {\n",
       "        vertical-align: middle;\n",
       "    }\n",
       "\n",
       "    .dataframe tbody tr th {\n",
       "        vertical-align: top;\n",
       "    }\n",
       "\n",
       "    .dataframe thead th {\n",
       "        text-align: right;\n",
       "    }\n",
       "</style>\n",
       "<table border=\"1\" class=\"dataframe\">\n",
       "  <thead>\n",
       "    <tr style=\"text-align: right;\">\n",
       "      <th></th>\n",
       "      <th>tweet_id</th>\n",
       "      <th>sentiment</th>\n",
       "      <th>author</th>\n",
       "      <th>content</th>\n",
       "    </tr>\n",
       "  </thead>\n",
       "  <tbody>\n",
       "  </tbody>\n",
       "</table>\n",
       "</div>"
      ],
      "text/plain": [
       "Empty DataFrame\n",
       "Columns: [tweet_id, sentiment, author, content]\n",
       "Index: []"
      ]
     },
     "execution_count": 8,
     "metadata": {},
     "output_type": "execute_result"
    }
   ],
   "source": [
    "emotion_data[emotion_data.duplicated()]"
   ]
  },
  {
   "cell_type": "markdown",
   "id": "ed23fdb1",
   "metadata": {},
   "source": [
    "<h3>Observaciones:</h3>\n",
    "\n",
    "   *  Se puede observar que el data set no tiene valores nulos o NaN. \n",
    "   *  Se puede observar que el data set no tiene valores duplicados.  \n",
    "   *  Las variables de importancia para el estudio son del tipo objeto. \n",
    "   *  El dataset posee 40000 filas y 4 columnas."
   ]
  },
  {
   "cell_type": "markdown",
   "id": "90762c20",
   "metadata": {},
   "source": [
    "## 2. Descripción estadística y visualización global de las variables."
   ]
  },
  {
   "cell_type": "code",
   "execution_count": 9,
   "id": "de98d2da",
   "metadata": {},
   "outputs": [
    {
     "data": {
      "text/html": [
       "<div>\n",
       "<style scoped>\n",
       "    .dataframe tbody tr th:only-of-type {\n",
       "        vertical-align: middle;\n",
       "    }\n",
       "\n",
       "    .dataframe tbody tr th {\n",
       "        vertical-align: top;\n",
       "    }\n",
       "\n",
       "    .dataframe thead th {\n",
       "        text-align: right;\n",
       "    }\n",
       "</style>\n",
       "<table border=\"1\" class=\"dataframe\">\n",
       "  <thead>\n",
       "    <tr style=\"text-align: right;\">\n",
       "      <th></th>\n",
       "      <th>count</th>\n",
       "      <th>unique</th>\n",
       "      <th>top</th>\n",
       "      <th>freq</th>\n",
       "    </tr>\n",
       "  </thead>\n",
       "  <tbody>\n",
       "    <tr>\n",
       "      <th>sentiment</th>\n",
       "      <td>40000</td>\n",
       "      <td>13</td>\n",
       "      <td>neutral</td>\n",
       "      <td>8638</td>\n",
       "    </tr>\n",
       "    <tr>\n",
       "      <th>author</th>\n",
       "      <td>40000</td>\n",
       "      <td>33871</td>\n",
       "      <td>MissxMarisa</td>\n",
       "      <td>23</td>\n",
       "    </tr>\n",
       "    <tr>\n",
       "      <th>content</th>\n",
       "      <td>40000</td>\n",
       "      <td>39827</td>\n",
       "      <td>I just received a mothers day card from my lov...</td>\n",
       "      <td>14</td>\n",
       "    </tr>\n",
       "  </tbody>\n",
       "</table>\n",
       "</div>"
      ],
      "text/plain": [
       "           count unique                                                top  \\\n",
       "sentiment  40000     13                                            neutral   \n",
       "author     40000  33871                                        MissxMarisa   \n",
       "content    40000  39827  I just received a mothers day card from my lov...   \n",
       "\n",
       "           freq  \n",
       "sentiment  8638  \n",
       "author       23  \n",
       "content      14  "
      ]
     },
     "execution_count": 9,
     "metadata": {},
     "output_type": "execute_result"
    }
   ],
   "source": [
    "emotion_data.describe(include = 'object').T"
   ]
  },
  {
   "cell_type": "code",
   "execution_count": 10,
   "id": "7ec696fb",
   "metadata": {},
   "outputs": [
    {
     "data": {
      "image/png": "[encoded data removed]",
      "text/plain": [
       "<Figure size 1200x600 with 1 Axes>"
      ]
     },
     "metadata": {},
     "output_type": "display_data"
    }
   ],
   "source": [
    "# Crear un colormap de azules de Twitter\n",
    "cmap = sns.color_palette(['#1DA1F2', '#2795D9', '#1771B5', '#0D5C8B', '#073044', '#5AC8FA', '#007AFF', '#E1F5FE', '#B3E5FC', \n",
    "                          '#81D4FA', '#4FC3F7', '#29B6F6', '#03A9F4'])\n",
    "\n",
    "\n",
    "# Contar el número de tweets por emoción\n",
    "emotions_count = emotion_data['sentiment'].value_counts()\n",
    "\n",
    "# Visualizar la distribución de las emociones\n",
    "plt.figure(figsize=(12,6))\n",
    "sns.barplot(x=emotions_count.index, y=emotions_count.values, palette=sns.color_palette(cmap))\n",
    "plt.title('Distribución de las emociones en el conjunto de datos')\n",
    "plt.xlabel('Emociones')\n",
    "plt.ylabel('Número de tweets')\n",
    "\n",
    "plt.show()"
   ]
  },
  {
   "cell_type": "markdown",
   "id": "563909d2",
   "metadata": {},
   "source": [
    "## 3. Pre-procesamiento de los datos"
   ]
  },
  {
   "cell_type": "markdown",
   "id": "7cb16633",
   "metadata": {},
   "source": [
    "### 3.1 Pre-procesamiento del texto."
   ]
  },
  {
   "cell_type": "code",
   "execution_count": 11,
   "id": "5c110bbc",
   "metadata": {},
   "outputs": [],
   "source": [
    "def preprocess_tweet(tweet):\n",
    "    # Eliminar menciones (@nombredeusuario) y URLs\n",
    "    pat1 = r'@[A-Za-z0-9]+'\n",
    "    pat2 = r'https?://[A-Za-z0-9./]+'\n",
    "    combined_pat = r'|'.join((pat1, pat2))\n",
    "    soup = BeautifulSoup(tweet, 'lxml')\n",
    "    souped = soup.get_text()\n",
    "    stripped = re.sub(combined_pat, '', souped)\n",
    "    try:\n",
    "        clean = stripped.decode(\"utf-8-sig\").replace(u\"\\ufffd\", \"?\")\n",
    "    except:\n",
    "        clean = stripped\n",
    "\n",
    "    \n",
    "    # Convertir el texto a minúsculas\n",
    "    tweet = clean.lower()\n",
    "    \n",
    "    # Eliminar signos de puntuación\n",
    "    tweet = re.sub('[%s]' % re.escape(string.punctuation), '', tweet)\n",
    "    \n",
    "    # Eliminar números\n",
    "    tweet = re.sub(r'\\d+', '', tweet)\n",
    "    \n",
    "    # Eliminar palabras comunes (stopwords)\n",
    "    stop_words = set(stopwords.words('english')).union(set(['u', 'im', 'c', 'n']))\n",
    "    words = tweet.split()\n",
    "    words = [word for word in words if not word in stop_words]   \n",
    "    \n",
    "    # Lematización (reducir las palabras a su raíz)\n",
    "    lemmatizer = WordNetLemmatizer()\n",
    "    words = [lemmatizer.lemmatize(word) for word in words]\n",
    "    tweet = ' '.join(words)\n",
    "    \n",
    "    return tweet      "
   ]
  },
  {
   "cell_type": "code",
   "execution_count": 12,
   "id": "e93f76bc",
   "metadata": {
    "run_control": {
     "marked": false
    }
   },
   "outputs": [
    {
     "data": {
      "text/html": [
       "<div>\n",
       "<style scoped>\n",
       "    .dataframe tbody tr th:only-of-type {\n",
       "        vertical-align: middle;\n",
       "    }\n",
       "\n",
       "    .dataframe tbody tr th {\n",
       "        vertical-align: top;\n",
       "    }\n",
       "\n",
       "    .dataframe thead th {\n",
       "        text-align: right;\n",
       "    }\n",
       "</style>\n",
       "<table border=\"1\" class=\"dataframe\">\n",
       "  <thead>\n",
       "    <tr style=\"text-align: right;\">\n",
       "      <th></th>\n",
       "      <th>tweet_id</th>\n",
       "      <th>sentiment</th>\n",
       "      <th>author</th>\n",
       "      <th>content</th>\n",
       "    </tr>\n",
       "  </thead>\n",
       "  <tbody>\n",
       "    <tr>\n",
       "      <th>0</th>\n",
       "      <td>1956967341</td>\n",
       "      <td>empty</td>\n",
       "      <td>xoshayzers</td>\n",
       "      <td>know listenin bad habit earlier started freaki...</td>\n",
       "    </tr>\n",
       "    <tr>\n",
       "      <th>1</th>\n",
       "      <td>1956967666</td>\n",
       "      <td>sadness</td>\n",
       "      <td>wannamama</td>\n",
       "      <td>layin bed headache ughhhhwaitin call</td>\n",
       "    </tr>\n",
       "    <tr>\n",
       "      <th>2</th>\n",
       "      <td>1956967696</td>\n",
       "      <td>sadness</td>\n",
       "      <td>coolfunky</td>\n",
       "      <td>funeral ceremonygloomy friday</td>\n",
       "    </tr>\n",
       "    <tr>\n",
       "      <th>3</th>\n",
       "      <td>1956967789</td>\n",
       "      <td>enthusiasm</td>\n",
       "      <td>czareaquino</td>\n",
       "      <td>want hang friend soon</td>\n",
       "    </tr>\n",
       "    <tr>\n",
       "      <th>4</th>\n",
       "      <td>1956968416</td>\n",
       "      <td>neutral</td>\n",
       "      <td>xkilljoyx</td>\n",
       "      <td>want trade someone houston ticket one</td>\n",
       "    </tr>\n",
       "  </tbody>\n",
       "</table>\n",
       "</div>"
      ],
      "text/plain": [
       "     tweet_id   sentiment       author  \\\n",
       "0  1956967341       empty   xoshayzers   \n",
       "1  1956967666     sadness    wannamama   \n",
       "2  1956967696     sadness    coolfunky   \n",
       "3  1956967789  enthusiasm  czareaquino   \n",
       "4  1956968416     neutral    xkilljoyx   \n",
       "\n",
       "                                             content  \n",
       "0  know listenin bad habit earlier started freaki...  \n",
       "1               layin bed headache ughhhhwaitin call  \n",
       "2                      funeral ceremonygloomy friday  \n",
       "3                              want hang friend soon  \n",
       "4              want trade someone houston ticket one  "
      ]
     },
     "execution_count": 12,
     "metadata": {},
     "output_type": "execute_result"
    }
   ],
   "source": [
    "emotion_data['content']=emotion_data['content'].apply(preprocess_tweet)\n",
    "emotion_data.head()"
   ]
  },
  {
   "cell_type": "markdown",
   "id": "2e91653f",
   "metadata": {},
   "source": [
    "### 3.2  Pre-procesamiento de los datos."
   ]
  },
  {
   "cell_type": "code",
   "execution_count": 13,
   "id": "48662f44",
   "metadata": {},
   "outputs": [],
   "source": [
    "def convert_to_string(data):\n",
    "    data['content'] = data['content'].astype(str)\n",
    "    return data"
   ]
  },
  {
   "cell_type": "code",
   "execution_count": 14,
   "id": "85277802",
   "metadata": {},
   "outputs": [
    {
     "name": "stdout",
     "output_type": "stream",
     "text": [
      "<class 'pandas.core.frame.DataFrame'>\n",
      "RangeIndex: 40000 entries, 0 to 39999\n",
      "Data columns (total 4 columns):\n",
      " #   Column     Non-Null Count  Dtype \n",
      "---  ------     --------------  ----- \n",
      " 0   tweet_id   40000 non-null  int64 \n",
      " 1   sentiment  40000 non-null  object\n",
      " 2   author     40000 non-null  object\n",
      " 3   content    40000 non-null  object\n",
      "dtypes: int64(1), object(3)\n",
      "memory usage: 1.2+ MB\n"
     ]
    }
   ],
   "source": [
    "convert_to_string(emotion_data)\n",
    "emotion_data.info()"
   ]
  },
  {
   "cell_type": "code",
   "execution_count": 15,
   "id": "4c5ead2c",
   "metadata": {},
   "outputs": [
    {
     "name": "stdout",
     "output_type": "stream",
     "text": [
      "<class 'str'>    40000\n",
      "Name: content, dtype: int64\n"
     ]
    }
   ],
   "source": [
    "print(emotion_data.applymap(type)['content'].value_counts())"
   ]
  },
  {
   "cell_type": "code",
   "execution_count": 16,
   "id": "9bf86577",
   "metadata": {
    "run_control": {
     "marked": false
    }
   },
   "outputs": [],
   "source": [
    "# remove_empty_tweets\n",
    "def remove_empty_tweets(data):\n",
    "    return data[data['content'].apply(lambda x: len(x.strip()) != 0)]  "
   ]
  },
  {
   "cell_type": "code",
   "execution_count": 17,
   "id": "35a5704e",
   "metadata": {},
   "outputs": [
    {
     "name": "stdout",
     "output_type": "stream",
     "text": [
      "<class 'pandas.core.frame.DataFrame'>\n",
      "RangeIndex: 40000 entries, 0 to 39999\n",
      "Data columns (total 4 columns):\n",
      " #   Column     Non-Null Count  Dtype \n",
      "---  ------     --------------  ----- \n",
      " 0   tweet_id   40000 non-null  int64 \n",
      " 1   sentiment  40000 non-null  object\n",
      " 2   author     40000 non-null  object\n",
      " 3   content    40000 non-null  object\n",
      "dtypes: int64(1), object(3)\n",
      "memory usage: 1.2+ MB\n"
     ]
    }
   ],
   "source": [
    "remove_empty_tweets(emotion_data)\n",
    "emotion_data.info()"
   ]
  },
  {
   "cell_type": "code",
   "execution_count": 18,
   "id": "17514274",
   "metadata": {},
   "outputs": [],
   "source": [
    "# Elimina columnas innecesarias\n",
    "def drop_columns(data):\n",
    "    return data.drop(['tweet_id', 'author'], axis=1) "
   ]
  },
  {
   "cell_type": "code",
   "execution_count": 19,
   "id": "ddf846f8",
   "metadata": {
    "run_control": {
     "marked": false
    }
   },
   "outputs": [
    {
     "name": "stdout",
     "output_type": "stream",
     "text": [
      "<class 'pandas.core.frame.DataFrame'>\n",
      "RangeIndex: 40000 entries, 0 to 39999\n",
      "Data columns (total 2 columns):\n",
      " #   Column     Non-Null Count  Dtype \n",
      "---  ------     --------------  ----- \n",
      " 0   sentiment  40000 non-null  object\n",
      " 1   content    40000 non-null  object\n",
      "dtypes: object(2)\n",
      "memory usage: 625.1+ KB\n"
     ]
    }
   ],
   "source": [
    "emotion_data = drop_columns(emotion_data)\n",
    "emotion_data.info()"
   ]
  },
  {
   "cell_type": "markdown",
   "id": "06a0a749",
   "metadata": {},
   "source": [
    "### 3.3 Analisis de sentimiento con VADER (Valence Aware Dictionary and sEntiment Reasoner)"
   ]
  },
  {
   "cell_type": "code",
   "execution_count": 20,
   "id": "2e62ab7a",
   "metadata": {},
   "outputs": [],
   "source": [
    "from nltk.sentiment.vader import SentimentIntensityAnalyzer"
   ]
  },
  {
   "cell_type": "code",
   "execution_count": 21,
   "id": "b4ae2259",
   "metadata": {
    "run_control": {
     "marked": false
    }
   },
   "outputs": [],
   "source": [
    "def calculate_vader_sentiment(tweet):\n",
    "    analyzer = SentimentIntensityAnalyzer()\n",
    "    vs = analyzer.polarity_scores(tweet)\n",
    "    return {\n",
    "        \"positive\": vs[\"pos\"],\n",
    "        \"neutral\": vs[\"neu\"],\n",
    "        \"negative\": vs[\"neg\"],\n",
    "        \"compound\": vs[\"compound\"],\n",
    "        \"sentiment_vader\": \"positive\" if vs[\"compound\"] > 0.3 else \"negative\" if vs[\"compound\"] < -0.3 else \"neutral\"\n",
    "    }"
   ]
  },
  {
   "cell_type": "code",
   "execution_count": 22,
   "id": "c5a60ff8",
   "metadata": {},
   "outputs": [],
   "source": [
    "# Aplica la función calculate_vader_sentiment a la columna processed_tweet de emotion_data\n",
    "sentiment_data_blob = emotion_data['content'].apply(calculate_vader_sentiment)"
   ]
  },
  {
   "cell_type": "code",
   "execution_count": 23,
   "id": "3d3c7fb3",
   "metadata": {},
   "outputs": [],
   "source": [
    "# Convierte el resultado en columnas usando json_normalize\n",
    "sentiment_data_blob= pd.json_normalize(sentiment_data_blob)"
   ]
  },
  {
   "cell_type": "code",
   "execution_count": 24,
   "id": "53327d7f",
   "metadata": {},
   "outputs": [
    {
     "data": {
      "text/html": [
       "<div>\n",
       "<style scoped>\n",
       "    .dataframe tbody tr th:only-of-type {\n",
       "        vertical-align: middle;\n",
       "    }\n",
       "\n",
       "    .dataframe tbody tr th {\n",
       "        vertical-align: top;\n",
       "    }\n",
       "\n",
       "    .dataframe thead th {\n",
       "        text-align: right;\n",
       "    }\n",
       "</style>\n",
       "<table border=\"1\" class=\"dataframe\">\n",
       "  <thead>\n",
       "    <tr style=\"text-align: right;\">\n",
       "      <th></th>\n",
       "      <th>sentiment</th>\n",
       "      <th>content</th>\n",
       "      <th>positive</th>\n",
       "      <th>neutral</th>\n",
       "      <th>negative</th>\n",
       "      <th>compound</th>\n",
       "      <th>sentiment_vader</th>\n",
       "    </tr>\n",
       "  </thead>\n",
       "  <tbody>\n",
       "    <tr>\n",
       "      <th>0</th>\n",
       "      <td>empty</td>\n",
       "      <td>know listenin bad habit earlier started freaki...</td>\n",
       "      <td>0.000</td>\n",
       "      <td>0.667</td>\n",
       "      <td>0.333</td>\n",
       "      <td>-0.5423</td>\n",
       "      <td>negative</td>\n",
       "    </tr>\n",
       "    <tr>\n",
       "      <th>1</th>\n",
       "      <td>sadness</td>\n",
       "      <td>layin bed headache ughhhhwaitin call</td>\n",
       "      <td>0.000</td>\n",
       "      <td>1.000</td>\n",
       "      <td>0.000</td>\n",
       "      <td>0.0000</td>\n",
       "      <td>neutral</td>\n",
       "    </tr>\n",
       "    <tr>\n",
       "      <th>2</th>\n",
       "      <td>sadness</td>\n",
       "      <td>funeral ceremonygloomy friday</td>\n",
       "      <td>0.000</td>\n",
       "      <td>0.444</td>\n",
       "      <td>0.556</td>\n",
       "      <td>-0.3612</td>\n",
       "      <td>negative</td>\n",
       "    </tr>\n",
       "    <tr>\n",
       "      <th>3</th>\n",
       "      <td>enthusiasm</td>\n",
       "      <td>want hang friend soon</td>\n",
       "      <td>0.692</td>\n",
       "      <td>0.308</td>\n",
       "      <td>0.000</td>\n",
       "      <td>0.5423</td>\n",
       "      <td>positive</td>\n",
       "    </tr>\n",
       "    <tr>\n",
       "      <th>4</th>\n",
       "      <td>neutral</td>\n",
       "      <td>want trade someone houston ticket one</td>\n",
       "      <td>0.206</td>\n",
       "      <td>0.794</td>\n",
       "      <td>0.000</td>\n",
       "      <td>0.0772</td>\n",
       "      <td>neutral</td>\n",
       "    </tr>\n",
       "    <tr>\n",
       "      <th>5</th>\n",
       "      <td>worry</td>\n",
       "      <td>repinging didnt go prom bc bf didnt like friend</td>\n",
       "      <td>0.000</td>\n",
       "      <td>0.596</td>\n",
       "      <td>0.404</td>\n",
       "      <td>-0.5773</td>\n",
       "      <td>negative</td>\n",
       "    </tr>\n",
       "    <tr>\n",
       "      <th>6</th>\n",
       "      <td>sadness</td>\n",
       "      <td>sleep thinking old friend want he married damn...</td>\n",
       "      <td>0.343</td>\n",
       "      <td>0.296</td>\n",
       "      <td>0.361</td>\n",
       "      <td>-0.3182</td>\n",
       "      <td>negative</td>\n",
       "    </tr>\n",
       "    <tr>\n",
       "      <th>7</th>\n",
       "      <td>worry</td>\n",
       "      <td>hmmm</td>\n",
       "      <td>0.000</td>\n",
       "      <td>1.000</td>\n",
       "      <td>0.000</td>\n",
       "      <td>0.0000</td>\n",
       "      <td>neutral</td>\n",
       "    </tr>\n",
       "    <tr>\n",
       "      <th>8</th>\n",
       "      <td>sadness</td>\n",
       "      <td>charlene love miss</td>\n",
       "      <td>0.618</td>\n",
       "      <td>0.147</td>\n",
       "      <td>0.235</td>\n",
       "      <td>0.5574</td>\n",
       "      <td>positive</td>\n",
       "    </tr>\n",
       "    <tr>\n",
       "      <th>9</th>\n",
       "      <td>sadness</td>\n",
       "      <td>sorry least friday</td>\n",
       "      <td>0.000</td>\n",
       "      <td>0.606</td>\n",
       "      <td>0.394</td>\n",
       "      <td>-0.0772</td>\n",
       "      <td>neutral</td>\n",
       "    </tr>\n",
       "  </tbody>\n",
       "</table>\n",
       "</div>"
      ],
      "text/plain": [
       "    sentiment                                            content  positive  \\\n",
       "0       empty  know listenin bad habit earlier started freaki...     0.000   \n",
       "1     sadness               layin bed headache ughhhhwaitin call     0.000   \n",
       "2     sadness                      funeral ceremonygloomy friday     0.000   \n",
       "3  enthusiasm                              want hang friend soon     0.692   \n",
       "4     neutral              want trade someone houston ticket one     0.206   \n",
       "5       worry    repinging didnt go prom bc bf didnt like friend     0.000   \n",
       "6     sadness  sleep thinking old friend want he married damn...     0.343   \n",
       "7       worry                                               hmmm     0.000   \n",
       "8     sadness                                 charlene love miss     0.618   \n",
       "9     sadness                                 sorry least friday     0.000   \n",
       "\n",
       "   neutral  negative  compound sentiment_vader  \n",
       "0    0.667     0.333   -0.5423        negative  \n",
       "1    1.000     0.000    0.0000         neutral  \n",
       "2    0.444     0.556   -0.3612        negative  \n",
       "3    0.308     0.000    0.5423        positive  \n",
       "4    0.794     0.000    0.0772         neutral  \n",
       "5    0.596     0.404   -0.5773        negative  \n",
       "6    0.296     0.361   -0.3182        negative  \n",
       "7    1.000     0.000    0.0000         neutral  \n",
       "8    0.147     0.235    0.5574        positive  \n",
       "9    0.606     0.394   -0.0772         neutral  "
      ]
     },
     "execution_count": 24,
     "metadata": {},
     "output_type": "execute_result"
    }
   ],
   "source": [
    "# Une sentiment_data a emotion_data\n",
    "emotion_data = pd.concat([emotion_data, sentiment_data_blob], axis=1)\n",
    "emotion_data.head(10) "
   ]
  },
  {
   "cell_type": "code",
   "execution_count": 25,
   "id": "1558b528",
   "metadata": {},
   "outputs": [
    {
     "data": {
      "text/plain": [
       "neutral     17022\n",
       "positive    16436\n",
       "negative     6542\n",
       "Name: sentiment_vader, dtype: int64"
      ]
     },
     "execution_count": 25,
     "metadata": {},
     "output_type": "execute_result"
    }
   ],
   "source": [
    "emotion_data['sentiment_vader'].value_counts()"
   ]
  },
  {
   "cell_type": "code",
   "execution_count": 26,
   "id": "c4890896",
   "metadata": {},
   "outputs": [],
   "source": [
    "# Elimina columnas innecesarias\n",
    "def drop_columns(data):\n",
    "    return data.drop(['sentiment', 'positive', 'neutral', 'compound' ], axis=1) "
   ]
  },
  {
   "cell_type": "code",
   "execution_count": 27,
   "id": "791efe4a",
   "metadata": {},
   "outputs": [
    {
     "name": "stdout",
     "output_type": "stream",
     "text": [
      "<class 'pandas.core.frame.DataFrame'>\n",
      "RangeIndex: 40000 entries, 0 to 39999\n",
      "Data columns (total 3 columns):\n",
      " #   Column           Non-Null Count  Dtype  \n",
      "---  ------           --------------  -----  \n",
      " 0   content          40000 non-null  object \n",
      " 1   negative         40000 non-null  float64\n",
      " 2   sentiment_vader  40000 non-null  object \n",
      "dtypes: float64(1), object(2)\n",
      "memory usage: 937.6+ KB\n"
     ]
    }
   ],
   "source": [
    "emotion_data = drop_columns(emotion_data)\n",
    "emotion_data.info()"
   ]
  },
  {
   "cell_type": "code",
   "execution_count": 28,
   "id": "6669196a",
   "metadata": {},
   "outputs": [],
   "source": [
    "def label_encoder(data):\n",
    "    le = LabelEncoder()\n",
    "    data['sentiment_vader'] = le.fit_transform(data['sentiment_vader'])\n",
    "    return data "
   ]
  },
  {
   "cell_type": "code",
   "execution_count": 29,
   "id": "e9c684a2",
   "metadata": {},
   "outputs": [
    {
     "data": {
      "text/html": [
       "<div>\n",
       "<style scoped>\n",
       "    .dataframe tbody tr th:only-of-type {\n",
       "        vertical-align: middle;\n",
       "    }\n",
       "\n",
       "    .dataframe tbody tr th {\n",
       "        vertical-align: top;\n",
       "    }\n",
       "\n",
       "    .dataframe thead th {\n",
       "        text-align: right;\n",
       "    }\n",
       "</style>\n",
       "<table border=\"1\" class=\"dataframe\">\n",
       "  <thead>\n",
       "    <tr style=\"text-align: right;\">\n",
       "      <th></th>\n",
       "      <th>content</th>\n",
       "      <th>negative</th>\n",
       "      <th>sentiment_vader</th>\n",
       "    </tr>\n",
       "  </thead>\n",
       "  <tbody>\n",
       "    <tr>\n",
       "      <th>0</th>\n",
       "      <td>know listenin bad habit earlier started freaki...</td>\n",
       "      <td>0.333</td>\n",
       "      <td>0</td>\n",
       "    </tr>\n",
       "    <tr>\n",
       "      <th>1</th>\n",
       "      <td>layin bed headache ughhhhwaitin call</td>\n",
       "      <td>0.000</td>\n",
       "      <td>1</td>\n",
       "    </tr>\n",
       "    <tr>\n",
       "      <th>2</th>\n",
       "      <td>funeral ceremonygloomy friday</td>\n",
       "      <td>0.556</td>\n",
       "      <td>0</td>\n",
       "    </tr>\n",
       "    <tr>\n",
       "      <th>3</th>\n",
       "      <td>want hang friend soon</td>\n",
       "      <td>0.000</td>\n",
       "      <td>2</td>\n",
       "    </tr>\n",
       "    <tr>\n",
       "      <th>4</th>\n",
       "      <td>want trade someone houston ticket one</td>\n",
       "      <td>0.000</td>\n",
       "      <td>1</td>\n",
       "    </tr>\n",
       "  </tbody>\n",
       "</table>\n",
       "</div>"
      ],
      "text/plain": [
       "                                             content  negative  \\\n",
       "0  know listenin bad habit earlier started freaki...     0.333   \n",
       "1               layin bed headache ughhhhwaitin call     0.000   \n",
       "2                      funeral ceremonygloomy friday     0.556   \n",
       "3                              want hang friend soon     0.000   \n",
       "4              want trade someone houston ticket one     0.000   \n",
       "\n",
       "   sentiment_vader  \n",
       "0                0  \n",
       "1                1  \n",
       "2                0  \n",
       "3                2  \n",
       "4                1  "
      ]
     },
     "execution_count": 29,
     "metadata": {},
     "output_type": "execute_result"
    }
   ],
   "source": [
    "label_encoder(emotion_data)\n",
    "emotion_data.head()"
   ]
  },
  {
   "cell_type": "code",
   "execution_count": 30,
   "id": "b7866bc7",
   "metadata": {},
   "outputs": [
    {
     "data": {
      "text/plain": [
       "1    17022\n",
       "2    16436\n",
       "0     6542\n",
       "Name: sentiment_vader, dtype: int64"
      ]
     },
     "execution_count": 30,
     "metadata": {},
     "output_type": "execute_result"
    }
   ],
   "source": [
    "emotion_data['sentiment_vader'].value_counts()"
   ]
  },
  {
   "cell_type": "markdown",
   "id": "3c459450",
   "metadata": {},
   "source": [
    "## 4 Extraccion de Caracteristicas"
   ]
  },
  {
   "cell_type": "markdown",
   "id": "b9cc7adc",
   "metadata": {},
   "source": [
    "### 4.1 Se define el target y la feature"
   ]
  },
  {
   "cell_type": "code",
   "execution_count": 32,
   "id": "e3630c14",
   "metadata": {},
   "outputs": [],
   "source": [
    "# Se define el target y la feature\n",
    "X = emotion_data['content']\n",
    "y = emotion_data['sentiment_vader']"
   ]
  },
  {
   "cell_type": "code",
   "execution_count": 33,
   "id": "ac70c8a3",
   "metadata": {},
   "outputs": [
    {
     "data": {
      "text/plain": [
       "1    17022\n",
       "2    16436\n",
       "0     6542\n",
       "Name: sentiment_vader, dtype: int64"
      ]
     },
     "execution_count": 33,
     "metadata": {},
     "output_type": "execute_result"
    }
   ],
   "source": [
    "y.value_counts()"
   ]
  },
  {
   "cell_type": "code",
   "execution_count": 34,
   "id": "be4c571d",
   "metadata": {},
   "outputs": [
    {
     "data": {
      "text/plain": [
       "0    know listenin bad habit earlier started freaki...\n",
       "1                 layin bed headache ughhhhwaitin call\n",
       "2                        funeral ceremonygloomy friday\n",
       "3                                want hang friend soon\n",
       "4                want trade someone houston ticket one\n",
       "Name: content, dtype: object"
      ]
     },
     "execution_count": 34,
     "metadata": {},
     "output_type": "execute_result"
    }
   ],
   "source": [
    "X.head()"
   ]
  },
  {
   "cell_type": "code",
   "execution_count": 35,
   "id": "c429f3e5",
   "metadata": {},
   "outputs": [
    {
     "name": "stdout",
     "output_type": "stream",
     "text": [
      "<class 'pandas.core.series.Series'>\n",
      "RangeIndex: 40000 entries, 0 to 39999\n",
      "Series name: content\n",
      "Non-Null Count  Dtype \n",
      "--------------  ----- \n",
      "40000 non-null  object\n",
      "dtypes: object(1)\n",
      "memory usage: 312.6+ KB\n"
     ]
    }
   ],
   "source": [
    "X.info()"
   ]
  },
  {
   "cell_type": "code",
   "execution_count": 36,
   "id": "342edd0a",
   "metadata": {},
   "outputs": [],
   "source": [
    "# Separamos los datos en conjuntos de entrenamiento y prueba\n",
    "X_train, X_test, y_train, y_test = train_test_split(X, y, test_size=0.2, random_state=42)"
   ]
  },
  {
   "cell_type": "code",
   "execution_count": 37,
   "id": "4c0d7e9d",
   "metadata": {},
   "outputs": [
    {
     "name": "stdout",
     "output_type": "stream",
     "text": [
      "X_train shape: (32000,)\n",
      "X_test shape: (8000,)\n",
      "y_train shape: (32000,)\n",
      "y_test shape: (8000,)\n"
     ]
    }
   ],
   "source": [
    "print(\"X_train shape:\", X_train.shape)\n",
    "print(\"X_test shape:\", X_test.shape)\n",
    "print(\"y_train shape:\", y_train.shape)\n",
    "print(\"y_test shape:\", y_test.shape)"
   ]
  },
  {
   "cell_type": "markdown",
   "id": "16beb42d",
   "metadata": {},
   "source": [
    "### Vectorización"
   ]
  },
  {
   "cell_type": "markdown",
   "id": "68161204",
   "metadata": {},
   "source": [
    "En la actualidad, contamos con cada texto registrado en formato de cadena, lo cual no es útil para nuestros modelos. Para poder trabajar con ellos, debemos transformar cada registro en un vector. Para ello, se utilizara uno de los enfoques principales basados en el modelo de bolsa de palabras.\n",
    "\n",
    "El CountVectorizer, que se enfoca en la frecuencia de cada palabra en el texto. "
   ]
  },
  {
   "cell_type": "markdown",
   "id": "09aac011",
   "metadata": {},
   "source": [
    "* **CountVectorizer**"
   ]
  },
  {
   "cell_type": "markdown",
   "id": "267b01cb",
   "metadata": {},
   "source": [
    "El modelo CountVectorizer se puede ajustar de diversas maneras:\n",
    "\n",
    "* **Stop words** : Las palabras extremadamente comunes pueden ser omitidas por el modelo estableciendo este parámetro al idioma correspondiente al texto.\n",
    "\n",
    "* **ngram_range** : Se emparejan palabras juntas como características. Si consideramos bigramas y tenemos una oración \"Estoy feliz\", tendremos dos características - [\"Estoy feliz\", \"feliz Estoy\"]. Podemos definir un rango de ngramas, así que si tenemos la misma oración con un rango de 1 a 2, nuestras características serán: [\"Estoy\", \"feliz\", \"Estoy feliz\", \"feliz Estoy\"]. Este aumento de características ayuda a ajustar mejor el modelo.\n",
    "\n",
    "* **min_df, max_df** : Frecuencias mínimas y máximas de palabras de n-gramas que se pueden utilizar como características. Si no se cumplen alguna de las condiciones, la característica se omitirá.\n",
    "\n",
    "* max_features - Se eligen las palabras más frecuentes y se eliminan todas las demás."
   ]
  },
  {
   "cell_type": "code",
   "execution_count": 38,
   "id": "916a1895",
   "metadata": {},
   "outputs": [],
   "source": [
    "from nltk.tokenize import RegexpTokenizer"
   ]
  },
  {
   "cell_type": "code",
   "execution_count": 39,
   "id": "c5fc3289",
   "metadata": {},
   "outputs": [],
   "source": [
    "#tokenizer to remove unwanted elements from out data like symbols and numbers\n",
    "token = RegexpTokenizer(r'[a-zA-Z0-9]+')\n",
    "\n",
    "# Transformación de los datos de texto en vectores de características\n",
    "cv = CountVectorizer(lowercase=True,stop_words='english',ngram_range = (1,1),tokenizer = token.tokenize)\n",
    "\n",
    "X = cv.fit_transform(X)"
   ]
  },
  {
   "cell_type": "markdown",
   "id": "92514f43",
   "metadata": {},
   "source": [
    "* **Se instancia, entrena con crossvalidation.**"
   ]
  },
  {
   "cell_type": "code",
   "execution_count": 40,
   "id": "f4533de9",
   "metadata": {},
   "outputs": [],
   "source": [
    "from sklearn.svm import SVC\n",
    "from sklearn.linear_model import SGDClassifier, Perceptron, PassiveAggressiveClassifier\n",
    "from sklearn.naive_bayes import MultinomialNB, BernoulliNB\n",
    "from xgboost import XGBClassifier\n",
    "from sklearn.model_selection import cross_val_score"
   ]
  },
  {
   "cell_type": "code",
   "execution_count": 41,
   "id": "84a418fb",
   "metadata": {},
   "outputs": [],
   "source": [
    "# Seleccionar los mejores modelos a evaluar\n",
    "classifiers = [\n",
    "    SVC(),\n",
    "    SGDClassifier(),\n",
    "    MultinomialNB(),\n",
    "    BernoulliNB(),\n",
    "    XGBClassifier(),\n",
    "]"
   ]
  },
  {
   "cell_type": "code",
   "execution_count": 42,
   "id": "e0ea9976",
   "metadata": {},
   "outputs": [
    {
     "name": "stdout",
     "output_type": "stream",
     "text": [
      "SVC: 0.8173\n",
      "SGDClassifier: 0.83385\n",
      "MultinomialNB: 0.7052750000000001\n",
      "BernoulliNB: 0.7022999999999999\n",
      "XGBClassifier: 0.78935\n"
     ]
    }
   ],
   "source": [
    "score_mean = []\n",
    "score_std = []\n",
    "\n",
    "for classifier in classifiers:\n",
    "    scores = cross_val_score(classifier, X , y, cv=5, scoring='accuracy')\n",
    "    score_mean.append(scores.mean())\n",
    "    score_std.append(scores.std())\n",
    "    print(f'{type(classifier).__name__}: {scores.mean()}')"
   ]
  },
  {
   "cell_type": "code",
   "execution_count": 63,
   "id": "627c53b0",
   "metadata": {},
   "outputs": [],
   "source": [
    "resultado = pd.DataFrame({\n",
    "    'model': ['SVC', 'SGDClassifier', 'MultinomialNB', 'BernoulliNB', 'XGBClassifier'],\n",
    "    'acc_cv': score_mean,\n",
    "    'acc_std_cv': score_std\n",
    "})"
   ]
  },
  {
   "cell_type": "code",
   "execution_count": 65,
   "id": "beb62a00",
   "metadata": {},
   "outputs": [
    {
     "data": {
      "text/html": [
       "<div>\n",
       "<style scoped>\n",
       "    .dataframe tbody tr th:only-of-type {\n",
       "        vertical-align: middle;\n",
       "    }\n",
       "\n",
       "    .dataframe tbody tr th {\n",
       "        vertical-align: top;\n",
       "    }\n",
       "\n",
       "    .dataframe thead th {\n",
       "        text-align: right;\n",
       "    }\n",
       "</style>\n",
       "<table border=\"1\" class=\"dataframe\">\n",
       "  <thead>\n",
       "    <tr style=\"text-align: right;\">\n",
       "      <th></th>\n",
       "      <th>model</th>\n",
       "      <th>acc_cv</th>\n",
       "      <th>acc_std_cv</th>\n",
       "    </tr>\n",
       "  </thead>\n",
       "  <tbody>\n",
       "    <tr>\n",
       "      <th>0</th>\n",
       "      <td>SVC</td>\n",
       "      <td>0.817300</td>\n",
       "      <td>0.017186</td>\n",
       "    </tr>\n",
       "    <tr>\n",
       "      <th>1</th>\n",
       "      <td>SGDClassifier</td>\n",
       "      <td>0.833850</td>\n",
       "      <td>0.018377</td>\n",
       "    </tr>\n",
       "    <tr>\n",
       "      <th>2</th>\n",
       "      <td>MultinomialNB</td>\n",
       "      <td>0.705275</td>\n",
       "      <td>0.019566</td>\n",
       "    </tr>\n",
       "    <tr>\n",
       "      <th>3</th>\n",
       "      <td>BernoulliNB</td>\n",
       "      <td>0.702300</td>\n",
       "      <td>0.025212</td>\n",
       "    </tr>\n",
       "    <tr>\n",
       "      <th>4</th>\n",
       "      <td>XGBClassifier</td>\n",
       "      <td>0.789350</td>\n",
       "      <td>0.021352</td>\n",
       "    </tr>\n",
       "  </tbody>\n",
       "</table>\n",
       "</div>"
      ],
      "text/plain": [
       "           model    acc_cv  acc_std_cv\n",
       "0            SVC  0.817300    0.017186\n",
       "1  SGDClassifier  0.833850    0.018377\n",
       "2  MultinomialNB  0.705275    0.019566\n",
       "3    BernoulliNB  0.702300    0.025212\n",
       "4  XGBClassifier  0.789350    0.021352"
      ]
     },
     "execution_count": 65,
     "metadata": {},
     "output_type": "execute_result"
    }
   ],
   "source": [
    "resultado"
   ]
  },
  {
   "cell_type": "markdown",
   "id": "bf595bc4",
   "metadata": {},
   "source": [
    "## 5. Creación y predicción del modelo base"
   ]
  },
  {
   "cell_type": "code",
   "execution_count": 46,
   "id": "7b68cf58",
   "metadata": {},
   "outputs": [],
   "source": [
    "#utilizar la técnica de \"bolsa de palabras\" para extraer características de los tweets.\n",
    "cv = CountVectorizer(lowercase=True,stop_words='english',ngram_range = (1,1),tokenizer = token.tokenize)\n",
    "X_train_vec = cv.fit_transform(X_train)\n",
    "X_test_vec = cv.transform(X_test)"
   ]
  },
  {
   "cell_type": "code",
   "execution_count": 47,
   "id": "24c3cf64",
   "metadata": {},
   "outputs": [
    {
     "data": {
      "text/plain": [
       "SGDClassifier(random_state=42)"
      ]
     },
     "execution_count": 47,
     "metadata": {},
     "output_type": "execute_result"
    }
   ],
   "source": [
    "# Instance the model\n",
    "sgd_clf = SGDClassifier(random_state=42)\n",
    "\n",
    "# Entrenar el modelo\n",
    "sgd_clf.fit(X_train_vec, y_train)"
   ]
  },
  {
   "cell_type": "code",
   "execution_count": 50,
   "id": "17c74c55",
   "metadata": {},
   "outputs": [],
   "source": [
    "# Class and probability predictions\n",
    "yp_class = sgd_clf.predict(X_test_vec)"
   ]
  },
  {
   "cell_type": "code",
   "execution_count": 52,
   "id": "e838a86a",
   "metadata": {},
   "outputs": [
    {
     "name": "stdout",
     "output_type": "stream",
     "text": [
      "0.839\n"
     ]
    }
   ],
   "source": [
    "from sklearn import metrics\n",
    "print(metrics.accuracy_score(y_test, yp_class))"
   ]
  },
  {
   "cell_type": "markdown",
   "id": "d53c989f",
   "metadata": {},
   "source": [
    "## 6.  Hiperparametos (Mejores parametros)"
   ]
  },
  {
   "cell_type": "code",
   "execution_count": 54,
   "id": "3c8ea446",
   "metadata": {},
   "outputs": [
    {
     "name": "stdout",
     "output_type": "stream",
     "text": [
      "Mejores hiperparámetros: {'alpha': 0.0001, 'max_iter': 1000, 'penalty': 'l1'}\n"
     ]
    }
   ],
   "source": [
    "from sklearn.model_selection import GridSearchCV\n",
    "\n",
    "# definir los valores para los hiperparámetros\n",
    "param_grid = {\n",
    "    'alpha': [0.0001, 0.001, 0.01, 0.1],\n",
    "    'penalty': ['l1', 'l2'],\n",
    "    'max_iter': [1000, 2000, 5000],\n",
    "}\n",
    "\n",
    "# instanciar el modelo\n",
    "model = SGDClassifier(random_state=42)\n",
    "\n",
    "# definir la búsqueda de parámetros\n",
    "grid = GridSearchCV(model, param_grid, cv=5, scoring='accuracy')\n",
    "\n",
    "# ajustar el modelo usando los datos de entrenamiento\n",
    "grid.fit(X_train_vec, y_train)\n",
    "\n",
    "# obtener los mejores hiperparámetros\n",
    "best_params = grid.best_params_\n",
    "print(f\"Mejores hiperparámetros: {best_params}\")"
   ]
  },
  {
   "cell_type": "markdown",
   "id": "3080b856",
   "metadata": {},
   "source": [
    "## 7.  Balanceo de la data (Smote)"
   ]
  },
  {
   "cell_type": "code",
   "execution_count": 55,
   "id": "63daa94c",
   "metadata": {},
   "outputs": [],
   "source": [
    "import imblearn\n",
    "from imblearn.over_sampling import SMOTE"
   ]
  },
  {
   "cell_type": "code",
   "execution_count": 56,
   "id": "33dc6049",
   "metadata": {
    "run_control": {
     "marked": false
    }
   },
   "outputs": [],
   "source": [
    "#Aplica SMOTE al conjunto de entrenamiento\n",
    "sm = SMOTE(random_state=42)\n",
    "X_train_res, y_train_res = sm.fit_resample(X_train_vec, y_train)"
   ]
  },
  {
   "cell_type": "markdown",
   "id": "6ed561e0",
   "metadata": {},
   "source": [
    "## 8. Modelo con la data balanceada"
   ]
  },
  {
   "cell_type": "code",
   "execution_count": 57,
   "id": "d9a01989",
   "metadata": {},
   "outputs": [
    {
     "data": {
      "text/plain": [
       "SGDClassifier(penalty='l1', random_state=42)"
      ]
     },
     "execution_count": 57,
     "metadata": {},
     "output_type": "execute_result"
    }
   ],
   "source": [
    "#Entrena tu modelo con los datos balanceados\n",
    "model = SGDClassifier(alpha=0.0001, max_iter=1000, penalty='l1', random_state=42)\n",
    "model.fit(X_train_res, y_train_res)"
   ]
  },
  {
   "cell_type": "code",
   "execution_count": 59,
   "id": "e19412aa",
   "metadata": {},
   "outputs": [
    {
     "name": "stdout",
     "output_type": "stream",
     "text": [
      "              precision    recall  f1-score   support\n",
      "\n",
      "           0       0.74      0.72      0.73      1353\n",
      "           1       0.84      0.81      0.83      3331\n",
      "           2       0.87      0.91      0.89      3316\n",
      "\n",
      "    accuracy                           0.84      8000\n",
      "   macro avg       0.82      0.81      0.82      8000\n",
      "weighted avg       0.84      0.84      0.84      8000\n",
      "\n"
     ]
    }
   ],
   "source": [
    "#Evalúa el rendimiento de tu modelo en el conjunto de prueba\n",
    "y_pred = model.predict(X_test_vec)\n",
    "print(classification_report(y_test, y_pred))"
   ]
  },
  {
   "cell_type": "code",
   "execution_count": 62,
   "id": "ead2f701",
   "metadata": {},
   "outputs": [
    {
     "name": "stdout",
     "output_type": "stream",
     "text": [
      "accuracy mean: 0.7697505098327587\n"
     ]
    }
   ],
   "source": [
    "#Realiza la validación cruzada con SMOTE\n",
    "scores = cross_val_score(model, X_train_res, y_train_res, cv=5, scoring='accuracy')\n",
    "print(f'accuracy mean: {scores.mean()}')"
   ]
  },
  {
   "cell_type": "markdown",
   "id": "a14dd53c",
   "metadata": {},
   "source": [
    "## 6. Observaciones generales"
   ]
  },
  {
   "cell_type": "markdown",
   "id": "2263e91d",
   "metadata": {},
   "source": [
    "* El desbalance significativo entre las etiquetas de emociones en el conjunto de datos puede afectar negativamente el rendimiento de los algoritmos de machine learning utilizados para el análisis de sentimientos. \n",
    "\n",
    "* La longitud del tweet no afecta significativamente la emoción expresada en el mismo.\n",
    "\n",
    "* Los resultados sugieren que la clasificación de emociones del conjunto de datos original no está completamente en línea con las emociones identificadas en el análisis de sentimiento.\n",
    "\n",
    "* La polaridad de los tweets analizados se distribuye de manera bastante uniforme, lo que indica que la técnica utilizada para el análisis de sentimiento puede ser efectiva.\n",
    "\n",
    "* TextBlob encontró una mayor proporción de emociones \"positive\" mientras que la clasificación original encontró una mayor proporción de emociones \"negative\".\n",
    "\n",
    "* Vader puede ser más adecuado para textos cortos como los tweets debido a que está diseñado para analizar el lenguaje informal y el uso de emociones.\n",
    "\n",
    "* Los textos con polaridad negativa parecen ser más objetivos que subjetivos, ya que están más concentrados en la parte inferior del gráfico."
   ]
  }
 ],
 "metadata": {
  "kernelspec": {
   "display_name": "Python 3 (ipykernel)",
   "language": "python",
   "name": "python3"
  },
  "language_info": {
   "codemirror_mode": {
    "name": "ipython",
    "version": 3
   },
   "file_extension": ".py",
   "mimetype": "text/x-python",
   "name": "python",
   "nbconvert_exporter": "python",
   "pygments_lexer": "ipython3",
   "version": "3.9.12"
  },
  "latex_envs": {
   "LaTeX_envs_menu_present": true,
   "autoclose": false,
   "autocomplete": true,
   "bibliofile": "biblio.bib",
   "cite_by": "apalike",
   "current_citInitial": 1,
   "eqLabelWithNumbers": true,
   "eqNumInitial": 1,
   "hotkeys": {
    "equation": "Ctrl-E",
    "itemize": "Ctrl-I"
   },
   "labels_anchors": false,
   "latex_user_defs": false,
   "report_style_numbering": false,
   "user_envs_cfg": false
  },
  "nbTranslate": {
   "displayLangs": [
    "*"
   ],
   "hotkey": "alt-t",
   "langInMainMenu": true,
   "sourceLang": "en",
   "targetLang": "fr",
   "useGoogleTranslate": true
  },
  "toc": {
   "base_numbering": 1,
   "nav_menu": {},
   "number_sections": false,
   "sideBar": true,
   "skip_h1_title": false,
   "title_cell": "Table of Contents",
   "title_sidebar": "Contents",
   "toc_cell": false,
   "toc_position": {
    "height": "calc(100% - 180px)",
    "left": "10px",
    "top": "150px",
    "width": "165px"
   },
   "toc_section_display": true,
   "toc_window_display": true
  },
  "varInspector": {
   "cols": {
    "lenName": 16,
    "lenType": 16,
    "lenVar": 40
   },
   "kernels_config": {
    "python": {
     "delete_cmd_postfix": "",
     "delete_cmd_prefix": "del ",
     "library": "var_list.py",
     "varRefreshCmd": "print(var_dic_list())"
    },
    "r": {
     "delete_cmd_postfix": ") ",
     "delete_cmd_prefix": "rm(",
     "library": "var_list.r",
     "varRefreshCmd": "cat(var_dic_list()) "
    }
   },
   "types_to_exclude": [
    "module",
    "function",
    "builtin_function_or_method",
    "instance",
    "_Feature"
   ],
   "window_display": false
  }
 },
 "nbformat": 4,
 "nbformat_minor": 5
}
